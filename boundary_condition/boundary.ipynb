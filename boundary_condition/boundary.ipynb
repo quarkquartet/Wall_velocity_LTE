{
 "cells": [
  {
   "cell_type": "markdown",
   "metadata": {},
   "source": [
    "# Boundary conditions"
   ]
  },
  {
   "cell_type": "code",
   "execution_count": 1,
   "metadata": {},
   "outputs": [],
   "source": [
    "import numpy as np\n",
    "import scipy as sp\n",
    "import os\n",
    "import sys\n",
    "from scipy import optimize\n",
    "from scipy import integrate\n",
    "from scipy import interpolate\n",
    "from matplotlib import pyplot as plt"
   ]
  },
  {
   "cell_type": "code",
   "execution_count": 2,
   "metadata": {},
   "outputs": [],
   "source": [
    "cs = 1/3**0.5"
   ]
  },
  {
   "cell_type": "markdown",
   "metadata": {},
   "source": [
    "## Assuming Bag model"
   ]
  },
  {
   "cell_type": "markdown",
   "metadata": {},
   "source": [
    "### Detonation case"
   ]
  },
  {
   "cell_type": "code",
   "execution_count": 3,
   "metadata": {},
   "outputs": [],
   "source": [
    "def match(vp,vm,Tp,Tm,ap,am,εp, εm):\n",
    "    r = ap*Tp**4/(am*Tm**4)\n",
    "    αp = (εp-εm)/(ap*Tp**4)\n",
    "    vpvm = 1-(1-3*αp)*r\n",
    "    vpvm = vpvm/(3-3*(1+αp)*r)\n",
    "    ratio = 3 + (1-3*αp)*r\n",
    "    ratio = ratio/(1+3*(1+αp)*r)\n",
    "    return [vp*vm - vpvm, vp/vm - ratio]"
   ]
  },
  {
   "cell_type": "code",
   "execution_count": 5,
   "metadata": {},
   "outputs": [],
   "source": [
    "def guess_det(vp, Tp, ap, am, εp, εm):\n",
    "    αp = (εp-εm)/(ap*Tp**4)\n",
    "    r=1/(1+3*αp)\n",
    "    Tm = (ap*Tp**4/(am*r))**0.25\n",
    "    vpvm = 1-(1-3*αp)*r\n",
    "    vpvm = vpvm/(3-3*(1+αp)*r)\n",
    "    vm = min(vpvm/vp,vp)\n",
    "    return [vm,Tm]"
   ]
  },
  {
   "cell_type": "code",
   "execution_count": 7,
   "metadata": {},
   "outputs": [
    {
     "data": {
      "text/plain": [
       "[0.7, 82.23830742478549]"
      ]
     },
     "execution_count": 7,
     "metadata": {},
     "output_type": "execute_result"
    }
   ],
   "source": [
    "guess_det(0.7,80,106.75, 106.75-7*12/8, 10**7,0)"
   ]
  },
  {
   "cell_type": "code",
   "execution_count": 6,
   "metadata": {},
   "outputs": [
    {
     "data": {
      "text/plain": [
       "array([ 0.69470254, 82.55021068])"
      ]
     },
     "execution_count": 6,
     "metadata": {},
     "output_type": "execute_result"
    }
   ],
   "source": [
    "vw=0.7\n",
    "gstar=106.75\n",
    "gstar_no_top = 106.75 - 7*12/8\n",
    "ε=1e7\n",
    "Tn=80\n",
    "optimize.fsolve(lambda x:match(vw, x[0], 80, x[1],gstar, gstar_no_top,ε,0),guess_det(vw,Tn,gstar,gstar_no_top,ε,0))"
   ]
  },
  {
   "cell_type": "markdown",
   "metadata": {},
   "source": [
    "### Deflagration"
   ]
  },
  {
   "cell_type": "markdown",
   "metadata": {},
   "source": [
    "#### Solve the matching equation"
   ]
  },
  {
   "cell_type": "code",
   "execution_count": 9,
   "metadata": {},
   "outputs": [],
   "source": [
    "guess_sol = optimize.fsolve(lambda x:match(x[0], 0.5, x[1], 59,gstar, gstar_no_top,1e8,0),[0.3, 65])"
   ]
  },
  {
   "cell_type": "code",
   "execution_count": 11,
   "metadata": {},
   "outputs": [
    {
     "data": {
      "text/plain": [
       "array([ 0.3542054 , 65.12059431])"
      ]
     },
     "execution_count": 11,
     "metadata": {},
     "output_type": "execute_result"
    }
   ],
   "source": [
    "guess_sol"
   ]
  },
  {
   "cell_type": "code",
   "execution_count": 7,
   "metadata": {},
   "outputs": [],
   "source": [
    "def dYda(tau, y):\n",
    "    v = y[0]\n",
    "    xi = y[1]\n",
    "    dvdtau = 2 * v * cs**2 * (1-v**2) * (1- xi * v)\n",
    "    dxidtau = xi *((xi-v)**2 - cs**2 * (1-xi*v)**2)\n",
    "    return np.array([dvdtau, dxidtau])"
   ]
  },
  {
   "cell_type": "code",
   "execution_count": 8,
   "metadata": {},
   "outputs": [],
   "source": [
    "def μ(x, v):\n",
    "    return (x-v)/(1-x*v)"
   ]
  },
  {
   "cell_type": "code",
   "execution_count": 12,
   "metadata": {},
   "outputs": [
    {
     "data": {
      "text/plain": [
       "0.17717229597450568"
      ]
     },
     "execution_count": 12,
     "metadata": {},
     "output_type": "execute_result"
    }
   ],
   "source": [
    "μ(0.5, guess_sol[0])"
   ]
  },
  {
   "cell_type": "markdown",
   "metadata": {},
   "source": [
    "#### Shooting method"
   ]
  },
  {
   "cell_type": "code",
   "execution_count": 120,
   "metadata": {},
   "outputs": [],
   "source": [
    "vsol=integrate.solve_ivp(dYda, (10,1), np.array([μ(0.5, guess_sol[0]), 0.5]),t_eval=np.linspace(10,1,1000),method='DOP853')"
   ]
  },
  {
   "cell_type": "code",
   "execution_count": 121,
   "metadata": {},
   "outputs": [
    {
     "data": {
      "text/plain": [
       "  message: The solver successfully reached the end of the integration interval.\n",
       "  success: True\n",
       "   status: 0\n",
       "        t: [ 1.000e+01  9.991e+00 ...  1.009e+00  1.000e+00]\n",
       "        y: [[ 1.772e-01  1.762e-01 ...  4.989e-04  4.959e-04]\n",
       "            [ 5.000e-01  5.008e-01 ...  5.790e-01  5.790e-01]]\n",
       "      sol: None\n",
       " t_events: None\n",
       " y_events: None\n",
       "     nfev: 62\n",
       "     njev: 0\n",
       "      nlu: 0"
      ]
     },
     "execution_count": 121,
     "metadata": {},
     "output_type": "execute_result"
    }
   ],
   "source": [
    "vsol"
   ]
  },
  {
   "cell_type": "code",
   "execution_count": 122,
   "metadata": {},
   "outputs": [
    {
     "data": {
      "text/plain": [
       "[<matplotlib.lines.Line2D at 0x11eaebd30>]"
      ]
     },
     "execution_count": 122,
     "metadata": {},
     "output_type": "execute_result"
    },
    {
     "data": {
      "image/png": "[encoded data removed]",
      "text/plain": [
       "<Figure size 640x480 with 1 Axes>"
      ]
     },
     "metadata": {},
     "output_type": "display_data"
    }
   ],
   "source": [
    "plt.plot(vsol.y[1],vsol.y[0])"
   ]
  },
  {
   "cell_type": "code",
   "execution_count": 123,
   "metadata": {},
   "outputs": [],
   "source": [
    "xi_max = vsol.y[1].max()\n",
    "xi_max_index = vsol.y[1].argmax()\n",
    "v_prof = interpolate.UnivariateSpline(vsol.y[1][0:xi_max_index+1], vsol.y[0][0:xi_max_index+1], s=0)"
   ]
  },
  {
   "cell_type": "code",
   "execution_count": 124,
   "metadata": {},
   "outputs": [
    {
     "data": {
      "text/plain": [
       "7.1441441441441444"
      ]
     },
     "execution_count": 124,
     "metadata": {},
     "output_type": "execute_result"
    }
   ],
   "source": [
    "vsol.t[xi_max_index]"
   ]
  },
  {
   "cell_type": "code",
   "execution_count": 125,
   "metadata": {},
   "outputs": [
    {
     "data": {
      "text/plain": [
       "0.5965608015134444"
      ]
     },
     "execution_count": 125,
     "metadata": {},
     "output_type": "execute_result"
    }
   ],
   "source": [
    "xi_max"
   ]
  },
  {
   "cell_type": "code",
   "execution_count": 51,
   "metadata": {},
   "outputs": [
    {
     "data": {
      "text/plain": [
       "array(0.11681821)"
      ]
     },
     "execution_count": 51,
     "metadata": {},
     "output_type": "execute_result"
    }
   ],
   "source": [
    "v_prof(0.55)"
   ]
  },
  {
   "cell_type": "code",
   "execution_count": 126,
   "metadata": {},
   "outputs": [
    {
     "data": {
      "text/plain": [
       "[<matplotlib.lines.Line2D at 0x11ebadd20>]"
      ]
     },
     "execution_count": 126,
     "metadata": {},
     "output_type": "execute_result"
    },
    {
     "data": {
      "image/png": "[encoded data removed]",
      "text/plain": [
       "<Figure size 640x480 with 1 Axes>"
      ]
     },
     "metadata": {},
     "output_type": "display_data"
    }
   ],
   "source": [
    "xplot = np.linspace(0.5, 0.58, 100)\n",
    "vplot = [v_prof(x) for x in xplot]\n",
    "plt.plot(xplot, vplot)\n",
    "plt.plot(vsol.y[1][0:xi_max_index+1],vsol.y[0][0:xi_max_index+1])"
   ]
  },
  {
   "cell_type": "code",
   "execution_count": 127,
   "metadata": {},
   "outputs": [
    {
     "data": {
      "text/plain": [
       "0.029110592320081743"
      ]
     },
     "execution_count": 127,
     "metadata": {},
     "output_type": "execute_result"
    }
   ],
   "source": [
    "vsol.y[0][xi_max_index+1]"
   ]
  },
  {
   "cell_type": "code",
   "execution_count": 129,
   "metadata": {},
   "outputs": [
    {
     "data": {
      "text/plain": [
       "array(-1.25385501)"
      ]
     },
     "execution_count": 129,
     "metadata": {},
     "output_type": "execute_result"
    }
   ],
   "source": [
    "v_prof.derivative()(0.55)"
   ]
  },
  {
   "cell_type": "code",
   "execution_count": 130,
   "metadata": {},
   "outputs": [],
   "source": [
    "tlist = np.array([0.5, 0.503217, 0.506433, 0.50965, 0.512867, 0.516083, 0.5193, 0.522517, 0.525733, 0.52895, 0.532167, 0.535383, 0.5386, 0.541817, 0.545034, 0.54825, 0.551467, 0.554684, 0.5579, 0.561117, 0.564334, 0.56755, 0.570767, 0.573984, 0.5772, 0.580417, 0.583634, 0.58685, 0.590067, 0.593284, 0.5965])\n",
    "vlist = np.array([0.177172, 0.173294, 0.169428, 0.165572, 0.161724, 0.15788, 0.154038,0.150195, 0.146349, 0.142496, 0.138631, 0.134752, 0.130853, 0.126931, 0.122979, 0.11899, 0.114959, 0.110876, 0.106731, 0.102513, 0.0982061, 0.093793, 0.0892503, 0.0845472, 0.0796418, 0.0744743, 0.0689529, 0.0629241, 0.0560902, 0.04769, 0.0315993])\n",
    "\n",
    "# This is the mathematica output for the velocity profile"
   ]
  },
  {
   "cell_type": "code",
   "execution_count": 55,
   "metadata": {},
   "outputs": [
    {
     "data": {
      "text/plain": [
       "[<matplotlib.lines.Line2D at 0x11d403d60>]"
      ]
     },
     "execution_count": 55,
     "metadata": {},
     "output_type": "execute_result"
    },
    {
     "data": {
      "image/png": "[encoded data removed]",
      "text/plain": [
       "<Figure size 640x480 with 1 Axes>"
      ]
     },
     "metadata": {},
     "output_type": "display_data"
    }
   ],
   "source": [
    "plt.plot(vsol.y[1][0:xi_max_index+1],vsol.y[0][0:xi_max_index+1])\n",
    "plt.plot(tlist, vlist)"
   ]
  },
  {
   "cell_type": "markdown",
   "metadata": {},
   "source": [
    "This shows that the velocity profile has very good agreement with mathematica."
   ]
  },
  {
   "cell_type": "code",
   "execution_count": 11,
   "metadata": {},
   "outputs": [],
   "source": [
    "def dTdx(x, y):\n",
    "    T = y[0]\n",
    "    dT = T/(1-v_prof(x)**2)\n",
    "    dT = dT * μ(x, v_prof(x)) * v_prof.derivative()(x)\n",
    "    return np.array([dT])\n",
    "    "
   ]
  },
  {
   "cell_type": "code",
   "execution_count": null,
   "metadata": {},
   "outputs": [],
   "source": []
  },
  {
   "cell_type": "code",
   "execution_count": 132,
   "metadata": {},
   "outputs": [],
   "source": [
    "Tsol=integrate.solve_ivp(dTdx, (0.5, xi_max*0.999), [guess_sol[1]], t_eval=np.linspace(0.5,xi_max*0.999, 1000),method='DOP853')"
   ]
  },
  {
   "cell_type": "code",
   "execution_count": 133,
   "metadata": {},
   "outputs": [],
   "source": [
    "T_prof = interpolate.interp1d(Tsol.t,Tsol.y[0])"
   ]
  },
  {
   "cell_type": "code",
   "execution_count": 134,
   "metadata": {},
   "outputs": [
    {
     "data": {
      "text/plain": [
       "array(64.51929142)"
      ]
     },
     "execution_count": 134,
     "metadata": {},
     "output_type": "execute_result"
    }
   ],
   "source": [
    "T_prof(0.52)"
   ]
  },
  {
   "cell_type": "code",
   "execution_count": 135,
   "metadata": {},
   "outputs": [
    {
     "data": {
      "text/plain": [
       "[<matplotlib.lines.Line2D at 0x11d1fead0>]"
      ]
     },
     "execution_count": 135,
     "metadata": {},
     "output_type": "execute_result"
    },
    {
     "data": {
      "image/png": "[encoded data removed]",
      "text/plain": [
       "<Figure size 640x480 with 1 Axes>"
      ]
     },
     "metadata": {},
     "output_type": "display_data"
    }
   ],
   "source": [
    "plt.plot(Tsol.t, Tsol.y[0])"
   ]
  },
  {
   "cell_type": "code",
   "execution_count": 136,
   "metadata": {},
   "outputs": [],
   "source": [
    "xsh=optimize.brentq(lambda x: μ(x, v_prof(x))*x - 1/3, 0.5, xi_max*0.999)"
   ]
  },
  {
   "cell_type": "code",
   "execution_count": 137,
   "metadata": {},
   "outputs": [
    {
     "data": {
      "text/plain": [
       "0.593373981687617"
      ]
     },
     "execution_count": 137,
     "metadata": {},
     "output_type": "execute_result"
    }
   ],
   "source": [
    "xsh"
   ]
  },
  {
   "cell_type": "code",
   "execution_count": 138,
   "metadata": {},
   "outputs": [
    {
     "data": {
      "text/plain": [
       "array(61.243257)"
      ]
     },
     "execution_count": 138,
     "metadata": {},
     "output_type": "execute_result"
    }
   ],
   "source": [
    "T_prof(xsh)"
   ]
  },
  {
   "cell_type": "code",
   "execution_count": 13,
   "metadata": {},
   "outputs": [],
   "source": [
    "def find_Tsh(Tm):\n",
    "    guess_sol = optimize.fsolve(lambda x:match(x[0], 0.5, x[1], Tm,gstar, gstar_no_top,1e8,0),[0.35, 60])\n",
    "    vsol=integrate.solve_ivp(dYda, (10,0.01), np.array([μ(0.5, guess_sol[0]), 0.5]),t_eval=np.linspace(10,0.01,1000),method='DOP853')\n",
    "    xi_max = vsol.y[1].max()\n",
    "    xi_max_index = vsol.y[1].argmax()\n",
    "    v_prof = interpolate.UnivariateSpline(vsol.y[1][0:xi_max_index+1], vsol.y[0][0:xi_max_index+1],s=0)\n",
    "    def dTdx(x, y):\n",
    "        T = y[0]\n",
    "        dT = T/(1-v_prof(x)**2)\n",
    "        dT = dT * μ(x, v_prof(x)) * v_prof.derivative()(x)\n",
    "        return np.array([dT])\n",
    "    Tsol=integrate.solve_ivp(dTdx, (0.5, xi_max*0.999), [guess_sol[1]], t_eval=np.linspace(0.5,xi_max*0.999, 1000),method='DOP853')\n",
    "    T_prof = interpolate.interp1d(Tsol.t,Tsol.y[0])\n",
    "    xsh=optimize.brentq(lambda x: μ(x, v_prof(x))*x - 1/3, 0.5, xi_max*0.999)\n",
    "    return T_prof(xsh)"
   ]
  },
  {
   "cell_type": "code",
   "execution_count": 14,
   "metadata": {},
   "outputs": [
    {
     "data": {
      "text/plain": [
       "array(61.24325719)"
      ]
     },
     "execution_count": 14,
     "metadata": {},
     "output_type": "execute_result"
    }
   ],
   "source": [
    "find_Tsh(59)"
   ]
  },
  {
   "cell_type": "code",
   "execution_count": 19,
   "metadata": {},
   "outputs": [],
   "source": [
    "Tmax = 60\n",
    "Tmin = 57\n",
    "for i in range(50):\n",
    "    Tcal=(Tmax+Tmin)/2\n",
    "    Tsh = find_Tsh(Tcal)\n",
    "    if Tsh < 60:\n",
    "        Tmin = Tcal\n",
    "    else:\n",
    "        Tmax = Tcal"
   ]
  },
  {
   "cell_type": "code",
   "execution_count": 20,
   "metadata": {},
   "outputs": [
    {
     "data": {
      "text/plain": [
       "57.46863747665397"
      ]
     },
     "execution_count": 20,
     "metadata": {},
     "output_type": "execute_result"
    }
   ],
   "source": [
    "Tcal"
   ]
  },
  {
   "cell_type": "code",
   "execution_count": 21,
   "metadata": {},
   "outputs": [
    {
     "data": {
      "text/plain": [
       "array(60.)"
      ]
     },
     "execution_count": 21,
     "metadata": {},
     "output_type": "execute_result"
    }
   ],
   "source": [
    "find_Tsh(Tcal)"
   ]
  },
  {
   "cell_type": "code",
   "execution_count": null,
   "metadata": {},
   "outputs": [],
   "source": []
  },
  {
   "cell_type": "markdown",
   "metadata": {},
   "source": [
    "## General model"
   ]
  },
  {
   "cell_type": "code",
   "execution_count": 3,
   "metadata": {},
   "outputs": [
    {
     "ename": "ImportError",
     "evalue": "cannot import name 'factorial' from 'scipy.misc' (/Users/quarkquartet/anaconda3/lib/python3.10/site-packages/scipy/misc/__init__.py)",
     "output_type": "error",
     "traceback": [
      "\u001b[0;31m---------------------------------------------------------------------------\u001b[0m",
      "\u001b[0;31mImportError\u001b[0m                               Traceback (most recent call last)",
      "Cell \u001b[0;32mIn[3], line 5\u001b[0m\n\u001b[1;32m      3\u001b[0m model_directory\u001b[38;5;241m=\u001b[39m\u001b[38;5;124m'\u001b[39m\u001b[38;5;124m/Users/quarkquartet/Work/Wall-velocity/cosmotransition_z2sb/cosmoTransitions/\u001b[39m\u001b[38;5;124m'\u001b[39m\n\u001b[1;32m      4\u001b[0m sys\u001b[38;5;241m.\u001b[39mpath\u001b[38;5;241m.\u001b[39mappend(model_directory)\n\u001b[0;32m----> 5\u001b[0m \u001b[38;5;28;01mimport\u001b[39;00m \u001b[38;5;21;01mbaseMo_s_b_d\u001b[39;00m\n",
      "File \u001b[0;32m~/Work/Wall-velocity/cosmotransition_z2sb/cosmoTransitions/baseMo_s_b_d.py:22\u001b[0m\n\u001b[1;32m     10\u001b[0m \u001b[38;5;124;03m\"\"\"\u001b[39;00m\n\u001b[1;32m     11\u001b[0m \u001b[38;5;124;03mThis module is used to set up and visulize a model with the two scalar potential having the tree level form:\u001b[39;00m\n\u001b[1;32m     12\u001b[0m \u001b[38;5;124;03mV(h,s) = -muh^2 h^2/2 + lh h^4/4 + mus^2 s^2/2 + ls s^4/4 + lm h^2 s^2/4\u001b[39;00m\n\u001b[0;32m   (...)\u001b[0m\n\u001b[1;32m     18\u001b[0m \u001b[38;5;124;03mBare parameters entering the tree level potential can be called by the method model().info()\u001b[39;00m\n\u001b[1;32m     19\u001b[0m \u001b[38;5;124;03m\"\"\"\u001b[39;00m\n\u001b[1;32m     21\u001b[0m \u001b[38;5;66;03m#from cosmoTransitions import generic_potential\u001b[39;00m\n\u001b[0;32m---> 22\u001b[0m \u001b[38;5;28;01mimport\u001b[39;00m \u001b[38;5;21;01mgeneric_potential_d\u001b[39;00m \u001b[38;5;28;01mas\u001b[39;00m \u001b[38;5;21;01mgeneric_potential\u001b[39;00m\n\u001b[1;32m     23\u001b[0m \u001b[38;5;28;01mimport\u001b[39;00m \u001b[38;5;21;01mmatplotlib\u001b[39;00m\u001b[38;5;21;01m.\u001b[39;00m\u001b[38;5;21;01mpyplot\u001b[39;00m \u001b[38;5;28;01mas\u001b[39;00m \u001b[38;5;21;01mplt\u001b[39;00m\n\u001b[1;32m     24\u001b[0m \u001b[38;5;28;01mimport\u001b[39;00m \u001b[38;5;21;01mnumpy\u001b[39;00m \u001b[38;5;28;01mas\u001b[39;00m \u001b[38;5;21;01mnp\u001b[39;00m\n",
      "File \u001b[0;32m~/Work/Wall-velocity/cosmotransition_z2sb/cosmoTransitions/generic_potential_d.py:23\u001b[0m\n\u001b[1;32m     19\u001b[0m \u001b[38;5;28;01mfrom\u001b[39;00m \u001b[38;5;21;01mcosmoTransitions\u001b[39;00m \u001b[38;5;28;01mimport\u001b[39;00m helper_functions\n\u001b[1;32m     21\u001b[0m \u001b[38;5;66;03m# from cosmoTransitions.finiteT_test import Jf_spline as Jf\u001b[39;00m\n\u001b[1;32m     22\u001b[0m \u001b[38;5;66;03m# from cosmoTransitions.finiteT_test import Jb_spline as Jb\u001b[39;00m\n\u001b[0;32m---> 23\u001b[0m \u001b[38;5;28;01mfrom\u001b[39;00m \u001b[38;5;21;01mfiniteT_test\u001b[39;00m \u001b[38;5;28;01mimport\u001b[39;00m Jb_spline \u001b[38;5;28;01mas\u001b[39;00m Jb\n\u001b[1;32m     24\u001b[0m \u001b[38;5;28;01mfrom\u001b[39;00m \u001b[38;5;21;01mfiniteT_test\u001b[39;00m \u001b[38;5;28;01mimport\u001b[39;00m Jf_spline \u001b[38;5;28;01mas\u001b[39;00m Jf\n\u001b[1;32m     25\u001b[0m \u001b[38;5;28;01mfrom\u001b[39;00m \u001b[38;5;21;01mscipy\u001b[39;00m \u001b[38;5;28;01mimport\u001b[39;00m optimize\n",
      "File \u001b[0;32m~/Work/Wall-velocity/cosmotransition_z2sb/cosmoTransitions/finiteT_test.py:25\u001b[0m\n\u001b[1;32m     23\u001b[0m \u001b[38;5;28;01mfrom\u001b[39;00m \u001b[38;5;21;01mscipy\u001b[39;00m \u001b[38;5;28;01mimport\u001b[39;00m integrate, interpolate\n\u001b[1;32m     24\u001b[0m \u001b[38;5;28;01mfrom\u001b[39;00m \u001b[38;5;21;01mscipy\u001b[39;00m \u001b[38;5;28;01mimport\u001b[39;00m special\n\u001b[0;32m---> 25\u001b[0m \u001b[38;5;28;01mfrom\u001b[39;00m \u001b[38;5;21;01mscipy\u001b[39;00m\u001b[38;5;21;01m.\u001b[39;00m\u001b[38;5;21;01mmisc\u001b[39;00m \u001b[38;5;28;01mimport\u001b[39;00m factorial \u001b[38;5;28;01mas\u001b[39;00m fac\n\u001b[1;32m     27\u001b[0m pi \u001b[38;5;241m=\u001b[39m numpy\u001b[38;5;241m.\u001b[39mpi\n\u001b[1;32m     28\u001b[0m euler_gamma \u001b[38;5;241m=\u001b[39m \u001b[38;5;241m0.577215661901532\u001b[39m\n",
      "\u001b[0;31mImportError\u001b[0m: cannot import name 'factorial' from 'scipy.misc' (/Users/quarkquartet/anaconda3/lib/python3.10/site-packages/scipy/misc/__init__.py)"
     ]
    }
   ],
   "source": [
    "#current_dir = os.path.dirname(os.path.abspath(__file__))\n",
    "#model_directory = os.path.join(current_dir, '..', 'cosmotransition_z2sb', 'cosmoTransitions')\n",
    "model_directory='/Users/quarkquartet/Work/Wall-velocity/cosmotransition_z2sb/cosmoTransitions/'\n",
    "sys.path.append(model_directory)\n",
    "import baseMo_s_b_d"
   ]
  },
  {
   "cell_type": "code",
   "execution_count": 9,
   "metadata": {},
   "outputs": [],
   "source": [
    "def derivative(f, x, eps=1e-5, order=1):\n",
    "    \"\"\"Calculate the derivative of a function.\n",
    "    Using Ridders algorithm.\n",
    "    Calculate up to order x**4.\n",
    "    Only compute 1st or 2nd order derivative.\"\"\"\n",
    "    assert (\n",
    "        order == 1 or order == 2\n",
    "    ), \"Calculate derivative up to an order, must be 1 or 2.\"\n",
    "    δx = x * eps\n",
    "    if order == 1:\n",
    "        return (f(x - 2 * δx) - 8 * f(x - δx) + 8 * f(x + δx) - f(x + 2 * δx)) / (\n",
    "            12 * δx\n",
    "        )\n",
    "    if order == 2:\n",
    "        return (f(x - 2 * δx) - f(x - δx) - f(x + δx) + f(x + 2 * δx)) / (3 * δx**2)"
   ]
  },
  {
   "cell_type": "code",
   "execution_count": 1,
   "metadata": {},
   "outputs": [],
   "source": [
    "def epsilon_p(V,T, v):\n",
    "    \"\"\"Epsilon +.\"\"\"\n",
    "    def Vmin(T):\n",
    "        return optimize.minimize(V,v, args=(T,))\n",
    "    return - 0.25*T*derivative(Vmin,T) + Vmin(T)"
   ]
  },
  {
   "cell_type": "code",
   "execution_count": null,
   "metadata": {},
   "outputs": [],
   "source": [
    "def a(V,T):\n",
    "    \"\"\"The parameter a, means the effective dofs.\"\"\"\n",
    "    return - 0.75 * derivative(V,T)/T**3"
   ]
  },
  {
   "cell_type": "code",
   "execution_count": null,
   "metadata": {},
   "outputs": [],
   "source": [
    "def alpha_p(V, Tp, Tm):\n",
    "    return (epsilon(V,Tp) - epsilon(V,Tm))/(a(V,Tp) * Tp**4)"
   ]
  },
  {
   "cell_type": "code",
   "execution_count": null,
   "metadata": {},
   "outputs": [],
   "source": [
    "def r(V,Tp,Tm):\n",
    "    return a(V,Tp)*Tp**4/(a(V,Tm)*Tm**4)"
   ]
  }
 ],
 "metadata": {
  "kernelspec": {
   "display_name": "base",
   "language": "python",
   "name": "python3"
  },
  "language_info": {
   "codemirror_mode": {
    "name": "ipython",
    "version": 3
   },
   "file_extension": ".py",
   "mimetype": "text/x-python",
   "name": "python",
   "nbconvert_exporter": "python",
   "pygments_lexer": "ipython3",
   "version": "3.10.9"
  }
 },
 "nbformat": 4,
 "nbformat_minor": 2
}
