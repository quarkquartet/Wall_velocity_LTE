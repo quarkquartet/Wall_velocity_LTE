{
 "cells": [
  {
   "cell_type": "markdown",
   "metadata": {},
   "source": [
    "# Boundary conditions"
   ]
  },
  {
   "cell_type": "code",
   "execution_count": 1,
   "metadata": {},
   "outputs": [],
   "source": [
    "import numpy as np\n",
    "import scipy as sp\n",
    "import os\n",
    "import sys\n",
    "from scipy import optimize\n",
    "from scipy import integrate\n",
    "from scipy import interpolate\n",
    "from matplotlib import pyplot as plt"
   ]
  },
  {
   "cell_type": "code",
   "execution_count": 2,
   "metadata": {},
   "outputs": [],
   "source": [
    "cs = 1/3**0.5"
   ]
  },
  {
   "cell_type": "markdown",
   "metadata": {},
   "source": [
    "## Assuming Bag model"
   ]
  },
  {
   "cell_type": "markdown",
   "metadata": {},
   "source": [
    "### Detonation case"
   ]
  },
  {
   "cell_type": "code",
   "execution_count": 3,
   "metadata": {},
   "outputs": [],
   "source": [
    "def match(vp,vm,Tp,Tm,ap,am,εp, εm):\n",
    "    r = ap*Tp**4/(am*Tm**4)\n",
    "    αp = (εp-εm)/(ap*Tp**4)\n",
    "    vpvm = 1-(1-3*αp)*r\n",
    "    vpvm = vpvm/(3-3*(1+αp)*r)\n",
    "    ratio = 3 + (1-3*αp)*r\n",
    "    ratio = ratio/(1+3*(1+αp)*r)\n",
    "    return [vp*vm - vpvm, vp/vm - ratio]"
   ]
  },
  {
   "cell_type": "code",
   "execution_count": 5,
   "metadata": {},
   "outputs": [],
   "source": [
    "def guess_det(vp, Tp, ap, am, εp, εm):\n",
    "    αp = (εp-εm)/(ap*Tp**4)\n",
    "    r=1/(1+3*αp)\n",
    "    Tm = (ap*Tp**4/(am*r))**0.25\n",
    "    vpvm = 1-(1-3*αp)*r\n",
    "    vpvm = vpvm/(3-3*(1+αp)*r)\n",
    "    vm = min(vpvm/vp,vp)\n",
    "    return [vm,Tm]"
   ]
  },
  {
   "cell_type": "code",
   "execution_count": 7,
   "metadata": {},
   "outputs": [
    {
     "data": {
      "text/plain": [
       "[0.7, 82.23830742478549]"
      ]
     },
     "execution_count": 7,
     "metadata": {},
     "output_type": "execute_result"
    }
   ],
   "source": [
    "guess_det(0.7,80,106.75, 106.75-7*12/8, 10**7,0)"
   ]
  },
  {
   "cell_type": "code",
   "execution_count": 6,
   "metadata": {},
   "outputs": [
    {
     "data": {
      "text/plain": [
       "array([ 0.69470254, 82.55021068])"
      ]
     },
     "execution_count": 6,
     "metadata": {},
     "output_type": "execute_result"
    }
   ],
   "source": [
    "vw=0.7\n",
    "gstar=106.75\n",
    "gstar_no_top = 106.75 - 7*12/8\n",
    "ε=1e7\n",
    "Tn=80\n",
    "optimize.fsolve(lambda x:match(vw, x[0], 80, x[1],gstar, gstar_no_top,ε,0),guess_det(vw,Tn,gstar,gstar_no_top,ε,0))"
   ]
  },
  {
   "cell_type": "markdown",
   "metadata": {},
   "source": [
    "### Deflagration"
   ]
  },
  {
   "cell_type": "markdown",
   "metadata": {},
   "source": [
    "#### Solve the matching equation"
   ]
  },
  {
   "cell_type": "markdown",
   "metadata": {},
   "source": [
    "Test point: assume Tn = 60"
   ]
  },
  {
   "cell_type": "code",
   "execution_count": 9,
   "metadata": {},
   "outputs": [],
   "source": [
    "guess_sol = optimize.fsolve(lambda x:match(x[0], 0.5, x[1], 59,gstar, gstar_no_top,1e8,0),[0.3, 65])"
   ]
  },
  {
   "cell_type": "code",
   "execution_count": 11,
   "metadata": {},
   "outputs": [
    {
     "data": {
      "text/plain": [
       "array([ 0.3542054 , 65.12059431])"
      ]
     },
     "execution_count": 11,
     "metadata": {},
     "output_type": "execute_result"
    }
   ],
   "source": [
    "guess_sol"
   ]
  },
  {
   "cell_type": "code",
   "execution_count": 7,
   "metadata": {},
   "outputs": [],
   "source": [
    "def dYda(tau, y):\n",
    "    v = y[0]\n",
    "    xi = y[1]\n",
    "    dvdtau = 2 * v * cs**2 * (1-v**2) * (1- xi * v)\n",
    "    dxidtau = xi *((xi-v)**2 - cs**2 * (1-xi*v)**2)\n",
    "    return np.array([dvdtau, dxidtau])"
   ]
  },
  {
   "cell_type": "code",
   "execution_count": 8,
   "metadata": {},
   "outputs": [],
   "source": [
    "def μ(x, v):\n",
    "    return (x-v)/(1-x*v)"
   ]
  },
  {
   "cell_type": "code",
   "execution_count": 12,
   "metadata": {},
   "outputs": [
    {
     "data": {
      "text/plain": [
       "0.17717229597450568"
      ]
     },
     "execution_count": 12,
     "metadata": {},
     "output_type": "execute_result"
    }
   ],
   "source": [
    "μ(0.5, guess_sol[0])"
   ]
  },
  {
   "cell_type": "markdown",
   "metadata": {},
   "source": [
    "#### Shooting method"
   ]
  },
  {
   "cell_type": "code",
   "execution_count": 120,
   "metadata": {},
   "outputs": [],
   "source": [
    "vsol=integrate.solve_ivp(dYda, (10,1), np.array([μ(0.5, guess_sol[0]), 0.5]),t_eval=np.linspace(10,1,1000),method='DOP853')"
   ]
  },
  {
   "cell_type": "code",
   "execution_count": 121,
   "metadata": {},
   "outputs": [
    {
     "data": {
      "text/plain": [
       "  message: The solver successfully reached the end of the integration interval.\n",
       "  success: True\n",
       "   status: 0\n",
       "        t: [ 1.000e+01  9.991e+00 ...  1.009e+00  1.000e+00]\n",
       "        y: [[ 1.772e-01  1.762e-01 ...  4.989e-04  4.959e-04]\n",
       "            [ 5.000e-01  5.008e-01 ...  5.790e-01  5.790e-01]]\n",
       "      sol: None\n",
       " t_events: None\n",
       " y_events: None\n",
       "     nfev: 62\n",
       "     njev: 0\n",
       "      nlu: 0"
      ]
     },
     "execution_count": 121,
     "metadata": {},
     "output_type": "execute_result"
    }
   ],
   "source": [
    "vsol"
   ]
  },
  {
   "cell_type": "code",
   "execution_count": 122,
   "metadata": {},
   "outputs": [
    {
     "data": {
      "text/plain": [
       "[<matplotlib.lines.Line2D at 0x11eaebd30>]"
      ]
     },
     "execution_count": 122,
     "metadata": {},
     "output_type": "execute_result"
    },
    {
     "data": {
      "image/png": "[encoded data removed]",
      "text/plain": [
       "<Figure size 640x480 with 1 Axes>"
      ]
     },
     "metadata": {},
     "output_type": "display_data"
    }
   ],
   "source": [
    "plt.plot(vsol.y[1],vsol.y[0])"
   ]
  },
  {
   "cell_type": "code",
   "execution_count": 123,
   "metadata": {},
   "outputs": [],
   "source": [
    "xi_max = vsol.y[1].max()\n",
    "xi_max_index = vsol.y[1].argmax()\n",
    "v_prof = interpolate.UnivariateSpline(vsol.y[1][0:xi_max_index+1], vsol.y[0][0:xi_max_index+1], s=0)"
   ]
  },
  {
   "cell_type": "code",
   "execution_count": 124,
   "metadata": {},
   "outputs": [
    {
     "data": {
      "text/plain": [
       "7.1441441441441444"
      ]
     },
     "execution_count": 124,
     "metadata": {},
     "output_type": "execute_result"
    }
   ],
   "source": [
    "vsol.t[xi_max_index]"
   ]
  },
  {
   "cell_type": "code",
   "execution_count": 125,
   "metadata": {},
   "outputs": [
    {
     "data": {
      "text/plain": [
       "0.5965608015134444"
      ]
     },
     "execution_count": 125,
     "metadata": {},
     "output_type": "execute_result"
    }
   ],
   "source": [
    "xi_max"
   ]
  },
  {
   "cell_type": "code",
   "execution_count": 51,
   "metadata": {},
   "outputs": [
    {
     "data": {
      "text/plain": [
       "array(0.11681821)"
      ]
     },
     "execution_count": 51,
     "metadata": {},
     "output_type": "execute_result"
    }
   ],
   "source": [
    "v_prof(0.55)"
   ]
  },
  {
   "cell_type": "code",
   "execution_count": 126,
   "metadata": {},
   "outputs": [
    {
     "data": {
      "text/plain": [
       "[<matplotlib.lines.Line2D at 0x11ebadd20>]"
      ]
     },
     "execution_count": 126,
     "metadata": {},
     "output_type": "execute_result"
    },
    {
     "data": {
      "image/png": "[encoded data removed]",
      "text/plain": [
       "<Figure size 640x480 with 1 Axes>"
      ]
     },
     "metadata": {},
     "output_type": "display_data"
    }
   ],
   "source": [
    "xplot = np.linspace(0.5, 0.58, 100)\n",
    "vplot = [v_prof(x) for x in xplot]\n",
    "plt.plot(xplot, vplot)\n",
    "plt.plot(vsol.y[1][0:xi_max_index+1],vsol.y[0][0:xi_max_index+1])"
   ]
  },
  {
   "cell_type": "code",
   "execution_count": 127,
   "metadata": {},
   "outputs": [
    {
     "data": {
      "text/plain": [
       "0.029110592320081743"
      ]
     },
     "execution_count": 127,
     "metadata": {},
     "output_type": "execute_result"
    }
   ],
   "source": [
    "vsol.y[0][xi_max_index+1]"
   ]
  },
  {
   "cell_type": "code",
   "execution_count": 129,
   "metadata": {},
   "outputs": [
    {
     "data": {
      "text/plain": [
       "array(-1.25385501)"
      ]
     },
     "execution_count": 129,
     "metadata": {},
     "output_type": "execute_result"
    }
   ],
   "source": [
    "v_prof.derivative()(0.55)"
   ]
  },
  {
   "cell_type": "code",
   "execution_count": 130,
   "metadata": {},
   "outputs": [],
   "source": [
    "tlist = np.array([0.5, 0.503217, 0.506433, 0.50965, 0.512867, 0.516083, 0.5193, 0.522517, 0.525733, 0.52895, 0.532167, 0.535383, 0.5386, 0.541817, 0.545034, 0.54825, 0.551467, 0.554684, 0.5579, 0.561117, 0.564334, 0.56755, 0.570767, 0.573984, 0.5772, 0.580417, 0.583634, 0.58685, 0.590067, 0.593284, 0.5965])\n",
    "vlist = np.array([0.177172, 0.173294, 0.169428, 0.165572, 0.161724, 0.15788, 0.154038,0.150195, 0.146349, 0.142496, 0.138631, 0.134752, 0.130853, 0.126931, 0.122979, 0.11899, 0.114959, 0.110876, 0.106731, 0.102513, 0.0982061, 0.093793, 0.0892503, 0.0845472, 0.0796418, 0.0744743, 0.0689529, 0.0629241, 0.0560902, 0.04769, 0.0315993])\n",
    "\n",
    "# This is the mathematica output for the velocity profile"
   ]
  },
  {
   "cell_type": "code",
   "execution_count": 55,
   "metadata": {},
   "outputs": [
    {
     "data": {
      "text/plain": [
       "[<matplotlib.lines.Line2D at 0x11d403d60>]"
      ]
     },
     "execution_count": 55,
     "metadata": {},
     "output_type": "execute_result"
    },
    {
     "data": {
      "image/png": "[encoded data removed]",
      "text/plain": [
       "<Figure size 640x480 with 1 Axes>"
      ]
     },
     "metadata": {},
     "output_type": "display_data"
    }
   ],
   "source": [
    "plt.plot(vsol.y[1][0:xi_max_index+1],vsol.y[0][0:xi_max_index+1])\n",
    "plt.plot(tlist, vlist)"
   ]
  },
  {
   "cell_type": "markdown",
   "metadata": {},
   "source": [
    "This shows that the velocity profile has very good agreement with mathematica."
   ]
  },
  {
   "cell_type": "code",
   "execution_count": 11,
   "metadata": {},
   "outputs": [],
   "source": [
    "def dTdx(x, y):\n",
    "    T = y[0]\n",
    "    dT = T/(1-v_prof(x)**2)\n",
    "    dT = dT * μ(x, v_prof(x)) * v_prof.derivative()(x)\n",
    "    return np.array([dT])\n",
    "    "
   ]
  },
  {
   "cell_type": "code",
   "execution_count": null,
   "metadata": {},
   "outputs": [],
   "source": []
  },
  {
   "cell_type": "code",
   "execution_count": 132,
   "metadata": {},
   "outputs": [],
   "source": [
    "Tsol=integrate.solve_ivp(dTdx, (0.5, xi_max*0.999), [guess_sol[1]], t_eval=np.linspace(0.5,xi_max*0.999, 1000),method='DOP853')"
   ]
  },
  {
   "cell_type": "code",
   "execution_count": 133,
   "metadata": {},
   "outputs": [],
   "source": [
    "T_prof = interpolate.interp1d(Tsol.t,Tsol.y[0])"
   ]
  },
  {
   "cell_type": "code",
   "execution_count": 134,
   "metadata": {},
   "outputs": [
    {
     "data": {
      "text/plain": [
       "array(64.51929142)"
      ]
     },
     "execution_count": 134,
     "metadata": {},
     "output_type": "execute_result"
    }
   ],
   "source": [
    "T_prof(0.52)"
   ]
  },
  {
   "cell_type": "code",
   "execution_count": 135,
   "metadata": {},
   "outputs": [
    {
     "data": {
      "text/plain": [
       "[<matplotlib.lines.Line2D at 0x11d1fead0>]"
      ]
     },
     "execution_count": 135,
     "metadata": {},
     "output_type": "execute_result"
    },
    {
     "data": {
      "image/png": "[encoded data removed]",
      "text/plain": [
       "<Figure size 640x480 with 1 Axes>"
      ]
     },
     "metadata": {},
     "output_type": "display_data"
    }
   ],
   "source": [
    "plt.plot(Tsol.t, Tsol.y[0])"
   ]
  },
  {
   "cell_type": "code",
   "execution_count": 136,
   "metadata": {},
   "outputs": [],
   "source": [
    "xsh=optimize.brentq(lambda x: μ(x, v_prof(x))*x - 1/3, 0.5, xi_max*0.999)"
   ]
  },
  {
   "cell_type": "code",
   "execution_count": 137,
   "metadata": {},
   "outputs": [
    {
     "data": {
      "text/plain": [
       "0.593373981687617"
      ]
     },
     "execution_count": 137,
     "metadata": {},
     "output_type": "execute_result"
    }
   ],
   "source": [
    "xsh"
   ]
  },
  {
   "cell_type": "code",
   "execution_count": 138,
   "metadata": {},
   "outputs": [
    {
     "data": {
      "text/plain": [
       "array(61.243257)"
      ]
     },
     "execution_count": 138,
     "metadata": {},
     "output_type": "execute_result"
    }
   ],
   "source": [
    "T_prof(xsh)"
   ]
  },
  {
   "cell_type": "code",
   "execution_count": 13,
   "metadata": {},
   "outputs": [],
   "source": [
    "def find_Tsh(Tm):\n",
    "    guess_sol = optimize.fsolve(lambda x:match(x[0], 0.5, x[1], Tm,gstar, gstar_no_top,1e8,0),[0.35, 60])\n",
    "    vsol=integrate.solve_ivp(dYda, (10,0.01), np.array([μ(0.5, guess_sol[0]), 0.5]),t_eval=np.linspace(10,0.01,1000),method='DOP853')\n",
    "    xi_max = vsol.y[1].max()\n",
    "    xi_max_index = vsol.y[1].argmax()\n",
    "    v_prof = interpolate.UnivariateSpline(vsol.y[1][0:xi_max_index+1], vsol.y[0][0:xi_max_index+1],s=0)\n",
    "    def dTdx(x, y):\n",
    "        T = y[0]\n",
    "        dT = T/(1-v_prof(x)**2)\n",
    "        dT = dT * μ(x, v_prof(x)) * v_prof.derivative()(x)\n",
    "        return np.array([dT])\n",
    "    Tsol=integrate.solve_ivp(dTdx, (0.5, xi_max*0.999), [guess_sol[1]], t_eval=np.linspace(0.5,xi_max*0.999, 1000),method='DOP853')\n",
    "    T_prof = interpolate.interp1d(Tsol.t,Tsol.y[0])\n",
    "    xsh=optimize.brentq(lambda x: μ(x, v_prof(x))*x - 1/3, 0.5, xi_max*0.999)\n",
    "    return T_prof(xsh)"
   ]
  },
  {
   "cell_type": "code",
   "execution_count": 14,
   "metadata": {},
   "outputs": [
    {
     "data": {
      "text/plain": [
       "array(61.24325719)"
      ]
     },
     "execution_count": 14,
     "metadata": {},
     "output_type": "execute_result"
    }
   ],
   "source": [
    "find_Tsh(59)"
   ]
  },
  {
   "cell_type": "code",
   "execution_count": 19,
   "metadata": {},
   "outputs": [],
   "source": [
    "Tmax = 60\n",
    "Tmin = 57\n",
    "for i in range(50):\n",
    "    Tcal=(Tmax+Tmin)/2\n",
    "    Tsh = find_Tsh(Tcal)\n",
    "    if Tsh < 60:\n",
    "        Tmin = Tcal\n",
    "    else:\n",
    "        Tmax = Tcal"
   ]
  },
  {
   "cell_type": "code",
   "execution_count": 20,
   "metadata": {},
   "outputs": [
    {
     "data": {
      "text/plain": [
       "57.46863747665397"
      ]
     },
     "execution_count": 20,
     "metadata": {},
     "output_type": "execute_result"
    }
   ],
   "source": [
    "Tcal"
   ]
  },
  {
   "cell_type": "code",
   "execution_count": 21,
   "metadata": {},
   "outputs": [
    {
     "data": {
      "text/plain": [
       "array(60.)"
      ]
     },
     "execution_count": 21,
     "metadata": {},
     "output_type": "execute_result"
    }
   ],
   "source": [
    "find_Tsh(Tcal)"
   ]
  },
  {
   "cell_type": "code",
   "execution_count": null,
   "metadata": {},
   "outputs": [],
   "source": []
  },
  {
   "cell_type": "markdown",
   "metadata": {},
   "source": [
    "## General model"
   ]
  },
  {
   "cell_type": "markdown",
   "metadata": {},
   "source": [
    "### Define functions"
   ]
  },
  {
   "cell_type": "code",
   "execution_count": 7,
   "metadata": {},
   "outputs": [],
   "source": [
    "#current_dir = os.path.dirname(os.path.abspath(__file__))\n",
    "#model_directory = os.path.join(current_dir, '..', 'cosmotransition_z2sb', 'cosmoTransitions')\n",
    "model_directory='/Users/quarkquartet/Work/Wall-velocity/cosmotransition_z2sb/cosmoTransitions/'\n",
    "sys.path.append(model_directory)\n",
    "import baseMo_s_b_d as bm"
   ]
  },
  {
   "cell_type": "code",
   "execution_count": 31,
   "metadata": {},
   "outputs": [],
   "source": [
    "m = bm.model(702.654702269, -102.146250858, 0.112009439661, 0.0037322807528, -0.0370639674565,10000)"
   ]
  },
  {
   "cell_type": "code",
   "execution_count": 32,
   "metadata": {},
   "outputs": [
    {
     "name": "stdout",
     "output_type": "stream",
     "text": [
      "Tracing phase starting at x = [246.00000051 572.58176356] ; t = 0.0\n",
      "Tracing minimum up\n",
      "traceMinimum t0 = 0\n",
      "...........................................................................................................................................................................\n",
      "Tracing phase starting at x = [-2.27347289e-07  1.79312356e+02] ; t = 68.27354525855334\n",
      "Tracing minimum down\n",
      "traceMinimum t0 = 68.2735\n",
      "..............................................................................\n",
      "Tracing minimum up\n",
      "traceMinimum t0 = 68.2735\n",
      ".....................................................................................................................................................................................................................................................................................................................................................................................................................................................................................................................................................................................................................................................................................................................................................................................................\n",
      "High-T phase: 1\n",
      "Zero-T phase: 0\n",
      "Tunneling from phase 1 to phase 0 at T=59.67\n",
      "high_vev = [-1.16866072e-05  1.78257992e+02]\n",
      "low_vev = [210.03323895 499.18512253]\n",
      "Path deformation converged. 56 steps. fRatio = 1.92126e-02\n",
      "Path deformation converged. 17 steps. fRatio = 1.26614e-02\n",
      "Path deformation converged. 10 steps. fRatio = 1.07971e-02\n",
      "Path deformation converged. 1 steps. fRatio = 1.26026e-03\n",
      "Tunneling from phase 1 to phase 0 at T=59.67\n",
      "high_vev = [5.97319824e-05 1.78257935e+02]\n",
      "low_vev = [210.03156476 499.181679  ]\n",
      "Path deformation converged. 56 steps. fRatio = 1.92070e-02\n",
      "Path deformation converged. 17 steps. fRatio = 1.25938e-02\n",
      "Path deformation converged. 10 steps. fRatio = 1.10445e-02\n",
      "Path deformation converged. 1 steps. fRatio = 1.29801e-03\n",
      "Tunneling from phase 1 to phase 0 at T=63.92\n",
      "high_vev = [2.65678094e-05 1.78505561e+02]\n",
      "low_vev = [191.52166841 461.28656508]\n",
      "Path deformation converged. 55 steps. fRatio = 1.96403e-02\n",
      "Path deformation converged. 13 steps. fRatio = 1.64208e-02\n",
      "Path deformation converged. 1 steps. fRatio = 9.09215e-03\n",
      "Tunneling from phase 1 to phase 0 at T=60.33\n",
      "high_vev = [7.25138525e-05 1.78215478e+02]\n",
      "low_vev = [207.76627254 494.52561164]\n",
      "Path deformation converged. 57 steps. fRatio = 1.75247e-02\n",
      "Path deformation converged. 14 steps. fRatio = 1.57390e-02\n",
      "Path deformation converged. 1 steps. fRatio = 5.19668e-02\n",
      "Tunneling from phase 1 to phase 0 at T=62.13\n",
      "high_vev = [6.15430949e-06 1.78288700e+02]\n",
      "low_vev = [200.60826519 479.84385896]\n",
      "Path deformation converged. 57 steps. fRatio = 1.81349e-02\n",
      "Path deformation converged. 14 steps. fRatio = 1.75946e-02\n",
      "Path deformation converged. 1 steps. fRatio = 1.74290e-02\n",
      "Tunneling from phase 1 to phase 0 at T=61.58\n",
      "high_vev = [5.78667043e-06 1.78246109e+02]\n",
      "low_vev = [202.95908721 484.66007701]\n",
      "Path deformation converged. 57 steps. fRatio = 1.99909e-02\n",
      "Path deformation converged. 12 steps. fRatio = 1.20003e-02\n",
      "Path deformation converged. 1 steps. fRatio = 3.35363e-02\n",
      "Tunneling from phase 1 to phase 0 at T=61.77\n",
      "high_vev = [6.94767398e-06 1.78259413e+02]\n",
      "low_vev = [202.15520435 483.01249171]\n",
      "Path deformation converged. 59 steps. fRatio = 1.88696e-02\n",
      "Path deformation converged. 13 steps. fRatio = 1.98505e-02\n",
      "Path deformation converged. 1 steps. fRatio = 2.26321e-02\n",
      "Tunneling from phase 1 to phase 0 at T=61.8\n",
      "high_vev = [2.74668135e-06 1.78261438e+02]\n",
      "low_vev = [202.03992168 482.77626727]\n",
      "Path deformation converged. 60 steps. fRatio = 1.94671e-02\n",
      "Path deformation converged. 13 steps. fRatio = 1.92722e-02\n",
      "Path deformation converged. 1 steps. fRatio = 2.18039e-02\n",
      "Tunneling from phase 1 to phase 0 at T=61.8\n",
      "high_vev = [9.51180104e-06 1.78261369e+02]\n",
      "low_vev = [202.04374412 482.78409962]\n",
      "Path deformation converged. 60 steps. fRatio = 1.94789e-02\n",
      "Path deformation converged. 13 steps. fRatio = 1.92862e-02\n",
      "Path deformation converged. 1 steps. fRatio = 2.18284e-02\n",
      "Tunneling from phase 1 to phase 0 at T=61.8\n",
      "high_vev = [6.37175580e-05 1.78261329e+02]\n",
      "low_vev = [202.04587384 482.78846064]\n",
      "Path deformation converged. 60 steps. fRatio = 1.94803e-02\n",
      "Path deformation converged. 13 steps. fRatio = 1.92955e-02\n",
      "Path deformation converged. 1 steps. fRatio = 2.18427e-02\n"
     ]
    },
    {
     "data": {
      "text/plain": [
       "[{'low_vev': array([202.04374412, 482.78409962]),\n",
       "  'high_vev': array([9.51180104e-06, 1.78261369e+02]),\n",
       "  'Tnuc': 61.79608446346483,\n",
       "  'low_phase': 0,\n",
       "  'high_phase': 1,\n",
       "  'instanton': fullTunneling_rval(profile1D=Profile1D(R=array([0.00000000e+00, 1.04060051e-05, 1.88910615e-03, 3.76780630e-03,\n",
       "         5.64650644e-03, 7.52520659e-03, 9.40390674e-03, 1.12826069e-02,\n",
       "         1.31613070e-02, 1.50400072e-02, 1.69187073e-02, 1.87974075e-02,\n",
       "         2.06761076e-02, 2.25548078e-02, 2.44335079e-02, 2.63122081e-02,\n",
       "         2.81909082e-02, 3.00696083e-02, 3.19483085e-02, 3.38270086e-02,\n",
       "         3.57057088e-02, 3.75844089e-02, 3.94631091e-02, 4.13418092e-02,\n",
       "         4.32205094e-02, 4.50992095e-02, 4.69779097e-02, 4.88566098e-02,\n",
       "         5.07353100e-02, 5.26140101e-02, 5.44927102e-02, 5.63714104e-02,\n",
       "         5.82501105e-02, 6.01288107e-02, 6.20075108e-02, 6.38862110e-02,\n",
       "         6.57649111e-02, 6.76436113e-02, 6.95223114e-02, 7.14010116e-02,\n",
       "         7.32797117e-02, 7.51584118e-02, 7.70371120e-02, 7.89158121e-02,\n",
       "         8.07945123e-02, 8.26732124e-02, 8.45519126e-02, 8.64306127e-02,\n",
       "         8.83093129e-02, 9.01880130e-02, 9.20667132e-02, 9.39454133e-02,\n",
       "         9.58241135e-02, 9.77028136e-02, 9.95815137e-02, 1.01460214e-01,\n",
       "         1.03338914e-01, 1.05217614e-01, 1.07096314e-01, 1.08975014e-01,\n",
       "         1.10853715e-01, 1.12732415e-01, 1.14611115e-01, 1.16489815e-01,\n",
       "         1.18368515e-01, 1.20247215e-01, 1.22125916e-01, 1.24004616e-01,\n",
       "         1.25883316e-01, 1.27762016e-01, 1.29640716e-01, 1.31519416e-01,\n",
       "         1.33398116e-01, 1.35276817e-01, 1.37155517e-01, 1.39034217e-01,\n",
       "         1.40912917e-01, 1.42791617e-01, 1.44670317e-01, 1.46549017e-01,\n",
       "         1.48427718e-01, 1.50306418e-01, 1.52185118e-01, 1.54063818e-01,\n",
       "         1.55942518e-01, 1.57821218e-01, 1.59699918e-01, 1.61578619e-01,\n",
       "         1.63457319e-01, 1.65336019e-01, 1.67214719e-01, 1.69093419e-01,\n",
       "         1.70972119e-01, 1.72850819e-01, 1.74729520e-01, 1.76608220e-01,\n",
       "         1.78486920e-01, 1.80365620e-01, 1.82244320e-01, 1.84123020e-01,\n",
       "         1.86001720e-01, 1.87880421e-01, 1.89759121e-01, 1.91637821e-01,\n",
       "         1.93516521e-01, 1.95395221e-01, 1.97273921e-01, 1.99152621e-01,\n",
       "         2.01031322e-01, 2.02910022e-01, 2.04788722e-01, 2.06667422e-01,\n",
       "         2.08546122e-01, 2.10424822e-01, 2.12303523e-01, 2.14182223e-01,\n",
       "         2.16060923e-01, 2.17939623e-01, 2.19818323e-01, 2.21697023e-01,\n",
       "         2.23575723e-01, 2.25454424e-01, 2.27333124e-01, 2.29211824e-01,\n",
       "         2.31090524e-01, 2.32969224e-01, 2.34847924e-01, 2.36726624e-01,\n",
       "         2.38605325e-01, 2.40484025e-01, 2.42362725e-01, 2.44241425e-01,\n",
       "         2.46120125e-01, 2.47998825e-01, 2.49877525e-01, 2.51756226e-01,\n",
       "         2.53634926e-01, 2.55513626e-01, 2.57392326e-01, 2.59271026e-01,\n",
       "         2.61149726e-01, 2.63028426e-01, 2.64907127e-01, 2.66785827e-01,\n",
       "         2.68664527e-01, 2.70543227e-01, 2.72421927e-01, 2.74300627e-01,\n",
       "         2.76179327e-01, 2.78058028e-01, 2.79936728e-01, 2.81815428e-01,\n",
       "         2.83694128e-01, 2.85572828e-01, 2.87451528e-01, 2.89330229e-01,\n",
       "         2.91208929e-01, 2.93087629e-01, 2.94966329e-01, 2.96845029e-01,\n",
       "         2.98723729e-01, 3.00602429e-01, 3.02481130e-01, 3.04359830e-01,\n",
       "         3.06238530e-01, 3.08117230e-01, 3.09995930e-01, 3.11874630e-01,\n",
       "         3.13753330e-01, 3.15632031e-01, 3.17510731e-01, 3.19389431e-01,\n",
       "         3.21268131e-01, 3.23146831e-01, 3.25025531e-01, 3.26904231e-01,\n",
       "         3.28782932e-01, 3.30661632e-01, 3.32540332e-01, 3.34419032e-01,\n",
       "         3.36297732e-01, 3.38176432e-01, 3.40055132e-01, 3.41933833e-01,\n",
       "         3.43812533e-01, 3.45691233e-01, 3.47569933e-01, 3.49448633e-01,\n",
       "         3.51327333e-01, 3.53206033e-01, 3.55084734e-01, 3.56963434e-01,\n",
       "         3.58842134e-01, 3.60720834e-01, 3.62599534e-01, 3.64478234e-01,\n",
       "         3.66356934e-01, 3.68235635e-01, 3.70114335e-01, 3.71993035e-01,\n",
       "         3.73871735e-01, 3.75750435e-01, 3.77629135e-01, 3.79507836e-01,\n",
       "         3.81386536e-01, 3.83265236e-01, 3.85143936e-01, 3.87022636e-01,\n",
       "         3.88901336e-01, 3.90780036e-01, 3.92658737e-01, 3.94537437e-01,\n",
       "         3.96416137e-01, 3.98294837e-01, 4.00173537e-01, 4.02052237e-01,\n",
       "         4.03930937e-01, 4.05809638e-01, 4.07688338e-01, 4.09567038e-01,\n",
       "         4.11445738e-01, 4.13324438e-01, 4.15203138e-01, 4.17081838e-01,\n",
       "         4.18960539e-01, 4.20839239e-01, 4.22717939e-01, 4.24596639e-01,\n",
       "         4.26475339e-01, 4.28354039e-01, 4.30232739e-01, 4.32111440e-01,\n",
       "         4.33990140e-01, 4.35868840e-01, 4.37747540e-01, 4.39626240e-01,\n",
       "         4.41504940e-01, 4.43383640e-01, 4.45262341e-01, 4.47141041e-01,\n",
       "         4.49019741e-01, 4.50898441e-01, 4.52777141e-01, 4.54655841e-01,\n",
       "         4.56534542e-01, 4.58413242e-01, 4.60291942e-01, 4.62170642e-01,\n",
       "         4.64049342e-01, 4.65928042e-01, 4.67806742e-01, 4.69685443e-01,\n",
       "         4.71564143e-01, 4.73442843e-01, 4.75321543e-01, 4.77200243e-01,\n",
       "         4.79078943e-01, 4.80957643e-01, 4.82836344e-01, 4.84715044e-01,\n",
       "         4.86593744e-01, 4.88472444e-01, 4.90351144e-01, 4.92229844e-01,\n",
       "         4.94108544e-01, 4.95987245e-01, 4.97865945e-01, 4.99744645e-01,\n",
       "         5.01623345e-01, 5.03502045e-01, 5.05380745e-01, 5.07259445e-01,\n",
       "         5.09138146e-01, 5.11016846e-01, 5.12895546e-01, 5.14774246e-01,\n",
       "         5.16652946e-01, 5.18531646e-01, 5.20410346e-01, 5.22289047e-01,\n",
       "         5.24167747e-01, 5.26046447e-01, 5.27925147e-01, 5.29803847e-01,\n",
       "         5.31682547e-01, 5.33561248e-01, 5.35439948e-01, 5.37318648e-01,\n",
       "         5.39197348e-01, 5.41076048e-01, 5.42954748e-01, 5.44833448e-01,\n",
       "         5.46712149e-01, 5.48590849e-01, 5.50469549e-01, 5.52348249e-01,\n",
       "         5.54226949e-01, 5.56105649e-01, 5.57984349e-01, 5.59863050e-01,\n",
       "         5.61741750e-01, 5.63620450e-01, 5.65499150e-01, 5.67377850e-01,\n",
       "         5.69256550e-01, 5.71135250e-01, 5.73013951e-01, 5.74892651e-01,\n",
       "         5.76771351e-01, 5.78650051e-01, 5.80528751e-01, 5.82407451e-01,\n",
       "         5.84286151e-01, 5.86164852e-01, 5.88043552e-01, 5.89922252e-01,\n",
       "         5.91800952e-01, 5.93679652e-01, 5.95558352e-01, 5.97437052e-01,\n",
       "         5.99315753e-01, 6.01194453e-01, 6.03073153e-01, 6.04951853e-01,\n",
       "         6.06830553e-01, 6.08709253e-01, 6.10587953e-01, 6.12466654e-01,\n",
       "         6.14345354e-01, 6.16224054e-01, 6.18102754e-01, 6.19981454e-01,\n",
       "         6.21860154e-01, 6.23738855e-01, 6.25617555e-01, 6.27496255e-01,\n",
       "         6.29374955e-01, 6.31253655e-01, 6.33132355e-01, 6.35011055e-01,\n",
       "         6.36889756e-01, 6.38768456e-01, 6.40647156e-01, 6.42525856e-01,\n",
       "         6.44404556e-01, 6.46283256e-01, 6.48161956e-01, 6.50040657e-01,\n",
       "         6.51919357e-01, 6.53798057e-01, 6.55676757e-01, 6.57555457e-01,\n",
       "         6.59434157e-01, 6.61312857e-01, 6.63191558e-01, 6.65070258e-01,\n",
       "         6.66948958e-01, 6.68827658e-01, 6.70706358e-01, 6.72585058e-01,\n",
       "         6.74463758e-01, 6.76342459e-01, 6.78221159e-01, 6.80099859e-01,\n",
       "         6.81978559e-01, 6.83857259e-01, 6.85735959e-01, 6.87614659e-01,\n",
       "         6.89493360e-01, 6.91372060e-01, 6.93250760e-01, 6.95129460e-01,\n",
       "         6.97008160e-01, 6.98886860e-01, 7.00765561e-01, 7.02644261e-01,\n",
       "         7.04522961e-01, 7.06401661e-01, 7.08280361e-01, 7.10159061e-01,\n",
       "         7.12037761e-01, 7.13916462e-01, 7.15795162e-01, 7.17673862e-01,\n",
       "         7.19552562e-01, 7.21431262e-01, 7.23309962e-01, 7.25188662e-01,\n",
       "         7.27067363e-01, 7.28946063e-01, 7.30824763e-01, 7.32703463e-01,\n",
       "         7.34582163e-01, 7.36460863e-01, 7.38339563e-01, 7.40218264e-01,\n",
       "         7.42096964e-01, 7.43975664e-01, 7.45854364e-01, 7.47733064e-01,\n",
       "         7.49611764e-01, 7.51490464e-01, 7.53369165e-01, 7.55247865e-01,\n",
       "         7.57126565e-01, 7.59005265e-01, 7.60883965e-01, 7.62762665e-01,\n",
       "         7.64641365e-01, 7.66520066e-01, 7.68398766e-01, 7.70277466e-01,\n",
       "         7.72156166e-01, 7.74034866e-01, 7.75913566e-01, 7.77792266e-01,\n",
       "         7.79670967e-01, 7.81549667e-01, 7.83428367e-01, 7.85307067e-01,\n",
       "         7.87185767e-01, 7.89064467e-01, 7.90943168e-01, 7.92821868e-01,\n",
       "         7.94700568e-01, 7.96579268e-01, 7.98457968e-01, 8.00336668e-01,\n",
       "         8.02215368e-01, 8.04094069e-01, 8.05972769e-01, 8.07851469e-01,\n",
       "         8.09730169e-01, 8.11608869e-01, 8.13487569e-01, 8.15366269e-01,\n",
       "         8.17244970e-01, 8.19123670e-01, 8.21002370e-01, 8.22881070e-01,\n",
       "         8.24759770e-01, 8.26638470e-01, 8.28517170e-01, 8.30395871e-01,\n",
       "         8.32274571e-01, 8.34153271e-01, 8.36031971e-01, 8.37910671e-01,\n",
       "         8.39789371e-01, 8.41668071e-01, 8.43546772e-01, 8.45425472e-01,\n",
       "         8.47304172e-01, 8.49182872e-01, 8.51061572e-01, 8.52940272e-01,\n",
       "         8.54818972e-01, 8.56697673e-01, 8.58576373e-01, 8.60455073e-01,\n",
       "         8.62333773e-01, 8.64212473e-01, 8.66091173e-01, 8.67969874e-01,\n",
       "         8.69848574e-01, 8.71727274e-01, 8.73605974e-01, 8.75484674e-01,\n",
       "         8.77363374e-01, 8.79242074e-01, 8.81120775e-01, 8.82999475e-01,\n",
       "         8.84878175e-01, 8.86756875e-01, 8.88635575e-01, 8.90514275e-01,\n",
       "         8.92392975e-01, 8.94271676e-01, 8.96150376e-01, 8.98029076e-01,\n",
       "         8.99907776e-01, 9.01786476e-01, 9.03665176e-01, 9.05543876e-01,\n",
       "         9.07422577e-01, 9.09301277e-01, 9.11179977e-01, 9.13058677e-01,\n",
       "         9.14937377e-01, 9.16816077e-01, 9.18694777e-01, 9.20573478e-01,\n",
       "         9.22452178e-01, 9.24330878e-01, 9.26209578e-01, 9.28088278e-01,\n",
       "         9.29966978e-01, 9.31845678e-01, 9.33724379e-01, 9.35603079e-01,\n",
       "         9.37481779e-01]), Phi=array([143.44609554, 143.44609569, 143.45125731, 143.46662865,\n",
       "         143.49220656, 143.52798697, 143.5739735 , 143.6301788 ,\n",
       "         143.69658459, 143.77317046, 143.85991605, 143.95680096,\n",
       "         144.06380481, 144.18090721, 144.30808779, 144.44532615,\n",
       "         144.59260191, 144.74989469, 144.9171841 , 145.09444975,\n",
       "         145.28167127, 145.47882826, 145.68590035, 145.90287973,\n",
       "         146.12986969, 146.36684356, 146.61373333, 146.87047098,\n",
       "         147.1369885 , 147.41321788, 147.69909109, 147.99454013,\n",
       "         148.29949698, 148.61389363, 148.93766207, 149.27073427,\n",
       "         149.61304223, 149.96451792, 150.32509334, 150.69470048,\n",
       "         151.07327131, 151.46073782, 151.857032  , 152.26208584,\n",
       "         152.67583131, 153.09820041, 153.52912512, 153.96853743,\n",
       "         154.41636932, 154.87255278, 155.33701979, 155.80970234,\n",
       "         156.29053241, 156.779442  , 157.27636308, 157.78122764,\n",
       "         158.29396768, 158.81451516, 159.34280208, 159.87876043,\n",
       "         160.42232219, 160.97341934, 161.53198388, 162.09794778,\n",
       "         162.67124303, 163.25183861, 163.83980038, 164.43500206,\n",
       "         165.03729443, 165.6465283 , 166.26255448, 166.88522377,\n",
       "         167.51438697, 168.14989488, 168.79159831, 169.43934806,\n",
       "         170.09299492, 170.75238971, 171.41738323, 172.08782628,\n",
       "         172.76356966, 173.44446417, 174.13036061, 174.8211098 ,\n",
       "         175.51656253, 176.21656961, 176.92098183, 177.62965   ,\n",
       "         178.34242492, 179.0591574 , 179.77969823, 180.50389823,\n",
       "         181.23160818, 181.96267891, 182.6969612 , 183.43430586,\n",
       "         184.17456369, 184.9175855 , 185.66322209, 186.41132426,\n",
       "         187.16174282, 187.91432855, 188.66893228, 189.4254048 ,\n",
       "         190.18359691, 190.94335942, 191.70454313, 192.46699884,\n",
       "         193.23057736, 193.99512948, 194.76050601, 195.52655776,\n",
       "         196.29313551, 197.06009009, 197.82727229, 198.59453291,\n",
       "         199.36172275, 200.12869262, 200.89529332, 201.66137566,\n",
       "         202.42679043, 203.19138844, 203.95502049, 204.71753738,\n",
       "         205.47878992, 206.23862891, 206.99690515, 207.75346944,\n",
       "         208.50817259, 209.2608654 , 210.01139867, 210.75954304,\n",
       "         211.50425046, 212.24518339, 212.98227252, 213.71544851,\n",
       "         214.44464205, 215.1697838 , 215.89080444, 216.60763465,\n",
       "         217.32020511, 218.02844648, 218.73228945, 219.43166469,\n",
       "         220.12650288, 220.81673469, 221.5022908 , 222.18310188,\n",
       "         222.85909861, 223.53021167, 224.19637172, 224.85750945,\n",
       "         225.51355554, 226.16444065, 226.81009546, 227.45045065,\n",
       "         228.0854369 , 228.71498488, 229.33902526, 229.95748872,\n",
       "         230.57030594, 231.17740759, 231.77872435, 232.3741869 ,\n",
       "         232.9637259 , 233.54727204, 234.12475599, 234.69610842,\n",
       "         235.26126002, 235.82014146, 236.37268341, 236.91881654,\n",
       "         237.45847154, 237.99157909, 238.51806984, 239.03787449,\n",
       "         239.55092371, 240.05714817, 240.55647854, 241.04884552,\n",
       "         241.53417976, 242.01241194, 242.48347275, 242.94729285,\n",
       "         243.40380293, 243.85293365, 244.2946157 , 244.72877975,\n",
       "         245.15535647, 245.57428104, 245.98609139, 246.39124055,\n",
       "         246.78979537, 247.1818227 , 247.56738939, 247.94656228,\n",
       "         248.31940821, 248.68599404, 249.0463866 , 249.40065274,\n",
       "         249.74885932, 250.09107317, 250.42736114, 250.75779008,\n",
       "         251.08242683, 251.40133824, 251.71459115, 252.02225241,\n",
       "         252.32438887, 252.62106737, 252.91235475, 253.19831787,\n",
       "         253.47902357, 253.75453869, 254.02493008, 254.29026459,\n",
       "         254.55060906, 254.80603034, 255.05659527, 255.3023707 ,\n",
       "         255.54342347, 255.77982044, 256.01162844, 256.23891432,\n",
       "         256.46174493, 256.68018712, 256.89430772, 257.10417359,\n",
       "         257.30985157, 257.51140851, 257.70891125, 257.90242664,\n",
       "         258.09202152, 258.27776275, 258.45971716, 258.6379516 ,\n",
       "         258.81253292, 258.98352796, 259.15100357, 259.31502659,\n",
       "         259.47566388, 259.63298227, 259.78704862, 259.93792976,\n",
       "         260.08569254, 260.23040382, 260.37213043, 260.51093922,\n",
       "         260.64689704, 260.78007073, 260.91052714, 261.03833398,\n",
       "         261.1636383 , 261.28653308, 261.4070479 , 261.52521235,\n",
       "         261.64105599, 261.75460843, 261.86589924, 261.974958  ,\n",
       "         262.08181431, 262.18649773, 262.28903786, 262.38946428,\n",
       "         262.48780657, 262.58409431, 262.67835709, 262.77062449,\n",
       "         262.86092609, 262.94929149, 263.03575025, 263.12033196,\n",
       "         263.20306621, 263.28398258, 263.36311066, 263.44048002,\n",
       "         263.51612024, 263.59006092, 263.66233164, 263.73296197,\n",
       "         263.80198151, 263.86941983, 263.93530652, 263.99967116,\n",
       "         264.06254333, 264.12395263, 264.18392862, 264.24250089,\n",
       "         264.29969904, 264.35555263, 264.41009126, 264.4633445 ,\n",
       "         264.51534194, 264.56611317, 264.61568776, 264.6640953 ,\n",
       "         264.71136538, 264.75752756, 264.80261145, 264.84664662,\n",
       "         264.88966265, 264.93168914, 264.97275565, 265.01289178,\n",
       "         265.0521271 , 265.09049121, 265.12801368, 265.1647241 ,\n",
       "         265.20065204, 265.2358271 , 265.27027886, 265.3040369 ,\n",
       "         265.3371308 , 265.36959014, 265.40144452, 265.43272351,\n",
       "         265.46345669, 265.49367365, 265.52340398, 265.55267724,\n",
       "         265.58151897, 265.60984869, 265.6376299 , 265.66486951,\n",
       "         265.69157442, 265.71775156, 265.74340783, 265.76855015,\n",
       "         265.79318543, 265.81732058, 265.84096252, 265.86411816,\n",
       "         265.88679441, 265.90899818, 265.93073639, 265.95201596,\n",
       "         265.97284378, 265.99322679, 266.01317188, 266.03268598,\n",
       "         266.051776  , 266.07044884, 266.08871142, 266.10657066,\n",
       "         266.12403347, 266.14110675, 266.15779743, 266.17411242,\n",
       "         266.19005862, 266.20564296, 266.22087234, 266.23575369,\n",
       "         266.2502939 , 266.2644999 , 266.27837859, 266.29193689,\n",
       "         266.30518172, 266.31811998, 266.33075859, 266.34310447,\n",
       "         266.35516451, 266.36694565, 266.37845479, 266.38969884,\n",
       "         266.40068471, 266.41141933, 266.4219096 , 266.43216243,\n",
       "         266.44218474, 266.45198345, 266.46156545, 266.47093768,\n",
       "         266.48010703, 266.48908043, 266.49786478, 266.50646701,\n",
       "         266.51489401, 266.52315271, 266.53125002, 266.53919284,\n",
       "         266.54698811, 266.55464271, 266.56216358, 266.56955762,\n",
       "         266.57683175, 266.58399287, 266.59104791, 266.59800377,\n",
       "         266.60485459, 266.61158282, 266.61818957, 266.62467626,\n",
       "         266.63104434, 266.6372952 , 266.6434303 , 266.64945104,\n",
       "         266.65535885, 266.66115516, 266.6668414 , 266.67241899,\n",
       "         266.67788935, 266.68325391, 266.68851409, 266.69367133,\n",
       "         266.69872704, 266.70368265, 266.70853959, 266.71329928,\n",
       "         266.71796315, 266.72253262, 266.72700911, 266.73139406,\n",
       "         266.73568888, 266.73989501, 266.74401387, 266.74804688,\n",
       "         266.75199547, 266.75586106, 266.75964508, 266.76334896,\n",
       "         266.76697411, 266.77052197, 266.77399396, 266.77739151,\n",
       "         266.78071604, 266.78396897, 266.78715173, 266.79026575,\n",
       "         266.79331245, 266.79629326, 266.7992096 , 266.8020629 ,\n",
       "         266.80485458, 266.80758607, 266.81025879, 266.81287417,\n",
       "         266.81543364, 266.81793861, 266.82039052, 266.82279078,\n",
       "         266.82514083, 266.82744209, 266.82969599, 266.83190395,\n",
       "         266.83406739, 266.83618774, 266.83826643, 266.84030488,\n",
       "         266.84230452, 266.84426677, 266.84619305, 266.8480848 ,\n",
       "         266.84994344, 266.85177039, 266.85356707, 266.85533492,\n",
       "         266.85707536, 266.85878982, 266.86047971, 266.86214647,\n",
       "         266.86379151, 266.86541627, 266.86702217, 266.86861064,\n",
       "         266.8701831 , 266.87174097, 266.87328569, 266.87481867,\n",
       "         266.87634134, 266.87785513, 266.87936146, 266.88086176,\n",
       "         266.88235745, 266.88384996, 266.88534072, 266.88682931,\n",
       "         266.8883024 , 266.88975744, 266.89119492, 266.89261533,\n",
       "         266.89401917, 266.89540693, 266.89677909, 266.89813616,\n",
       "         266.89947863, 266.90080699, 266.90212174, 266.90342335,\n",
       "         266.90471234, 266.90598919, 266.90725439, 266.90850844,\n",
       "         266.90975184, 266.91098506, 266.91220861, 266.91342298,\n",
       "         266.91462867, 266.91582615, 266.91701594, 266.91819852,\n",
       "         266.91937438]), dPhi=array([0.00000000e+00, 3.01026396e-02, 5.46469175e+00, 1.08984448e+01,\n",
       "         1.63305250e+01, 2.17600912e+01, 2.71863194e+01, 3.26084182e+01,\n",
       "         3.80255439e+01, 4.34368486e+01, 4.88414845e+01, 5.42386039e+01,\n",
       "         5.96273589e+01, 6.50069018e+01, 7.03763846e+01, 7.57349596e+01,\n",
       "         8.10817790e+01, 8.64159949e+01, 9.17367597e+01, 9.70432253e+01,\n",
       "         1.02334544e+02, 1.07609868e+02, 1.12868350e+02, 1.18109155e+02,\n",
       "         1.23331577e+02, 1.28534784e+02, 1.33717902e+02, 1.38880056e+02,\n",
       "         1.44020371e+02, 1.49137973e+02, 1.54231986e+02, 1.59301536e+02,\n",
       "         1.64345749e+02, 1.69363749e+02, 1.74354662e+02, 1.79317613e+02,\n",
       "         1.84251727e+02, 1.89156130e+02, 1.94029947e+02, 1.98872303e+02,\n",
       "         2.03682323e+02, 2.08459133e+02, 2.13201859e+02, 2.17909624e+02,\n",
       "         2.22581555e+02, 2.27216777e+02, 2.31814415e+02, 2.36373594e+02,\n",
       "         2.40893440e+02, 2.45373078e+02, 2.49811633e+02, 2.54208231e+02,\n",
       "         2.58561996e+02, 2.62872054e+02, 2.67137531e+02, 2.71357551e+02,\n",
       "         2.75531240e+02, 2.79657723e+02, 2.83736125e+02, 2.87765572e+02,\n",
       "         2.91745189e+02, 2.95674101e+02, 2.99551434e+02, 3.03376312e+02,\n",
       "         3.07147861e+02, 3.10864394e+02, 3.14521493e+02, 3.18118151e+02,\n",
       "         3.21653823e+02, 3.25127961e+02, 3.28540020e+02, 3.31889451e+02,\n",
       "         3.35175710e+02, 3.38398249e+02, 3.41556521e+02, 3.44649979e+02,\n",
       "         3.47678078e+02, 3.50640271e+02, 3.53536010e+02, 3.56364750e+02,\n",
       "         3.59125943e+02, 3.61819043e+02, 3.64443503e+02, 3.66998777e+02,\n",
       "         3.69484318e+02, 3.71899579e+02, 3.74244014e+02, 3.76517077e+02,\n",
       "         3.78718219e+02, 3.80846895e+02, 3.82902559e+02, 3.84884663e+02,\n",
       "         3.86792661e+02, 3.88626006e+02, 3.90384151e+02, 3.92066551e+02,\n",
       "         3.93672658e+02, 3.95201925e+02, 3.96653806e+02, 3.98027755e+02,\n",
       "         3.99323225e+02, 4.00539668e+02, 4.01676539e+02, 4.02733291e+02,\n",
       "         4.03709377e+02, 4.04604250e+02, 4.05417364e+02, 4.06148172e+02,\n",
       "         4.06796128e+02, 4.07360685e+02, 4.07841296e+02, 4.08237415e+02,\n",
       "         4.08548495e+02, 4.08773989e+02, 4.08913351e+02, 4.08966033e+02,\n",
       "         4.08931491e+02, 4.08809176e+02, 4.08598542e+02, 4.08299042e+02,\n",
       "         4.07910131e+02, 4.07431260e+02, 4.06861885e+02, 4.06201457e+02,\n",
       "         4.05449430e+02, 4.04605258e+02, 4.03668394e+02, 4.02638291e+02,\n",
       "         4.01514403e+02, 4.00296183e+02, 3.98983084e+02, 3.97574690e+02,\n",
       "         3.96072719e+02, 3.94479413e+02, 3.92796766e+02, 3.91026771e+02,\n",
       "         3.89171421e+02, 3.87232709e+02, 3.85212629e+02, 3.83113175e+02,\n",
       "         3.80936338e+02, 3.78684114e+02, 3.76358495e+02, 3.73961475e+02,\n",
       "         3.71495046e+02, 3.68961203e+02, 3.66361939e+02, 3.63699246e+02,\n",
       "         3.60975119e+02, 3.58191550e+02, 3.55350534e+02, 3.52454063e+02,\n",
       "         3.49504130e+02, 3.46502730e+02, 3.43451855e+02, 3.40353499e+02,\n",
       "         3.37209655e+02, 3.34022317e+02, 3.30793477e+02, 3.27525130e+02,\n",
       "         3.24219268e+02, 3.20877885e+02, 3.17502974e+02, 3.14096529e+02,\n",
       "         3.10660543e+02, 3.07197009e+02, 3.03707920e+02, 3.00195271e+02,\n",
       "         2.96661054e+02, 2.93107262e+02, 2.89535890e+02, 2.85948930e+02,\n",
       "         2.82348376e+02, 2.78736221e+02, 2.75114458e+02, 2.71485081e+02,\n",
       "         2.67850083e+02, 2.64211458e+02, 2.60571198e+02, 2.56931298e+02,\n",
       "         2.53293750e+02, 2.49660548e+02, 2.46033685e+02, 2.42415154e+02,\n",
       "         2.38806950e+02, 2.35211065e+02, 2.31629493e+02, 2.28064226e+02,\n",
       "         2.24517259e+02, 2.20990633e+02, 2.17492236e+02, 2.14026749e+02,\n",
       "         2.10594200e+02, 2.07194614e+02, 2.03828019e+02, 2.00494440e+02,\n",
       "         1.97193906e+02, 1.93926441e+02, 1.90692074e+02, 1.87490830e+02,\n",
       "         1.84322735e+02, 1.81187818e+02, 1.78086104e+02, 1.75017619e+02,\n",
       "         1.71982391e+02, 1.68980446e+02, 1.66011811e+02, 1.63076511e+02,\n",
       "         1.60174575e+02, 1.57306028e+02, 1.54470897e+02, 1.51669209e+02,\n",
       "         1.48900990e+02, 1.46166267e+02, 1.43465066e+02, 1.40797414e+02,\n",
       "         1.38163338e+02, 1.35562865e+02, 1.32996020e+02, 1.30462830e+02,\n",
       "         1.27963322e+02, 1.25497523e+02, 1.23065460e+02, 1.20667158e+02,\n",
       "         1.18302645e+02, 1.15971946e+02, 1.13675089e+02, 1.11412101e+02,\n",
       "         1.09183007e+02, 1.06987835e+02, 1.04826611e+02, 1.02699361e+02,\n",
       "         1.00606113e+02, 9.85468927e+01, 9.65217267e+01, 9.45306417e+01,\n",
       "         9.25736644e+01, 9.06508213e+01, 8.87621391e+01, 8.69076443e+01,\n",
       "         8.50873635e+01, 8.33013234e+01, 8.15495506e+01, 7.98320716e+01,\n",
       "         7.81489130e+01, 7.65001015e+01, 7.48856636e+01, 7.33056260e+01,\n",
       "         7.17600153e+01, 7.02488579e+01, 6.87721807e+01, 6.73299629e+01,\n",
       "         6.59173897e+01, 6.45310214e+01, 6.31705503e+01, 6.18356687e+01,\n",
       "         6.05260689e+01, 5.92414433e+01, 5.79814842e+01, 5.67458840e+01,\n",
       "         5.55343349e+01, 5.43465293e+01, 5.31821595e+01, 5.20409179e+01,\n",
       "         5.09224967e+01, 4.98265884e+01, 4.87528852e+01, 4.77010795e+01,\n",
       "         4.66708636e+01, 4.56619298e+01, 4.46739706e+01, 4.37066781e+01,\n",
       "         4.27597447e+01, 4.18328628e+01, 4.09257247e+01, 4.00380228e+01,\n",
       "         3.91694493e+01, 3.83196965e+01, 3.74884569e+01, 3.66754228e+01,\n",
       "         3.58802864e+01, 3.51027401e+01, 3.43424763e+01, 3.35991872e+01,\n",
       "         3.28725652e+01, 3.21623027e+01, 3.14680919e+01, 3.07896253e+01,\n",
       "         3.01265950e+01, 2.94786935e+01, 2.88456131e+01, 2.82270461e+01,\n",
       "         2.76226849e+01, 2.70322218e+01, 2.64553490e+01, 2.58917590e+01,\n",
       "         2.53411441e+01, 2.48031965e+01, 2.42776087e+01, 2.37640730e+01,\n",
       "         2.32622817e+01, 2.27719270e+01, 2.22927015e+01, 2.18242973e+01,\n",
       "         2.13664069e+01, 2.09187225e+01, 2.04809364e+01, 2.00527411e+01,\n",
       "         1.96338289e+01, 1.92238920e+01, 1.88226228e+01, 1.84297136e+01,\n",
       "         1.80448568e+01, 1.76677447e+01, 1.72980696e+01, 1.69355239e+01,\n",
       "         1.65797999e+01, 1.62305899e+01, 1.58875862e+01, 1.55504812e+01,\n",
       "         1.52189977e+01, 1.48936638e+01, 1.45747174e+01, 1.42620778e+01,\n",
       "         1.39556645e+01, 1.36553967e+01, 1.33611938e+01, 1.30729753e+01,\n",
       "         1.27906603e+01, 1.25141683e+01, 1.22434187e+01, 1.19783308e+01,\n",
       "         1.17188239e+01, 1.14648174e+01, 1.12162307e+01, 1.09729831e+01,\n",
       "         1.07349940e+01, 1.05021827e+01, 1.02744685e+01, 1.00517709e+01,\n",
       "         9.83400922e+00, 9.62110276e+00, 9.41297089e+00, 9.20953297e+00,\n",
       "         9.01070836e+00, 8.81641641e+00, 8.62657648e+00, 8.44110792e+00,\n",
       "         8.25993009e+00, 8.08296234e+00, 7.91012403e+00, 7.74133451e+00,\n",
       "         7.57651313e+00, 7.41557926e+00, 7.25845224e+00, 7.10505143e+00,\n",
       "         6.95529619e+00, 6.80910587e+00, 6.66639982e+00, 6.52709741e+00,\n",
       "         6.39111798e+00, 6.25838088e+00, 6.12880549e+00, 6.00231114e+00,\n",
       "         5.87881720e+00, 5.75824301e+00, 5.64050794e+00, 5.52553134e+00,\n",
       "         5.41323257e+00, 5.30353097e+00, 5.19634590e+00, 5.09159672e+00,\n",
       "         4.98920279e+00, 4.88908345e+00, 4.79115807e+00, 4.69534599e+00,\n",
       "         4.60156658e+00, 4.50973918e+00, 4.41978316e+00, 4.33161786e+00,\n",
       "         4.24516264e+00, 4.16033687e+00, 4.07705988e+00, 3.99525104e+00,\n",
       "         3.91482969e+00, 3.83571521e+00, 3.75782693e+00, 3.68108423e+00,\n",
       "         3.60555425e+00, 3.53144049e+00, 3.45873124e+00, 3.38741118e+00,\n",
       "         3.31746501e+00, 3.24887742e+00, 3.18163309e+00, 3.11571673e+00,\n",
       "         3.05111302e+00, 2.98780665e+00, 2.92578232e+00, 2.86502472e+00,\n",
       "         2.80551853e+00, 2.74724846e+00, 2.69019918e+00, 2.63435541e+00,\n",
       "         2.57970181e+00, 2.52622309e+00, 2.47390395e+00, 2.42272906e+00,\n",
       "         2.37268312e+00, 2.32375083e+00, 2.27591687e+00, 2.22916593e+00,\n",
       "         2.18348272e+00, 2.13885191e+00, 2.09525821e+00, 2.05268630e+00,\n",
       "         2.01112087e+00, 1.97054662e+00, 1.93094824e+00, 1.89231041e+00,\n",
       "         1.85461784e+00, 1.81785521e+00, 1.78200721e+00, 1.74705854e+00,\n",
       "         1.71299388e+00, 1.67979793e+00, 1.64745539e+00, 1.61595093e+00,\n",
       "         1.58526926e+00, 1.55539506e+00, 1.52631304e+00, 1.49800786e+00,\n",
       "         1.47046424e+00, 1.44366686e+00, 1.41760041e+00, 1.39224959e+00,\n",
       "         1.36759908e+00, 1.34363359e+00, 1.32033779e+00, 1.29769638e+00,\n",
       "         1.27569405e+00, 1.25431550e+00, 1.23354541e+00, 1.21336848e+00,\n",
       "         1.19376940e+00, 1.17473286e+00, 1.15624356e+00, 1.13828617e+00,\n",
       "         1.12084540e+00, 1.10390594e+00, 1.08745248e+00, 1.07146970e+00,\n",
       "         1.05594231e+00, 1.04085499e+00, 1.02619244e+00, 1.01193934e+00,\n",
       "         9.98080393e-01, 9.84600283e-01, 9.71483704e-01, 9.58715348e-01,\n",
       "         9.46279906e-01, 9.34162070e-01, 9.22346532e-01, 9.10817983e-01,\n",
       "         8.99561114e-01, 8.88560618e-01, 8.77801186e-01, 8.67267509e-01,\n",
       "         8.56944279e-01, 8.46816188e-01, 8.36867927e-01, 8.27084188e-01,\n",
       "         8.17449662e-01, 8.07949041e-01, 7.98567017e-01, 7.89301753e-01,\n",
       "         7.80249691e-01, 7.71433184e-01, 7.62852623e-01, 7.54508396e-01,\n",
       "         7.46400895e-01, 7.38530509e-01, 7.30897627e-01, 7.23502640e-01,\n",
       "         7.16345938e-01, 7.09427911e-01, 7.02748949e-01, 6.96309441e-01,\n",
       "         6.90109778e-01, 6.84150349e-01, 6.78431545e-01, 6.72953755e-01,\n",
       "         6.67717370e-01, 6.62722779e-01, 6.57970373e-01, 6.53460541e-01,\n",
       "         6.49193673e-01, 6.45170160e-01, 6.41390390e-01, 6.37854755e-01,\n",
       "         6.34563643e-01]), Rerr=None), Phi=array([[ 9.23325319e+01,  2.56473179e+02],\n",
       "         [ 9.23325318e+01,  2.56473179e+02],\n",
       "         [ 9.23297241e+01,  2.56468848e+02],\n",
       "         ...,\n",
       "         [ 2.27480355e-03,  1.78261961e+02],\n",
       "         [ 1.13045865e-03,  1.78261663e+02],\n",
       "         [-7.39350672e-06,  1.78261366e+02]]), action=8651.839405644938, fRatio=0.020939243795225753, saved_steps=[]),\n",
       "  'action': 8651.839405644938,\n",
       "  'trantype': 1,\n",
       "  'crit_trans': {'Tcrit': 66.68101973650376,\n",
       "   'high_vev': array([-1.15735418e-05,  1.78984034e+02]),\n",
       "   'high_phase': 1,\n",
       "   'low_vev': array([169.73994251, 417.2838343 ]),\n",
       "   'low_phase': 0,\n",
       "   'trantype': 1,\n",
       "   'rho+': 171992228.85702723,\n",
       "   'rho-': 137421394.00475383,\n",
       "   'ep+': -1023311.5646173283,\n",
       "   'ep-': -9666020.27768568},\n",
       "  'rho+': 126674915.13937016,\n",
       "  'rho-': 86173706.37454066,\n",
       "  'p+': 43560089.27236532,\n",
       "  'p-': 46392136.32130121,\n",
       "  'ep+': -1001338.169431448,\n",
       "  'ep-': -13250675.647340741}]"
      ]
     },
     "execution_count": 32,
     "metadata": {},
     "output_type": "execute_result"
    }
   ],
   "source": [
    "m.findAllTransitions()"
   ]
  },
  {
   "cell_type": "code",
   "execution_count": 37,
   "metadata": {},
   "outputs": [
    {
     "data": {
      "text/plain": [
       "dict_keys(['low_vev', 'high_vev', 'Tnuc', 'low_phase', 'high_phase', 'instanton', 'action', 'trantype', 'crit_trans', 'rho+', 'rho-', 'p+', 'p-', 'ep+', 'ep-'])"
      ]
     },
     "execution_count": 37,
     "metadata": {},
     "output_type": "execute_result"
    }
   ],
   "source": [
    "m.TnTrans[0].keys()"
   ]
  },
  {
   "cell_type": "code",
   "execution_count": 10,
   "metadata": {},
   "outputs": [],
   "source": [
    "def derivative(f, x, eps=1e-5, order=1):\n",
    "    \"\"\"Calculate the derivative of a function.\n",
    "    Using Ridders algorithm.\n",
    "    Calculate up to order x**4.\n",
    "    Only compute 1st or 2nd order derivative.\"\"\"\n",
    "    assert (\n",
    "        order == 1 or order == 2\n",
    "    ), \"Calculate derivative up to an order, must be 1 or 2.\"\n",
    "    δx = x * eps\n",
    "    if order == 1:\n",
    "        return (f(x - 2 * δx) - 8 * f(x - δx) + 8 * f(x + δx) - f(x + 2 * δx)) / (\n",
    "            12 * δx\n",
    "        )\n",
    "    if order == 2:\n",
    "        return (f(x - 2 * δx) - f(x - δx) - f(x + δx) + f(x + 2 * δx)) / (3 * δx**2)"
   ]
  },
  {
   "cell_type": "code",
   "execution_count": 47,
   "metadata": {},
   "outputs": [],
   "source": [
    "def epsilon(V,T,vev):\n",
    "    \"\"\"Epsilon.\"\"\"\n",
    "    def VT(T):\n",
    "        return V(vev,T)\n",
    "    return - 0.25*T*derivative(VT,T) + VT(T)"
   ]
  },
  {
   "cell_type": "code",
   "execution_count": 50,
   "metadata": {},
   "outputs": [],
   "source": [
    "def a(V,T, vev):\n",
    "    \"\"\"The parameter a, means the effective dofs.\"\"\"\n",
    "    def VT(T):\n",
    "        return V(vev,T)\n",
    "    return - 0.75 * derivative(VT,T)/T**3"
   ]
  },
  {
   "cell_type": "code",
   "execution_count": 51,
   "metadata": {},
   "outputs": [],
   "source": [
    "def alpha_p(V, Tp, Tm, high_vev, low_vev):\n",
    "    return (epsilon(V,Tp,high_vev) - epsilon(V,Tm, low_vev))/(a(V,Tp, high_vev) * Tp**4)"
   ]
  },
  {
   "cell_type": "code",
   "execution_count": 62,
   "metadata": {},
   "outputs": [],
   "source": [
    "def r_func(V,Tp,Tm, high_vev, low_vev):\n",
    "    return a(V,Tp, high_vev)*Tp**4/(a(V,Tm, low_vev)*Tm**4)"
   ]
  },
  {
   "cell_type": "code",
   "execution_count": 48,
   "metadata": {},
   "outputs": [
    {
     "data": {
      "text/plain": [
       "-13250675.64721587"
      ]
     },
     "execution_count": 48,
     "metadata": {},
     "output_type": "execute_result"
    }
   ],
   "source": [
    "epsilon(m.Vtot,m.TnTrans[0]['Tnuc'], m.TnTrans[0]['low_vev'])"
   ]
  },
  {
   "cell_type": "code",
   "execution_count": 49,
   "metadata": {},
   "outputs": [
    {
     "data": {
      "text/plain": [
       "-1001338.1690678224"
      ]
     },
     "execution_count": 49,
     "metadata": {},
     "output_type": "execute_result"
    }
   ],
   "source": [
    "epsilon(m.Vtot,m.TnTrans[0]['Tnuc'], m.TnTrans[0]['high_vev'])"
   ]
  },
  {
   "cell_type": "code",
   "execution_count": 53,
   "metadata": {},
   "outputs": [
    {
     "data": {
      "text/plain": [
       "0.09631938161494871"
      ]
     },
     "execution_count": 53,
     "metadata": {},
     "output_type": "execute_result"
    }
   ],
   "source": [
    "alpha_p(m.Vtot,61.95, 61.0, m.TnTrans[0]['high_vev'], m.TnTrans[0]['low_vev'])"
   ]
  },
  {
   "cell_type": "markdown",
   "metadata": {},
   "source": [
    "### Solve detonation"
   ]
  },
  {
   "cell_type": "code",
   "execution_count": 63,
   "metadata": {},
   "outputs": [],
   "source": [
    "def match(vp,vm,Tp,Tm, high_vev, low_vev):\n",
    "    r = r_func(m.Vtot, Tp, Tm, high_vev, low_vev)\n",
    "    αp = alpha_p(m.Vtot, Tp, Tm, high_vev, low_vev)\n",
    "    vpvm = 1-(1-3*αp)*r\n",
    "    vpvm = vpvm/(3-3*(1+αp)*r)\n",
    "    ratio = 3 + (1-3*αp)*r\n",
    "    ratio = ratio/(1+3*(1+αp)*r)\n",
    "    return [vp*vm - vpvm, vp/vm - ratio]"
   ]
  },
  {
   "cell_type": "code",
   "execution_count": 64,
   "metadata": {},
   "outputs": [
    {
     "data": {
      "text/plain": [
       "[0.37488767629163944, 0.676399039862079]"
      ]
     },
     "execution_count": 64,
     "metadata": {},
     "output_type": "execute_result"
    }
   ],
   "source": [
    "match(0.7,0.5,61.8, 61.0, m.TnTrans[0]['high_vev'],m.TnTrans[0]['low_vev'])"
   ]
  },
  {
   "cell_type": "code",
   "execution_count": 75,
   "metadata": {},
   "outputs": [],
   "source": [
    "def guess_det(vp, Tp, ap, am, εp, εm):\n",
    "    αp = (εp-εm)/(ap*Tp**4)\n",
    "    r=1/(1+3*αp)\n",
    "    Tm = (ap*Tp**4/(am*r))**0.25\n",
    "    vpvm = 1-(1-3*αp)*r\n",
    "    vpvm = vpvm/(3-3*(1+αp)*r)\n",
    "    vm = min(vpvm/vp, 0.67)\n",
    "    return [vm,Tm]"
   ]
  },
  {
   "cell_type": "code",
   "execution_count": 105,
   "metadata": {},
   "outputs": [],
   "source": [
    "guess = guess_det(0.7, m.TnTrans[0]['Tnuc'],a(m.Vtot,  m.TnTrans[0]['Tnuc'], m.TnTrans[0]['high_vev']), a(m.Vtot,m.TnTrans[0]['Tnuc']*1.1,m.TnTrans[0]['low_vev']),epsilon(m.Vtot, m.TnTrans[0]['Tnuc'], m.TnTrans[0]['high_vev']), epsilon(m.Vtot, m.TnTrans[0]['Tnuc'], m.TnTrans[0]['low_vev']))"
   ]
  },
  {
   "cell_type": "code",
   "execution_count": 106,
   "metadata": {},
   "outputs": [
    {
     "data": {
      "text/plain": [
       "[0.67, 69.4428590655021]"
      ]
     },
     "execution_count": 106,
     "metadata": {},
     "output_type": "execute_result"
    }
   ],
   "source": [
    "guess"
   ]
  },
  {
   "cell_type": "code",
   "execution_count": 108,
   "metadata": {},
   "outputs": [
    {
     "name": "stderr",
     "output_type": "stream",
     "text": [
      "/Users/quarkquartet/anaconda3/lib/python3.10/site-packages/scipy/optimize/_minpack_py.py:178: RuntimeWarning: The iteration is not making good progress, as measured by the \n",
      "  improvement from the last five Jacobian evaluations.\n",
      "  warnings.warn(msg, RuntimeWarning)\n"
     ]
    },
    {
     "data": {
      "text/plain": [
       "array([ 0.50929031, 78.62803497])"
      ]
     },
     "execution_count": 108,
     "metadata": {},
     "output_type": "execute_result"
    }
   ],
   "source": [
    "optimize.fsolve(lambda x:match(0.7, x[0], m.TnTrans[0]['Tnuc'], x[1], m.TnTrans[0]['high_vev'], m.TnTrans[0]['low_vev']),guess, xtol=1e-10)"
   ]
  },
  {
   "cell_type": "markdown",
   "metadata": {},
   "source": [
    "### Solve deflagration"
   ]
  },
  {
   "cell_type": "code",
   "execution_count": 110,
   "metadata": {},
   "outputs": [
    {
     "data": {
      "text/plain": [
       "array([ 0.31077114, 66.30557572])"
      ]
     },
     "execution_count": 110,
     "metadata": {},
     "output_type": "execute_result"
    }
   ],
   "source": [
    "guess_sol = optimize.fsolve(lambda x:match(x[0],0.5,x[1], 60, m.TnTrans[0]['high_vev'], m.TnTrans[0]['low_vev']),[0.3, m.TnTrans[0]['Tnuc']], xtol=1e-10)\n",
    "guess_sol"
   ]
  },
  {
   "cell_type": "code",
   "execution_count": 118,
   "metadata": {},
   "outputs": [],
   "source": [
    "def dYda(tau, y):\n",
    "    v = y[0]\n",
    "    xi = y[1]\n",
    "    dvdtau = 2 * v * cs**2 * (1-v**2) * (1- xi * v)\n",
    "    dxidtau = xi *((xi-v)**2 - cs**2 * (1-xi*v)**2)\n",
    "    return np.array([dvdtau, dxidtau])\n",
    "\n",
    "def μ(x, v):\n",
    "    return (x-v)/(1-x*v)\n",
    "\n",
    "\n",
    "def dTdx(x, y):\n",
    "    T = y[0]\n",
    "    dT = T/(1-v_prof(x)**2)\n",
    "    dT = dT * μ(x, v_prof(x)) * v_prof.derivative()(x)\n",
    "    return np.array([dT])"
   ]
  },
  {
   "cell_type": "code",
   "execution_count": 113,
   "metadata": {},
   "outputs": [],
   "source": [
    "vsol=integrate.solve_ivp(dYda, (10,1), np.array([μ(0.5, guess_sol[0]), 0.5]),t_eval=np.linspace(10,1,1000),method='DOP853')"
   ]
  },
  {
   "cell_type": "code",
   "execution_count": 114,
   "metadata": {},
   "outputs": [
    {
     "data": {
      "text/plain": [
       "[<matplotlib.lines.Line2D at 0x15eed4fa0>]"
      ]
     },
     "execution_count": 114,
     "metadata": {},
     "output_type": "execute_result"
    },
    {
     "data": {
      "image/png": "[encoded data removed]",
      "text/plain": [
       "<Figure size 640x480 with 1 Axes>"
      ]
     },
     "metadata": {},
     "output_type": "display_data"
    }
   ],
   "source": [
    "plt.plot(vsol.y[1],vsol.y[0])"
   ]
  },
  {
   "cell_type": "code",
   "execution_count": 115,
   "metadata": {},
   "outputs": [],
   "source": [
    "xi_max = vsol.y[1].max()\n",
    "xi_max_index = vsol.y[1].argmax()\n",
    "v_prof = interpolate.UnivariateSpline(vsol.y[1][0:xi_max_index+1], vsol.y[0][0:xi_max_index+1], s=0)"
   ]
  },
  {
   "cell_type": "code",
   "execution_count": 116,
   "metadata": {},
   "outputs": [
    {
     "data": {
      "text/plain": [
       "7.342342342342342"
      ]
     },
     "execution_count": 116,
     "metadata": {},
     "output_type": "execute_result"
    }
   ],
   "source": [
    "vsol.t[xi_max_index]"
   ]
  },
  {
   "cell_type": "code",
   "execution_count": 117,
   "metadata": {},
   "outputs": [
    {
     "data": {
      "text/plain": [
       "[<matplotlib.lines.Line2D at 0x15f95bac0>]"
      ]
     },
     "execution_count": 117,
     "metadata": {},
     "output_type": "execute_result"
    },
    {
     "data": {
      "image/png": "[encoded data removed]",
      "text/plain": [
       "<Figure size 640x480 with 1 Axes>"
      ]
     },
     "metadata": {},
     "output_type": "display_data"
    }
   ],
   "source": [
    "xplot = np.linspace(0.5, 0.58, 100)\n",
    "vplot = [v_prof(x) for x in xplot]\n",
    "plt.plot(xplot, vplot)\n",
    "plt.plot(vsol.y[1][0:xi_max_index+1],vsol.y[0][0:xi_max_index+1])"
   ]
  },
  {
   "cell_type": "code",
   "execution_count": 119,
   "metadata": {},
   "outputs": [],
   "source": [
    "Tsol=integrate.solve_ivp(dTdx, (0.5, xi_max*0.999), [guess_sol[1]], t_eval=np.linspace(0.5,xi_max*0.999, 1000),method='DOP853')"
   ]
  },
  {
   "cell_type": "code",
   "execution_count": 120,
   "metadata": {},
   "outputs": [],
   "source": [
    "T_prof = interpolate.interp1d(Tsol.t,Tsol.y[0])"
   ]
  },
  {
   "cell_type": "code",
   "execution_count": 121,
   "metadata": {},
   "outputs": [
    {
     "data": {
      "text/plain": [
       "[<matplotlib.lines.Line2D at 0x15f9e1690>]"
      ]
     },
     "execution_count": 121,
     "metadata": {},
     "output_type": "execute_result"
    },
    {
     "data": {
      "image/png": "[encoded data removed]",
      "text/plain": [
       "<Figure size 640x480 with 1 Axes>"
      ]
     },
     "metadata": {},
     "output_type": "display_data"
    }
   ],
   "source": [
    "plt.plot(Tsol.t, Tsol.y[0])"
   ]
  },
  {
   "cell_type": "code",
   "execution_count": 123,
   "metadata": {},
   "outputs": [
    {
     "data": {
      "text/plain": [
       "0.6010059352250383"
      ]
     },
     "execution_count": 123,
     "metadata": {},
     "output_type": "execute_result"
    }
   ],
   "source": [
    "xsh=optimize.brentq(lambda x: μ(x, v_prof(x))*x - 1/3, 0.5, xi_max*0.999)\n",
    "xsh"
   ]
  },
  {
   "cell_type": "code",
   "execution_count": 124,
   "metadata": {},
   "outputs": [
    {
     "data": {
      "text/plain": [
       "array(61.83024438)"
      ]
     },
     "execution_count": 124,
     "metadata": {},
     "output_type": "execute_result"
    }
   ],
   "source": [
    "T_prof(xsh)"
   ]
  },
  {
   "cell_type": "code",
   "execution_count": 125,
   "metadata": {},
   "outputs": [],
   "source": [
    "def find_Tsh(Tm):\n",
    "    guess_sol = optimize.fsolve(lambda x:match(x[0], 0.5, x[1], Tm,m.TnTrans[0]['high_vev'], m.TnTrans[0]['low_vev']),[0.35, m.TnTrans[0]['Tnuc']])\n",
    "    vsol=integrate.solve_ivp(dYda, (10,0.01), np.array([μ(0.5, guess_sol[0]), 0.5]),t_eval=np.linspace(10,0.01,1000),method='DOP853')\n",
    "    xi_max = vsol.y[1].max()\n",
    "    xi_max_index = vsol.y[1].argmax()\n",
    "    v_prof = interpolate.UnivariateSpline(vsol.y[1][0:xi_max_index+1], vsol.y[0][0:xi_max_index+1],s=0)\n",
    "    def dTdx(x, y):\n",
    "        T = y[0]\n",
    "        dT = T/(1-v_prof(x)**2)\n",
    "        dT = dT * μ(x, v_prof(x)) * v_prof.derivative()(x)\n",
    "        return np.array([dT])\n",
    "    Tsol=integrate.solve_ivp(dTdx, (0.5, xi_max*0.999), [guess_sol[1]], t_eval=np.linspace(0.5,xi_max*0.999, 1000),method='DOP853')\n",
    "    T_prof = interpolate.interp1d(Tsol.t,Tsol.y[0])\n",
    "    xsh=optimize.brentq(lambda x: μ(x, v_prof(x))*x - 1/3, 0.5, xi_max*0.999)\n",
    "    return T_prof(xsh)"
   ]
  },
  {
   "cell_type": "code",
   "execution_count": 131,
   "metadata": {},
   "outputs": [
    {
     "data": {
      "text/plain": [
       "array(59.63317037)"
      ]
     },
     "execution_count": 131,
     "metadata": {},
     "output_type": "execute_result"
    }
   ],
   "source": [
    "find_Tsh(57)"
   ]
  },
  {
   "cell_type": "code",
   "execution_count": 132,
   "metadata": {},
   "outputs": [],
   "source": [
    "Tmax = m.TnTrans[0]['Tnuc']\n",
    "Tmin = 56\n",
    "for i in range(50):\n",
    "    Tcal=(Tmax+Tmin)/2\n",
    "    Tsh = find_Tsh(Tcal)\n",
    "    if Tsh < m.TnTrans[0]['Tnuc']:\n",
    "        Tmin = Tcal\n",
    "    else:\n",
    "        Tmax = Tcal"
   ]
  },
  {
   "cell_type": "code",
   "execution_count": 133,
   "metadata": {},
   "outputs": [
    {
     "data": {
      "text/plain": [
       "59.954144131312"
      ]
     },
     "execution_count": 133,
     "metadata": {},
     "output_type": "execute_result"
    }
   ],
   "source": [
    "Tcal"
   ]
  },
  {
   "cell_type": "code",
   "execution_count": 134,
   "metadata": {},
   "outputs": [
    {
     "data": {
      "text/plain": [
       "array(61.79608446)"
      ]
     },
     "execution_count": 134,
     "metadata": {},
     "output_type": "execute_result"
    }
   ],
   "source": [
    "find_Tsh(Tcal)"
   ]
  },
  {
   "cell_type": "code",
   "execution_count": null,
   "metadata": {},
   "outputs": [],
   "source": []
  }
 ],
 "metadata": {
  "kernelspec": {
   "display_name": "base",
   "language": "python",
   "name": "python3"
  },
  "language_info": {
   "codemirror_mode": {
    "name": "ipython",
    "version": 3
   },
   "file_extension": ".py",
   "mimetype": "text/x-python",
   "name": "python",
   "nbconvert_exporter": "python",
   "pygments_lexer": "ipython3",
   "version": "3.10.9"
  }
 },
 "nbformat": 4,
 "nbformat_minor": 2
}
