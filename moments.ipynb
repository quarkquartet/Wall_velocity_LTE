{
 "cells": [
  {
   "cell_type": "markdown",
   "metadata": {},
   "source": [
    "# Solve the moments"
   ]
  },
  {
   "cell_type": "markdown",
   "metadata": {},
   "source": [
    "## Prepare"
   ]
  },
  {
   "cell_type": "code",
   "execution_count": 1,
   "metadata": {},
   "outputs": [],
   "source": [
    "import numpy as np\n",
    "from numpy import linalg as la\n",
    "from scipy import integrate\n",
    "from scipy import optimize\n",
    "from scipy import interpolate\n",
    "import scipy as sp\n",
    "from matplotlib import pyplot as plt\n",
    "import sys\n",
    "\n",
    "Abs = np.abs\n",
    "Log = np.log\n",
    "Log10 = np.log10\n",
    "Pi = np.pi\n",
    "Sqrt = np.sqrt\n",
    "Exp = np.exp\n",
    "Cos = np.cos\n",
    "Sin = np.sin\n",
    "Sech = lambda x: 1/np.cosh(x)\n",
    "Tanh = np.tanh\n",
    "ArcSin = np.arcsin\n",
    "ArcTanh = np.arctanh\n",
    "Arg = np.angle\n",
    "BesselK = sp.special.kv\n",
    "Zeta = sp.special.zeta\n",
    "HeavisideTheta = lambda x: np.heaviside(x, 0)\n",
    "\n",
    "\n",
    "def Plot(fun, xminmax, n=100,xfun=np.linspace, xlog=False, ylog=False):\n",
    "    xlist = xfun(xminmax[0], xminmax[1], n)\n",
    "    ylist = [fun(x) for x in xlist]\n",
    "    plt.plot(xlist, ylist)\n",
    "    if xlog:\n",
    "        plt.xscale('log')\n",
    "    if ylog:\n",
    "        plt.yscale('log')\n",
    "\n",
    "from helperFunctions import derivative, alpha_p, cs_sq, dYdtau, dvTdxi, r_func, μ, w\n",
    "\n",
    "plt.rc('text', usetex=True)\n",
    "plt.rc('font', family='serif', size='20')\n",
    "plt.rc('text.latex', preamble=r'\\usepackage{wasysym}')"
   ]
  },
  {
   "cell_type": "code",
   "execution_count": 2,
   "metadata": {},
   "outputs": [],
   "source": [
    "#current_dir = os.path.dirname(os.path.abspath(__file__))\n",
    "#model_directory = os.path.join(current_dir, '..', 'cosmotransition_z2sb', 'cosmoTransitions')\n",
    "model_directory='/Users/quarkquartet/Work/wall-velocity/model/'\n",
    "sys.path.append(model_directory)\n",
    "import baseMo_s_b_d as bm"
   ]
  },
  {
   "cell_type": "markdown",
   "metadata": {},
   "source": [
    "### Load a benchmark"
   ]
  },
  {
   "cell_type": "code",
   "execution_count": 3,
   "metadata": {},
   "outputs": [
    {
     "name": "stdout",
     "output_type": "stream",
     "text": [
      "Tracing phase starting at x = [246.00000051 572.58176356] ; t = 0.0\n",
      "Tracing minimum up\n",
      "traceMinimum t0 = 0\n",
      "...........................................................................................................................................................................\n",
      "Tracing phase starting at x = [-2.27347289e-07  1.79312356e+02] ; t = 68.27354525855334\n",
      "Tracing minimum down\n",
      "traceMinimum t0 = 68.2735\n",
      "..............................................................................\n",
      "Tracing minimum up\n",
      "traceMinimum t0 = 68.2735\n",
      ".....................................................................................................................................................................................................................................................................................................................................................................................................................................................................................................................................................................................................................................................................................................................................................................................................\n",
      "High-T phase: 1\n",
      "Zero-T phase: 0\n",
      "Tunneling from phase 1 to phase 0 at T=59.67\n",
      "high_vev = [-1.16866072e-05  1.78257992e+02]\n",
      "low_vev = [210.03323895 499.18512253]\n",
      "Path deformation converged. 56 steps. fRatio = 1.92126e-02\n",
      "Path deformation converged. 17 steps. fRatio = 1.26614e-02\n",
      "Path deformation converged. 10 steps. fRatio = 1.07971e-02\n",
      "Path deformation converged. 1 steps. fRatio = 1.26026e-03\n",
      "Tunneling from phase 1 to phase 0 at T=59.67\n",
      "high_vev = [5.97319824e-05 1.78257935e+02]\n",
      "low_vev = [210.03156476 499.181679  ]\n",
      "Path deformation converged. 56 steps. fRatio = 1.92070e-02\n",
      "Path deformation converged. 17 steps. fRatio = 1.25938e-02\n",
      "Path deformation converged. 10 steps. fRatio = 1.10445e-02\n",
      "Path deformation converged. 1 steps. fRatio = 1.29801e-03\n",
      "Tunneling from phase 1 to phase 0 at T=63.92\n",
      "high_vev = [2.65678094e-05 1.78505561e+02]\n",
      "low_vev = [191.52166841 461.28656508]\n",
      "Path deformation converged. 55 steps. fRatio = 1.96403e-02\n",
      "Path deformation converged. 13 steps. fRatio = 1.64208e-02\n",
      "Path deformation converged. 1 steps. fRatio = 9.09215e-03\n",
      "Tunneling from phase 1 to phase 0 at T=60.33\n",
      "high_vev = [7.25138525e-05 1.78215478e+02]\n",
      "low_vev = [207.76627254 494.52561164]\n",
      "Path deformation converged. 57 steps. fRatio = 1.75247e-02\n",
      "Path deformation converged. 14 steps. fRatio = 1.57390e-02\n",
      "Path deformation converged. 1 steps. fRatio = 5.19668e-02\n",
      "Tunneling from phase 1 to phase 0 at T=62.13\n",
      "high_vev = [6.15430949e-06 1.78288700e+02]\n",
      "low_vev = [200.60826519 479.84385896]\n",
      "Path deformation converged. 57 steps. fRatio = 1.81349e-02\n",
      "Path deformation converged. 14 steps. fRatio = 1.75946e-02\n",
      "Path deformation converged. 1 steps. fRatio = 1.74290e-02\n",
      "Tunneling from phase 1 to phase 0 at T=61.58\n",
      "high_vev = [5.78667043e-06 1.78246109e+02]\n",
      "low_vev = [202.95908721 484.66007701]\n",
      "Path deformation converged. 57 steps. fRatio = 1.99909e-02\n",
      "Path deformation converged. 12 steps. fRatio = 1.20003e-02\n",
      "Path deformation converged. 1 steps. fRatio = 3.35363e-02\n",
      "Tunneling from phase 1 to phase 0 at T=61.77\n",
      "high_vev = [6.94767398e-06 1.78259413e+02]\n",
      "low_vev = [202.15520435 483.01249171]\n",
      "Path deformation converged. 59 steps. fRatio = 1.88696e-02\n",
      "Path deformation converged. 13 steps. fRatio = 1.98505e-02\n",
      "Path deformation converged. 1 steps. fRatio = 2.26321e-02\n",
      "Tunneling from phase 1 to phase 0 at T=61.8\n",
      "high_vev = [2.74668135e-06 1.78261438e+02]\n",
      "low_vev = [202.03992168 482.77626727]\n",
      "Path deformation converged. 60 steps. fRatio = 1.94671e-02\n",
      "Path deformation converged. 13 steps. fRatio = 1.92722e-02\n",
      "Path deformation converged. 1 steps. fRatio = 2.18039e-02\n",
      "Tunneling from phase 1 to phase 0 at T=61.8\n",
      "high_vev = [9.51180104e-06 1.78261369e+02]\n",
      "low_vev = [202.04374412 482.78409962]\n",
      "Path deformation converged. 60 steps. fRatio = 1.94789e-02\n",
      "Path deformation converged. 13 steps. fRatio = 1.92862e-02\n",
      "Path deformation converged. 1 steps. fRatio = 2.18284e-02\n",
      "Tunneling from phase 1 to phase 0 at T=61.8\n",
      "high_vev = [6.37175580e-05 1.78261329e+02]\n",
      "low_vev = [202.04587384 482.78846064]\n",
      "Path deformation converged. 60 steps. fRatio = 1.94803e-02\n",
      "Path deformation converged. 13 steps. fRatio = 1.92955e-02\n",
      "Path deformation converged. 1 steps. fRatio = 2.18427e-02\n"
     ]
    }
   ],
   "source": [
    "m = bm.model(702.654702269, -102.146250858, 0.112009439661, 0.0037322807528, -0.0370639674565,10000)\n",
    "m.findAllTransitions()\n",
    "hv = m.TnTrans[0]['high_vev']\n",
    "lv = m.TnTrans[0]['low_vev']\n",
    "Tnuc = m.TnTrans[0]['Tnuc']\n",
    "Vtot = m.Vtot"
   ]
  },
  {
   "cell_type": "code",
   "execution_count": 4,
   "metadata": {},
   "outputs": [],
   "source": [
    "def match(vp,vm,Tp,Tm, high_vev, low_vev):\n",
    "    r = r_func(Vtot, Tp, Tm, high_vev, low_vev)\n",
    "    αp = alpha_p(Vtot, Tp, Tm, high_vev, low_vev)\n",
    "    vpvm = 1-(1-3*αp)*r\n",
    "    vpvm = vpvm/(3-3*(1+αp)*r)\n",
    "    ratio = 3 + (1-3*αp)*r\n",
    "    ratio = ratio/(1+3*(1+αp)*r)\n",
    "    return [vp*vm - vpvm, vp/vm - ratio]\n",
    "\n",
    "def find_Tsh(Tm, vw):\n",
    "    guess_sol = optimize.fsolve(lambda x:match(x[0], vw, x[1], Tm,hv, lv),[0.1,Tnuc])\n",
    "    try:\n",
    "        vsol=integrate.solve_ivp(dYdtau, (10,0.01), np.array([μ(vw, guess_sol[0]), guess_sol[1], vw]),t_eval=np.linspace(10,0.01,1000),method='DOP853',args=(Vtot, hv))\n",
    "        xi_max = vsol.y[2].max()\n",
    "        xi_max_index = vsol.y[2].argmax()\n",
    "        v_prof = interpolate.interp1d(vsol.y[2][0:xi_max_index+1],vsol.y[0][0:xi_max_index+1])\n",
    "        T_prof = interpolate.interp1d(vsol.y[2][0:xi_max_index+1],vsol.y[1][0:xi_max_index+1])\n",
    "        xsh=optimize.brentq(lambda x: μ(x, v_prof(x))*x - cs_sq(Vtot, T_prof(x), hv), vw, xi_max*0.9999)\n",
    "    except:\n",
    "        vTsol = integrate.solve_ivp(dvTdxi, (vw, 1), np.array([μ(vw, guess_sol[0]), guess_sol[1]]), t_eval=np.linspace(vw, 1, 500), method='DOP853', args=(Vtot, hv))\n",
    "        v_prof = interpolate.interp1d(vTsol.t, vTsol.y[0], kind='cubic')\n",
    "        T_prof = interpolate.interp1d(vTsol.t, vTsol.y[1], kind='cubic')\n",
    "        xsh = optimize.brentq(lambda x: μ(x, v_prof(x))*x - cs_sq(Vtot, T_prof(x), hv), vw, 1)\n",
    "    return T_prof(xsh)"
   ]
  },
  {
   "cell_type": "code",
   "execution_count": 5,
   "metadata": {},
   "outputs": [],
   "source": [
    "Tmax = m.TnTrans[0]['Tnuc']\n",
    "Tmin = 55\n",
    "vw = 0.5\n",
    "for i in range(30):\n",
    "    Tcal=(Tmax+Tmin)/2\n",
    "    Tsh = find_Tsh(Tcal, vw)\n",
    "    if Tsh < m.TnTrans[0]['Tnuc']:\n",
    "        Tmin = Tcal\n",
    "    else:\n",
    "        Tmax = Tcal\n",
    "Tm = Tcal\n",
    "vp, Tp = optimize.fsolve(lambda x:match(x[0],vw,x[1], Tcal, hv, lv),[0.3, Tnuc], xtol=1e-10)\n",
    "hv_new = m.findMinimum(hv, Tp)\n",
    "lv_new = m.findMinimum(lv, Tm)"
   ]
  },
  {
   "cell_type": "code",
   "execution_count": 6,
   "metadata": {},
   "outputs": [
    {
     "data": {
      "text/plain": [
       "59.97262333079324"
      ]
     },
     "execution_count": 6,
     "metadata": {},
     "output_type": "execute_result"
    }
   ],
   "source": [
    "Tm"
   ]
  },
  {
   "cell_type": "markdown",
   "metadata": {},
   "source": [
    "## Load field value profile"
   ]
  },
  {
   "cell_type": "code",
   "execution_count": 7,
   "metadata": {},
   "outputs": [],
   "source": [
    "h0 = lv_new[0]\n",
    "s0 = lv_new[1]-hv_new[1]\n",
    "s_initial=hv_new[1]\n",
    "def h_profile(z,Lh):\n",
    "    z = np.asanyarray(z)\n",
    "    hz = 0.5*h0*(1-np.tanh(z/Lh))\n",
    "    return hz\n",
    "\n",
    "def s_profile(z, Ls, deltas):\n",
    "    z = np.asanyarray(z)\n",
    "    sz = 0.5*s0*(1-np.tanh(z/Ls + deltas)) + s_initial\n",
    "    return sz\n",
    "\n",
    "def dh(z, Lh):\n",
    "    z = np.asanyarray(z)\n",
    "    return -0.5*(h0*Sech(z/Lh)**2)/Lh\n",
    "\n",
    "def ds(z, Ls, deltas):\n",
    "    z = np.asanyarray(z)\n",
    "    return -0.5*(s0*Sech(deltas + z/Ls)**2)/Ls\n",
    "\n",
    "def d2h(z, Lh):\n",
    "    z = np.asanyarray(z)\n",
    "    return (h0*Sech(z/Lh)**2*Tanh(z/Lh))/Lh**2\n",
    "\n",
    "def d2s(z, Ls, deltas):\n",
    "    z = np.asanyarray(z)\n",
    "    return (s0*Sech(deltas + z/Ls)**2*Tanh(deltas + z/Ls))/Ls**2\n",
    "\n",
    "c1 = w(Vtot, Tm, lv_new) * vw/(1-vw**2)\n",
    "s1=c1\n",
    "c2=-Vtot(lv_new, Tm)+ w(Vtot, Tm, lv_new) * vw**2 /(1-vw**2)\n",
    "s2=c2\n",
    "\n",
    "def T33(T,z, Lh, Ls, deltas):\n",
    "    derh = dh(z, Lh)\n",
    "    ders = ds(z, Ls, deltas)\n",
    "    field_value = [h_profile(z, Lh), s_profile(z, Ls, deltas)]\n",
    "    return (0.5*(derh**2 + ders**2) - Vtot(field_value, T) - 0.5*w(Vtot, T, field_value) + 0.5*(4*s1**2 + w(Vtot, T, field_value)**2)**0.5 - s2)/1e6"
   ]
  },
  {
   "cell_type": "markdown",
   "metadata": {},
   "source": [
    "## Calculate moments"
   ]
  },
  {
   "cell_type": "code",
   "execution_count": 12,
   "metadata": {},
   "outputs": [],
   "source": [
    "def moments(Lh, Ls, deltas):\n",
    "    npoints = 100\n",
    "    z_range = np.linspace(-8*max(Lh,Ls), 5*max(Lh,Ls), npoints)\n",
    "    T_sol = np.zeros((npoints,))\n",
    "    for i in range(npoints):\n",
    "        T33min = optimize.minimize(lambda T: T33(T[0], z_range[i], Lh, Ls, deltas), 55, method='Nelder-Mead', bounds=[(40,90)])\n",
    "        if T33min.fun > 0:\n",
    "            T_sol[i]=T33min.x[0]\n",
    "        else:\n",
    "            try:\n",
    "                s = optimize.newton(lambda T: T33(T, z_range[i], Lh, Ls, deltas), Tnuc)\n",
    "            except:\n",
    "                s = optimize.fsolve(lambda T: T33(T[0], z_range[i], Lh, Ls, deltas), Tnuc)[0]\n",
    "            T_sol[i] = s\n",
    "\n",
    "    hvalues = h_profile(z_range, Lh)\n",
    "    svalues = s_profile(z_range, Ls, deltas)\n",
    "    fields = np.array([hvalues, svalues]).T\n",
    "    dV = m.gradV(fields, T_sol)\n",
    "    Eh = dV[:,0] - d2h(z_range, Lh)\n",
    "    Es = dV[:,1] - d2s(z_range, Ls, deltas)\n",
    "    Ph = np.trapz(- Eh * dh(z_range, Lh), z_range)\n",
    "    Gh = np.trapz(- Eh * dh(z_range, Lh) * np.tanh(z_range/Lh), z_range)\n",
    "    Ps = np.trapz(- Es * ds(z_range, Ls, deltas), z_range)\n",
    "    Gs = np.trapz(- Es * ds(z_range, Ls, deltas) * np.tanh(z_range/Ls + deltas), z_range)\n",
    "    return np.array([Ph, Ps, Gh, Gs])/1e6"
   ]
  },
  {
   "cell_type": "code",
   "execution_count": 13,
   "metadata": {},
   "outputs": [
    {
     "data": {
      "text/plain": [
       "array([  -4.79994353,   -1.68581874,  -58.51998636, -133.79176074])"
      ]
     },
     "execution_count": 13,
     "metadata": {},
     "output_type": "execute_result"
    }
   ],
   "source": [
    "moments(0.01,0.01,0.3)"
   ]
  },
  {
   "cell_type": "code",
   "execution_count": 22,
   "metadata": {},
   "outputs": [],
   "source": [
    "def moments_match(L):\n",
    "    Ph, Ps, Gh, Gs = moments(L[0], L[1], L[2])\n",
    "    return np.array([Ph - Ps, Gh, Gs])"
   ]
  },
  {
   "cell_type": "code",
   "execution_count": 26,
   "metadata": {},
   "outputs": [
    {
     "data": {
      "text/plain": [
       "array([0.17518997, 0.16235347, 0.29337962])"
      ]
     },
     "execution_count": 26,
     "metadata": {},
     "output_type": "execute_result"
    }
   ],
   "source": [
    "optimize.fsolve(lambda L: moments_match(L), [0.18, 0.17,0.35])"
   ]
  },
  {
   "cell_type": "code",
   "execution_count": 27,
   "metadata": {},
   "outputs": [
    {
     "data": {
      "text/plain": [
       "array([-5.79840803e-01, -5.79840748e-01,  8.62602242e-08, -6.73949886e-08])"
      ]
     },
     "execution_count": 27,
     "metadata": {},
     "output_type": "execute_result"
    }
   ],
   "source": [
    "moments(0.17518997, 0.16235347, 0.29337962)"
   ]
  },
  {
   "cell_type": "code",
   "execution_count": null,
   "metadata": {},
   "outputs": [],
   "source": []
  }
 ],
 "metadata": {
  "kernelspec": {
   "display_name": "base",
   "language": "python",
   "name": "python3"
  },
  "language_info": {
   "codemirror_mode": {
    "name": "ipython",
    "version": 3
   },
   "file_extension": ".py",
   "mimetype": "text/x-python",
   "name": "python",
   "nbconvert_exporter": "python",
   "pygments_lexer": "ipython3",
   "version": "3.10.9"
  }
 },
 "nbformat": 4,
 "nbformat_minor": 2
}
