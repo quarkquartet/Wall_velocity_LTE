{
 "cells": [
  {
   "cell_type": "markdown",
   "metadata": {},
   "source": [
    "# Solve the moments"
   ]
  },
  {
   "cell_type": "markdown",
   "metadata": {},
   "source": [
    "## Prepare"
   ]
  },
  {
   "cell_type": "code",
   "execution_count": 1,
   "metadata": {},
   "outputs": [],
   "source": [
    "import numpy as np\n",
    "from numpy import linalg as la\n",
    "from scipy import integrate\n",
    "from scipy import optimize\n",
    "from scipy import interpolate\n",
    "import scipy as sp\n",
    "from matplotlib import pyplot as plt\n",
    "import sys\n",
    "\n",
    "Abs = np.abs\n",
    "Log = np.log\n",
    "Log10 = np.log10\n",
    "Pi = np.pi\n",
    "Sqrt = np.sqrt\n",
    "Exp = np.exp\n",
    "Cos = np.cos\n",
    "Sin = np.sin\n",
    "Sech = lambda x: 1/np.cosh(x)\n",
    "ArcSin = np.arcsin\n",
    "ArcTanh = np.arctanh\n",
    "Arg = np.angle\n",
    "BesselK = sp.special.kv\n",
    "Zeta = sp.special.zeta\n",
    "HeavisideTheta = lambda x: np.heaviside(x, 0)\n",
    "\n",
    "\n",
    "def Plot(fun, xminmax, n=100,xfun=np.linspace, xlog=False, ylog=False):\n",
    "    xlist = xfun(xminmax[0], xminmax[1], n)\n",
    "    ylist = [fun(x) for x in xlist]\n",
    "    plt.plot(xlist, ylist)\n",
    "    if xlog:\n",
    "        plt.xscale('log')\n",
    "    if ylog:\n",
    "        plt.yscale('log')\n",
    "\n",
    "from helperFunctions import derivative, alpha_p, cs_sq, dYdtau, dvTdxi, r_func, μ, w\n",
    "\n",
    "plt.rc('text', usetex=True)\n",
    "plt.rc('font', family='serif', size='20')\n",
    "plt.rc('text.latex', preamble=r'\\usepackage{wasysym}')"
   ]
  },
  {
   "cell_type": "code",
   "execution_count": 2,
   "metadata": {},
   "outputs": [],
   "source": [
    "#current_dir = os.path.dirname(os.path.abspath(__file__))\n",
    "#model_directory = os.path.join(current_dir, '..', 'cosmotransition_z2sb', 'cosmoTransitions')\n",
    "model_directory='/Users/quarkquartet/Work/Wall-velocity/model/'\n",
    "sys.path.append(model_directory)\n",
    "import baseMo_s_b_d as bm"
   ]
  },
  {
   "cell_type": "markdown",
   "metadata": {},
   "source": [
    "### Load a benchmark"
   ]
  },
  {
   "cell_type": "code",
   "execution_count": 3,
   "metadata": {},
   "outputs": [
    {
     "name": "stdout",
     "output_type": "stream",
     "text": [
      "Tracing phase starting at x = [246.00000051 572.58176356] ; t = 0.0\n",
      "Tracing minimum up\n",
      "traceMinimum t0 = 0\n",
      "...........................................................................................................................................................................\n",
      "Tracing phase starting at x = [-2.27347289e-07  1.79312356e+02] ; t = 68.27354525855334\n",
      "Tracing minimum down\n",
      "traceMinimum t0 = 68.2735\n",
      "..............................................................................\n",
      "Tracing minimum up\n",
      "traceMinimum t0 = 68.2735\n",
      ".....................................................................................................................................................................................................................................................................................................................................................................................................................................................................................................................................................................................................................................................................................................................................................................................................\n",
      "High-T phase: 1\n",
      "Zero-T phase: 0\n",
      "Tunneling from phase 1 to phase 0 at T=59.67\n",
      "high_vev = [-1.16866072e-05  1.78257992e+02]\n",
      "low_vev = [210.03323895 499.18512253]\n",
      "Path deformation converged. 56 steps. fRatio = 1.92126e-02\n",
      "Path deformation converged. 17 steps. fRatio = 1.26614e-02\n",
      "Path deformation converged. 10 steps. fRatio = 1.07971e-02\n",
      "Path deformation converged. 1 steps. fRatio = 1.26026e-03\n",
      "Tunneling from phase 1 to phase 0 at T=59.67\n",
      "high_vev = [5.97319824e-05 1.78257935e+02]\n",
      "low_vev = [210.03156476 499.181679  ]\n",
      "Path deformation converged. 56 steps. fRatio = 1.92070e-02\n",
      "Path deformation converged. 17 steps. fRatio = 1.25938e-02\n",
      "Path deformation converged. 10 steps. fRatio = 1.10445e-02\n",
      "Path deformation converged. 1 steps. fRatio = 1.29801e-03\n",
      "Tunneling from phase 1 to phase 0 at T=63.92\n",
      "high_vev = [2.65678094e-05 1.78505561e+02]\n",
      "low_vev = [191.52166841 461.28656508]\n",
      "Path deformation converged. 55 steps. fRatio = 1.96403e-02\n",
      "Path deformation converged. 13 steps. fRatio = 1.64208e-02\n",
      "Path deformation converged. 1 steps. fRatio = 9.09215e-03\n",
      "Tunneling from phase 1 to phase 0 at T=60.33\n",
      "high_vev = [7.25138525e-05 1.78215478e+02]\n",
      "low_vev = [207.76627254 494.52561164]\n",
      "Path deformation converged. 57 steps. fRatio = 1.75247e-02\n",
      "Path deformation converged. 14 steps. fRatio = 1.57390e-02\n",
      "Path deformation converged. 1 steps. fRatio = 5.19668e-02\n",
      "Tunneling from phase 1 to phase 0 at T=62.13\n",
      "high_vev = [6.15430949e-06 1.78288700e+02]\n",
      "low_vev = [200.60826519 479.84385896]\n",
      "Path deformation converged. 57 steps. fRatio = 1.81349e-02\n",
      "Path deformation converged. 14 steps. fRatio = 1.75946e-02\n",
      "Path deformation converged. 1 steps. fRatio = 1.74290e-02\n",
      "Tunneling from phase 1 to phase 0 at T=61.58\n",
      "high_vev = [5.78667043e-06 1.78246109e+02]\n",
      "low_vev = [202.95908721 484.66007701]\n",
      "Path deformation converged. 57 steps. fRatio = 1.99909e-02\n",
      "Path deformation converged. 12 steps. fRatio = 1.20003e-02\n",
      "Path deformation converged. 1 steps. fRatio = 3.35363e-02\n",
      "Tunneling from phase 1 to phase 0 at T=61.77\n",
      "high_vev = [6.94767398e-06 1.78259413e+02]\n",
      "low_vev = [202.15520435 483.01249171]\n",
      "Path deformation converged. 59 steps. fRatio = 1.88696e-02\n",
      "Path deformation converged. 13 steps. fRatio = 1.98505e-02\n",
      "Path deformation converged. 1 steps. fRatio = 2.26321e-02\n",
      "Tunneling from phase 1 to phase 0 at T=61.8\n",
      "high_vev = [2.74668135e-06 1.78261438e+02]\n",
      "low_vev = [202.03992168 482.77626727]\n",
      "Path deformation converged. 60 steps. fRatio = 1.94671e-02\n",
      "Path deformation converged. 13 steps. fRatio = 1.92722e-02\n",
      "Path deformation converged. 1 steps. fRatio = 2.18039e-02\n",
      "Tunneling from phase 1 to phase 0 at T=61.8\n",
      "high_vev = [9.51180104e-06 1.78261369e+02]\n",
      "low_vev = [202.04374412 482.78409962]\n",
      "Path deformation converged. 60 steps. fRatio = 1.94789e-02\n",
      "Path deformation converged. 13 steps. fRatio = 1.92862e-02\n",
      "Path deformation converged. 1 steps. fRatio = 2.18284e-02\n",
      "Tunneling from phase 1 to phase 0 at T=61.8\n",
      "high_vev = [6.37175580e-05 1.78261329e+02]\n",
      "low_vev = [202.04587384 482.78846064]\n",
      "Path deformation converged. 60 steps. fRatio = 1.94803e-02\n",
      "Path deformation converged. 13 steps. fRatio = 1.92955e-02\n",
      "Path deformation converged. 1 steps. fRatio = 2.18427e-02\n"
     ]
    }
   ],
   "source": [
    "m = bm.model(702.654702269, -102.146250858, 0.112009439661, 0.0037322807528, -0.0370639674565,10000)\n",
    "m.findAllTransitions()\n",
    "hv = m.TnTrans[0]['high_vev']\n",
    "lv = m.TnTrans[0]['low_vev']\n",
    "Tnuc = m.TnTrans[0]['Tnuc']\n",
    "Vtot = m.Vtot"
   ]
  },
  {
   "cell_type": "code",
   "execution_count": 4,
   "metadata": {},
   "outputs": [],
   "source": [
    "def match(vp,vm,Tp,Tm, high_vev, low_vev):\n",
    "    r = r_func(Vtot, Tp, Tm, high_vev, low_vev)\n",
    "    αp = alpha_p(Vtot, Tp, Tm, high_vev, low_vev)\n",
    "    vpvm = 1-(1-3*αp)*r\n",
    "    vpvm = vpvm/(3-3*(1+αp)*r)\n",
    "    ratio = 3 + (1-3*αp)*r\n",
    "    ratio = ratio/(1+3*(1+αp)*r)\n",
    "    return [vp*vm - vpvm, vp/vm - ratio]\n",
    "\n",
    "def find_Tsh(Tm, vw):\n",
    "    guess_sol = optimize.fsolve(lambda x:match(x[0], vw, x[1], Tm,hv, lv),[0.1,Tnuc])\n",
    "    try:\n",
    "        vsol=integrate.solve_ivp(dYdtau, (10,0.01), np.array([μ(vw, guess_sol[0]), guess_sol[1], vw]),t_eval=np.linspace(10,0.01,1000),method='DOP853',args=(Vtot, hv))\n",
    "        xi_max = vsol.y[2].max()\n",
    "        xi_max_index = vsol.y[2].argmax()\n",
    "        v_prof = interpolate.interp1d(vsol.y[2][0:xi_max_index+1],vsol.y[0][0:xi_max_index+1])\n",
    "        T_prof = interpolate.interp1d(vsol.y[2][0:xi_max_index+1],vsol.y[1][0:xi_max_index+1])\n",
    "        xsh=optimize.brentq(lambda x: μ(x, v_prof(x))*x - cs_sq(Vtot, T_prof(x), hv), vw, xi_max*0.9999)\n",
    "    except:\n",
    "        vTsol = integrate.solve_ivp(dvTdxi, (vw, 1), np.array([μ(vw, guess_sol[0]), guess_sol[1]]), t_eval=np.linspace(vw, 1, 500), method='DOP853', args=(Vtot, hv))\n",
    "        v_prof = interpolate.interp1d(vTsol.t, vTsol.y[0], kind='cubic')\n",
    "        T_prof = interpolate.interp1d(vTsol.t, vTsol.y[1], kind='cubic')\n",
    "        xsh = optimize.brentq(lambda x: μ(x, v_prof(x))*x - cs_sq(Vtot, T_prof(x), hv), vw, 1)\n",
    "    return T_prof(xsh)"
   ]
  },
  {
   "cell_type": "code",
   "execution_count": 5,
   "metadata": {},
   "outputs": [],
   "source": [
    "Tmax = m.TnTrans[0]['Tnuc']\n",
    "Tmin = 55\n",
    "vw = 0.5\n",
    "for i in range(30):\n",
    "    Tcal=(Tmax+Tmin)/2\n",
    "    Tsh = find_Tsh(Tcal, vw)\n",
    "    if Tsh < m.TnTrans[0]['Tnuc']:\n",
    "        Tmin = Tcal\n",
    "    else:\n",
    "        Tmax = Tcal\n",
    "Tm = Tcal\n",
    "vp, Tp = optimize.fsolve(lambda x:match(x[0],vw,x[1], Tcal, hv, lv),[0.3, Tnuc], xtol=1e-10)"
   ]
  },
  {
   "cell_type": "code",
   "execution_count": 6,
   "metadata": {},
   "outputs": [
    {
     "data": {
      "text/plain": [
       "59.96295744338835"
      ]
     },
     "execution_count": 6,
     "metadata": {},
     "output_type": "execute_result"
    }
   ],
   "source": [
    "Tm"
   ]
  },
  {
   "cell_type": "code",
   "execution_count": 58,
   "metadata": {},
   "outputs": [],
   "source": [
    "hv_new = m.findMinimum(hv, Tp)\n",
    "lv_new = m.findMinimum(lv, Tm)"
   ]
  },
  {
   "cell_type": "markdown",
   "metadata": {},
   "source": [
    "## Load field value profile"
   ]
  },
  {
   "cell_type": "code",
   "execution_count": 97,
   "metadata": {},
   "outputs": [],
   "source": [
    "h0 = lv_new[0]\n",
    "s0 = lv_new[1]-hv_new[1]\n",
    "s_initial=hv_new[1]\n",
    "def h_profile(z,Lh):\n",
    "    z = np.asanyarray(z)\n",
    "    hz = 0.5*h0*(1-np.tanh(z/Lh))\n",
    "    return hz\n",
    "\n",
    "def s_profile(z, Ls, deltas):\n",
    "    z = np.asanyarray(z)\n",
    "    sz = 0.5*s0*(1-np.tanh(z/Ls + deltas)) + s_initial\n",
    "    return sz\n",
    "\n",
    "c1 = w(Vtot, Tm, lv_new) * vw/(1-vw**2)\n",
    "s1=c1\n",
    "c2=-Vtot(lv_new, Tm)+ w(Vtot, Tm, lv_new) * vw**2 /(1-vw**2)\n",
    "s2=c2\n",
    "\n",
    "def T33(T,z, Lh, Ls, deltas):\n",
    "    derh = derivative(lambda zvalue: h_profile(zvalue,Lh),z)\n",
    "    ders = derivative(lambda zvalue: s_profile(zvalue,Ls,deltas),z)\n",
    "    field_value = [h_profile(z, Lh), s_profile(z, Ls, deltas)]\n",
    "    return (0.5*(derh**2 + ders**2) - Vtot(field_value, T) - 0.5*w(Vtot, T, field_value) + 0.5*(4*s1**2 + w(Vtot, T, field_value)**2)**0.5 - s2)/1e6"
   ]
  },
  {
   "cell_type": "markdown",
   "metadata": {},
   "source": [
    "## Calculate moments"
   ]
  },
  {
   "cell_type": "code",
   "execution_count": 116,
   "metadata": {},
   "outputs": [],
   "source": [
    "def moments(Lh, Ls, deltas):\n",
    "    npoints = 100\n",
    "    z_range = np.linspace(-8*max(Lh,Ls), 5*max(Lh,Ls), npoints)\n",
    "    T_sol = np.zeros((npoints,))\n",
    "    for i in range(npoints):\n",
    "        T33min = optimize.minimize(lambda T: T33(T[0], z_range[i], Lh, Ls, deltas), 55, method='Nelder-Mead', bounds=[(40,90)])\n",
    "        if T33min.fun > 0:\n",
    "            T_sol[i]=T33min.x[0]\n",
    "        else:\n",
    "            try:\n",
    "                s = optimize.newton(lambda T: T33(T, z_range[i], Lh, Ls, deltas), Tnuc)\n",
    "            except:\n",
    "                s = optimize.fsolve(lambda T: T33(T[0], z_range[i], Lh, Ls, deltas), Tnuc)[0]\n",
    "            T_sol[i] = s\n",
    "\n",
    "    hvalues = h_profile(z_range, Lh)\n",
    "    svalues = s_profile(z_range, Ls, deltas)\n",
    "    fields = np.array([hvalues, svalues]).T\n",
    "    dV = m.gradV(fields, T_sol)\n",
    "    Eh = dV[:,0]\n",
    "    Es = dV[:,1]\n",
    "    hprime = np.vectorize(lambda z: -0.5*(h0*Sech(z/Lh)**2)/Lh)\n",
    "    sprime = np.vectorize(lambda z: -0.5*(s0*Sech(deltas + z/Ls)**2)/Ls)\n",
    "    Ph = np.trapz(- Eh * hprime(z_range), z_range)\n",
    "    Gh = np.trapz(- Eh * hprime(z_range) * np.tanh(z_range/Lh), z_range)\n",
    "    Ps = np.trapz(- Es * sprime(z_range), z_range)\n",
    "    Gs = np.trapz(- Es * sprime(z_range) * np.tanh(z_range/Ls + deltas), z_range)\n",
    "    return np.array([Ph, Ps, Gh, Gs])/1e6"
   ]
  },
  {
   "cell_type": "code",
   "execution_count": 113,
   "metadata": {},
   "outputs": [
    {
     "data": {
      "text/plain": [
       "array([-4.79782675, -1.68900462, -0.26809109,  1.19641518])"
      ]
     },
     "execution_count": 113,
     "metadata": {},
     "output_type": "execute_result"
    }
   ],
   "source": [
    "moments(0.01,0.01,0.3)"
   ]
  },
  {
   "cell_type": "code",
   "execution_count": 114,
   "metadata": {},
   "outputs": [],
   "source": [
    "def force_diff(Lh, Ls, deltas):\n",
    "    Ph, Ps, Gh, Gs = moments(Lh, Ls, deltas)\n",
    "    return Ph-Ps"
   ]
  },
  {
   "cell_type": "markdown",
   "metadata": {},
   "source": [
    "$\\delta s$ should be determined by $P_h - P_s$. By physical meaning, this should be a monotomic function of $\\delta s$."
   ]
  },
  {
   "cell_type": "markdown",
   "metadata": {},
   "source": [
    "### Solve $\\delta s$, then $L_s$, then $L_h$."
   ]
  },
  {
   "cell_type": "code",
   "execution_count": 30,
   "metadata": {},
   "outputs": [],
   "source": [
    "def solve_deltas(Lh, Ls):\n",
    "    try:\n",
    "        dsol = optimize.newton(lambda d: force_diff(Lh, Ls, d), 0.1)\n",
    "    except:\n",
    "        try:\n",
    "            dsol = optimize.newton(lambda d: force_diff(Lh, Ls, d), -0.1)\n",
    "        except:\n",
    "            try:\n",
    "                dsol = optimize.brentq(lambda d: force_diff(Lh, Ls, d), -5,5)\n",
    "            except:\n",
    "                dsol = optimize.brentq(lambda d: force_diff(Lh, Ls, d), -20,20)\n",
    "    return dsol"
   ]
  },
  {
   "cell_type": "code",
   "execution_count": 17,
   "metadata": {},
   "outputs": [
    {
     "data": {
      "image/png": "[encoded data removed]",
      "text/plain": [
       "<Figure size 640x480 with 1 Axes>"
      ]
     },
     "metadata": {},
     "output_type": "display_data"
    }
   ],
   "source": [
    "Plot(lambda d: force_diff(0.1,0.1, d), (-3,3), n=20)"
   ]
  },
  {
   "cell_type": "markdown",
   "metadata": {},
   "source": [
    "Now let's see how $G_s$ depends on $L_s$ for solved $\\delta s$."
   ]
  },
  {
   "cell_type": "code",
   "execution_count": 117,
   "metadata": {},
   "outputs": [
    {
     "data": {
      "text/plain": [
       "0.36686522131906435"
      ]
     },
     "execution_count": 117,
     "metadata": {},
     "output_type": "execute_result"
    }
   ],
   "source": [
    "solve_deltas(1.0, 0.8)"
   ]
  },
  {
   "cell_type": "code",
   "execution_count": 36,
   "metadata": {},
   "outputs": [
    {
     "name": "stderr",
     "output_type": "stream",
     "text": [
      "/var/folders/mw/3xz76j416k761n077pnr10nc0000gn/T/ipykernel_7806/68677936.py:18: RuntimeWarning: overflow encountered in cosh\n",
      "  Sech = lambda x: 1/np.cosh(x)\n"
     ]
    }
   ],
   "source": [
    "Gsrange = np.ones((5,20))\n",
    "Lhrange = [0.1,0.5,1.0,1.5, 2.0]\n",
    "ratiorange = np.logspace(-2,2,20)\n",
    "for i in range(5):\n",
    "    Lh = Lhrange[i]\n",
    "    Gslist = np.copy(Gsrange[i])\n",
    "    for j in range(20):\n",
    "        Ls = ratiorange[j] * Lh\n",
    "        deltas = solve_deltas(Lh, Ls)\n",
    "        Gslist[j] = moments(Lh, Ls, deltas)[-1]\n",
    "    Gsrange[i] = Gslist"
   ]
  },
  {
   "cell_type": "code",
   "execution_count": 39,
   "metadata": {},
   "outputs": [
    {
     "data": {
      "text/plain": [
       "Text(0.5, 1.0, '$\\\\delta s$ solved by $P_h = P_s$.')"
      ]
     },
     "execution_count": 39,
     "metadata": {},
     "output_type": "execute_result"
    },
    {
     "data": {
      "image/png": "[encoded data removed]",
      "text/plain": [
       "<Figure size 640x480 with 1 Axes>"
      ]
     },
     "metadata": {},
     "output_type": "display_data"
    }
   ],
   "source": [
    "for i in range(5):\n",
    "    plt.plot(ratiorange, Gsrange[i], label=f'$L_h = {Lhrange[i]}$')\n",
    "plt.xscale('log')\n",
    "plt.xlabel(r'$L_s/L_h$')\n",
    "plt.ylabel(r'$G_s$ ($10^6$ GeV$^4$)')\n",
    "plt.legend()\n",
    "plt.title(r'$\\delta s$ solved by $P_h = P_s$.')"
   ]
  },
  {
   "cell_type": "code",
   "execution_count": 46,
   "metadata": {},
   "outputs": [
    {
     "data": {
      "image/png": "[encoded data removed]",
      "text/plain": [
       "<Figure size 640x480 with 1 Axes>"
      ]
     },
     "metadata": {},
     "output_type": "display_data"
    }
   ],
   "source": [
    "plt.plot(ratiorange, Gsrange[3])\n",
    "plt.xscale('log')"
   ]
  },
  {
   "cell_type": "code",
   "execution_count": 29,
   "metadata": {},
   "outputs": [
    {
     "data": {
      "text/plain": [
       "-5.223462983529182"
      ]
     },
     "execution_count": 29,
     "metadata": {},
     "output_type": "execute_result"
    }
   ],
   "source": [
    "moments(1, 3, solve_deltas(1,3))[2]"
   ]
  },
  {
   "cell_type": "code",
   "execution_count": 118,
   "metadata": {},
   "outputs": [
    {
     "name": "stdout",
     "output_type": "stream",
     "text": [
      "Computing for Lh = 0.01\n",
      "Find Ls = 0.008195271963456922\n",
      "Gh = 0.26136582463016816\n",
      "Computing for Lh = 0.01438449888287663\n",
      "Find Ls = 0.011804400671933418\n",
      "Gh = 0.38094577170831045\n",
      "Computing for Lh = 0.0206913808111479\n",
      "Find Ls = 0.017024206181893757\n",
      "Gh = 0.5328421211170087\n",
      "Computing for Lh = 0.029763514416313176\n",
      "Find Ls = 0.024595915146787307\n",
      "Gh = 0.8050199560463545\n",
      "Computing for Lh = 0.04281332398719394\n",
      "Find Ls = 0.03565148516062021\n",
      "Gh = 1.0733704140882445\n",
      "Computing for Lh = 0.06158482110660264\n",
      "Find Ls = 0.05203215526980671\n",
      "Gh = 1.0833578391097622\n",
      "Computing for Lh = 0.08858667904100823\n",
      "Find Ls = 0.07581835148952777\n",
      "Gh = 0.7121778867068689\n",
      "Computing for Lh = 0.12742749857031335\n",
      "Find Ls = 0.1095575810464912\n",
      "Gh = 0.6264736422983921\n",
      "Computing for Lh = 0.18329807108324356\n",
      "Find Ls = 0.15791121936883395\n",
      "Gh = 0.5916643400252106\n",
      "Computing for Lh = 0.26366508987303583\n",
      "Find Ls = 0.2273617525051006\n",
      "Gh = 0.5759733351944029\n",
      "Computing for Lh = 0.37926901907322497\n",
      "Find Ls = 0.3271954875119896\n",
      "Gh = 0.5686233433551915\n",
      "Computing for Lh = 0.5455594781168517\n",
      "Find Ls = 0.4707558566475582\n",
      "Gh = 0.5651226804571112\n",
      "Computing for Lh = 0.7847599703514611\n",
      "Find Ls = 0.6772290891438357\n",
      "Gh = 0.5634425605066412\n",
      "Computing for Lh = 1.1288378916846884\n",
      "Find Ls = 0.9742089644309502\n",
      "Gh = 0.5626332740647791\n",
      "Computing for Lh = 1.623776739188721\n",
      "Find Ls = 1.4013847174067435\n",
      "Gh = 0.5622427789589929\n",
      "Computing for Lh = 2.3357214690901213\n",
      "Find Ls = 2.0158452778715095\n",
      "Gh = 0.5620542018124641\n",
      "Computing for Lh = 3.359818286283781\n",
      "Find Ls = 2.8997088100966475\n",
      "Gh = 0.5619630979878693\n",
      "Computing for Lh = 4.832930238571752\n",
      "Find Ls = 4.171097210900291\n",
      "Gh = 0.5619190765129971\n",
      "Computing for Lh = 6.951927961775605\n",
      "Find Ls = 5.999922240308247\n",
      "Gh = 0.5618978027076797\n",
      "Computing for Lh = 10.0\n",
      "Find Ls = 8.630592984269802\n",
      "Gh = 0.5618875215927772\n"
     ]
    }
   ],
   "source": [
    "Lhrange = np.logspace(-2,1,20)\n",
    "Ghrange = np.ones((20,))*100\n",
    "for i in range(20):\n",
    "    Lh = Lhrange[i]\n",
    "    print(\"Computing for Lh = \" + str(Lh))\n",
    "    lsmin = Lh/10\n",
    "    lsmax = Lh*10\n",
    "    Lsrange = np.logspace(Log10(lsmin), Log10(lsmax), 20)\n",
    "    Gslist = np.array([moments(Lh, Ls, solve_deltas(Lh, Ls))[-1] for Ls in Lsrange])\n",
    "    # Then solve for Ls\n",
    "    # If Gs = 0 reached, compute Gh for this Lh and Ls.\n",
    "    # If not, discard this, return 100.\n",
    "    if Gslist.min() * Gslist.max() < 0:\n",
    "        Gsfunc = interpolate.interp1d(Lsrange, Gslist)\n",
    "        Lssol = optimize.brentq(Gsfunc, Lsrange[0], Lsrange[-1])\n",
    "        Ghrange[i] = moments(Lh, Lssol, solve_deltas(Lh, Lssol))[2]\n",
    "        print(\"Find Ls = \" + str(Lssol))\n",
    "        print(\"Gh = \" + str(Ghrange[i]))\n",
    "    else:\n",
    "        print(\"No proper Ls found.\")\n",
    "        continue\n"
   ]
  },
  {
   "cell_type": "code",
   "execution_count": 119,
   "metadata": {},
   "outputs": [
    {
     "data": {
      "image/png": "[encoded data removed]",
      "text/plain": [
       "<Figure size 640x480 with 1 Axes>"
      ]
     },
     "metadata": {},
     "output_type": "display_data"
    }
   ],
   "source": [
    "plt.plot(Lhrange, Ghrange)\n",
    "plt.xscale('log')"
   ]
  },
  {
   "cell_type": "code",
   "execution_count": 27,
   "metadata": {},
   "outputs": [
    {
     "data": {
      "text/plain": [
       "0.00811519040076434"
      ]
     },
     "execution_count": 27,
     "metadata": {},
     "output_type": "execute_result"
    }
   ],
   "source": [
    "solve_Ls(0.01)"
   ]
  },
  {
   "cell_type": "code",
   "execution_count": 28,
   "metadata": {},
   "outputs": [
    {
     "data": {
      "text/plain": [
       "0.4620006012776589"
      ]
     },
     "execution_count": 28,
     "metadata": {},
     "output_type": "execute_result"
    }
   ],
   "source": [
    "Gh_min(0.01)"
   ]
  },
  {
   "cell_type": "code",
   "execution_count": 122,
   "metadata": {},
   "outputs": [
    {
     "data": {
      "text/plain": [
       "0.18971121815094702"
      ]
     },
     "execution_count": 122,
     "metadata": {},
     "output_type": "execute_result"
    }
   ],
   "source": [
    "Gh_min(0.0001)"
   ]
  },
  {
   "cell_type": "code",
   "execution_count": null,
   "metadata": {},
   "outputs": [],
   "source": []
  },
  {
   "cell_type": "code",
   "execution_count": 120,
   "metadata": {},
   "outputs": [],
   "source": [
    "def solve_Ls(Lh):\n",
    "    \"\"\"Solve Ls from Gs = 0 for a certain Lh.\n",
    "    δs is always fixed to solve Ph-Ps = 0.\"\"\"\n",
    "    lsmin = Lh/10\n",
    "    lsmax = Lh*10\n",
    "    try:\n",
    "        Lssol = optimize.newton(lambda Ls: moments(Lh, Ls, solve_deltas(Lh, Ls))[-1], Lh)\n",
    "    except:\n",
    "        Lssol = optimize.brentq(lambda Ls: moments(Lh, Ls, solve_deltas(Lh, Ls))[-1], lsmin, lsmax)\n",
    "    return Lssol\n",
    "    "
   ]
  },
  {
   "cell_type": "code",
   "execution_count": 12,
   "metadata": {},
   "outputs": [
    {
     "name": "stdout",
     "output_type": "stream",
     "text": [
      "0.8591396550657807\n"
     ]
    }
   ],
   "source": [
    "Lssol = solve_Ls(1.0)\n",
    "print(Lssol)"
   ]
  },
  {
   "cell_type": "markdown",
   "metadata": {},
   "source": [
    "Then the remaining is $L_h$. The condition is to vanish $G_h$."
   ]
  },
  {
   "cell_type": "code",
   "execution_count": 121,
   "metadata": {},
   "outputs": [],
   "source": [
    "def Gh_min(Lh):\n",
    "    \"\"\"Gh as a function of Lh, with Ls and deltas solved.\"\"\"\n",
    "    Lssol = solve_Ls(Lh)\n",
    "    dssol = solve_deltas(Lh, Lssol)\n",
    "    return moments(Lh, Lssol, dssol)[2]"
   ]
  },
  {
   "cell_type": "code",
   "execution_count": 31,
   "metadata": {},
   "outputs": [],
   "source": [
    "def Ptot(Lh):\n",
    "    Lssol = solve_Ls(Lh)\n",
    "    dssol = solve_deltas(Lh, Lssol)\n",
    "    Ph, Ps, Gh, Gs = moments(Lh, Lssol, dssol)\n",
    "    return Ph + Ps"
   ]
  },
  {
   "cell_type": "code",
   "execution_count": 32,
   "metadata": {},
   "outputs": [
    {
     "data": {
      "text/plain": [
       "-6.380020883939934"
      ]
     },
     "execution_count": 32,
     "metadata": {},
     "output_type": "execute_result"
    }
   ],
   "source": [
    "Ptot(0.001)"
   ]
  },
  {
   "cell_type": "code",
   "execution_count": 33,
   "metadata": {},
   "outputs": [
    {
     "data": {
      "text/plain": [
       "-6.382126274066213"
      ]
     },
     "execution_count": 33,
     "metadata": {},
     "output_type": "execute_result"
    }
   ],
   "source": [
    "Ptot(0.0001)"
   ]
  },
  {
   "cell_type": "code",
   "execution_count": 34,
   "metadata": {},
   "outputs": [
    {
     "data": {
      "text/plain": [
       "-1.0980825090025057"
      ]
     },
     "execution_count": 34,
     "metadata": {},
     "output_type": "execute_result"
    }
   ],
   "source": [
    "Ptot(10)"
   ]
  },
  {
   "cell_type": "code",
   "execution_count": 59,
   "metadata": {},
   "outputs": [
    {
     "data": {
      "text/plain": [
       "0.6980236778542181"
      ]
     },
     "execution_count": 59,
     "metadata": {},
     "output_type": "execute_result"
    }
   ],
   "source": [
    "Gh_min(1.0)"
   ]
  },
  {
   "cell_type": "code",
   "execution_count": 14,
   "metadata": {},
   "outputs": [],
   "source": [
    "lhrange = np.linspace(0.5,1.5,20)\n",
    "Ghrange = np.zeros((20,))"
   ]
  },
  {
   "cell_type": "code",
   "execution_count": 15,
   "metadata": {},
   "outputs": [],
   "source": [
    "for i in range(20):\n",
    "    Ghrange[i] = Gh_min(lhrange[i])"
   ]
  },
  {
   "cell_type": "code",
   "execution_count": 16,
   "metadata": {},
   "outputs": [
    {
     "data": {
      "text/plain": [
       "[<matplotlib.lines.Line2D at 0x11eee0160>]"
      ]
     },
     "execution_count": 16,
     "metadata": {},
     "output_type": "execute_result"
    },
    {
     "data": {
      "image/png": "[encoded data removed]",
      "text/plain": [
       "<Figure size 640x480 with 1 Axes>"
      ]
     },
     "metadata": {},
     "output_type": "display_data"
    }
   ],
   "source": [
    "plt.plot(lhrange, Ghrange)"
   ]
  },
  {
   "cell_type": "code",
   "execution_count": 17,
   "metadata": {},
   "outputs": [
    {
     "data": {
      "text/plain": [
       "0.6972506630832954"
      ]
     },
     "execution_count": 17,
     "metadata": {},
     "output_type": "execute_result"
    }
   ],
   "source": [
    "Gh_min(3)"
   ]
  },
  {
   "cell_type": "markdown",
   "metadata": {},
   "source": [
    "Now we are having a problem. It seems that the solution for moments does not exist. Once 2 of the solutions are satisfied there is no solution for the 3rd. Fine. Maybe we should search for a global minimization for it."
   ]
  },
  {
   "cell_type": "markdown",
   "metadata": {},
   "source": [
    "### Solve $L_h$ and $L_s$ at first then $\\delta s$"
   ]
  },
  {
   "cell_type": "code",
   "execution_count": 11,
   "metadata": {},
   "outputs": [],
   "source": [
    "def solve_Ls(Lh, deltas):\n",
    "    try:\n",
    "        dsol = optimize.newton(lambda Ls: moments(Lh, Ls, deltas)[-1],Lh)\n",
    "    except:\n",
    "        dsol = optimize.brentq(lambda Ls: moments(Lh, Ls, deltas)[-1], 0.1*Lh, 10*Lh)\n",
    "    return dsol"
   ]
  },
  {
   "cell_type": "code",
   "execution_count": 12,
   "metadata": {},
   "outputs": [
    {
     "data": {
      "text/plain": [
       "0.008768146634913742"
      ]
     },
     "execution_count": 12,
     "metadata": {},
     "output_type": "execute_result"
    }
   ],
   "source": [
    "solve_Ls(0.01, 0.3)"
   ]
  },
  {
   "cell_type": "code",
   "execution_count": 13,
   "metadata": {},
   "outputs": [],
   "source": [
    "Lhrange = np.logspace(-3,1,20)\n",
    "Ghrange = np.zeros((20,))\n",
    "for i in range(20):\n",
    "    Lh = Lhrange[i]\n",
    "    Ls = solve_Ls(Lh, 0.3)\n",
    "    Ghrange[i] = moments(Lh, Ls, 0.3)[2]\n"
   ]
  },
  {
   "cell_type": "code",
   "execution_count": 14,
   "metadata": {},
   "outputs": [
    {
     "data": {
      "text/plain": [
       "Text(0, 0.5, '$G_h$')"
      ]
     },
     "execution_count": 14,
     "metadata": {},
     "output_type": "execute_result"
    },
    {
     "data": {
      "image/png": "[encoded data removed]",
      "text/plain": [
       "<Figure size 640x480 with 1 Axes>"
      ]
     },
     "metadata": {},
     "output_type": "display_data"
    }
   ],
   "source": [
    "plt.plot(Lhrange, Ghrange)\n",
    "plt.xscale('log')\n",
    "plt.yscale('log')\n",
    "plt.xlabel(r'$L_h$')\n",
    "plt.ylabel(r'$G_h$')"
   ]
  },
  {
   "cell_type": "markdown",
   "metadata": {},
   "source": [
    "OK it seems $G_h$ and $G_s$ cannot vanish simultaneously."
   ]
  },
  {
   "cell_type": "markdown",
   "metadata": {},
   "source": [
    "### Solve $L_h$ then $L_s$"
   ]
  },
  {
   "cell_type": "code",
   "execution_count": 10,
   "metadata": {},
   "outputs": [],
   "source": [
    "def solve_Lh(Ls, deltas):\n",
    "    try:\n",
    "        sol = optimize.newton(lambda Lh: moments(Lh, Ls, deltas)[2], Ls)\n",
    "    except:\n",
    "        sol = optimize.brentq(lambda Lh: moments(Lh, Ls, deltas)[2], 0.1*Ls,10*Ls)\n",
    "    return sol"
   ]
  },
  {
   "cell_type": "code",
   "execution_count": null,
   "metadata": {},
   "outputs": [],
   "source": [
    "def solve_Ls(Lh, deltas):\n",
    "    try:\n",
    "        dsol = optimize.newton(lambda Ls: moments(Lh, Ls, deltas)[-1],Lh)\n",
    "    except:\n",
    "        dsol = optimize.brentq(lambda Ls: moments(Lh, Ls, deltas)[-1], 0.1*Lh, 10*Lh)\n",
    "    return dsol"
   ]
  }
 ],
 "metadata": {
  "kernelspec": {
   "display_name": "base",
   "language": "python",
   "name": "python3"
  },
  "language_info": {
   "codemirror_mode": {
    "name": "ipython",
    "version": 3
   },
   "file_extension": ".py",
   "mimetype": "text/x-python",
   "name": "python",
   "nbconvert_exporter": "python",
   "pygments_lexer": "ipython3",
   "version": "3.10.9"
  }
 },
 "nbformat": 4,
 "nbformat_minor": 2
}
