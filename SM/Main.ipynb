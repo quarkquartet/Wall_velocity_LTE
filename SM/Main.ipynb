{
 "cells": [
  {
   "cell_type": "markdown",
   "metadata": {},
   "source": [
    "# Bubble wall velocity under LTE"
   ]
  },
  {
   "cell_type": "code",
   "execution_count": 1,
   "metadata": {},
   "outputs": [],
   "source": [
    "import numpy as np\n",
    "from numpy import linalg as la\n",
    "from scipy import integrate\n",
    "from scipy import optimize\n",
    "from scipy import interpolate\n",
    "import scipy as sp\n",
    "from matplotlib import pyplot as plt\n",
    "import plotter as pl\n",
    "from helperFunctions import derivative, alpha_p, cs_sq, dYdtau, dvTdxi, r_func, μ, w\n",
    "\n",
    "Abs = np.abs\n",
    "Log = np.log\n",
    "Log10 = np.log10\n",
    "Pi = np.pi\n",
    "Sqrt = np.sqrt\n",
    "Exp = np.exp\n",
    "Cos = np.cos\n",
    "Sin = np.sin\n",
    "Sech = lambda x: 1/np.cosh(x)\n",
    "Tanh = np.tanh\n",
    "ArcSin = np.arcsin\n",
    "ArcTanh = np.arctanh\n",
    "Arg = np.angle\n",
    "BesselK = sp.special.kv\n",
    "Zeta = sp.special.zeta\n",
    "HeavisideTheta = lambda x: np.heaviside(x, 0)\n",
    "\n",
    "\n",
    "def Plot(fun, xminmax, n=100,xfun=np.linspace, xlog=False, ylog=False):\n",
    "    xlist = xfun(xminmax[0], xminmax[1], n)\n",
    "    ylist = [fun(x) for x in xlist]\n",
    "    plt.plot(xlist, ylist)\n",
    "    if xlog:\n",
    "        plt.xscale('log')\n",
    "    if ylog:\n",
    "        plt.yscale('log')"
   ]
  },
  {
   "cell_type": "markdown",
   "metadata": {},
   "source": [
    "## Prepare"
   ]
  },
  {
   "cell_type": "markdown",
   "metadata": {},
   "source": [
    "Import model"
   ]
  },
  {
   "cell_type": "code",
   "execution_count": 2,
   "metadata": {},
   "outputs": [],
   "source": [
    "import SM_model as m"
   ]
  },
  {
   "cell_type": "code",
   "execution_count": 3,
   "metadata": {},
   "outputs": [
    {
     "name": "stdout",
     "output_type": "stream",
     "text": [
      "Model initialized.\n",
      "g2 = 1\n",
      "λ = 0.007285228\n",
      "μh = 25.236173718618723\n"
     ]
    }
   ],
   "source": [
    "mod = m.SM(1,0.007285228,636.8644639563023)"
   ]
  },
  {
   "cell_type": "code",
   "execution_count": 4,
   "metadata": {},
   "outputs": [
    {
     "name": "stdout",
     "output_type": "stream",
     "text": [
      "Finding Tc...\n",
      "Critical temperature found! Tc = 56.636213599704206\n",
      "v_c/Tc = 2.805112061801922\n",
      "Finding Tn...\n",
      "Tunneling at T = 56.6162135997042\n",
      "S3/T = 1776610.8204163732\n",
      "Tunneling at T = 56.5962135997042\n",
      "S3/T = 451853.4873632733\n",
      "Tunneling at T = 56.576213599704204\n",
      "S3/T = 203892.620674333\n",
      "Tunneling at T = 56.5562135997042\n",
      "S3/T = 116379.02610614893\n",
      "Tunneling at T = 56.536213599704205\n",
      "S3/T = 75553.78881297384\n",
      "Tunneling at T = 56.5162135997042\n",
      "S3/T = 53207.22596873181\n",
      "Tunneling at T = 56.496213599704205\n",
      "S3/T = 39631.405939377415\n",
      "Tunneling at T = 56.4762135997042\n",
      "S3/T = 30754.565784947874\n",
      "Tunneling at T = 56.456213599704206\n",
      "S3/T = 24623.812734348416\n",
      "Tunneling at T = 56.4362135997042\n",
      "S3/T = 20206.517107542953\n",
      "Tunneling at T = 56.4162135997042\n",
      "S3/T = 16914.527924929538\n",
      "Tunneling at T = 56.396213599704204\n",
      "S3/T = 14392.707460129765\n",
      "Tunneling at T = 56.3762135997042\n",
      "S3/T = 12416.149909538079\n",
      "Tunneling at T = 56.356213599704205\n",
      "S3/T = 10836.688220715478\n",
      "Tunneling at T = 56.3362135997042\n",
      "S3/T = 9553.514747002759\n",
      "Tunneling at T = 56.316213599704206\n",
      "S3/T = 8495.974672613209\n",
      "Tunneling at T = 56.2962135997042\n",
      "S3/T = 7613.435756354405\n",
      "Tunneling at T = 56.2762135997042\n",
      "S3/T = 6868.7601832936125\n",
      "Tunneling at T = 56.2562135997042\n",
      "S3/T = 6234.221207488969\n",
      "Tunneling at T = 56.2362135997042\n",
      "S3/T = 5688.769948358593\n",
      "Tunneling at T = 56.216213599704204\n",
      "S3/T = 5216.1923938876525\n",
      "Tunneling at T = 56.1962135997042\n",
      "S3/T = 4803.8238297978505\n",
      "Tunneling at T = 56.176213599704205\n",
      "S3/T = 4441.658382835222\n",
      "Tunneling at T = 56.1562135997042\n",
      "S3/T = 4121.699213840289\n",
      "Tunneling at T = 56.136213599704206\n",
      "S3/T = 3837.4952316185313\n",
      "Tunneling at T = 56.1162135997042\n",
      "S3/T = 3583.791302416955\n",
      "Tunneling at T = 56.0962135997042\n",
      "S3/T = 3356.282476055705\n",
      "Tunneling at T = 56.076213599704204\n",
      "S3/T = 3151.3788518560586\n",
      "Tunneling at T = 56.0562135997042\n",
      "S3/T = 2966.1182623884774\n",
      "Tunneling at T = 56.036213599704205\n",
      "S3/T = 2798.0009762811424\n",
      "Tunneling at T = 56.0162135997042\n",
      "S3/T = 2644.9230932632945\n",
      "Tunneling at T = 55.996213599704205\n",
      "S3/T = 2505.0895603526783\n",
      "Tunneling at T = 55.9762135997042\n",
      "S3/T = 2376.9687774212475\n",
      "Tunneling at T = 55.956213599704206\n",
      "S3/T = 2259.260521763102\n",
      "Tunneling at T = 55.9362135997042\n",
      "S3/T = 2150.823830316993\n",
      "Tunneling at T = 55.9162135997042\n",
      "S3/T = 2050.6938333209155\n",
      "Tunneling at T = 55.896213599704204\n",
      "S3/T = 1958.0124601730622\n",
      "Tunneling at T = 55.8762135997042\n",
      "S3/T = 1872.0290796955212\n",
      "Tunneling at T = 55.856213599704205\n",
      "S3/T = 1790.5907930711112\n",
      "Tunneling at T = 55.8362135997042\n",
      "S3/T = 1716.1880893125726\n",
      "Tunneling at T = 55.816213599704206\n",
      "S3/T = 1646.7623561089035\n",
      "Tunneling at T = 55.7962135997042\n",
      "S3/T = 1581.8633981896119\n",
      "Tunneling at T = 55.7762135997042\n",
      "S3/T = 1521.098215933496\n",
      "Tunneling at T = 55.7562135997042\n",
      "S3/T = 1464.1160615297395\n",
      "Tunneling at T = 55.7362135997042\n",
      "S3/T = 1410.6005338703785\n",
      "Tunneling at T = 55.716213599704204\n",
      "S3/T = 1360.2751364393964\n",
      "Tunneling at T = 55.6962135997042\n",
      "S3/T = 1312.8922168349943\n",
      "Tunneling at T = 55.676213599704205\n",
      "S3/T = 1268.2353840742599\n",
      "Tunneling at T = 55.6562135997042\n",
      "S3/T = 1226.1869154214776\n",
      "Tunneling at T = 55.636213599704206\n",
      "S3/T = 1186.450410152357\n",
      "Tunneling at T = 55.6162135997042\n",
      "S3/T = 1149.3037998266668\n",
      "Tunneling at T = 55.5962135997042\n",
      "S3/T = 1114.4289218948236\n",
      "Tunneling at T = 55.576213599704204\n",
      "S3/T = 1081.0321958764205\n",
      "Tunneling at T = 55.5562135997042\n",
      "S3/T = 1048.5170101515998\n",
      "Tunneling at T = 55.536213599704205\n",
      "S3/T = 1011.3784199183841\n",
      "Tunneling at T = 55.5162135997042\n",
      "S3/T = 983.5879181743773\n",
      "Tunneling at T = 55.496213599704205\n",
      "S3/T = 954.9411244145903\n",
      "Tunneling at T = 55.4762135997042\n",
      "S3/T = 927.6644010952988\n",
      "Tunneling at T = 55.456213599704206\n",
      "S3/T = 901.6520776719079\n",
      "Tunneling at T = 55.4362135997042\n",
      "S3/T = 876.8103315703358\n",
      "Tunneling at T = 55.4162135997042\n",
      "S3/T = 853.0637689658186\n",
      "Tunneling at T = 55.396213599704204\n",
      "S3/T = 831.262163956791\n",
      "Tunneling at T = 55.3762135997042\n",
      "S3/T = 809.5636003059083\n",
      "Tunneling at T = 55.356213599704205\n",
      "S3/T = 788.5024143506056\n",
      "Tunneling at T = 55.3362135997042\n",
      "S3/T = 771.3667998598189\n",
      "Tunneling at T = 55.316213599704206\n",
      "S3/T = 752.4818371996523\n",
      "Tunneling at T = 55.2962135997042\n",
      "S3/T = 734.3372617556058\n",
      "Tunneling at T = 55.2762135997042\n",
      "S3/T = 717.8980748875434\n",
      "Tunneling at T = 55.2562135997042\n",
      "S3/T = 700.8808530071767\n",
      "Tunneling at T = 55.2362135997042\n",
      "S3/T = 684.5451339712477\n",
      "Tunneling at T = 55.216213599704204\n",
      "S3/T = 668.8626019802249\n",
      "Tunneling at T = 55.1962135997042\n",
      "S3/T = 653.8352207452291\n",
      "Tunneling at T = 55.176213599704205\n",
      "S3/T = 639.3895934593545\n",
      "Tunneling at T = 55.1562135997042\n",
      "S3/T = 625.0197911287111\n",
      "Tunneling at T = 55.136213599704206\n",
      "S3/T = 611.1593959441881\n",
      "Tunneling at T = 55.1162135997042\n",
      "S3/T = 597.7737038653299\n",
      "Tunneling at T = 55.0962135997042\n",
      "S3/T = 584.8285172258661\n",
      "Tunneling at T = 55.076213599704204\n",
      "S3/T = 572.2856765857542\n",
      "Tunneling at T = 55.0562135997042\n",
      "S3/T = 560.037903725258\n",
      "Tunneling at T = 55.036213599704205\n",
      "S3/T = 548.2095139356327\n",
      "Tunneling at T = 55.0162135997042\n",
      "S3/T = 536.8233435428273\n",
      "Tunneling at T = 54.996213599704205\n",
      "S3/T = 525.7888903699688\n",
      "Tunneling at T = 54.9762135997042\n",
      "S3/T = 515.1020176428392\n",
      "Tunneling at T = 54.9562135997042\n",
      "S3/T = 504.7538286683274\n",
      "Tunneling at T = 54.9362135997042\n",
      "S3/T = 494.7291061998708\n",
      "Tunneling at T = 54.9162135997042\n",
      "S3/T = 485.004635073808\n",
      "Tunneling at T = 54.896213599704204\n",
      "S3/T = 475.5722402615889\n",
      "Tunneling at T = 54.8762135997042\n",
      "S3/T = 466.4202421475919\n",
      "Tunneling at T = 54.856213599704205\n",
      "S3/T = 457.52948016619223\n",
      "Tunneling at T = 54.8362135997042\n",
      "S3/T = 448.8919818254579\n",
      "Tunneling at T = 54.816213599704206\n",
      "S3/T = 440.4597079834273\n",
      "Tunneling at T = 54.7962135997042\n",
      "S3/T = 432.2945533912197\n",
      "Tunneling at T = 54.7762135997042\n",
      "S3/T = 424.35248362319015\n",
      "Tunneling at T = 54.7562135997042\n",
      "S3/T = 416.62133559030207\n",
      "Tunneling at T = 54.7362135997042\n",
      "S3/T = 409.0887525227984\n",
      "Tunneling at T = 54.716213599704204\n",
      "S3/T = 401.74446742844816\n",
      "Tunneling at T = 54.6962135997042\n",
      "S3/T = 394.5861984978876\n",
      "Tunneling at T = 54.676213599704205\n",
      "S3/T = 387.6031730857685\n",
      "Tunneling at T = 54.6562135997042\n",
      "S3/T = 380.78534254736365\n",
      "Tunneling at T = 54.636213599704206\n",
      "S3/T = 374.1286927504583\n",
      "Tunneling at T = 54.6162135997042\n",
      "S3/T = 367.64123415084504\n",
      "Tunneling at T = 54.5962135997042\n",
      "S3/T = 361.30928644216635\n",
      "Tunneling at T = 54.576213599704204\n",
      "S3/T = 355.13650103813603\n",
      "Tunneling at T = 54.5562135997042\n",
      "S3/T = 349.10635145656335\n",
      "Tunneling at T = 54.536213599704205\n",
      "S3/T = 343.21265907145875\n",
      "Tunneling at T = 54.5162135997042\n",
      "S3/T = 337.8619923895948\n",
      "Tunneling at T = 54.496213599704205\n",
      "S3/T = 332.1294973339884\n",
      "Tunneling at T = 54.4762135997042\n",
      "S3/T = 326.51619807817593\n",
      "Tunneling at T = 54.4562135997042\n",
      "S3/T = 321.0063802232405\n",
      "Tunneling at T = 54.4362135997042\n",
      "S3/T = 315.61049990789576\n",
      "Tunneling at T = 54.4162135997042\n",
      "S3/T = 310.315362608243\n",
      "Tunneling at T = 54.396213599704204\n",
      "S3/T = 306.5360522205127\n",
      "Tunneling at T = 54.3762135997042\n",
      "S3/T = 301.76661977638923\n",
      "Tunneling at T = 54.356213599704205\n",
      "S3/T = 297.0939151562795\n",
      "Tunneling at T = 54.3362135997042\n",
      "S3/T = 292.51668925537774\n",
      "Tunneling at T = 54.316213599704206\n",
      "S3/T = 288.0318835615997\n",
      "Tunneling at T = 54.2962135997042\n",
      "S3/T = 283.6366766296581\n",
      "Tunneling at T = 54.27621359970421\n",
      "S3/T = 279.31778614411945\n",
      "Tunneling at T = 54.2562135997042\n",
      "S3/T = 275.068215140634\n",
      "Tunneling at T = 54.2362135997042\n",
      "S3/T = 270.9021805270195\n",
      "Tunneling at T = 54.216213599704204\n",
      "S3/T = 266.8145669737637\n",
      "Tunneling at T = 54.1962135997042\n",
      "S3/T = 262.80545377744255\n",
      "Tunneling at T = 54.176213599704205\n",
      "S3/T = 258.868798198279\n",
      "Tunneling at T = 54.1562135997042\n",
      "S3/T = 255.00345404694946\n",
      "Tunneling at T = 54.136213599704206\n",
      "S3/T = 251.20174260999772\n",
      "Tunneling at T = 54.1162135997042\n",
      "S3/T = 247.50325004569035\n",
      "Tunneling at T = 54.0962135997042\n",
      "S3/T = 243.8950674394783\n",
      "Tunneling at T = 54.076213599704204\n",
      "S3/T = 240.34482608507204\n",
      "Tunneling at T = 54.0562135997042\n",
      "S3/T = 236.85558704857448\n",
      "Tunneling at T = 54.036213599704205\n",
      "S3/T = 233.41818300683687\n",
      "Tunneling at T = 54.0162135997042\n",
      "S3/T = 230.03794385403768\n",
      "Tunneling at T = 53.996213599704205\n",
      "S3/T = 226.71481215966134\n",
      "Tunneling at T = 53.9762135997042\n",
      "S3/T = 223.51600253462536\n",
      "Tunneling at T = 53.9562135997042\n",
      "S3/T = 220.8252868945927\n",
      "Tunneling at T = 53.9362135997042\n",
      "S3/T = 217.49502822470978\n",
      "Tunneling at T = 53.9162135997042\n",
      "S3/T = 214.245710921726\n",
      "Tunneling at T = 53.896213599704204\n",
      "S3/T = 211.06385778334007\n",
      "Tunneling at T = 53.8762135997042\n",
      "S3/T = 207.9908767978599\n",
      "Tunneling at T = 53.856213599704205\n",
      "S3/T = 204.95107550597092\n",
      "Tunneling at T = 53.8362135997042\n",
      "S3/T = 201.98256728963614\n",
      "Tunneling at T = 53.816213599704206\n",
      "S3/T = 199.0683712833818\n",
      "Tunneling at T = 53.7962135997042\n",
      "S3/T = 195.86383628628735\n",
      "Tunneling at T = 53.77621359970421\n",
      "S3/T = 192.96453260194437\n",
      "Tunneling at T = 53.7562135997042\n",
      "S3/T = 190.69693357484556\n",
      "Tunneling at T = 53.7362135997042\n",
      "S3/T = 187.9354578020439\n",
      "Tunneling at T = 53.716213599704204\n",
      "S3/T = 185.18450428256816\n",
      "Tunneling at T = 53.6962135997042\n",
      "S3/T = 182.5147709298339\n",
      "Tunneling at T = 53.676213599704205\n",
      "S3/T = 179.6149021562875\n",
      "Tunneling at T = 53.6562135997042\n",
      "S3/T = 177.26081538936216\n",
      "Tunneling at T = 53.636213599704206\n",
      "S3/T = 174.9258151536632\n",
      "Tunneling at T = 53.6162135997042\n",
      "S3/T = 172.60853387174228\n",
      "Tunneling at T = 53.5962135997042\n",
      "S3/T = 170.26946753977498\n",
      "Tunneling at T = 53.576213599704204\n",
      "S3/T = 167.88479007081375\n",
      "Tunneling at T = 53.5562135997042\n",
      "S3/T = 165.48889809185633\n",
      "Tunneling at T = 53.536213599704205\n",
      "S3/T = 163.13740604576304\n",
      "Tunneling at T = 53.5162135997042\n",
      "S3/T = 160.840733653017\n",
      "Tunneling at T = 53.496213599704205\n",
      "S3/T = 158.57510221417758\n",
      "Tunneling at T = 53.4762135997042\n",
      "S3/T = 156.34477437565351\n",
      "Tunneling at T = 53.4562135997042\n",
      "S3/T = 154.15237206944767\n",
      "Tunneling at T = 53.4362135997042\n",
      "S3/T = 151.9923864407293\n",
      "Tunneling at T = 53.4162135997042\n",
      "S3/T = 149.86408773288068\n",
      "Tunneling at T = 53.396213599704204\n",
      "S3/T = 147.76986521264928\n",
      "Tunneling at T = 53.3762135997042\n",
      "S3/T = 145.70625716932253\n",
      "Tunneling at T = 53.356213599704205\n",
      "S3/T = 143.6706309253027\n",
      "Tunneling at T = 53.3362135997042\n",
      "S3/T = 141.66378059429562\n",
      "Tunneling at T = 53.316213599704206\n",
      "S3/T = 139.68956074721436\n",
      "Tnuc should be within 53.316213599704206 and 53.33621359970421\n",
      "Tn = 53.31938236598749\n",
      "v_n/Tn = 3.5785034119028394\n"
     ]
    }
   ],
   "source": [
    "mod.findTc()\n",
    "mod.findTn()"
   ]
  },
  {
   "cell_type": "code",
   "execution_count": 5,
   "metadata": {},
   "outputs": [
    {
     "name": "stdout",
     "output_type": "stream",
     "text": [
      "α = 0.02095131796505928\n",
      "β/H = 5236.321404242424\n"
     ]
    }
   ],
   "source": [
    "mod.findα()\n",
    "mod.findβH()"
   ]
  },
  {
   "cell_type": "code",
   "execution_count": 6,
   "metadata": {},
   "outputs": [],
   "source": [
    "Vtot=mod.Vtot\n",
    "hv = np.array([0.0])\n",
    "lv = np.array([mod.Tnvev])\n",
    "Tnuc = mod.Tn"
   ]
  },
  {
   "cell_type": "code",
   "execution_count": 7,
   "metadata": {},
   "outputs": [],
   "source": [
    "from helperFunctions import a"
   ]
  },
  {
   "cell_type": "markdown",
   "metadata": {},
   "source": [
    "## Solving the boundary conditions for deflagration"
   ]
  },
  {
   "cell_type": "code",
   "execution_count": 8,
   "metadata": {},
   "outputs": [],
   "source": [
    "def p(V, T, vev):\n",
    "    v = optimize.fmin(V, vev, args=(T,), disp=0)\n",
    "    return -V(v, T)\n",
    "\n",
    "def e(V, T, vev):\n",
    "    v = optimize.fmin(V, vev, args=(T,), disp=0)\n",
    "    def VT(T):\n",
    "        return V(v, T)\n",
    "    return - T * derivative(VT, T) + VT(T)\n",
    "\n",
    "def ω(V, T, vev):\n",
    "    v = optimize.fmin(V, vev, args=(T,), disp=0)\n",
    "    def VT(T):\n",
    "        return V(v, T)\n",
    "    return - T * derivative(VT, T) "
   ]
  },
  {
   "cell_type": "code",
   "execution_count": 9,
   "metadata": {},
   "outputs": [],
   "source": [
    "def match(vp,vm,Tp,Tm, high_vev, low_vev):\n",
    "    r = r_func(Vtot, Tp, Tm, high_vev, low_vev)\n",
    "    αp = alpha_p(Vtot, Tp, Tm, high_vev, low_vev)\n",
    "    vpvm = 1-(1-3*αp)*r\n",
    "    vpvm = vpvm/(3-3*(1+αp)*r)\n",
    "    ratio = 3 + (1-3*αp)*r\n",
    "    ratio = ratio/(1+3*(1+αp)*r)\n",
    "    return [vp*vm - vpvm, vp/vm - ratio]\n",
    "\n",
    "def match_pe(vp,vm, Tp, Tm, hv, lv):\n",
    "    pp = p(Vtot, Tp, hv)\n",
    "    pm = p(Vtot, Tm, lv)\n",
    "    ep = e(Vtot, Tp, hv)\n",
    "    em = e(Vtot, Tm, lv)\n",
    "    vpvm = (pp - pm)/(ep - em)\n",
    "    ratio = (em + pp)/(ep + pm)\n",
    "    return np.array([vp* vm- vpvm, vp/vm - ratio])\n",
    "\n",
    "def match_T(vp,vm, Tp, Tm, hv, lv):\n",
    "    pp = p(Vtot, Tp, hv)\n",
    "    pm = p(Vtot, Tm, lv)\n",
    "    ωp = ω(Vtot, Tp, hv)\n",
    "    ωm = ω(Vtot, Tm, lv)\n",
    "    γp = 1/Sqrt(1-vp**2)\n",
    "    γm = 1/Sqrt(1-vm**2)\n",
    "    T33p = ωp * vp**2 * γp**2 + pp\n",
    "    T33m = ωm * vm**2 * γm**2 + pm\n",
    "    T30p = ωp * vp * γp**2\n",
    "    T30m = ωm * vm * γm**2\n",
    "    return np.array([T33p - T33m, T30p - T30m])\n",
    "\n",
    "def find_Tsh(Tm, vw, type='def'):\n",
    "    if type=='def':\n",
    "        guess_sol = optimize.fsolve(lambda x:match(x[0], vw, x[1], Tm,hv, lv),[vw*0.8,Tnuc])\n",
    "    elif type=='hyb':\n",
    "        guess_sol = optimize.fsolve(lambda x:match(x[0], cs_sq(Vtot, Tm, lv)**0.5, x[1], Tm,hv, lv),[0.5,Tnuc])\n",
    "\n",
    "    # Integrate outside the wall to the shock-wave front\n",
    "    try:\n",
    "        vsol=integrate.solve_ivp(dYdtau, (10,0.01), np.array([μ(vw, guess_sol[0]), guess_sol[1], vw]),t_eval=np.linspace(10,0.01,1000),method='DOP853',args=(Vtot, hv))\n",
    "        xi_max = vsol.y[2].max()\n",
    "        xi_max_index = vsol.y[2].argmax()\n",
    "        v_prof = interpolate.interp1d(vsol.y[2][0:xi_max_index+1],vsol.y[0][0:xi_max_index+1])\n",
    "        T_prof = interpolate.interp1d(vsol.y[2][0:xi_max_index+1],vsol.y[1][0:xi_max_index+1])\n",
    "        try:\n",
    "            xsh=optimize.brentq(lambda x: μ(x, v_prof(x))*x - cs_sq(Vtot, T_prof(x), hv), vw, xi_max)\n",
    "        except:\n",
    "            xsh = xi_max\n",
    "    except:\n",
    "        vTsol = integrate.solve_ivp(dvTdxi, (vw, 1), np.array([μ(vw, guess_sol[0]), guess_sol[1]]), t_eval=np.linspace(vw, 1, 500), method='DOP853', args=(Vtot, hv))\n",
    "        v_prof = interpolate.interp1d(vTsol.t, vTsol.y[0], kind='cubic')\n",
    "        T_prof = interpolate.interp1d(vTsol.t, vTsol.y[1], kind='cubic')\n",
    "        xsh = optimize.brentq(lambda x: μ(x, v_prof(x))*x - cs_sq(Vtot, T_prof(x), hv), vw, 1)\n",
    "\n",
    "    def sh_match_2(Tshp):\n",
    "        ap = alpha_p(Vtot, Tshp, T_prof(xsh), hv, hv)\n",
    "        r = r_func(Vtot, Tshp, T_prof(xsh), hv, hv)\n",
    "        vp = xsh\n",
    "        vm = μ(xsh, v_prof(xsh))\n",
    "        ratio = 3 + (1-3*ap)*r\n",
    "        ratio = ratio/(1+3*(1+ap)*r)\n",
    "        return vp/vm - ratio\n",
    "    Tshp = optimize.newton(sh_match_2, T_prof(xsh))\n",
    "    return Tshp"
   ]
  },
  {
   "cell_type": "code",
   "execution_count": 10,
   "metadata": {},
   "outputs": [
    {
     "data": {
      "text/plain": [
       "53.31938236598749"
      ]
     },
     "execution_count": 10,
     "metadata": {},
     "output_type": "execute_result"
    }
   ],
   "source": [
    "Tnuc"
   ]
  },
  {
   "cell_type": "code",
   "execution_count": 11,
   "metadata": {},
   "outputs": [
    {
     "data": {
      "text/plain": [
       "53.14976809754261"
      ]
     },
     "execution_count": 11,
     "metadata": {},
     "output_type": "execute_result"
    }
   ],
   "source": [
    "find_Tsh(53, 0.1)"
   ]
  },
  {
   "cell_type": "code",
   "execution_count": 12,
   "metadata": {},
   "outputs": [
    {
     "name": "stdout",
     "output_type": "stream",
     "text": [
      "[ 0.45891026 56.43588515]\n",
      "[ 0.45891026 56.43588515]\n",
      "[ 0.45891026 56.43588515]\n"
     ]
    }
   ],
   "source": [
    "Tm = 53\n",
    "vw = 0.55\n",
    "print(optimize.fsolve(lambda x:match(x[0], vw, x[1], Tm,hv, lv),[0.4,Tnuc]))\n",
    "print(optimize.fsolve(lambda x:match_pe(x[0], vw, x[1], Tm,hv, lv),[0.4,Tnuc]))\n",
    "print(optimize.fsolve(lambda x:match_T(x[0], vw, x[1], Tm,hv, lv),[0.4,Tnuc]))"
   ]
  },
  {
   "cell_type": "code",
   "execution_count": 13,
   "metadata": {},
   "outputs": [],
   "source": [
    "guess_sol = optimize.fsolve(lambda x:match(x[0], vw, x[1], Tm,hv, lv),[0.4,Tnuc])"
   ]
  },
  {
   "cell_type": "code",
   "execution_count": 49,
   "metadata": {},
   "outputs": [],
   "source": [
    "vsol=integrate.solve_ivp(dYdtau, (10,0.01), np.array([μ(vw, guess_sol[0]), guess_sol[1], vw]),t_eval=np.linspace(10,0.01,1000),method='DOP853',args=(Vtot, hv))\n",
    "xi_max = vsol.y[2].max()\n",
    "xi_max_index = vsol.y[2].argmax()\n",
    "v_prof = interpolate.interp1d(vsol.y[2][0:xi_max_index+1],vsol.y[0][0:xi_max_index+1])\n",
    "T_prof = interpolate.interp1d(vsol.y[2][0:xi_max_index+1],vsol.y[1][0:xi_max_index+1])\n",
    "try:\n",
    "    xsh=optimize.brentq(lambda x: μ(x, v_prof(x))*x - cs_sq(Vtot, T_prof(x), hv), vw, xi_max)\n",
    "except:\n",
    "    xsh = xi_max"
   ]
  },
  {
   "cell_type": "code",
   "execution_count": 17,
   "metadata": {},
   "outputs": [
    {
     "data": {
      "text/plain": [
       "0.5945878172821732"
      ]
     },
     "execution_count": 17,
     "metadata": {},
     "output_type": "execute_result"
    }
   ],
   "source": [
    "xsh"
   ]
  },
  {
   "cell_type": "code",
   "execution_count": 50,
   "metadata": {},
   "outputs": [],
   "source": [
    "def sh_match(Tshp):\n",
    "    ap = alpha_p(Vtot, Tshp, T_prof(xsh), hv, hv)\n",
    "    r = r_func(Vtot, Tshp, T_prof(xsh), hv, hv)\n",
    "    vp = xsh\n",
    "    vm = μ(xsh, v_prof(xsh))\n",
    "    vpvm = 1-(1-3*ap)*r\n",
    "    vpvm = vpvm/(3-3*(1+ap)*r)\n",
    "    return vpvm - vp*vm\n",
    "\n",
    "def sh_match_2(Tshp):\n",
    "    ap = alpha_p(Vtot, Tshp, T_prof(xsh), hv, hv)\n",
    "    r = r_func(Vtot, Tshp, T_prof(xsh), hv, hv)\n",
    "    vp = xsh\n",
    "    vm = μ(xsh, v_prof(xsh))\n",
    "    ratio = 3 + (1-3*ap)*r\n",
    "    ratio = ratio/(1+3*(1+ap)*r)\n",
    "    return vp/vm - ratio"
   ]
  },
  {
   "cell_type": "markdown",
   "metadata": {},
   "source": []
  },
  {
   "cell_type": "code",
   "execution_count": 27,
   "metadata": {},
   "outputs": [
    {
     "data": {
      "text/plain": [
       "0.5613408026899902"
      ]
     },
     "execution_count": 27,
     "metadata": {},
     "output_type": "execute_result"
    }
   ],
   "source": [
    "μ(xsh, v_prof(xsh))"
   ]
  },
  {
   "cell_type": "code",
   "execution_count": 74,
   "metadata": {},
   "outputs": [
    {
     "data": {
      "text/plain": [
       "0.8911085523653911"
      ]
     },
     "execution_count": 74,
     "metadata": {},
     "output_type": "execute_result"
    }
   ],
   "source": [
    "r_func(Vtot, 52.82540856769438, 54.37164544, hv, hv)"
   ]
  },
  {
   "cell_type": "code",
   "execution_count": 23,
   "metadata": {},
   "outputs": [
    {
     "data": {
      "text/plain": [
       "0.0004041081398660218"
      ]
     },
     "execution_count": 23,
     "metadata": {},
     "output_type": "execute_result"
    }
   ],
   "source": [
    "sh_match(53)"
   ]
  },
  {
   "cell_type": "code",
   "execution_count": 29,
   "metadata": {},
   "outputs": [
    {
     "data": {
      "image/png": "[encoded data removed]",
      "text/plain": [
       "<Figure size 640x480 with 1 Axes>"
      ]
     },
     "metadata": {},
     "output_type": "display_data"
    }
   ],
   "source": [
    "Plot(sh_match, (52,55), n=30)"
   ]
  },
  {
   "cell_type": "code",
   "execution_count": 38,
   "metadata": {},
   "outputs": [
    {
     "data": {
      "text/plain": [
       "52.82540856769438"
      ]
     },
     "execution_count": 38,
     "metadata": {},
     "output_type": "execute_result"
    }
   ],
   "source": [
    "optimize.newton(sh_match_2, 53.6)"
   ]
  },
  {
   "cell_type": "code",
   "execution_count": 33,
   "metadata": {},
   "outputs": [
    {
     "data": {
      "text/plain": [
       "array(54.37164544)"
      ]
     },
     "execution_count": 33,
     "metadata": {},
     "output_type": "execute_result"
    }
   ],
   "source": [
    "T_prof(xsh)"
   ]
  },
  {
   "cell_type": "code",
   "execution_count": 54,
   "metadata": {},
   "outputs": [
    {
     "data": {
      "text/plain": [
       "53.432512029081664"
      ]
     },
     "execution_count": 54,
     "metadata": {},
     "output_type": "execute_result"
    }
   ],
   "source": [
    "find_Tsh(53.3,0.1)"
   ]
  },
  {
   "cell_type": "markdown",
   "metadata": {},
   "source": [
    "## Solve hybrid boundary conditions"
   ]
  },
  {
   "cell_type": "code",
   "execution_count": 302,
   "metadata": {},
   "outputs": [],
   "source": [
    "vw = 0.65"
   ]
  },
  {
   "cell_type": "code",
   "execution_count": 79,
   "metadata": {},
   "outputs": [
    {
     "data": {
      "text/plain": [
       "0.5701085533708864"
      ]
     },
     "execution_count": 79,
     "metadata": {},
     "output_type": "execute_result"
    }
   ],
   "source": [
    "Tm=53\n",
    "cs_sq(Vtot, Tm, lv)**0.5"
   ]
  },
  {
   "cell_type": "code",
   "execution_count": 82,
   "metadata": {},
   "outputs": [],
   "source": [
    "guess_sol = optimize.fsolve(lambda x:match(x[0], cs_sq(Vtot, Tm, lv)**0.5, x[1], Tm,hv, lv),[0.5,Tnuc])"
   ]
  },
  {
   "cell_type": "code",
   "execution_count": 83,
   "metadata": {},
   "outputs": [
    {
     "data": {
      "text/plain": [
       "array([ 0.46465257, 57.1401147 ])"
      ]
     },
     "execution_count": 83,
     "metadata": {},
     "output_type": "execute_result"
    }
   ],
   "source": [
    "guess_sol"
   ]
  },
  {
   "cell_type": "code",
   "execution_count": 84,
   "metadata": {},
   "outputs": [],
   "source": [
    "ini = np.array([μ(vw, guess_sol[0]), guess_sol[1], vw])"
   ]
  },
  {
   "cell_type": "code",
   "execution_count": 91,
   "metadata": {},
   "outputs": [],
   "source": [
    "sol=integrate.solve_ivp(dYdtau, (10,1), ini, args=(Vtot, hv), t_eval=np.linspace(10, 1,100))"
   ]
  },
  {
   "cell_type": "code",
   "execution_count": 92,
   "metadata": {},
   "outputs": [
    {
     "data": {
      "text/plain": [
       "  message: The solver successfully reached the end of the integration interval.\n",
       "  success: True\n",
       "   status: 0\n",
       "        t: [ 1.000e+01  9.909e+00 ...  1.091e+00  1.000e+00]\n",
       "        y: [[ 1.877e-01  1.781e-01 ...  5.681e-04  5.347e-04]\n",
       "            [ 5.714e+01  5.687e+01 ...  5.142e+01  5.142e+01]\n",
       "            [ 6.000e-01  6.048e-01 ...  5.798e-01  5.797e-01]]\n",
       "      sol: None\n",
       " t_events: None\n",
       " y_events: None\n",
       "     nfev: 50\n",
       "     njev: 0\n",
       "      nlu: 0"
      ]
     },
     "execution_count": 92,
     "metadata": {},
     "output_type": "execute_result"
    }
   ],
   "source": [
    "sol"
   ]
  },
  {
   "cell_type": "code",
   "execution_count": 93,
   "metadata": {},
   "outputs": [
    {
     "data": {
      "text/plain": [
       "[<matplotlib.lines.Line2D at 0x31e1ecfd0>]"
      ]
     },
     "execution_count": 93,
     "metadata": {},
     "output_type": "execute_result"
    },
    {
     "data": {
      "image/png": "[encoded data removed]",
      "text/plain": [
       "<Figure size 640x480 with 1 Axes>"
      ]
     },
     "metadata": {},
     "output_type": "display_data"
    }
   ],
   "source": [
    "plt.plot(sol.y[2], sol.y[0])"
   ]
  },
  {
   "cell_type": "code",
   "execution_count": 94,
   "metadata": {},
   "outputs": [
    {
     "data": {
      "text/plain": [
       "[<matplotlib.lines.Line2D at 0x31e1c2110>]"
      ]
     },
     "execution_count": 94,
     "metadata": {},
     "output_type": "execute_result"
    },
    {
     "data": {
      "image/png": "[encoded data removed]",
      "text/plain": [
       "<Figure size 640x480 with 1 Axes>"
      ]
     },
     "metadata": {},
     "output_type": "display_data"
    }
   ],
   "source": [
    "plt.plot(sol.y[2], sol.y[1])"
   ]
  },
  {
   "cell_type": "code",
   "execution_count": 95,
   "metadata": {},
   "outputs": [],
   "source": [
    "xi_max = sol.y[2].max()\n",
    "xi_max_index = sol.y[2].argmax()"
   ]
  },
  {
   "cell_type": "code",
   "execution_count": 96,
   "metadata": {},
   "outputs": [],
   "source": [
    "v_prof = interpolate.interp1d(sol.y[2][0:xi_max_index+1],sol.y[0][0:xi_max_index+1])\n",
    "T_prof = interpolate.interp1d(sol.y[2][0:xi_max_index+1],sol.y[1][0:xi_max_index+1])"
   ]
  },
  {
   "cell_type": "code",
   "execution_count": 97,
   "metadata": {},
   "outputs": [
    {
     "data": {
      "image/png": "[encoded data removed]",
      "text/plain": [
       "<Figure size 640x480 with 1 Axes>"
      ]
     },
     "metadata": {},
     "output_type": "display_data"
    }
   ],
   "source": [
    "Plot(v_prof, (0.6, xi_max))"
   ]
  },
  {
   "cell_type": "code",
   "execution_count": 98,
   "metadata": {},
   "outputs": [
    {
     "data": {
      "image/png": "[encoded data removed]",
      "text/plain": [
       "<Figure size 640x480 with 1 Axes>"
      ]
     },
     "metadata": {},
     "output_type": "display_data"
    }
   ],
   "source": [
    "Plot(T_prof, (0.6, xi_max))"
   ]
  },
  {
   "cell_type": "code",
   "execution_count": 106,
   "metadata": {},
   "outputs": [
    {
     "name": "stdout",
     "output_type": "stream",
     "text": [
      "0.6235328033067872\n"
     ]
    }
   ],
   "source": [
    "xsh = optimize.brentq(lambda x: μ(x, v_prof(x)) * x - cs_sq(Vtot, T_prof(x), hv), vw, xi_max)\n",
    "print(xsh)"
   ]
  },
  {
   "cell_type": "code",
   "execution_count": 109,
   "metadata": {},
   "outputs": [
    {
     "data": {
      "text/plain": [
       "0.53527682484128"
      ]
     },
     "execution_count": 109,
     "metadata": {},
     "output_type": "execute_result"
    }
   ],
   "source": [
    "μ(xsh, v_prof(xsh))"
   ]
  },
  {
   "cell_type": "code",
   "execution_count": 111,
   "metadata": {},
   "outputs": [],
   "source": [
    "def sh_match_2(Tshp):\n",
    "    ap = alpha_p(Vtot, Tshp, T_prof(xsh), hv, hv)\n",
    "    r = r_func(Vtot, Tshp, T_prof(xsh), hv, hv)\n",
    "    vp = xsh\n",
    "    vm = μ(xsh, v_prof(xsh))\n",
    "    ratio = 3 + (1-3*ap)*r\n",
    "    ratio = ratio/(1+3*(1+ap)*r)\n",
    "    return vp/vm - ratio"
   ]
  },
  {
   "cell_type": "code",
   "execution_count": 112,
   "metadata": {},
   "outputs": [
    {
     "data": {
      "text/plain": [
       "51.42869487494407"
      ]
     },
     "execution_count": 112,
     "metadata": {},
     "output_type": "execute_result"
    }
   ],
   "source": [
    "optimize.newton(sh_match_2, T_prof(xsh))"
   ]
  },
  {
   "cell_type": "code",
   "execution_count": 110,
   "metadata": {},
   "outputs": [
    {
     "data": {
      "text/plain": [
       "51.42773731139599"
      ]
     },
     "execution_count": 110,
     "metadata": {},
     "output_type": "execute_result"
    }
   ],
   "source": [
    "find_Tsh(53, 0.6, 'hyb')"
   ]
  },
  {
   "cell_type": "code",
   "execution_count": 118,
   "metadata": {},
   "outputs": [
    {
     "data": {
      "text/plain": [
       "53.312886246587354"
      ]
     },
     "execution_count": 118,
     "metadata": {},
     "output_type": "execute_result"
    }
   ],
   "source": [
    "find_Tsh(55.925, 0.6, 'hyb')"
   ]
  },
  {
   "cell_type": "code",
   "execution_count": 128,
   "metadata": {},
   "outputs": [
    {
     "data": {
      "text/plain": [
       "array([ 0.48737329, 59.45418053])"
      ]
     },
     "execution_count": 128,
     "metadata": {},
     "output_type": "execute_result"
    }
   ],
   "source": [
    "Ttest=55.925\n",
    "optimize.fsolve(lambda x:match(x[0], cs_sq(Vtot, Ttest, lv)**0.5, x[1], Ttest,hv, lv),[0.1,Tnuc+3])"
   ]
  },
  {
   "cell_type": "code",
   "execution_count": 304,
   "metadata": {},
   "outputs": [
    {
     "name": "stdout",
     "output_type": "stream",
     "text": [
      "57.573460487528465\n"
     ]
    }
   ],
   "source": [
    "Tm = optimize.newton(lambda T: find_Tsh(T, 0.65, 'hyb') - Tnuc, 56)\n",
    "print(Tm)"
   ]
  },
  {
   "cell_type": "code",
   "execution_count": 306,
   "metadata": {},
   "outputs": [
    {
     "name": "stdout",
     "output_type": "stream",
     "text": [
      "0.5079512245741028\n",
      "60.46378009886314\n"
     ]
    }
   ],
   "source": [
    "vp, Tp = optimize.fsolve(lambda x:match(x[0], cs_sq(Vtot, Tm, lv)**0.5, x[1], Tm,hv, lv),[0.5,Tm + 2])\n",
    "print(vp)\n",
    "print(Tp)"
   ]
  },
  {
   "cell_type": "code",
   "execution_count": 307,
   "metadata": {},
   "outputs": [
    {
     "name": "stdout",
     "output_type": "stream",
     "text": [
      "0.5735208451926317\n",
      "57.573460487528465\n",
      "0.5079512245924611\n",
      "60.46378009809929\n"
     ]
    }
   ],
   "source": [
    "vm =cs_sq(Vtot, Tm, lv)**0.5\n",
    "print(vm)\n",
    "print(Tm)\n",
    "vp, Tp = optimize.fsolve(lambda x:match_T(x[0], vm, x[1], Tm,hv, lv),[0.5,Tm+2])\n",
    "print(vp)\n",
    "print(Tp)"
   ]
  },
  {
   "cell_type": "markdown",
   "metadata": {},
   "source": [
    "## Solve detonation boundary conditions"
   ]
  },
  {
   "cell_type": "code",
   "execution_count": 16,
   "metadata": {},
   "outputs": [],
   "source": [
    "from helperFunctions import vJ"
   ]
  },
  {
   "cell_type": "code",
   "execution_count": 316,
   "metadata": {},
   "outputs": [],
   "source": [
    "vw=0.7\n",
    "gsol=optimize.fsolve(lambda x:match(vw, x[0], Tnuc, x[1], hv, lv),[vw*0.7,Tnuc+2])"
   ]
  },
  {
   "cell_type": "code",
   "execution_count": 317,
   "metadata": {},
   "outputs": [
    {
     "data": {
      "text/plain": [
       "array([ 0.65777897, 56.15473738])"
      ]
     },
     "execution_count": 317,
     "metadata": {},
     "output_type": "execute_result"
    }
   ],
   "source": [
    "gsol"
   ]
  },
  {
   "cell_type": "code",
   "execution_count": 318,
   "metadata": {},
   "outputs": [
    {
     "data": {
      "text/plain": [
       "0.6711185294143294"
      ]
     },
     "execution_count": 318,
     "metadata": {},
     "output_type": "execute_result"
    }
   ],
   "source": [
    "vJ(alpha_p(Vtot, Tnuc, gsol[1], hv, lv))"
   ]
  },
  {
   "cell_type": "code",
   "execution_count": 335,
   "metadata": {},
   "outputs": [
    {
     "name": "stdout",
     "output_type": "stream",
     "text": [
      "[ 0.56513831 57.61888155]\n",
      "0.6549538212842086\n"
     ]
    },
    {
     "name": "stderr",
     "output_type": "stream",
     "text": [
      "/Users/quarkquartet/anaconda3/lib/python3.10/site-packages/scipy/optimize/_minpack_py.py:178: RuntimeWarning: The iteration is not making good progress, as measured by the \n",
      "  improvement from the last five Jacobian evaluations.\n",
      "  warnings.warn(msg, RuntimeWarning)\n"
     ]
    }
   ],
   "source": [
    "vw=0.64\n",
    "gsol=optimize.fsolve(lambda x:match(vw, x[0], Tnuc, x[1], hv, lv),[vw*0.9,Tnuc+2])\n",
    "print(gsol)\n",
    "print(vJ(alpha_p(Vtot, Tnuc, gsol[1], hv, lv)))"
   ]
  },
  {
   "cell_type": "code",
   "execution_count": 14,
   "metadata": {},
   "outputs": [],
   "source": [
    "def test_vJ(vw):\n",
    "    gsol=optimize.fsolve(lambda x:match(vw, x[0], Tnuc, x[1], hv, lv),[vw*0.9,Tnuc+2])\n",
    "    return vJ(alpha_p(Vtot, Tnuc, gsol[1], hv, lv))"
   ]
  },
  {
   "cell_type": "code",
   "execution_count": 17,
   "metadata": {},
   "outputs": [
    {
     "name": "stderr",
     "output_type": "stream",
     "text": [
      "/Users/tongou/miniconda3/envs/py3-10-9/lib/python3.10/site-packages/scipy/optimize/_minpack_py.py:178: RuntimeWarning: The iteration is not making good progress, as measured by the \n",
      "  improvement from the last five Jacobian evaluations.\n",
      "  warnings.warn(msg, RuntimeWarning)\n"
     ]
    },
    {
     "data": {
      "text/plain": [
       "[<matplotlib.lines.Line2D at 0x7f91a5c7ece0>]"
      ]
     },
     "execution_count": 17,
     "metadata": {},
     "output_type": "execute_result"
    },
    {
     "data": {
      "image/png": "[encoded data removed]",
      "text/plain": [
       "<Figure size 640x480 with 1 Axes>"
      ]
     },
     "metadata": {},
     "output_type": "display_data"
    }
   ],
   "source": [
    "Plot(test_vJ, (0.64,0.75), n=20)\n",
    "plt.plot(np.linspace(0.64,0.75,20), np.linspace(0.64,0.75,20))"
   ]
  },
  {
   "cell_type": "code",
   "execution_count": 18,
   "metadata": {},
   "outputs": [
    {
     "name": "stderr",
     "output_type": "stream",
     "text": [
      "/Users/tongou/miniconda3/envs/py3-10-9/lib/python3.10/site-packages/scipy/optimize/_minpack_py.py:178: RuntimeWarning: The iteration is not making good progress, as measured by the \n",
      "  improvement from the last ten iterations.\n",
      "  warnings.warn(msg, RuntimeWarning)\n"
     ]
    }
   ],
   "source": [
    "vwmax = 1.0\n",
    "eps = 0.01\n",
    "for i in range(1000):\n",
    "    vw = vwmax - i * eps\n",
    "    if test_vJ(vw) > vw:\n",
    "        vwmin = vw\n",
    "        break\n",
    "vJvalue = optimize.brentq(lambda vw:test_vJ(vw) - vw, vwmin, vwmin+eps)"
   ]
  },
  {
   "cell_type": "code",
   "execution_count": 19,
   "metadata": {},
   "outputs": [
    {
     "data": {
      "text/plain": [
       "0.6549523841230909"
      ]
     },
     "execution_count": 19,
     "metadata": {},
     "output_type": "execute_result"
    }
   ],
   "source": [
    "vJvalue"
   ]
  },
  {
   "cell_type": "code",
   "execution_count": 325,
   "metadata": {},
   "outputs": [],
   "source": [
    "vw=0.7\n",
    "vm,Tm =optimize.fsolve(lambda x:match(vw, x[0], Tnuc, x[1], hv, lv),[vw*0.7,Tnuc+2])\n",
    "vp = vw\n",
    "Tp = Tnuc\n",
    "lv_new = optimize.fmin(Vtot, lv, args=(Tm,),disp=0)"
   ]
  },
  {
   "cell_type": "code",
   "execution_count": 323,
   "metadata": {},
   "outputs": [
    {
     "data": {
      "text/plain": [
       "-0.10827711654633276"
      ]
     },
     "execution_count": 323,
     "metadata": {},
     "output_type": "execute_result"
    }
   ],
   "source": [
    "- Tp/Sqrt(1-vp**2) + Tm/Sqrt(1-vm**2) # entropy difference, should be negative"
   ]
  },
  {
   "cell_type": "code",
   "execution_count": 331,
   "metadata": {},
   "outputs": [
    {
     "name": "stderr",
     "output_type": "stream",
     "text": [
      "/var/folders/mw/3xz76j416k761n077pnr10nc0000gn/T/ipykernel_11107/351620250.py:14: DeprecationWarning: Conversion of an array with ndim > 0 to a scalar is deprecated, and will error in future. Ensure you extract a single element from your array before performing this operation. (Deprecated NumPy 1.25.)\n",
      "  T_sol[i] = s\n"
     ]
    }
   ],
   "source": [
    "Lh = 0.1\n",
    "npoints = 100\n",
    "z_range = np.linspace(-8*Lh, 5*Lh, npoints)\n",
    "T_sol = np.zeros((npoints,))\n",
    "for i in range(npoints):\n",
    "    T33min = optimize.minimize(lambda T: T33(T[0], z_range[i], Lh), Tp, method='Nelder-Mead', bounds = [(40, 90)])\n",
    "    if T33min.fun > 0:\n",
    "        T_sol[i]=T33min.x[0]\n",
    "    else:\n",
    "        try:\n",
    "            s = optimize.newton(lambda T: T33(T, z_range[i], Lh), Tp)\n",
    "        except:\n",
    "            s = optimize.fsolve(lambda T: T33(T[0], z_range[i], Lh), Tp)[0]\n",
    "        T_sol[i] = s\n",
    "\n",
    "Tsol_list.append(T_sol)\n",
    "hvalues = h_profile(z_range, Lh)\n",
    "hprime = np.vectorize(lambda z: -0.5*(h0*Sech(z/Lh)**2)/Lh)\n",
    "d2zh = np.vectorize(lambda z: (h0*Sech(z/Lh)**2*Tanh(z/Lh))/Lh**2)\n",
    "Eh = np.array([mod.gradV([hvalues[i]], T_sol[i]) - d2zh(z_range[i])  for i in range(npoints)]).reshape((-1,))\n",
    "    \n",
    "inte = - Eh * hprime(z_range)"
   ]
  },
  {
   "cell_type": "code",
   "execution_count": 332,
   "metadata": {},
   "outputs": [
    {
     "data": {
      "text/plain": [
       "[<matplotlib.lines.Line2D at 0x323f948e0>]"
      ]
     },
     "execution_count": 332,
     "metadata": {},
     "output_type": "execute_result"
    },
    {
     "data": {
      "image/png": "[encoded data removed]",
      "text/plain": [
       "<Figure size 640x480 with 1 Axes>"
      ]
     },
     "metadata": {},
     "output_type": "display_data"
    }
   ],
   "source": [
    "plt.plot(z_range, T_sol)"
   ]
  },
  {
   "cell_type": "code",
   "execution_count": 333,
   "metadata": {},
   "outputs": [
    {
     "data": {
      "text/plain": [
       "[<matplotlib.lines.Line2D at 0x323ff5150>]"
      ]
     },
     "execution_count": 333,
     "metadata": {},
     "output_type": "execute_result"
    },
    {
     "data": {
      "image/png": "[encoded data removed]",
      "text/plain": [
       "<Figure size 640x480 with 1 Axes>"
      ]
     },
     "metadata": {},
     "output_type": "display_data"
    }
   ],
   "source": [
    "plt.plot(z_range, Eh)"
   ]
  },
  {
   "cell_type": "code",
   "execution_count": 334,
   "metadata": {},
   "outputs": [
    {
     "data": {
      "text/plain": [
       "[<matplotlib.lines.Line2D at 0x324078670>]"
      ]
     },
     "execution_count": 334,
     "metadata": {},
     "output_type": "execute_result"
    },
    {
     "data": {
      "image/png": "[encoded data removed]",
      "text/plain": [
       "<Figure size 640x480 with 1 Axes>"
      ]
     },
     "metadata": {},
     "output_type": "display_data"
    }
   ],
   "source": [
    "plt.plot(z_range, inte)"
   ]
  },
  {
   "cell_type": "code",
   "execution_count": 350,
   "metadata": {},
   "outputs": [],
   "source": [
    "vwdet = np.linspace(vJvalue*1.01, 0.99, 5).tolist()\n",
    "Pdet = []\n",
    "sdiffdet = []"
   ]
  },
  {
   "cell_type": "code",
   "execution_count": 351,
   "metadata": {},
   "outputs": [
    {
     "name": "stdout",
     "output_type": "stream",
     "text": [
      "vw = 0.6615041780659539\n",
      "Solving moments.\n"
     ]
    },
    {
     "name": "stderr",
     "output_type": "stream",
     "text": [
      "/var/folders/mw/3xz76j416k761n077pnr10nc0000gn/T/ipykernel_11107/217839514.py:37: DeprecationWarning: Conversion of an array with ndim > 0 to a scalar is deprecated, and will error in future. Ensure you extract a single element from your array before performing this operation. (Deprecated NumPy 1.25.)\n",
      "  T_sol[i] = s\n"
     ]
    },
    {
     "name": "stdout",
     "output_type": "stream",
     "text": [
      "Moment solved, Lh = 0.13397504521690212\n",
      "vw = 0.7436281335494654\n",
      "Solving moments.\n",
      "Moment solved, Lh = 0.13231580377855168\n",
      "vw = 0.8257520890329769\n",
      "Solving moments.\n",
      "Moment solved, Lh = 0.12907249895901224\n",
      "vw = 0.9078760445164884\n",
      "Solving moments.\n",
      "Moment solved, Lh = 0.12749439102614515\n",
      "vw = 0.99\n",
      "Solving moments.\n",
      "Moment solved, Lh = 0.1265732618770968\n"
     ]
    }
   ],
   "source": [
    "for vw in vwdet:\n",
    "    print(\"vw = \" + str(vw))\n",
    "    vm,Tm =optimize.fsolve(lambda x:match(vw, x[0], Tnuc, x[1], hv, lv),[vw*0.7,Tnuc+2])\n",
    "    vp = vw\n",
    "    Tp = Tnuc\n",
    "    lv_new = optimize.fmin(Vtot, lv, args=(Tm,),disp=0)\n",
    "    h0 = lv_new\n",
    "\n",
    "    sdiffdet.append(- Tp/Sqrt(1-vp**2) + Tm/Sqrt(1-vm**2))\n",
    "\n",
    "    def h_profile(z, Lh):\n",
    "        z = np.asanyarray(z)\n",
    "        hz = 0.5*h0*(1-np.tanh(z/Lh))\n",
    "        return hz\n",
    "    c1 = w(Vtot, Tm, lv_new) * vm/(1-vm**2)\n",
    "    s1=c1\n",
    "    c2=-Vtot(lv_new, Tm)+ w(Vtot, Tm, lv_new) * vm**2 /(1-vm**2)\n",
    "    s2=c2\n",
    "    def T33(T,z, Lh):\n",
    "        derh = derivative(lambda zvalue: h_profile(zvalue,Lh),z)\n",
    "        field_value = [h_profile(z, Lh)]\n",
    "        return (0.5*derh**2 - Vtot(field_value, T) - 0.5*w(Vtot, T, field_value) + 0.5*(4*s1**2 + w(Vtot, T, field_value)**2)**0.5 - s2)/1e6\n",
    "    \n",
    "    def moments(Lh):\n",
    "        npoints = 100\n",
    "        z_range = np.linspace(-8*Lh, 5*Lh, npoints)\n",
    "        T_sol = np.zeros((npoints,))\n",
    "        for i in range(npoints):\n",
    "            T33min = optimize.minimize(lambda T: T33(T[0], z_range[i], Lh), Tp, method='Nelder-Mead', bounds = [(40, 90)])\n",
    "            if T33min.fun > 0:\n",
    "                T_sol[i]=T33min.x[0]\n",
    "            else:\n",
    "                try:\n",
    "                    s = optimize.newton(lambda T: T33(T, z_range[i], Lh), Tp)\n",
    "                except:\n",
    "                    s = optimize.fsolve(lambda T: T33(T[0], z_range[i], Lh), Tp)[0]\n",
    "                T_sol[i] = s\n",
    "\n",
    "        hvalues = h_profile(z_range, Lh)\n",
    "        hprime = np.vectorize(lambda z: -0.5*(h0*Sech(z/Lh)**2)/Lh)\n",
    "        d2zh = np.vectorize(lambda z: (h0*Sech(z/Lh)**2*Tanh(z/Lh))/Lh**2)\n",
    "        Eh = np.array([mod.gradV([hvalues[i]], T_sol[i]) - d2zh(z_range[i])  for i in range(npoints)]).reshape((-1,))\n",
    "\n",
    "        Ph = np.trapz(- Eh * hprime(z_range), z_range)\n",
    "        Gh = np.trapz( Eh * hprime(z_range) *(2*h_profile(z_range, Lh)/h0 - 1) , z_range)\n",
    "        return np.array([Ph, Gh])/1e6\n",
    "    \n",
    "    print('Solving moments.')\n",
    "    Lsol = optimize.newton(lambda L: moments(L)[-1], 0.2)\n",
    "    print('Moment solved, Lh = ' + str(Lsol))\n",
    "    P = moments(Lsol)[0]\n",
    "    Pdet.append(P)\n"
   ]
  },
  {
   "cell_type": "code",
   "execution_count": 353,
   "metadata": {},
   "outputs": [
    {
     "data": {
      "text/plain": [
       "[-0.3772469314146626,\n",
       " -0.6842367673870648,\n",
       " -0.7785859295748131,\n",
       " -0.8258308006870283,\n",
       " -0.8541361718022109]"
      ]
     },
     "execution_count": 353,
     "metadata": {},
     "output_type": "execute_result"
    }
   ],
   "source": [
    "Pdet"
   ]
  },
  {
   "cell_type": "code",
   "execution_count": 354,
   "metadata": {},
   "outputs": [
    {
     "data": {
      "text/plain": [
       "[-0.06627218142820368,\n",
       " -0.13803389947514688,\n",
       " -0.18846838200938976,\n",
       " -0.2706901649670357,\n",
       " -0.8353388043871064]"
      ]
     },
     "execution_count": 354,
     "metadata": {},
     "output_type": "execute_result"
    }
   ],
   "source": [
    "sdiffdet"
   ]
  },
  {
   "cell_type": "code",
   "execution_count": 355,
   "metadata": {},
   "outputs": [
    {
     "data": {
      "text/plain": [
       "[0.1, 0.18, 0.25, 0.33, 0.4, 0.48, 0.55, 0.6]"
      ]
     },
     "execution_count": 355,
     "metadata": {},
     "output_type": "execute_result"
    }
   ],
   "source": [
    "vwlist"
   ]
  },
  {
   "cell_type": "code",
   "execution_count": 356,
   "metadata": {},
   "outputs": [
    {
     "data": {
      "text/plain": [
       "array([-1.13967089, -1.10989716, -1.07182336, -1.00850629, -0.92029511,\n",
       "       -0.72301204, -0.26152625,  0.61461885])"
      ]
     },
     "execution_count": 356,
     "metadata": {},
     "output_type": "execute_result"
    }
   ],
   "source": [
    "Plist.tolist()"
   ]
  },
  {
   "cell_type": "code",
   "execution_count": 358,
   "metadata": {},
   "outputs": [
    {
     "data": {
      "text/plain": [
       "array([-1.13967089, -1.10989716, -1.07182336, -1.00850629, -0.92029511,\n",
       "       -0.72301204, -0.26152625,  0.61461885])"
      ]
     },
     "execution_count": 358,
     "metadata": {},
     "output_type": "execute_result"
    }
   ],
   "source": [
    "Plist"
   ]
  },
  {
   "cell_type": "code",
   "execution_count": 357,
   "metadata": {},
   "outputs": [
    {
     "data": {
      "text/plain": [
       "array([-0.16469655, -0.16121641, -0.15682295, -0.14911955, -0.13719636,\n",
       "       -0.10738916, -0.03672801,  0.07572929])"
      ]
     },
     "execution_count": 357,
     "metadata": {},
     "output_type": "execute_result"
    }
   ],
   "source": [
    "sdifflist"
   ]
  },
  {
   "cell_type": "code",
   "execution_count": 359,
   "metadata": {},
   "outputs": [],
   "source": [
    "Pfinal = Plist.tolist() + Pdet\n",
    "sdifffinal = sdifflist.tolist() + sdiffdet"
   ]
  },
  {
   "cell_type": "code",
   "execution_count": 361,
   "metadata": {},
   "outputs": [],
   "source": [
    "vwfinal = vwlist + vwdet.tolist()"
   ]
  },
  {
   "cell_type": "code",
   "execution_count": 363,
   "metadata": {},
   "outputs": [
    {
     "data": {
      "text/plain": [
       "Text(0, 0.5, '$P_{\\\\rm tot}$')"
      ]
     },
     "execution_count": 363,
     "metadata": {},
     "output_type": "execute_result"
    },
    {
     "data": {
      "image/png": "[encoded data removed]",
      "text/plain": [
       "<Figure size 640x480 with 1 Axes>"
      ]
     },
     "metadata": {},
     "output_type": "display_data"
    }
   ],
   "source": [
    "plt.plot(vwfinal, Pfinal)\n",
    "plt.xlabel(r'$v_w$')\n",
    "plt.ylabel(r'$P_{\\rm tot}$')"
   ]
  },
  {
   "cell_type": "code",
   "execution_count": 365,
   "metadata": {},
   "outputs": [
    {
     "data": {
      "text/plain": [
       "Text(0, 0.5, '$\\\\Delta (s \\\\gamma v)$')"
      ]
     },
     "execution_count": 365,
     "metadata": {},
     "output_type": "execute_result"
    },
    {
     "data": {
      "image/png": "[encoded data removed]",
      "text/plain": [
       "<Figure size 640x480 with 1 Axes>"
      ]
     },
     "metadata": {},
     "output_type": "display_data"
    }
   ],
   "source": [
    "plt.plot(vwfinal[0:-1], sdifffinal[0:-1])\n",
    "plt.xlabel(r'$v_w$')\n",
    "plt.ylabel(r'$\\Delta (s \\gamma v)$')"
   ]
  },
  {
   "cell_type": "markdown",
   "metadata": {},
   "source": [
    "## Solve the temperature profile and the moments"
   ]
  },
  {
   "cell_type": "code",
   "execution_count": 326,
   "metadata": {},
   "outputs": [],
   "source": [
    "h0 = lv_new\n",
    "\n",
    "def h_profile(z, Lh):\n",
    "    z = np.asanyarray(z)\n",
    "    hz = 0.5*h0*(1-np.tanh(z/Lh))\n",
    "    return hz\n",
    "c1 = w(Vtot, Tm, lv_new) * vm/(1-vm**2)\n",
    "s1=c1\n",
    "c2=-Vtot(lv_new, Tm)+ w(Vtot, Tm, lv_new) * vm**2 /(1-vm**2)\n",
    "s2=c2"
   ]
  },
  {
   "cell_type": "code",
   "execution_count": 327,
   "metadata": {},
   "outputs": [],
   "source": [
    "def T33(T,z, Lh):\n",
    "    derh = derivative(lambda zvalue: h_profile(zvalue,Lh),z)\n",
    "    field_value = [h_profile(z, Lh)]\n",
    "    return (0.5*derh**2 - Vtot(field_value, T) - 0.5*w(Vtot, T, field_value) + 0.5*(4*s1**2 + w(Vtot, T, field_value)**2)**0.5 - s2)/1e6"
   ]
  },
  {
   "cell_type": "code",
   "execution_count": 286,
   "metadata": {},
   "outputs": [
    {
     "name": "stdout",
     "output_type": "stream",
     "text": [
      "Deflagration.\n",
      "T33 prepared.\n"
     ]
    },
    {
     "name": "stderr",
     "output_type": "stream",
     "text": [
      "/var/folders/mw/3xz76j416k761n077pnr10nc0000gn/T/ipykernel_11107/592092013.py:53: DeprecationWarning: Conversion of an array with ndim > 0 to a scalar is deprecated, and will error in future. Ensure you extract a single element from your array before performing this operation. (Deprecated NumPy 1.25.)\n",
      "  T_sol[i] = s\n"
     ]
    },
    {
     "name": "stdout",
     "output_type": "stream",
     "text": [
      "Deflagration.\n",
      "T33 prepared.\n",
      "Hybrid.\n"
     ]
    },
    {
     "name": "stderr",
     "output_type": "stream",
     "text": [
      "/Users/quarkquartet/anaconda3/lib/python3.10/site-packages/scipy/optimize/_minpack_py.py:178: RuntimeWarning: The iteration is not making good progress, as measured by the \n",
      "  improvement from the last ten iterations.\n",
      "  warnings.warn(msg, RuntimeWarning)\n",
      "/Users/quarkquartet/anaconda3/lib/python3.10/site-packages/scipy/optimize/_minpack_py.py:178: RuntimeWarning: The iteration is not making good progress, as measured by the \n",
      "  improvement from the last five Jacobian evaluations.\n",
      "  warnings.warn(msg, RuntimeWarning)\n"
     ]
    },
    {
     "name": "stdout",
     "output_type": "stream",
     "text": [
      "Boundary condition found.\n",
      "T33 prepared.\n"
     ]
    }
   ],
   "source": [
    "vwlist = [0.4,0.5,0.6]\n",
    "Tsol_list = []\n",
    "Ehlist = []\n",
    "intelist = []\n",
    "for vw in vwlist:\n",
    "    # Test solution type. Start from deflagration to test.\n",
    "    Tm = optimize.newton(lambda T: find_Tsh(T, vw)-Tnuc, Tnuc)\n",
    "    lv_new = mod.findMinimum(lv, Tm)\n",
    "    if cs_sq(Vtot, Tm, lv_new)**0.5 > vw:\n",
    "        print(\"Deflagration.\")\n",
    "        vp, Tp = optimize.fsolve(lambda x:match(x[0],vw,x[1], Tm, hv, lv),[0.3, Tnuc], xtol=1e-10)\n",
    "        vm = vw\n",
    "    else:\n",
    "        print(\"Hybrid.\")\n",
    "        Tm = optimize.newton(lambda T: find_Tsh(T, vw, 'hyb')-Tnuc, Tnuc+1)\n",
    "        lv_new = mod.findMinimum(lv, Tm)\n",
    "        vm = cs_sq(Vtot, Tm,lv_new)**0.5\n",
    "        vp, Tp = optimize.fsolve(lambda x:match(x[0],vm,x[1], Tm, hv, lv),[0.5, Tnuc+3], xtol=1e-10)\n",
    "        print(\"Boundary condition found.\")\n",
    "\n",
    "    h0 = lv_new\n",
    "\n",
    "    def h_profile(z, Lh):\n",
    "        z = np.asanyarray(z)\n",
    "        hz = 0.5*h0*(1-np.tanh(z/Lh))\n",
    "        return hz\n",
    "\n",
    "    c1 = w(Vtot, Tm, lv_new) * vm/(1-vm**2)\n",
    "    s1=c1\n",
    "    c2=-Vtot(lv_new, Tm)+ w(Vtot, Tm, lv_new) * vm**2 /(1-vm**2)\n",
    "    s2=c2\n",
    "\n",
    "    def T33(T,z, Lh):\n",
    "        derh = derivative(lambda zvalue: h_profile(zvalue,Lh),z)\n",
    "        field_value = [h_profile(z, Lh)]\n",
    "        return (0.5*derh**2 - Vtot(field_value, T) - 0.5*w(Vtot, T, field_value) + 0.5*(4*s1**2 + w(Vtot, T, field_value)**2)**0.5 - s2)/1e6\n",
    "\n",
    "    print('T33 prepared.')\n",
    "    \n",
    "    Lh = 0.1\n",
    "    npoints = 100\n",
    "    z_range = np.linspace(-8*Lh, 5*Lh, npoints)\n",
    "    T_sol = np.zeros((npoints,))\n",
    "    for i in range(npoints):\n",
    "        T33min = optimize.minimize(lambda T: T33(T[0], z_range[i], Lh), Tp, method='Nelder-Mead', bounds = [(40, 90)])\n",
    "        if T33min.fun > 0:\n",
    "            T_sol[i]=T33min.x[0]\n",
    "        else:\n",
    "            try:\n",
    "                s = optimize.newton(lambda T: T33(T, z_range[i], Lh), Tp)\n",
    "            except:\n",
    "                s = optimize.fsolve(lambda T: T33(T[0], z_range[i], Lh), Tp)[0]\n",
    "            T_sol[i] = s\n",
    "\n",
    "    Tsol_list.append(T_sol)\n",
    "    hvalues = h_profile(z_range, Lh)\n",
    "    hprime = np.vectorize(lambda z: -0.5*(h0*Sech(z/Lh)**2)/Lh)\n",
    "    d2zh = np.vectorize(lambda z: (h0*Sech(z/Lh)**2*Tanh(z/Lh))/Lh**2)\n",
    "    Eh = np.array([mod.gradV([hvalues[i]], T_sol[i]) - d2zh(z_range[i])  for i in range(npoints)]).reshape((-1,))\n",
    "    \n",
    "    inte = - Eh * hprime(z_range)\n",
    "\n",
    "    Ehlist.append(Eh)\n",
    "    intelist.append(inte)"
   ]
  },
  {
   "cell_type": "code",
   "execution_count": 287,
   "metadata": {},
   "outputs": [
    {
     "data": {
      "text/plain": [
       "<matplotlib.legend.Legend at 0x31f7997b0>"
      ]
     },
     "execution_count": 287,
     "metadata": {},
     "output_type": "execute_result"
    },
    {
     "data": {
      "image/png": "[encoded data removed]",
      "text/plain": [
       "<Figure size 640x480 with 1 Axes>"
      ]
     },
     "metadata": {},
     "output_type": "display_data"
    }
   ],
   "source": [
    "for i in range(3):\n",
    "    plt.plot(z_range, Tsol_list[i], label=f'vw={vwlist[i]}')\n",
    "\n",
    "plt.legend()"
   ]
  },
  {
   "cell_type": "code",
   "execution_count": 288,
   "metadata": {},
   "outputs": [
    {
     "data": {
      "text/plain": [
       "<matplotlib.legend.Legend at 0x31f03df60>"
      ]
     },
     "execution_count": 288,
     "metadata": {},
     "output_type": "execute_result"
    },
    {
     "data": {
      "image/png": "[encoded data removed]",
      "text/plain": [
       "<Figure size 640x480 with 1 Axes>"
      ]
     },
     "metadata": {},
     "output_type": "display_data"
    }
   ],
   "source": [
    "for i in range(3):\n",
    "    plt.plot(z_range, Ehlist[i], label=f'vw={vwlist[i]}')\n",
    "\n",
    "plt.legend()"
   ]
  },
  {
   "cell_type": "code",
   "execution_count": 289,
   "metadata": {},
   "outputs": [
    {
     "data": {
      "text/plain": [
       "<matplotlib.legend.Legend at 0x32318c0d0>"
      ]
     },
     "execution_count": 289,
     "metadata": {},
     "output_type": "execute_result"
    },
    {
     "data": {
      "image/png": "[encoded data removed]",
      "text/plain": [
       "<Figure size 640x480 with 1 Axes>"
      ]
     },
     "metadata": {},
     "output_type": "display_data"
    }
   ],
   "source": [
    "for i in range(3):\n",
    "    plt.plot(z_range, intelist[i], label=f'vw={vwlist[i]}')\n",
    "\n",
    "plt.legend()"
   ]
  },
  {
   "cell_type": "code",
   "execution_count": 268,
   "metadata": {},
   "outputs": [
    {
     "data": {
      "text/plain": [
       "0.5838843622798291"
      ]
     },
     "execution_count": 268,
     "metadata": {},
     "output_type": "execute_result"
    }
   ],
   "source": [
    "np.trapz(intelist[2], z_range)/1e6"
   ]
  },
  {
   "cell_type": "code",
   "execution_count": 328,
   "metadata": {},
   "outputs": [],
   "source": [
    "def moments(Lh):\n",
    "    npoints = 100\n",
    "    z_range = np.linspace(-8*Lh, 5*Lh, npoints)\n",
    "    T_sol = np.zeros((npoints,))\n",
    "    for i in range(npoints):\n",
    "        T33min = optimize.minimize(lambda T: T33(T[0], z_range[i], Lh), Tp, method='Nelder-Mead', bounds = [(40, 90)])\n",
    "        if T33min.fun > 0:\n",
    "            T_sol[i]=T33min.x[0]\n",
    "        else:\n",
    "            try:\n",
    "                s = optimize.newton(lambda T: T33(T, z_range[i], Lh), Tp)\n",
    "            except:\n",
    "                s = optimize.fsolve(lambda T: T33(T[0], z_range[i], Lh), Tp)[0]\n",
    "            T_sol[i] = s\n",
    "\n",
    "    hvalues = h_profile(z_range, Lh)\n",
    "    hprime = np.vectorize(lambda z: -0.5*(h0*Sech(z/Lh)**2)/Lh)\n",
    "    d2zh = np.vectorize(lambda z: (h0*Sech(z/Lh)**2*Tanh(z/Lh))/Lh**2)\n",
    "    Eh = np.array([mod.gradV([hvalues[i]], T_sol[i]) - d2zh(z_range[i])  for i in range(npoints)]).reshape((-1,))\n",
    "    \n",
    "    Ph = np.trapz(- Eh * hprime(z_range), z_range)\n",
    "    Gh = np.trapz( Eh * hprime(z_range) *(2*h_profile(z_range, Lh)/h0 - 1) , z_range)\n",
    "    return np.array([Ph, Gh])/1e6"
   ]
  },
  {
   "cell_type": "code",
   "execution_count": 330,
   "metadata": {},
   "outputs": [
    {
     "name": "stderr",
     "output_type": "stream",
     "text": [
      "/var/folders/mw/3xz76j416k761n077pnr10nc0000gn/T/ipykernel_11107/2217937712.py:14: DeprecationWarning: Conversion of an array with ndim > 0 to a scalar is deprecated, and will error in future. Ensure you extract a single element from your array before performing this operation. (Deprecated NumPy 1.25.)\n",
      "  T_sol[i] = s\n"
     ]
    },
    {
     "data": {
      "text/plain": [
       "array([-0.56750735, -0.16891291])"
      ]
     },
     "execution_count": 330,
     "metadata": {},
     "output_type": "execute_result"
    }
   ],
   "source": [
    "moments(0.1)"
   ]
  },
  {
   "cell_type": "code",
   "execution_count": 293,
   "metadata": {},
   "outputs": [
    {
     "name": "stderr",
     "output_type": "stream",
     "text": [
      "/var/folders/mw/3xz76j416k761n077pnr10nc0000gn/T/ipykernel_11107/2217937712.py:14: DeprecationWarning: Conversion of an array with ndim > 0 to a scalar is deprecated, and will error in future. Ensure you extract a single element from your array before performing this operation. (Deprecated NumPy 1.25.)\n",
      "  T_sol[i] = s\n"
     ]
    },
    {
     "data": {
      "text/plain": [
       "array([0.62055401, 0.05432061])"
      ]
     },
     "execution_count": 293,
     "metadata": {},
     "output_type": "execute_result"
    }
   ],
   "source": [
    "moments(0.3)"
   ]
  },
  {
   "cell_type": "code",
   "execution_count": 294,
   "metadata": {},
   "outputs": [
    {
     "name": "stderr",
     "output_type": "stream",
     "text": [
      "/var/folders/mw/3xz76j416k761n077pnr10nc0000gn/T/ipykernel_11107/2217937712.py:14: DeprecationWarning: Conversion of an array with ndim > 0 to a scalar is deprecated, and will error in future. Ensure you extract a single element from your array before performing this operation. (Deprecated NumPy 1.25.)\n",
      "  T_sol[i] = s\n"
     ]
    },
    {
     "data": {
      "image/png": "[encoded data removed]",
      "text/plain": [
       "<Figure size 640x480 with 1 Axes>"
      ]
     },
     "metadata": {},
     "output_type": "display_data"
    }
   ],
   "source": [
    "Plot(lambda Lh: moments(Lh)[-1], (0.08,0.3), n=10)"
   ]
  },
  {
   "cell_type": "code",
   "execution_count": 165,
   "metadata": {},
   "outputs": [],
   "source": [
    "vwlist = np.linspace(0.1,0.55,6)\n",
    "Plist = np.zeros((6,))"
   ]
  },
  {
   "cell_type": "code",
   "execution_count": 166,
   "metadata": {},
   "outputs": [],
   "source": [
    "vwlist = [round(vw,2) for vw in vwlist]"
   ]
  },
  {
   "cell_type": "code",
   "execution_count": 296,
   "metadata": {},
   "outputs": [],
   "source": [
    "def Ptot(vw):\n",
    "    # Test solution type. Start from deflagration to test.\n",
    "    Tm = optimize.newton(lambda T: find_Tsh(T, vw)-Tnuc, Tnuc)\n",
    "    lv_new = mod.findMinimum(lv, Tm)\n",
    "    if cs_sq(Vtot, Tm, lv_new)**0.5 > vw:\n",
    "        print(\"Deflagration.\")\n",
    "        vp, Tp = optimize.fsolve(lambda x:match(x[0],vw,x[1], Tm, hv, lv),[0.3, Tnuc], xtol=1e-10)\n",
    "        vm = vw\n",
    "    else:\n",
    "        print(\"Hybrid.\")\n",
    "        Tm = optimize.newton(lambda T: find_Tsh(T, vw, 'hyb')-Tnuc, Tnuc+1)\n",
    "        lv_new = mod.findMinimum(lv, Tm)\n",
    "        vm = cs_sq(Vtot, Tm,lv_new)**0.5\n",
    "        vp, Tp = optimize.fsolve(lambda x:match(x[0],vm,x[1], Tm, hv, lv),[0.5, Tnuc+3], xtol=1e-10)\n",
    "        print(\"Boundary condition found.\")\n",
    "\n",
    "\n",
    "    hv_new = mod.findMinimum(hv, Tp)\n",
    "    h0 = lv_new\n",
    "\n",
    "    def h_profile(z, Lh):\n",
    "        z = np.asanyarray(z)\n",
    "        hz = 0.5*h0*(1-np.tanh(z/Lh))\n",
    "        return hz\n",
    "    c1 = w(Vtot, Tm, lv_new) * vm/(1-vm**2)\n",
    "    s1=c1\n",
    "    c2=-Vtot(lv_new, Tm)+ w(Vtot, Tm, lv_new) * vm**2 /(1-vm**2)\n",
    "    s2=c2\n",
    "\n",
    "    def T33(T,z, Lh):\n",
    "        derh = derivative(lambda zvalue: h_profile(zvalue,Lh),z)\n",
    "        field_value = [h_profile(z, Lh)]\n",
    "        return (0.5*derh**2 - Vtot(field_value, T) - 0.5*w(Vtot, T, field_value) + 0.5*(4*s1**2 + w(Vtot, T, field_value)**2)**0.5 - s2)/1e6\n",
    "\n",
    "    print('T33 prepared.')\n",
    "    \n",
    "    def moments(Lh):\n",
    "        npoints = 100\n",
    "        z_range = np.linspace(-8*Lh, 5*Lh, npoints)\n",
    "        T_sol = np.zeros((npoints,))\n",
    "        for i in range(npoints):\n",
    "            T33min = optimize.minimize(lambda T: T33(T[0], z_range[i], Lh), Tp, method='Nelder-Mead', bounds = [(40, 90)])\n",
    "            if T33min.fun > 0:\n",
    "                T_sol[i]=T33min.x[0]\n",
    "            else:\n",
    "                try:\n",
    "                    s = optimize.newton(lambda T: T33(T, z_range[i], Lh), Tp)\n",
    "                except:\n",
    "                    s = optimize.fsolve(lambda T: T33(T[0], z_range[i], Lh), Tp)[0]\n",
    "                T_sol[i] = s\n",
    "\n",
    "        hvalues = h_profile(z_range, Lh)\n",
    "        hprime = np.vectorize(lambda z: -0.5*(h0*Sech(z/Lh)**2)/Lh)\n",
    "        d2zh = np.vectorize(lambda z: (h0*Sech(z/Lh)**2*Tanh(z/Lh))/Lh**2)\n",
    "        Eh = np.array([mod.gradV([hvalues[i]], T_sol[i]) - d2zh(z_range[i])  for i in range(npoints)]).reshape((-1,))\n",
    "    \n",
    "        Ph = np.trapz(- Eh * hprime(z_range), z_range)\n",
    "        Gh = np.trapz( Eh * hprime(z_range) *(2*h_profile(z_range, Lh)/h0 - 1) , z_range)\n",
    "        return np.array([Ph, Gh])/1e6\n",
    "    print('Solving moments.')\n",
    "    Lsol = optimize.newton(lambda L: moments(L)[-1], 0.2)\n",
    "    print('Moment solved, Lh = ' + str(Lsol))\n",
    "    P = moments(Lsol)[0]\n",
    "    return P"
   ]
  },
  {
   "cell_type": "code",
   "execution_count": 297,
   "metadata": {},
   "outputs": [
    {
     "name": "stdout",
     "output_type": "stream",
     "text": [
      "Hybrid.\n"
     ]
    },
    {
     "name": "stderr",
     "output_type": "stream",
     "text": [
      "/Users/quarkquartet/anaconda3/lib/python3.10/site-packages/scipy/optimize/_minpack_py.py:178: RuntimeWarning: The iteration is not making good progress, as measured by the \n",
      "  improvement from the last ten iterations.\n",
      "  warnings.warn(msg, RuntimeWarning)\n",
      "/Users/quarkquartet/anaconda3/lib/python3.10/site-packages/scipy/optimize/_minpack_py.py:178: RuntimeWarning: The iteration is not making good progress, as measured by the \n",
      "  improvement from the last five Jacobian evaluations.\n",
      "  warnings.warn(msg, RuntimeWarning)\n"
     ]
    },
    {
     "name": "stdout",
     "output_type": "stream",
     "text": [
      "Boundary condition found.\n",
      "T33 prepared.\n",
      "Solving moments.\n"
     ]
    },
    {
     "name": "stderr",
     "output_type": "stream",
     "text": [
      "/var/folders/mw/3xz76j416k761n077pnr10nc0000gn/T/ipykernel_11107/198521261.py:50: DeprecationWarning: Conversion of an array with ndim > 0 to a scalar is deprecated, and will error in future. Ensure you extract a single element from your array before performing this operation. (Deprecated NumPy 1.25.)\n",
      "  T_sol[i] = s\n"
     ]
    },
    {
     "name": "stdout",
     "output_type": "stream",
     "text": [
      "Moment solved, Lh = 0.19697792187251661\n"
     ]
    },
    {
     "data": {
      "text/plain": [
       "0.6146188510544172"
      ]
     },
     "execution_count": 297,
     "metadata": {},
     "output_type": "execute_result"
    }
   ],
   "source": [
    "Ptot(0.6)"
   ]
  },
  {
   "cell_type": "code",
   "execution_count": 298,
   "metadata": {},
   "outputs": [],
   "source": [
    "vwlist = np.linspace(0.1, 0.55, 7)\n",
    "vwlist = [round(vw,2) for vw in vwlist]\n",
    "vwlist.append(0.6)\n",
    "Plist=np.ones((8,))"
   ]
  },
  {
   "cell_type": "code",
   "execution_count": 299,
   "metadata": {},
   "outputs": [
    {
     "name": "stdout",
     "output_type": "stream",
     "text": [
      "Deflagration.\n",
      "T33 prepared.\n",
      "Solving moments.\n"
     ]
    },
    {
     "name": "stderr",
     "output_type": "stream",
     "text": [
      "/var/folders/mw/3xz76j416k761n077pnr10nc0000gn/T/ipykernel_11107/198521261.py:50: DeprecationWarning: Conversion of an array with ndim > 0 to a scalar is deprecated, and will error in future. Ensure you extract a single element from your array before performing this operation. (Deprecated NumPy 1.25.)\n",
      "  T_sol[i] = s\n"
     ]
    },
    {
     "name": "stdout",
     "output_type": "stream",
     "text": [
      "Moment solved, Lh = 0.11817805433388351\n",
      "-1.139670891193716\n",
      "Deflagration.\n",
      "T33 prepared.\n",
      "Solving moments.\n",
      "Moment solved, Lh = 0.11829393452597012\n",
      "-1.1098971647521931\n",
      "Deflagration.\n",
      "T33 prepared.\n",
      "Solving moments.\n",
      "Moment solved, Lh = 0.1183977660827226\n",
      "-1.071823362349121\n",
      "Deflagration.\n",
      "T33 prepared.\n",
      "Solving moments.\n",
      "Moment solved, Lh = 0.11852240342309264\n",
      "-1.0085062880514886\n",
      "Deflagration.\n",
      "T33 prepared.\n",
      "Solving moments.\n",
      "Moment solved, Lh = 0.11873328519248504\n",
      "-0.9202951053243743\n",
      "Deflagration.\n",
      "T33 prepared.\n",
      "Solving moments.\n",
      "Moment solved, Lh = 0.11999730273998373\n",
      "-0.7230120406423143\n",
      "Deflagration.\n",
      "T33 prepared.\n",
      "Solving moments.\n",
      "Moment solved, Lh = 0.13141286643355324\n",
      "-0.2615262477505727\n",
      "Hybrid.\n"
     ]
    },
    {
     "name": "stderr",
     "output_type": "stream",
     "text": [
      "/Users/quarkquartet/anaconda3/lib/python3.10/site-packages/scipy/optimize/_minpack_py.py:178: RuntimeWarning: The iteration is not making good progress, as measured by the \n",
      "  improvement from the last ten iterations.\n",
      "  warnings.warn(msg, RuntimeWarning)\n",
      "/Users/quarkquartet/anaconda3/lib/python3.10/site-packages/scipy/optimize/_minpack_py.py:178: RuntimeWarning: The iteration is not making good progress, as measured by the \n",
      "  improvement from the last five Jacobian evaluations.\n",
      "  warnings.warn(msg, RuntimeWarning)\n"
     ]
    },
    {
     "name": "stdout",
     "output_type": "stream",
     "text": [
      "Boundary condition found.\n",
      "T33 prepared.\n",
      "Solving moments.\n",
      "Moment solved, Lh = 0.19697792187251661\n",
      "0.6146188510544172\n"
     ]
    }
   ],
   "source": [
    "for i in range(len(vwlist)):\n",
    "    vw = vwlist[i]\n",
    "    Plist[i] = Ptot(vw)\n",
    "    print(Plist[i])"
   ]
  },
  {
   "cell_type": "code",
   "execution_count": 300,
   "metadata": {},
   "outputs": [
    {
     "data": {
      "text/plain": [
       "Text(0, 0.5, '$P_{\\\\rm tot}$')"
      ]
     },
     "execution_count": 300,
     "metadata": {},
     "output_type": "execute_result"
    },
    {
     "data": {
      "image/png": "[encoded data removed]",
      "text/plain": [
       "<Figure size 640x480 with 1 Axes>"
      ]
     },
     "metadata": {},
     "output_type": "display_data"
    }
   ],
   "source": [
    "plt.plot(vwlist, Plist)\n",
    "plt.xlabel(r'$v_w$')\n",
    "plt.ylabel(r'$P_{\\rm tot}$')"
   ]
  },
  {
   "cell_type": "code",
   "execution_count": 301,
   "metadata": {},
   "outputs": [
    {
     "ename": "RuntimeError",
     "evalue": "Failed to converge after 50 iterations, value is 53.64697073807108.",
     "output_type": "error",
     "traceback": [
      "\u001b[0;31m---------------------------------------------------------------------------\u001b[0m",
      "\u001b[0;31mRuntimeError\u001b[0m                              Traceback (most recent call last)",
      "Cell \u001b[0;32mIn[301], line 1\u001b[0m\n\u001b[0;32m----> 1\u001b[0m \u001b[43mPtot\u001b[49m\u001b[43m(\u001b[49m\u001b[38;5;241;43m0.65\u001b[39;49m\u001b[43m)\u001b[49m\n",
      "Cell \u001b[0;32mIn[296], line 3\u001b[0m, in \u001b[0;36mPtot\u001b[0;34m(vw)\u001b[0m\n\u001b[1;32m      1\u001b[0m \u001b[38;5;28;01mdef\u001b[39;00m \u001b[38;5;21mPtot\u001b[39m(vw):\n\u001b[1;32m      2\u001b[0m     \u001b[38;5;66;03m# Test solution type. Start from deflagration to test.\u001b[39;00m\n\u001b[0;32m----> 3\u001b[0m     Tm \u001b[38;5;241m=\u001b[39m \u001b[43moptimize\u001b[49m\u001b[38;5;241;43m.\u001b[39;49m\u001b[43mnewton\u001b[49m\u001b[43m(\u001b[49m\u001b[38;5;28;43;01mlambda\u001b[39;49;00m\u001b[43m \u001b[49m\u001b[43mT\u001b[49m\u001b[43m:\u001b[49m\u001b[43m \u001b[49m\u001b[43mfind_Tsh\u001b[49m\u001b[43m(\u001b[49m\u001b[43mT\u001b[49m\u001b[43m,\u001b[49m\u001b[43m \u001b[49m\u001b[43mvw\u001b[49m\u001b[43m)\u001b[49m\u001b[38;5;241;43m-\u001b[39;49m\u001b[43mTnuc\u001b[49m\u001b[43m,\u001b[49m\u001b[43m \u001b[49m\u001b[43mTnuc\u001b[49m\u001b[43m)\u001b[49m\n\u001b[1;32m      4\u001b[0m     lv_new \u001b[38;5;241m=\u001b[39m mod\u001b[38;5;241m.\u001b[39mfindMinimum(lv, Tm)\n\u001b[1;32m      5\u001b[0m     \u001b[38;5;28;01mif\u001b[39;00m cs_sq(Vtot, Tm, lv_new)\u001b[38;5;241m*\u001b[39m\u001b[38;5;241m*\u001b[39m\u001b[38;5;241m0.5\u001b[39m \u001b[38;5;241m>\u001b[39m vw:\n",
      "File \u001b[0;32m~/anaconda3/lib/python3.10/site-packages/scipy/optimize/_zeros_py.py:369\u001b[0m, in \u001b[0;36mnewton\u001b[0;34m(func, x0, fprime, args, tol, maxiter, fprime2, x1, rtol, full_output, disp)\u001b[0m\n\u001b[1;32m    366\u001b[0m \u001b[38;5;28;01mif\u001b[39;00m disp:\n\u001b[1;32m    367\u001b[0m     msg \u001b[38;5;241m=\u001b[39m (\u001b[38;5;124m\"\u001b[39m\u001b[38;5;124mFailed to converge after \u001b[39m\u001b[38;5;132;01m%d\u001b[39;00m\u001b[38;5;124m iterations, value is \u001b[39m\u001b[38;5;132;01m%s\u001b[39;00m\u001b[38;5;124m.\u001b[39m\u001b[38;5;124m\"\u001b[39m\n\u001b[1;32m    368\u001b[0m            \u001b[38;5;241m%\u001b[39m (itr \u001b[38;5;241m+\u001b[39m \u001b[38;5;241m1\u001b[39m, p))\n\u001b[0;32m--> 369\u001b[0m     \u001b[38;5;28;01mraise\u001b[39;00m \u001b[38;5;167;01mRuntimeError\u001b[39;00m(msg)\n\u001b[1;32m    371\u001b[0m \u001b[38;5;28;01mreturn\u001b[39;00m _results_select(full_output, (p, funcalls, itr \u001b[38;5;241m+\u001b[39m \u001b[38;5;241m1\u001b[39m, _ECONVERR))\n",
      "\u001b[0;31mRuntimeError\u001b[0m: Failed to converge after 50 iterations, value is 53.64697073807108."
     ]
    }
   ],
   "source": [
    "Ptot(0.65)"
   ]
  },
  {
   "cell_type": "markdown",
   "metadata": {},
   "source": [
    "## Solve entropy vanishing instead of P vanishing"
   ]
  },
  {
   "cell_type": "code",
   "execution_count": 44,
   "metadata": {},
   "outputs": [],
   "source": [
    "def entropy(V,T, vev):\n",
    "    v = optimize.fmin(V, vev, args=(T,), disp=0)\n",
    "\n",
    "    def VT(T):\n",
    "        return V(v, T)\n",
    "    \n",
    "    return -derivative(VT, T, order=1)"
   ]
  },
  {
   "cell_type": "code",
   "execution_count": 129,
   "metadata": {},
   "outputs": [],
   "source": [
    "def sdiff(vw):\n",
    "    print(\"vw = \" + str(vw))\n",
    "    # Test solution type. Start from deflagration to test.\n",
    "    Tm = optimize.newton(lambda T: find_Tsh(T, vw)-Tnuc, Tnuc-1)\n",
    "    lv_new = mod.findMinimum(lv, Tm)\n",
    "    if cs_sq(Vtot, Tm, lv_new)**0.5 > vw:\n",
    "        print(\"Deflagration.\")\n",
    "        vp, Tp = optimize.fsolve(lambda x:match(x[0],vw,x[1], Tm, hv, lv),[0.3, Tnuc], xtol=1e-10)\n",
    "        vm = vw\n",
    "    else:\n",
    "        print(\"Hybrid.\")\n",
    "        Tm = optimize.newton(lambda T: find_Tsh(T, vw, 'hyb')-Tnuc, Tnuc)\n",
    "        lv_new = mod.findMinimum(lv, Tm)\n",
    "        vp, Tp = optimize.fsolve(lambda x:match(x[0],cs_sq(Vtot, Tm,lv_new)**0.5,x[1], Tm, hv, lv),[0.5, Tnuc+3], xtol=1e-10)\n",
    "        vm = cs_sq(Vtot, Tm,lv_new)**0.5\n",
    "\n",
    "    lv_new = mod.findMinimum(lv, Tm)\n",
    "\n",
    "    diff = - Tp/Sqrt(1-vp**2) + Tm/Sqrt(1-vm**2)\n",
    "    # diff = (- entropy(Vtot, Tp, hv) * vp/Sqrt(1-vp**2) + entropy(Vtot, Tm, lv_new) * vw/Sqrt(1-vw**2))/1e6\n",
    "    return diff"
   ]
  },
  {
   "cell_type": "code",
   "execution_count": 131,
   "metadata": {},
   "outputs": [
    {
     "name": "stdout",
     "output_type": "stream",
     "text": [
      "vw = 0.6\n",
      "Hybrid.\n"
     ]
    },
    {
     "name": "stderr",
     "output_type": "stream",
     "text": [
      "/Users/quarkquartet/anaconda3/lib/python3.10/site-packages/scipy/optimize/_minpack_py.py:178: RuntimeWarning: The iteration is not making good progress, as measured by the \n",
      "  improvement from the last ten iterations.\n",
      "  warnings.warn(msg, RuntimeWarning)\n"
     ]
    },
    {
     "data": {
      "text/plain": [
       "0.07572928778000687"
      ]
     },
     "execution_count": 131,
     "metadata": {},
     "output_type": "execute_result"
    }
   ],
   "source": [
    "sdiff(0.6)"
   ]
  },
  {
   "cell_type": "code",
   "execution_count": 145,
   "metadata": {},
   "outputs": [],
   "source": [
    "vwlist = np.linspace(0.1, 0.55, 7)\n",
    "vwlist = [round(vw,2) for vw in vwlist]\n",
    "vwlist.append(0.6)\n",
    "sdifflist = np.zeros((8,))"
   ]
  },
  {
   "cell_type": "code",
   "execution_count": 147,
   "metadata": {},
   "outputs": [
    {
     "name": "stdout",
     "output_type": "stream",
     "text": [
      "vw = 0.1\n",
      "Deflagration.\n",
      "-0.16469655407827588\n",
      "vw = 0.18\n",
      "Deflagration.\n",
      "-0.16121641140055232\n",
      "vw = 0.25\n",
      "Deflagration.\n",
      "-0.15682295189592566\n",
      "vw = 0.33\n",
      "Deflagration.\n",
      "-0.14911955187093895\n",
      "vw = 0.4\n",
      "Deflagration.\n",
      "-0.13719635855872525\n",
      "vw = 0.48\n",
      "Deflagration.\n",
      "-0.10738916436063306\n",
      "vw = 0.55\n",
      "Deflagration.\n",
      "-0.036728012696571\n",
      "vw = 0.6\n",
      "Hybrid.\n"
     ]
    },
    {
     "name": "stderr",
     "output_type": "stream",
     "text": [
      "/Users/quarkquartet/anaconda3/lib/python3.10/site-packages/scipy/optimize/_minpack_py.py:178: RuntimeWarning: The iteration is not making good progress, as measured by the \n",
      "  improvement from the last ten iterations.\n",
      "  warnings.warn(msg, RuntimeWarning)\n"
     ]
    },
    {
     "name": "stdout",
     "output_type": "stream",
     "text": [
      "0.07572928778000687\n"
     ]
    }
   ],
   "source": [
    "for i in range(len(vwlist)):\n",
    "    sdifflist[i] = sdiff(vwlist[i])\n",
    "    print(sdifflist[i])"
   ]
  },
  {
   "cell_type": "code",
   "execution_count": 148,
   "metadata": {},
   "outputs": [
    {
     "data": {
      "text/plain": [
       "Text(0, 0.5, '$\\\\Delta (s \\\\gamma v)$')"
      ]
     },
     "execution_count": 148,
     "metadata": {},
     "output_type": "execute_result"
    },
    {
     "data": {
      "image/png": "[encoded data removed]",
      "text/plain": [
       "<Figure size 640x480 with 1 Axes>"
      ]
     },
     "metadata": {},
     "output_type": "display_data"
    }
   ],
   "source": [
    "plt.rc('text', usetex=True)\n",
    "plt.rc('font', family='serif')\n",
    "plt.rc('font', size=16)\n",
    "plt.rc('text.latex', preamble=r'\\usepackage{wasysym}')\n",
    "plt.plot(vwlist, sdifflist)\n",
    "plt.xlabel(r'$v_w$')\n",
    "plt.ylabel(r'$\\Delta (s \\gamma v)$')"
   ]
  },
  {
   "cell_type": "code",
   "execution_count": 243,
   "metadata": {},
   "outputs": [
    {
     "data": {
      "text/plain": [
       "[<matplotlib.lines.Line2D at 0x323297a30>]"
      ]
     },
     "execution_count": 243,
     "metadata": {},
     "output_type": "execute_result"
    },
    {
     "data": {
      "image/png": "[encoded data removed]",
      "text/plain": [
       "<Figure size 640x480 with 1 Axes>"
      ]
     },
     "metadata": {},
     "output_type": "display_data"
    }
   ],
   "source": [
    "plt.plot(np.linspace(0.1, 0.55, 7),(Plist[0]/sdifflist[0])*sdifflist[0:-1])\n",
    "plt.plot(vwlist, Plist)"
   ]
  },
  {
   "cell_type": "code",
   "execution_count": null,
   "metadata": {},
   "outputs": [],
   "source": []
  }
 ],
 "metadata": {
  "kernelspec": {
   "display_name": "Python 3 (ipykernel)",
   "language": "python",
   "name": "python3"
  },
  "language_info": {
   "codemirror_mode": {
    "name": "ipython",
    "version": 3
   },
   "file_extension": ".py",
   "mimetype": "text/x-python",
   "name": "python",
   "nbconvert_exporter": "python",
   "pygments_lexer": "ipython3",
   "version": "3.10.9"
  }
 },
 "nbformat": 4,
 "nbformat_minor": 4
}
