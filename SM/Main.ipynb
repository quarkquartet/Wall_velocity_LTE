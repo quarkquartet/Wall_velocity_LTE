{
 "cells": [
  {
   "cell_type": "markdown",
   "metadata": {},
   "source": [
    "# Bubble wall velocity under LTE"
   ]
  },
  {
   "cell_type": "code",
   "execution_count": 1,
   "metadata": {},
   "outputs": [],
   "source": [
    "import numpy as np\n",
    "from numpy import linalg as la\n",
    "from scipy import integrate\n",
    "from scipy import optimize\n",
    "from scipy import interpolate\n",
    "import scipy as sp\n",
    "from matplotlib import pyplot as plt\n",
    "import plotter as pl\n",
    "from helperFunctions import derivative, alpha_p, cs_sq, dYdtau, dvTdxi, r_func, μ, w\n",
    "\n",
    "Abs = np.abs\n",
    "Log = np.log\n",
    "Log10 = np.log10\n",
    "Pi = np.pi\n",
    "Sqrt = np.sqrt\n",
    "Exp = np.exp\n",
    "Cos = np.cos\n",
    "Sin = np.sin\n",
    "Sech = lambda x: 1/np.cosh(x)\n",
    "Tanh = np.tanh\n",
    "ArcSin = np.arcsin\n",
    "ArcTanh = np.arctanh\n",
    "Arg = np.angle\n",
    "BesselK = sp.special.kv\n",
    "Zeta = sp.special.zeta\n",
    "HeavisideTheta = lambda x: np.heaviside(x, 0)\n",
    "\n",
    "\n",
    "def Plot(fun, xminmax, n=100,xfun=np.linspace, xlog=False, ylog=False):\n",
    "    xlist = xfun(xminmax[0], xminmax[1], n)\n",
    "    ylist = [fun(x) for x in xlist]\n",
    "    plt.plot(xlist, ylist)\n",
    "    if xlog:\n",
    "        plt.xscale('log')\n",
    "    if ylog:\n",
    "        plt.yscale('log')"
   ]
  },
  {
   "cell_type": "markdown",
   "metadata": {},
   "source": [
    "## Prepare"
   ]
  },
  {
   "cell_type": "markdown",
   "metadata": {},
   "source": [
    "Import model"
   ]
  },
  {
   "cell_type": "code",
   "execution_count": 2,
   "metadata": {},
   "outputs": [],
   "source": [
    "import SM_model as m"
   ]
  },
  {
   "cell_type": "code",
   "execution_count": 3,
   "metadata": {},
   "outputs": [
    {
     "name": "stdout",
     "output_type": "stream",
     "text": [
      "Model inialized.\n",
      "g2 = 1\n",
      "λ = 0.007285228\n",
      "μh = 25.236173718618723\n"
     ]
    }
   ],
   "source": [
    "mod = m.SM(1,0.007285228,636.8644639563023)"
   ]
  },
  {
   "cell_type": "code",
   "execution_count": 4,
   "metadata": {},
   "outputs": [
    {
     "name": "stdout",
     "output_type": "stream",
     "text": [
      "Finding Tc...\n",
      "Critical temperature found! Tc = 56.636213599704206\n",
      "v_c/Tc = 2.805112061801922\n",
      "Finding Tn...\n",
      "Tunneling at T = 56.6162135997042\n",
      "S3/T = 1776610.8238727949\n",
      "Tunneling at T = 56.5962135997042\n",
      "S3/T = 451853.48778122134\n",
      "Tunneling at T = 56.576213599704204\n",
      "S3/T = 203892.62051154784\n",
      "Tunneling at T = 56.5562135997042\n",
      "S3/T = 116379.0262333563\n",
      "Tunneling at T = 56.536213599704205\n",
      "S3/T = 75553.789088199\n",
      "Tunneling at T = 56.5162135997042\n",
      "S3/T = 53207.22592941783\n",
      "Tunneling at T = 56.496213599704205\n",
      "S3/T = 39631.40597681824\n",
      "Tunneling at T = 56.4762135997042\n",
      "S3/T = 30754.56577217449\n",
      "Tunneling at T = 56.456213599704206\n",
      "S3/T = 24623.81272947193\n",
      "Tunneling at T = 56.4362135997042\n",
      "S3/T = 20206.517098491207\n",
      "Tunneling at T = 56.4162135997042\n",
      "S3/T = 16914.527910790166\n",
      "Tunneling at T = 56.396213599704204\n",
      "S3/T = 14392.707458428697\n",
      "Tunneling at T = 56.3762135997042\n",
      "S3/T = 12416.14990604183\n",
      "Tunneling at T = 56.356213599704205\n",
      "S3/T = 10836.688220748267\n",
      "Tunneling at T = 56.3362135997042\n",
      "S3/T = 9553.51471802806\n",
      "Tunneling at T = 56.316213599704206\n",
      "S3/T = 8495.974671430755\n",
      "Tunneling at T = 56.2962135997042\n",
      "S3/T = 7613.435766471618\n",
      "Tunneling at T = 56.2762135997042\n",
      "S3/T = 6868.760173489088\n",
      "Tunneling at T = 56.2562135997042\n",
      "S3/T = 6234.22120948274\n",
      "Tunneling at T = 56.2362135997042\n",
      "S3/T = 5688.769948322926\n",
      "Tunneling at T = 56.216213599704204\n",
      "S3/T = 5216.192392027777\n",
      "Tunneling at T = 56.1962135997042\n",
      "S3/T = 4803.823829838787\n",
      "Tunneling at T = 56.176213599704205\n",
      "S3/T = 4441.658382744438\n",
      "Tunneling at T = 56.1562135997042\n",
      "S3/T = 4121.6992152726025\n",
      "Tunneling at T = 56.136213599704206\n",
      "S3/T = 3837.4952198115275\n",
      "Tunneling at T = 56.1162135997042\n",
      "S3/T = 3583.7913013273687\n",
      "Tunneling at T = 56.0962135997042\n",
      "S3/T = 3356.2824793003288\n",
      "Tunneling at T = 56.076213599704204\n",
      "S3/T = 3151.378853435332\n",
      "Tunneling at T = 56.0562135997042\n",
      "S3/T = 2966.118265024189\n",
      "Tunneling at T = 56.036213599704205\n",
      "S3/T = 2798.0009764077413\n",
      "Tunneling at T = 56.0162135997042\n",
      "S3/T = 2644.923095964027\n",
      "Tunneling at T = 55.996213599704205\n",
      "S3/T = 2505.089567263601\n",
      "Tunneling at T = 55.9762135997042\n",
      "S3/T = 2376.9687774773215\n",
      "Tunneling at T = 55.956213599704206\n",
      "S3/T = 2259.260516423075\n",
      "Tunneling at T = 55.9362135997042\n",
      "S3/T = 2150.8238182668815\n",
      "Tunneling at T = 55.9162135997042\n",
      "S3/T = 2050.693836560542\n",
      "Tunneling at T = 55.896213599704204\n",
      "S3/T = 1958.0124498508071\n",
      "Tunneling at T = 55.8762135997042\n",
      "S3/T = 1872.0290684855427\n",
      "Tunneling at T = 55.856213599704205\n",
      "S3/T = 1790.590784064644\n",
      "Tunneling at T = 55.8362135997042\n",
      "S3/T = 1716.188098560719\n",
      "Tunneling at T = 55.816213599704206\n",
      "S3/T = 1646.7623657241793\n",
      "Tunneling at T = 55.7962135997042\n",
      "S3/T = 1581.8634089546767\n",
      "Tunneling at T = 55.7762135997042\n",
      "S3/T = 1521.0982059079763\n",
      "Tunneling at T = 55.7562135997042\n",
      "S3/T = 1464.1160612277126\n",
      "Tunneling at T = 55.7362135997042\n",
      "S3/T = 1410.600523303787\n",
      "Tunneling at T = 55.716213599704204\n",
      "S3/T = 1360.2751254541347\n",
      "Tunneling at T = 55.6962135997042\n",
      "S3/T = 1312.8922053854894\n",
      "Tunneling at T = 55.676213599704205\n",
      "S3/T = 1268.2353837620549\n",
      "Tunneling at T = 55.6562135997042\n",
      "S3/T = 1226.1869154911017\n",
      "Tunneling at T = 55.636213599704206\n",
      "S3/T = 1186.4504100460103\n",
      "Tunneling at T = 55.6162135997042\n",
      "S3/T = 1149.3037995327606\n",
      "Tunneling at T = 55.5962135997042\n",
      "S3/T = 1114.4289205171208\n",
      "Tunneling at T = 55.576213599704204\n",
      "S3/T = 1081.0321958986506\n",
      "Tunneling at T = 55.5562135997042\n",
      "S3/T = 1048.5170118185215\n",
      "Tunneling at T = 55.536213599704205\n",
      "S3/T = 1011.3784104479897\n",
      "Tunneling at T = 55.5162135997042\n",
      "S3/T = 983.5879148961458\n",
      "Tunneling at T = 55.496213599704205\n",
      "S3/T = 954.9411244102332\n",
      "Tunneling at T = 55.4762135997042\n",
      "S3/T = 927.6644011276082\n",
      "Tunneling at T = 55.456213599704206\n",
      "S3/T = 901.6520776704067\n",
      "Tunneling at T = 55.4362135997042\n",
      "S3/T = 876.8103315484575\n",
      "Tunneling at T = 55.4162135997042\n",
      "S3/T = 853.0637689651929\n",
      "Tunneling at T = 55.396213599704204\n",
      "S3/T = 831.2621639767254\n",
      "Tunneling at T = 55.3762135997042\n",
      "S3/T = 809.5636003107024\n",
      "Tunneling at T = 55.356213599704205\n",
      "S3/T = 788.5024184959033\n",
      "Tunneling at T = 55.3362135997042\n",
      "S3/T = 771.366799885679\n",
      "Tunneling at T = 55.316213599704206\n",
      "S3/T = 752.4818372432488\n",
      "Tunneling at T = 55.2962135997042\n",
      "S3/T = 734.3372617560719\n",
      "Tunneling at T = 55.2762135997042\n",
      "S3/T = 717.8980750039902\n",
      "Tunneling at T = 55.2562135997042\n",
      "S3/T = 700.8808514850555\n",
      "Tunneling at T = 55.2362135997042\n",
      "S3/T = 684.5451338882705\n",
      "Tunneling at T = 55.216213599704204\n",
      "S3/T = 668.862600062293\n",
      "Tunneling at T = 55.1962135997042\n",
      "S3/T = 653.835218117134\n",
      "Tunneling at T = 55.176213599704205\n",
      "S3/T = 639.3895934588112\n",
      "Tunneling at T = 55.1562135997042\n",
      "S3/T = 625.0197915687158\n",
      "Tunneling at T = 55.136213599704206\n",
      "S3/T = 611.1593959657836\n",
      "Tunneling at T = 55.1162135997042\n",
      "S3/T = 597.7737045240178\n",
      "Tunneling at T = 55.0962135997042\n",
      "S3/T = 584.8285174040241\n",
      "Tunneling at T = 55.076213599704204\n",
      "S3/T = 572.2856763688887\n",
      "Tunneling at T = 55.0562135997042\n",
      "S3/T = 560.037903634192\n",
      "Tunneling at T = 55.036213599704205\n",
      "S3/T = 548.2095138142902\n",
      "Tunneling at T = 55.0162135997042\n",
      "S3/T = 536.8233437503138\n",
      "Tunneling at T = 54.996213599704205\n",
      "S3/T = 525.7888903832005\n",
      "Tunneling at T = 54.9762135997042\n",
      "S3/T = 515.1020177455806\n",
      "Tunneling at T = 54.9562135997042\n",
      "S3/T = 504.753828764423\n",
      "Tunneling at T = 54.9362135997042\n",
      "S3/T = 494.72910634760774\n",
      "Tunneling at T = 54.9162135997042\n",
      "S3/T = 485.0046351044994\n",
      "Tunneling at T = 54.896213599704204\n",
      "S3/T = 475.57223992676313\n",
      "Tunneling at T = 54.8762135997042\n",
      "S3/T = 466.4202413803884\n",
      "Tunneling at T = 54.856213599704205\n",
      "S3/T = 457.52947969220605\n",
      "Tunneling at T = 54.8362135997042\n",
      "S3/T = 448.8919818418836\n",
      "Tunneling at T = 54.816213599704206\n",
      "S3/T = 440.45970805133857\n",
      "Tunneling at T = 54.7962135997042\n",
      "S3/T = 432.29455273100785\n",
      "Tunneling at T = 54.7762135997042\n",
      "S3/T = 424.35248283328247\n",
      "Tunneling at T = 54.7562135997042\n",
      "S3/T = 416.62133471568984\n",
      "Tunneling at T = 54.7362135997042\n",
      "S3/T = 409.0887525616449\n",
      "Tunneling at T = 54.716213599704204\n",
      "S3/T = 401.7444674322307\n",
      "Tunneling at T = 54.6962135997042\n",
      "S3/T = 394.5861984908476\n",
      "Tunneling at T = 54.676213599704205\n",
      "S3/T = 387.6031730552525\n",
      "Tunneling at T = 54.6562135997042\n",
      "S3/T = 380.78534254623565\n",
      "Tunneling at T = 54.636213599704206\n",
      "S3/T = 374.12869140192413\n",
      "Tunneling at T = 54.6162135997042\n",
      "S3/T = 367.64123301432727\n",
      "Tunneling at T = 54.5962135997042\n",
      "S3/T = 361.30928527748017\n",
      "Tunneling at T = 54.576213599704204\n",
      "S3/T = 355.13649990229175\n",
      "Tunneling at T = 54.5562135997042\n",
      "S3/T = 349.10635146967684\n",
      "Tunneling at T = 54.536213599704205\n",
      "S3/T = 343.2126578612218\n",
      "Tunneling at T = 54.5162135997042\n",
      "S3/T = 337.86198949232227\n",
      "Tunneling at T = 54.496213599704205\n",
      "S3/T = 332.129497477734\n",
      "Tunneling at T = 54.4762135997042\n",
      "S3/T = 326.5161979914943\n",
      "Tunneling at T = 54.4562135997042\n",
      "S3/T = 321.00637688457914\n",
      "Tunneling at T = 54.4362135997042\n",
      "S3/T = 315.61050014140284\n",
      "Tunneling at T = 54.4162135997042\n",
      "S3/T = 310.3153695017454\n",
      "Tunneling at T = 54.396213599704204\n",
      "S3/T = 306.5360534812209\n",
      "Tunneling at T = 54.3762135997042\n",
      "S3/T = 301.76661977976187\n",
      "Tunneling at T = 54.356213599704205\n",
      "S3/T = 297.0939163492049\n",
      "Tunneling at T = 54.3362135997042\n",
      "S3/T = 292.51668833607846\n",
      "Tunneling at T = 54.316213599704206\n",
      "S3/T = 288.0318835340453\n",
      "Tunneling at T = 54.2962135997042\n",
      "S3/T = 283.63667661667574\n",
      "Tunneling at T = 54.27621359970421\n",
      "S3/T = 279.31778561707006\n",
      "Tunneling at T = 54.2562135997042\n",
      "S3/T = 275.06821534208626\n",
      "Tunneling at T = 54.2362135997042\n",
      "S3/T = 270.90218014587435\n",
      "Tunneling at T = 54.216213599704204\n",
      "S3/T = 266.8145669899032\n",
      "Tunneling at T = 54.1962135997042\n",
      "S3/T = 262.80545380420165\n",
      "Tunneling at T = 54.176213599704205\n",
      "S3/T = 258.86879818715556\n",
      "Tunneling at T = 54.1562135997042\n",
      "S3/T = 255.00345413653906\n",
      "Tunneling at T = 54.136213599704206\n",
      "S3/T = 251.20174256549302\n",
      "Tunneling at T = 54.1162135997042\n",
      "S3/T = 247.5032491832402\n",
      "Tunneling at T = 54.0962135997042\n",
      "S3/T = 243.89506766586504\n",
      "Tunneling at T = 54.076213599704204\n",
      "S3/T = 240.34482629151324\n",
      "Tunneling at T = 54.0562135997042\n",
      "S3/T = 236.85558709465548\n",
      "Tunneling at T = 54.036213599704205\n",
      "S3/T = 233.4181830247722\n",
      "Tunneling at T = 54.0162135997042\n",
      "S3/T = 230.03794386329366\n",
      "Tunneling at T = 53.996213599704205\n",
      "S3/T = 226.71481231970515\n",
      "Tunneling at T = 53.9762135997042\n",
      "S3/T = 223.51600379322917\n",
      "Tunneling at T = 53.9562135997042\n",
      "S3/T = 220.8252870783683\n",
      "Tunneling at T = 53.9362135997042\n",
      "S3/T = 217.49503190981596\n",
      "Tunneling at T = 53.9162135997042\n",
      "S3/T = 214.24571105052297\n",
      "Tunneling at T = 53.896213599704204\n",
      "S3/T = 211.06385659116097\n",
      "Tunneling at T = 53.8762135997042\n",
      "S3/T = 207.9908758179936\n",
      "Tunneling at T = 53.856213599704205\n",
      "S3/T = 204.95107485443663\n",
      "Tunneling at T = 53.8362135997042\n",
      "S3/T = 201.98256720527075\n",
      "Tunneling at T = 53.816213599704206\n",
      "S3/T = 199.06836616378266\n",
      "Tunneling at T = 53.7962135997042\n",
      "S3/T = 195.86383625398912\n",
      "Tunneling at T = 53.77621359970421\n",
      "S3/T = 192.96453333716457\n",
      "Tunneling at T = 53.7562135997042\n",
      "S3/T = 190.69693356896073\n",
      "Tunneling at T = 53.7362135997042\n",
      "S3/T = 187.93545781134165\n",
      "Tunneling at T = 53.716213599704204\n",
      "S3/T = 185.18450335493384\n",
      "Tunneling at T = 53.6962135997042\n",
      "S3/T = 182.5147695149641\n",
      "Tunneling at T = 53.676213599704205\n",
      "S3/T = 179.6149022048365\n",
      "Tunneling at T = 53.6562135997042\n",
      "S3/T = 177.26081539846678\n",
      "Tunneling at T = 53.636213599704206\n",
      "S3/T = 174.92581393493145\n",
      "Tunneling at T = 53.6162135997042\n",
      "S3/T = 172.60853459677378\n",
      "Tunneling at T = 53.5962135997042\n",
      "S3/T = 170.26946813743604\n",
      "Tunneling at T = 53.576213599704204\n",
      "S3/T = 167.88479042323164\n",
      "Tunneling at T = 53.5562135997042\n",
      "S3/T = 165.48889810123242\n",
      "Tunneling at T = 53.536213599704205\n",
      "S3/T = 163.13740623127464\n",
      "Tunneling at T = 53.5162135997042\n",
      "S3/T = 160.84073366501892\n",
      "Tunneling at T = 53.496213599704205\n",
      "S3/T = 158.57510220611462\n",
      "Tunneling at T = 53.4762135997042\n",
      "S3/T = 156.3447745007924\n",
      "Tunneling at T = 53.4562135997042\n",
      "S3/T = 154.15237215419504\n",
      "Tunneling at T = 53.4362135997042\n",
      "S3/T = 151.99238644844962\n",
      "Tunneling at T = 53.4162135997042\n",
      "S3/T = 149.86408769667034\n",
      "Tunneling at T = 53.396213599704204\n",
      "S3/T = 147.76986523202814\n",
      "Tunneling at T = 53.3762135997042\n",
      "S3/T = 145.70625714182412\n",
      "Tunneling at T = 53.356213599704205\n",
      "S3/T = 143.67063092751775\n",
      "Tunneling at T = 53.3362135997042\n",
      "S3/T = 141.6637805938269\n",
      "Tunneling at T = 53.316213599704206\n",
      "S3/T = 139.6895608350392\n",
      "Tnuc should be within 53.316213599704206 and 53.33621359970421\n",
      "Tn = 53.31938236538322\n",
      "v_n/Tn = 3.5785034119433945\n"
     ]
    }
   ],
   "source": [
    "mod.findTc()\n",
    "mod.findTn()"
   ]
  },
  {
   "cell_type": "code",
   "execution_count": 5,
   "metadata": {},
   "outputs": [
    {
     "name": "stdout",
     "output_type": "stream",
     "text": [
      "α = 0.020951317966704273\n",
      "β/H = 5236.316760834551\n"
     ]
    }
   ],
   "source": [
    "mod.findα()\n",
    "mod.findβH()"
   ]
  },
  {
   "cell_type": "code",
   "execution_count": 6,
   "metadata": {},
   "outputs": [],
   "source": [
    "Vtot=mod.Vtot\n",
    "hv = np.array([0.0])\n",
    "lv = np.array([mod.Tnvev])\n",
    "Tnuc = mod.Tn"
   ]
  },
  {
   "cell_type": "code",
   "execution_count": 7,
   "metadata": {},
   "outputs": [],
   "source": [
    "from helperFunctions import a"
   ]
  },
  {
   "cell_type": "markdown",
   "metadata": {},
   "source": [
    "## Solving the boundary conditions for deflagration"
   ]
  },
  {
   "cell_type": "code",
   "execution_count": 8,
   "metadata": {},
   "outputs": [],
   "source": [
    "def match(vp,vm,Tp,Tm, high_vev, low_vev):\n",
    "    r = r_func(Vtot, Tp, Tm, high_vev, low_vev)\n",
    "    αp = alpha_p(Vtot, Tp, Tm, high_vev, low_vev)\n",
    "    vpvm = 1-(1-3*αp)*r\n",
    "    vpvm = vpvm/(3-3*(1+αp)*r)\n",
    "    ratio = 3 + (1-3*αp)*r\n",
    "    ratio = ratio/(1+3*(1+αp)*r)\n",
    "    return [vp*vm - vpvm, vp/vm - ratio]\n",
    "\n",
    "def find_Tsh(Tm, vw, type='def'):\n",
    "    if type=='def':\n",
    "        guess_sol = optimize.fsolve(lambda x:match(x[0], vw, x[1], Tm,hv, lv),[0.1,Tnuc])\n",
    "    elif type=='hyb':\n",
    "        guess_sol = optimize.fsolve(lambda x:match(x[0], cs_sq(Vtot, Tm, lv)**0.5, x[1], Tm,hv, lv),[0.1,Tnuc])\n",
    "\n",
    "    # Integrate outside the wall to the shock-wave front\n",
    "    try:\n",
    "        vsol=integrate.solve_ivp(dYdtau, (10,0.01), np.array([μ(vw, guess_sol[0]), guess_sol[1], vw]),t_eval=np.linspace(10,0.01,1000),method='DOP853',args=(Vtot, hv))\n",
    "        xi_max = vsol.y[2].max()\n",
    "        xi_max_index = vsol.y[2].argmax()\n",
    "        v_prof = interpolate.interp1d(vsol.y[2][0:xi_max_index+1],vsol.y[0][0:xi_max_index+1])\n",
    "        T_prof = interpolate.interp1d(vsol.y[2][0:xi_max_index+1],vsol.y[1][0:xi_max_index+1])\n",
    "        try:\n",
    "            xsh=optimize.brentq(lambda x: μ(x, v_prof(x))*x - cs_sq(Vtot, T_prof(x), hv), vw, xi_max)\n",
    "        except:\n",
    "            xsh = xi_max\n",
    "    except:\n",
    "        vTsol = integrate.solve_ivp(dvTdxi, (vw, 1), np.array([μ(vw, guess_sol[0]), guess_sol[1]]), t_eval=np.linspace(vw, 1, 500), method='DOP853', args=(Vtot, hv))\n",
    "        v_prof = interpolate.interp1d(vTsol.t, vTsol.y[0], kind='cubic')\n",
    "        T_prof = interpolate.interp1d(vTsol.t, vTsol.y[1], kind='cubic')\n",
    "        xsh = optimize.brentq(lambda x: μ(x, v_prof(x))*x - cs_sq(Vtot, T_prof(x), hv), vw, 1)\n",
    "    return T_prof(xsh)"
   ]
  },
  {
   "cell_type": "code",
   "execution_count": 9,
   "metadata": {},
   "outputs": [
    {
     "data": {
      "text/plain": [
       "53.319382365441314"
      ]
     },
     "execution_count": 9,
     "metadata": {},
     "output_type": "execute_result"
    }
   ],
   "source": [
    "Tnuc"
   ]
  },
  {
   "cell_type": "code",
   "execution_count": 22,
   "metadata": {},
   "outputs": [
    {
     "data": {
      "text/plain": [
       "array(53.05900391)"
      ]
     },
     "execution_count": 22,
     "metadata": {},
     "output_type": "execute_result"
    }
   ],
   "source": [
    "find_Tsh(53, 0.1)"
   ]
  },
  {
   "cell_type": "code",
   "execution_count": 9,
   "metadata": {},
   "outputs": [],
   "source": [
    "Tmax = Tnuc\n",
    "Tmin = 50\n",
    "vw = 0.1\n",
    "for i in range(30):\n",
    "    Tcal=(Tmax+Tmin)/2\n",
    "    Tsh = find_Tsh(Tcal, vw)\n",
    "    if Tsh < Tnuc:\n",
    "        Tmin = Tcal\n",
    "    else:\n",
    "        Tmax = Tcal\n",
    "Tm = Tcal\n",
    "vp, Tp = optimize.fsolve(lambda x:match(x[0],vw,x[1], Tcal, hv, lv),[0.3, Tnuc], xtol=1e-10)\n",
    "hv_new = mod.findMinimum(hv, Tp)\n",
    "lv_new = mod.findMinimum(lv, Tm)"
   ]
  },
  {
   "cell_type": "code",
   "execution_count": 12,
   "metadata": {},
   "outputs": [
    {
     "data": {
      "text/plain": [
       "53.26642606458701"
      ]
     },
     "execution_count": 12,
     "metadata": {},
     "output_type": "execute_result"
    }
   ],
   "source": [
    "Tm"
   ]
  },
  {
   "cell_type": "code",
   "execution_count": 13,
   "metadata": {},
   "outputs": [
    {
     "data": {
      "text/plain": [
       "53.34217346354387"
      ]
     },
     "execution_count": 13,
     "metadata": {},
     "output_type": "execute_result"
    }
   ],
   "source": [
    "Tp"
   ]
  },
  {
   "cell_type": "code",
   "execution_count": 14,
   "metadata": {},
   "outputs": [
    {
     "data": {
      "text/plain": [
       "array(53.2562584)"
      ]
     },
     "execution_count": 14,
     "metadata": {},
     "output_type": "execute_result"
    }
   ],
   "source": [
    "find_Tsh(Tnuc, vw)"
   ]
  },
  {
   "cell_type": "code",
   "execution_count": 7,
   "metadata": {},
   "outputs": [
    {
     "data": {
      "text/plain": [
       "89.86973276570005"
      ]
     },
     "execution_count": 7,
     "metadata": {},
     "output_type": "execute_result"
    }
   ],
   "source": [
    "a(Vtot, Tnuc, hv)"
   ]
  },
  {
   "cell_type": "code",
   "execution_count": 72,
   "metadata": {},
   "outputs": [
    {
     "data": {
      "text/plain": [
       "35.11934232720964"
      ]
     },
     "execution_count": 72,
     "metadata": {},
     "output_type": "execute_result"
    }
   ],
   "source": [
    "np.pi**2 * 106.75/30"
   ]
  },
  {
   "cell_type": "code",
   "execution_count": 8,
   "metadata": {},
   "outputs": [
    {
     "data": {
      "text/plain": [
       "88.07649858738239"
      ]
     },
     "execution_count": 8,
     "metadata": {},
     "output_type": "execute_result"
    }
   ],
   "source": [
    "a(Vtot, Tnuc, lv)"
   ]
  },
  {
   "cell_type": "code",
   "execution_count": 16,
   "metadata": {},
   "outputs": [
    {
     "data": {
      "text/plain": [
       "0.7675324675324675"
      ]
     },
     "execution_count": 16,
     "metadata": {},
     "output_type": "execute_result"
    }
   ],
   "source": [
    "5.91/7.7"
   ]
  },
  {
   "cell_type": "code",
   "execution_count": 10,
   "metadata": {},
   "outputs": [
    {
     "data": {
      "text/plain": [
       "0.008187366593479036"
      ]
     },
     "execution_count": 10,
     "metadata": {},
     "output_type": "execute_result"
    }
   ],
   "source": [
    "alpha_p(Vtot, Tnuc, Tnuc, hv, lv)"
   ]
  },
  {
   "cell_type": "code",
   "execution_count": 11,
   "metadata": {},
   "outputs": [
    {
     "data": {
      "text/plain": [
       "0.020951317966704273"
      ]
     },
     "execution_count": 11,
     "metadata": {},
     "output_type": "execute_result"
    }
   ],
   "source": [
    "mod.α"
   ]
  },
  {
   "cell_type": "code",
   "execution_count": 12,
   "metadata": {},
   "outputs": [
    {
     "data": {
      "text/plain": [
       "0.6830662244523567"
      ]
     },
     "execution_count": 12,
     "metadata": {},
     "output_type": "execute_result"
    }
   ],
   "source": [
    "# Estimate vJ\n",
    "(Sqrt(mod.α*(2+3*mod.α)) + 1)/(Sqrt(3)*(1+mod.α))"
   ]
  },
  {
   "cell_type": "code",
   "execution_count": 69,
   "metadata": {},
   "outputs": [],
   "source": [
    "def vJ(a):\n",
    "    return (Sqrt(a*(2+3*a)) + 1)/(Sqrt(3)*(1+a))"
   ]
  },
  {
   "cell_type": "markdown",
   "metadata": {},
   "source": [
    "## Solve hybrid boundary conditions"
   ]
  },
  {
   "cell_type": "code",
   "execution_count": 35,
   "metadata": {},
   "outputs": [],
   "source": [
    "vw = 0.6"
   ]
  },
  {
   "cell_type": "code",
   "execution_count": 50,
   "metadata": {},
   "outputs": [
    {
     "data": {
      "text/plain": [
       "0.5745822856458147"
      ]
     },
     "execution_count": 50,
     "metadata": {},
     "output_type": "execute_result"
    }
   ],
   "source": [
    "Tm=53\n",
    "cs_sq(Vtot, Tm, lv)**0.5"
   ]
  },
  {
   "cell_type": "code",
   "execution_count": 19,
   "metadata": {},
   "outputs": [],
   "source": [
    "guess_sol = optimize.fsolve(lambda x:match(x[0], cs_sq(Vtot, Tm, lv)**0.5, x[1], Tm,hv, lv),[0.5,Tnuc])"
   ]
  },
  {
   "cell_type": "code",
   "execution_count": 20,
   "metadata": {},
   "outputs": [
    {
     "data": {
      "text/plain": [
       "array([ 0.50566074, 55.89279946])"
      ]
     },
     "execution_count": 20,
     "metadata": {},
     "output_type": "execute_result"
    }
   ],
   "source": [
    "guess_sol"
   ]
  },
  {
   "cell_type": "code",
   "execution_count": 52,
   "metadata": {},
   "outputs": [
    {
     "data": {
      "text/plain": [
       "array(52.15453178)"
      ]
     },
     "execution_count": 52,
     "metadata": {},
     "output_type": "execute_result"
    }
   ],
   "source": [
    "find_Tsh(50, 0.6, 'hyb')"
   ]
  },
  {
   "cell_type": "code",
   "execution_count": 53,
   "metadata": {},
   "outputs": [],
   "source": [
    "Tmax = Tnuc\n",
    "Tmin = 50\n",
    "vw = 0.6\n",
    "for i in range(30):\n",
    "    Tcal=(Tmax+Tmin)/2\n",
    "    Tsh = find_Tsh(Tcal, vw, 'hyb')\n",
    "    if Tsh < Tnuc:\n",
    "        Tmin = Tcal\n",
    "    else:\n",
    "        Tmax = Tcal\n",
    "Tm = Tcal\n",
    "lv_new = mod.findMinimum(lv, Tm)\n",
    "vp, Tp = optimize.fsolve(lambda x:match(x[0],cs_sq(Vtot, Tm, lv_new)**0.5,x[1], Tcal, hv, lv),[0.3, Tnuc], xtol=1e-10)\n",
    "hv_new = mod.findMinimum(hv, Tp)"
   ]
  },
  {
   "cell_type": "code",
   "execution_count": 36,
   "metadata": {},
   "outputs": [
    {
     "data": {
      "text/plain": [
       "51.25056362691644"
      ]
     },
     "execution_count": 36,
     "metadata": {},
     "output_type": "execute_result"
    }
   ],
   "source": [
    "vw=0.6\n",
    "Tm = optimize.newton(lambda T: find_Tsh(T, vw, 'hyb')-Tnuc, Tnuc-1)\n",
    "Tm"
   ]
  },
  {
   "cell_type": "code",
   "execution_count": 42,
   "metadata": {},
   "outputs": [],
   "source": [
    "vm = cs_sq(Vtot, Tm, lv)**0.5\n",
    "vp, Tp = optimize.fsolve(lambda x:match(x[0], cs_sq(Vtot, Tm, lv)**0.5, x[1], Tm,hv, lv),[0.5,Tnuc])"
   ]
  },
  {
   "cell_type": "code",
   "execution_count": 41,
   "metadata": {},
   "outputs": [
    {
     "data": {
      "text/plain": [
       "[0.49755496453362646, 54.36539269692399]"
      ]
     },
     "execution_count": 41,
     "metadata": {},
     "output_type": "execute_result"
    }
   ],
   "source": [
    "[vp, Tp]"
   ]
  },
  {
   "cell_type": "code",
   "execution_count": 43,
   "metadata": {},
   "outputs": [
    {
     "data": {
      "text/plain": [
       "0.5743224778531787"
      ]
     },
     "execution_count": 43,
     "metadata": {},
     "output_type": "execute_result"
    }
   ],
   "source": [
    "vm"
   ]
  },
  {
   "cell_type": "code",
   "execution_count": 45,
   "metadata": {},
   "outputs": [],
   "source": [
    "lv_new = mod.findMinimum(lv, Tm)"
   ]
  },
  {
   "cell_type": "code",
   "execution_count": 46,
   "metadata": {},
   "outputs": [
    {
     "data": {
      "text/plain": [
       "array([202.29370272])"
      ]
     },
     "execution_count": 46,
     "metadata": {},
     "output_type": "execute_result"
    }
   ],
   "source": [
    "lv_new"
   ]
  },
  {
   "cell_type": "code",
   "execution_count": 47,
   "metadata": {},
   "outputs": [
    {
     "data": {
      "text/plain": [
       "array([190.80359172])"
      ]
     },
     "execution_count": 47,
     "metadata": {},
     "output_type": "execute_result"
    }
   ],
   "source": [
    "lv"
   ]
  },
  {
   "cell_type": "markdown",
   "metadata": {},
   "source": [
    "## Solve detonation boundary conditions"
   ]
  },
  {
   "cell_type": "code",
   "execution_count": 67,
   "metadata": {},
   "outputs": [],
   "source": [
    "vw=0.7\n",
    "gsol=optimize.fsolve(lambda x:match(vw, x[0], Tnuc, x[1], hv, lv),[0.7,Tnuc+0.5])"
   ]
  },
  {
   "cell_type": "code",
   "execution_count": 68,
   "metadata": {},
   "outputs": [
    {
     "data": {
      "text/plain": [
       "array([ 0.68196933, 54.5579471 ])"
      ]
     },
     "execution_count": 68,
     "metadata": {},
     "output_type": "execute_result"
    }
   ],
   "source": [
    "gsol"
   ]
  },
  {
   "cell_type": "code",
   "execution_count": 71,
   "metadata": {},
   "outputs": [
    {
     "data": {
      "text/plain": [
       "0.6434963594670974"
      ]
     },
     "execution_count": 71,
     "metadata": {},
     "output_type": "execute_result"
    }
   ],
   "source": [
    "vJ(alpha_p(Vtot, Tnuc, gsol[1], hv, lv))"
   ]
  },
  {
   "cell_type": "markdown",
   "metadata": {},
   "source": [
    "## Solve the temperature profile and the moments"
   ]
  },
  {
   "cell_type": "code",
   "execution_count": 48,
   "metadata": {},
   "outputs": [],
   "source": [
    "h0 = lv_new\n",
    "\n",
    "def h_profile(z, Lh):\n",
    "    z = np.asanyarray(z)\n",
    "    hz = 0.5*h0*(1-np.tanh(z/Lh))\n",
    "    return hz\n",
    "c1 = w(Vtot, Tm, lv_new) * vm/(1-vm**2)\n",
    "s1=c1\n",
    "c2=-Vtot(lv_new, Tm)+ w(Vtot, Tm, lv_new) * vm**2 /(1-vm**2)\n",
    "s2=c2"
   ]
  },
  {
   "cell_type": "code",
   "execution_count": 49,
   "metadata": {},
   "outputs": [],
   "source": [
    "def T33(T,z, Lh):\n",
    "    derh = derivative(lambda zvalue: h_profile(zvalue,Lh),z)\n",
    "    field_value = [h_profile(z, Lh)]\n",
    "    return (0.5*derh**2 - Vtot(field_value, T) - 0.5*w(Vtot, T, field_value) + 0.5*(4*s1**2 + w(Vtot, T, field_value)**2)**0.5 - s2)/1e6"
   ]
  },
  {
   "cell_type": "code",
   "execution_count": 50,
   "metadata": {},
   "outputs": [
    {
     "name": "stderr",
     "output_type": "stream",
     "text": [
      "/var/folders/mw/3xz76j416k761n077pnr10nc0000gn/T/ipykernel_41009/2484720252.py:14: DeprecationWarning: Conversion of an array with ndim > 0 to a scalar is deprecated, and will error in future. Ensure you extract a single element from your array before performing this operation. (Deprecated NumPy 1.25.)\n",
      "  T_sol[i] = s\n"
     ]
    }
   ],
   "source": [
    "Lh = 0.1\n",
    "npoints = 100\n",
    "z_range = np.linspace(-8*Lh, 5*Lh, npoints)\n",
    "T_sol = np.zeros((npoints,))\n",
    "for i in range(npoints):\n",
    "    T33min = optimize.minimize(lambda T: T33(T[0], z_range[i], Lh), Tnuc, method='Nelder-Mead', bounds = [(40, 90)])\n",
    "    if T33min.fun > 0:\n",
    "        T_sol[i]=T33min.x[0]\n",
    "    else:\n",
    "        try:\n",
    "            s = optimize.newton(lambda T: T33(T, z_range[i], Lh), Tnuc)\n",
    "        except:\n",
    "            s = optimize.fsolve(lambda T: T33(T[0], z_range[i], Lh), Tnuc)[0]\n",
    "        T_sol[i] = s"
   ]
  },
  {
   "cell_type": "code",
   "execution_count": 51,
   "metadata": {},
   "outputs": [
    {
     "data": {
      "text/plain": [
       "[<matplotlib.lines.Line2D at 0x146bb5e10>]"
      ]
     },
     "execution_count": 51,
     "metadata": {},
     "output_type": "execute_result"
    },
    {
     "data": {
      "image/png": "[encoded data removed]",
      "text/plain": [
       "<Figure size 640x480 with 1 Axes>"
      ]
     },
     "metadata": {},
     "output_type": "display_data"
    }
   ],
   "source": [
    "plt.plot(z_range, T_sol)"
   ]
  },
  {
   "cell_type": "code",
   "execution_count": 54,
   "metadata": {},
   "outputs": [],
   "source": [
    "def moments(Lh):\n",
    "    npoints = 100\n",
    "    z_range = np.linspace(-8*Lh, 5*Lh, npoints)\n",
    "    T_sol = np.zeros((npoints,))\n",
    "    for i in range(npoints):\n",
    "        T33min = optimize.minimize(lambda T: T33(T[0], z_range[i], Lh), Tnuc, method='Nelder-Mead', bounds = [(40, 90)])\n",
    "        if T33min.fun > 0:\n",
    "            T_sol[i]=T33min.x[0]\n",
    "        else:\n",
    "            try:\n",
    "                s = optimize.newton(lambda T: T33(T, z_range[i], Lh), Tnuc)\n",
    "            except:\n",
    "                s = optimize.fsolve(lambda T: T33(T[0], z_range[i], Lh), Tnuc)[0]\n",
    "            T_sol[i] = s\n",
    "\n",
    "    hvalues = h_profile(z_range, Lh)\n",
    "    hprime = np.vectorize(lambda z: -0.5*(h0*Sech(z/Lh)**2)/Lh)\n",
    "    d2zh = np.vectorize(lambda z: (h0*Sech(z/Lh)**2*Tanh(z/Lh))/Lh**2)\n",
    "    Eh = np.array([mod.gradV([hvalues[i]], T_sol[i]) - d2zh(z_range[i])  for i in range(npoints)]).reshape((-1,))\n",
    "    \n",
    "    Ph = np.trapz(- Eh * hprime(z_range), z_range)\n",
    "    Gh = np.trapz( Eh * hprime(z_range) *(2*h_profile(z_range, Lh)/h0 - 1) , z_range)\n",
    "    return np.array([Ph, Gh])/1e6"
   ]
  },
  {
   "cell_type": "code",
   "execution_count": 55,
   "metadata": {},
   "outputs": [
    {
     "name": "stderr",
     "output_type": "stream",
     "text": [
      "/var/folders/mw/3xz76j416k761n077pnr10nc0000gn/T/ipykernel_41009/3946513898.py:14: DeprecationWarning: Conversion of an array with ndim > 0 to a scalar is deprecated, and will error in future. Ensure you extract a single element from your array before performing this operation. (Deprecated NumPy 1.25.)\n",
      "  T_sol[i] = s\n"
     ]
    },
    {
     "data": {
      "text/plain": [
       "array([-1.09734706, -0.18089205])"
      ]
     },
     "execution_count": 55,
     "metadata": {},
     "output_type": "execute_result"
    }
   ],
   "source": [
    "moments(0.1)"
   ]
  },
  {
   "cell_type": "code",
   "execution_count": 18,
   "metadata": {},
   "outputs": [
    {
     "name": "stderr",
     "output_type": "stream",
     "text": [
      "/var/folders/mw/3xz76j416k761n077pnr10nc0000gn/T/ipykernel_76496/3946513898.py:14: DeprecationWarning: Conversion of an array with ndim > 0 to a scalar is deprecated, and will error in future. Ensure you extract a single element from your array before performing this operation. (Deprecated NumPy 1.25.)\n",
      "  T_sol[i] = s\n"
     ]
    },
    {
     "data": {
      "text/plain": [
       "0.11884969591702182"
      ]
     },
     "execution_count": 18,
     "metadata": {},
     "output_type": "execute_result"
    }
   ],
   "source": [
    "optimize.newton(lambda L: moments(L)[-1], 0.1)"
   ]
  },
  {
   "cell_type": "code",
   "execution_count": 19,
   "metadata": {},
   "outputs": [
    {
     "name": "stderr",
     "output_type": "stream",
     "text": [
      "/var/folders/mw/3xz76j416k761n077pnr10nc0000gn/T/ipykernel_76496/3946513898.py:14: DeprecationWarning: Conversion of an array with ndim > 0 to a scalar is deprecated, and will error in future. Ensure you extract a single element from your array before performing this operation. (Deprecated NumPy 1.25.)\n",
      "  T_sol[i] = s\n"
     ]
    },
    {
     "data": {
      "text/plain": [
       "array([-1.12486595e+00,  2.60257517e-10])"
      ]
     },
     "execution_count": 19,
     "metadata": {},
     "output_type": "execute_result"
    }
   ],
   "source": [
    "moments(0.11884969591702182)"
   ]
  },
  {
   "cell_type": "code",
   "execution_count": 18,
   "metadata": {},
   "outputs": [],
   "source": [
    "vwlist = np.linspace(0.1,0.65,10)\n",
    "Plist = np.zeros((10,))"
   ]
  },
  {
   "cell_type": "code",
   "execution_count": 31,
   "metadata": {},
   "outputs": [],
   "source": [
    "def Ptot(vw):\n",
    "    print(\"vw = \" + str(vw))\n",
    "    # Test solution type. Start from deflagration to test.\n",
    "    Tm = optimize.newton(lambda T: find_Tsh(T, vw)-Tnuc, Tnuc-1)\n",
    "    lv_new = mod.findMinimum(lv, Tm)\n",
    "    if cs_sq(Vtot, Tm, lv_new)**0.5 > vw:\n",
    "        print(\"Deflagration.\")\n",
    "        vp, Tp = optimize.fsolve(lambda x:match(x[0],vw,x[1], Tm, hv, lv),[0.3, Tnuc], xtol=1e-10)\n",
    "        vm = vw\n",
    "    else:\n",
    "        print(\"Hybrid.\")\n",
    "        Tm = optimize.newton(lambda T: find_Tsh(T, vw, 'hyb')-Tnuc, Tnuc-1)\n",
    "        lv_new = mod.findMinimum(lv, Tm)\n",
    "        vm = cs_sq(Vtot, Tm,lv_new)**0.5\n",
    "        vp, Tp = optimize.fsolve(lambda x:match(x[0],vm,x[1], Tm, hv, lv),[0.3, Tnuc], xtol=1e-10)\n",
    "\n",
    "\n",
    "    hv_new = mod.findMinimum(hv, Tp)\n",
    "    h0 = lv_new\n",
    "\n",
    "    def h_profile(z, Lh):\n",
    "        z = np.asanyarray(z)\n",
    "        hz = 0.5*h0*(1-np.tanh(z/Lh))\n",
    "        return hz\n",
    "    c1 = w(Vtot, Tm, lv_new) * vm/(1-vm**2)\n",
    "    s1=c1\n",
    "    c2=-Vtot(lv_new, Tm)+ w(Vtot, Tm, lv_new) * vm**2 /(1-vm**2)\n",
    "    s2=c2\n",
    "\n",
    "    def T33(T,z, Lh):\n",
    "        derh = derivative(lambda zvalue: h_profile(zvalue,Lh),z)\n",
    "        field_value = [h_profile(z, Lh)]\n",
    "        return (0.5*derh**2 - Vtot(field_value, T) - 0.5*w(Vtot, T, field_value) + 0.5*(4*s1**2 + w(Vtot, T, field_value)**2)**0.5 - s2)/1e6\n",
    "\n",
    "    print('T33 prepared.')\n",
    "    \n",
    "    def moments(Lh):\n",
    "        npoints = 100\n",
    "        z_range = np.linspace(-8*Lh, 5*Lh, npoints)\n",
    "        T_sol = np.zeros((npoints,))\n",
    "        for i in range(npoints):\n",
    "            T33min = optimize.minimize(lambda T: T33(T[0], z_range[i], Lh), Tnuc, method='Nelder-Mead', bounds = [(40, 90)])\n",
    "            if T33min.fun > 0:\n",
    "                T_sol[i]=T33min.x[0]\n",
    "            else:\n",
    "                try:\n",
    "                    s = optimize.newton(lambda T: T33(T, z_range[i], Lh), Tnuc)\n",
    "                except:\n",
    "                    s = optimize.fsolve(lambda T: T33(T[0], z_range[i], Lh), Tnuc)[0]\n",
    "                T_sol[i] = s\n",
    "\n",
    "        hvalues = h_profile(z_range, Lh)\n",
    "        hprime = np.vectorize(lambda z: -0.5*(h0*Sech(z/Lh)**2)/Lh)\n",
    "        d2zh = np.vectorize(lambda z: (h0*Sech(z/Lh)**2*Tanh(z/Lh))/Lh**2)\n",
    "        Eh = np.array([mod.gradV([hvalues[i]], T_sol[i]) - d2zh(z_range[i])  for i in range(npoints)]).reshape((-1,))\n",
    "    \n",
    "        Ph = np.trapz(- Eh * hprime(z_range), z_range)\n",
    "        Gh = np.trapz( Eh * hprime(z_range) *(2*h_profile(z_range, Lh)/h0 - 1) , z_range)\n",
    "        return np.array([Ph, Gh])/1e6\n",
    "    print('Solving moments.')\n",
    "    Lsol = optimize.newton(lambda L: moments(L)[-1], 0.1)\n",
    "    print('Moment solved, Lh = ' + str(Lsol))\n",
    "    P = moments(Lsol)[0]\n",
    "    return P"
   ]
  },
  {
   "cell_type": "code",
   "execution_count": 34,
   "metadata": {},
   "outputs": [
    {
     "name": "stdout",
     "output_type": "stream",
     "text": [
      "vw = 0.6\n",
      "Hybrid.\n",
      "T33 prepared.\n",
      "Solving moments.\n"
     ]
    },
    {
     "name": "stderr",
     "output_type": "stream",
     "text": [
      "/var/folders/mw/3xz76j416k761n077pnr10nc0000gn/T/ipykernel_41009/1820964711.py:50: DeprecationWarning: Conversion of an array with ndim > 0 to a scalar is deprecated, and will error in future. Ensure you extract a single element from your array before performing this operation. (Deprecated NumPy 1.25.)\n",
      "  T_sol[i] = s\n"
     ]
    },
    {
     "name": "stdout",
     "output_type": "stream",
     "text": [
      "Moment solved, Lh = 0.12278353862646181\n"
     ]
    },
    {
     "data": {
      "text/plain": [
       "-1.0825945011720606"
      ]
     },
     "execution_count": 34,
     "metadata": {},
     "output_type": "execute_result"
    }
   ],
   "source": [
    "Ptot(0.6)"
   ]
  },
  {
   "cell_type": "code",
   "execution_count": 56,
   "metadata": {},
   "outputs": [
    {
     "name": "stdout",
     "output_type": "stream",
     "text": [
      "vw = 0.53\n",
      "Tm solved.\n",
      "T33 prepared.\n",
      "Solving moments.\n"
     ]
    },
    {
     "name": "stderr",
     "output_type": "stream",
     "text": [
      "/var/folders/mw/3xz76j416k761n077pnr10nc0000gn/T/ipykernel_78088/3484273235.py:39: DeprecationWarning: Conversion of an array with ndim > 0 to a scalar is deprecated, and will error in future. Ensure you extract a single element from your array before performing this operation. (Deprecated NumPy 1.25.)\n",
      "  T_sol[i] = s\n"
     ]
    },
    {
     "name": "stdout",
     "output_type": "stream",
     "text": [
      "Moment solved, Lh = 0.11891537720484018\n"
     ]
    },
    {
     "data": {
      "text/plain": [
       "-0.8755259431495153"
      ]
     },
     "execution_count": 56,
     "metadata": {},
     "output_type": "execute_result"
    }
   ],
   "source": [
    "Ptot(0.53)"
   ]
  },
  {
   "cell_type": "code",
   "execution_count": 19,
   "metadata": {},
   "outputs": [
    {
     "name": "stdout",
     "output_type": "stream",
     "text": [
      "vw = 0.1\n",
      "Deflagration.\n",
      "T33 prepared.\n",
      "Solving moments.\n"
     ]
    },
    {
     "name": "stderr",
     "output_type": "stream",
     "text": [
      "/var/folders/mw/3xz76j416k761n077pnr10nc0000gn/T/ipykernel_41009/4091278593.py:48: DeprecationWarning: Conversion of an array with ndim > 0 to a scalar is deprecated, and will error in future. Ensure you extract a single element from your array before performing this operation. (Deprecated NumPy 1.25.)\n",
      "  T_sol[i] = s\n"
     ]
    },
    {
     "name": "stdout",
     "output_type": "stream",
     "text": [
      "Moment solved, Lh = 0.11884969858787904\n",
      "-1.1248658899397348\n",
      "vw = 0.16111111111111112\n",
      "Deflagration.\n",
      "T33 prepared.\n",
      "Solving moments.\n",
      "Moment solved, Lh = 0.11887376880681116\n",
      "-1.1166989537239655\n",
      "vw = 0.22222222222222224\n",
      "Deflagration.\n",
      "T33 prepared.\n",
      "Solving moments.\n",
      "Moment solved, Lh = 0.11889233637731693\n",
      "-1.1052795120607066\n",
      "vw = 0.2833333333333333\n",
      "Deflagration.\n",
      "T33 prepared.\n",
      "Solving moments.\n",
      "Moment solved, Lh = 0.11889722472164188\n",
      "-1.089748278698548\n",
      "vw = 0.34444444444444444\n",
      "Deflagration.\n",
      "T33 prepared.\n",
      "Solving moments.\n",
      "Moment solved, Lh = 0.11888092787573662\n",
      "-1.0677365703145603\n",
      "vw = 0.40555555555555556\n",
      "Deflagration.\n",
      "T33 prepared.\n",
      "Solving moments.\n",
      "Moment solved, Lh = 0.1188391836495458\n",
      "-1.0333289721222612\n",
      "vw = 0.4666666666666667\n",
      "Deflagration.\n",
      "T33 prepared.\n",
      "Solving moments.\n",
      "Moment solved, Lh = 0.118827621316564\n",
      "-0.9693213580345721\n",
      "vw = 0.5277777777777778\n",
      "Deflagration.\n",
      "T33 prepared.\n",
      "Solving moments.\n",
      "Moment solved, Lh = 0.11892650843365174\n",
      "-0.8752842459879312\n",
      "vw = 0.5888888888888889\n",
      "Hybrid.\n",
      "T33 prepared.\n",
      "Solving moments.\n",
      "Moment solved, Lh = 0.14095027882139755\n",
      "-0.7425609938618822\n",
      "vw = 0.65\n",
      "Hybrid.\n",
      "T33 prepared.\n",
      "Solving moments.\n",
      "Moment solved, Lh = 0.11368973596591771\n",
      "-2.570271437357198\n"
     ]
    }
   ],
   "source": [
    "for i in range(len(vwlist)):\n",
    "    vw = vwlist[i]\n",
    "    Plist[i] = Ptot(vw)\n",
    "    print(Plist[i])"
   ]
  },
  {
   "cell_type": "code",
   "execution_count": 25,
   "metadata": {},
   "outputs": [],
   "source": [
    "vwlist[-1]=0.62\n",
    "Plist[-1]=-0.046851694176377405"
   ]
  },
  {
   "cell_type": "code",
   "execution_count": 26,
   "metadata": {},
   "outputs": [
    {
     "data": {
      "text/plain": [
       "Text(0, 0.5, '$P_{\\\\rm tot}$')"
      ]
     },
     "execution_count": 26,
     "metadata": {},
     "output_type": "execute_result"
    },
    {
     "data": {
      "image/png": "[encoded data removed]",
      "text/plain": [
       "<Figure size 640x480 with 1 Axes>"
      ]
     },
     "metadata": {},
     "output_type": "display_data"
    }
   ],
   "source": [
    "plt.rc('text', usetex=True)\n",
    "plt.rc('font', family='serif')\n",
    "plt.rc('text.latex', preamble=r'\\usepackage{wasysym}')\n",
    "plt.rc('font',size=16)\n",
    "plt.plot(vwlist,Plist)\n",
    "plt.xlabel(r'$v_w$')\n",
    "plt.ylabel(r'$P_{\\rm tot}$')"
   ]
  },
  {
   "cell_type": "markdown",
   "metadata": {},
   "source": [
    "## Solve entropy vanishing instead of P vanishing"
   ]
  },
  {
   "cell_type": "code",
   "execution_count": 36,
   "metadata": {},
   "outputs": [],
   "source": [
    "def entropy(V,T, vev):\n",
    "    v = optimize.fmin(V, vev, args=(T,), disp=0)\n",
    "\n",
    "    def VT(T):\n",
    "        return V(v, T)\n",
    "    \n",
    "    return -derivative(VT, T, order=1)"
   ]
  },
  {
   "cell_type": "code",
   "execution_count": 27,
   "metadata": {},
   "outputs": [],
   "source": [
    "def sdiff(vw):\n",
    "    print(\"vw = \" + str(vw))\n",
    "    # Test solution type. Start from deflagration to test.\n",
    "    Tm = optimize.newton(lambda T: find_Tsh(T, vw)-Tnuc, Tnuc-1)\n",
    "    lv_new = mod.findMinimum(lv, Tm)\n",
    "    if cs_sq(Vtot, Tm, lv_new)**0.5 > vw:\n",
    "        print(\"Deflagration.\")\n",
    "        vp, Tp = optimize.fsolve(lambda x:match(x[0],vw,x[1], Tm, hv, lv),[0.3, Tnuc], xtol=1e-10)\n",
    "        vm = vw\n",
    "    else:\n",
    "        print(\"Hybrid.\")\n",
    "        Tm = optimize.newton(lambda T: find_Tsh(T, vw, 'hyb')-Tnuc, Tnuc-1)\n",
    "        lv_new = mod.findMinimum(lv, Tm)\n",
    "        vp, Tp = optimize.fsolve(lambda x:match(x[0],cs_sq(Vtot, Tm,lv_new)**0.5,x[1], Tm, hv, lv),[0.3, Tnuc], xtol=1e-10)\n",
    "        vm = cs_sq(Vtot, Tm,lv_new)**0.5\n",
    "\n",
    "    lv_new = mod.findMinimum(lv, Tm)\n",
    "\n",
    "    diff = - Tp/Sqrt(1-vp**2) + Tm/Sqrt(1-vm**2)\n",
    "    # diff = (- entropy(Vtot, Tp, hv) * vp/Sqrt(1-vp**2) + entropy(Vtot, Tm, lv_new) * vw/Sqrt(1-vw**2))/1e6\n",
    "    return diff"
   ]
  },
  {
   "cell_type": "code",
   "execution_count": 28,
   "metadata": {},
   "outputs": [
    {
     "name": "stdout",
     "output_type": "stream",
     "text": [
      "vw = 0.5\n",
      "Deflagration.\n"
     ]
    },
    {
     "data": {
      "text/plain": [
       "-0.05519401364139043"
      ]
     },
     "execution_count": 28,
     "metadata": {},
     "output_type": "execute_result"
    }
   ],
   "source": [
    "sdiff(0.5)"
   ]
  },
  {
   "cell_type": "code",
   "execution_count": 29,
   "metadata": {},
   "outputs": [],
   "source": [
    "sdifflist = np.zeros((10,))"
   ]
  },
  {
   "cell_type": "code",
   "execution_count": 30,
   "metadata": {},
   "outputs": [
    {
     "name": "stdout",
     "output_type": "stream",
     "text": [
      "vw = 0.1\n",
      "Deflagration.\n",
      "-0.06271060993342559\n",
      "vw = 0.16111111111111112\n",
      "Deflagration.\n",
      "-0.06265389559523982\n",
      "vw = 0.22222222222222224\n",
      "Deflagration.\n",
      "-0.06261241431823805\n",
      "vw = 0.2833333333333333\n",
      "Deflagration.\n",
      "-0.06253275074143261\n",
      "vw = 0.34444444444444444\n",
      "Deflagration.\n",
      "-0.062253143753416396\n",
      "vw = 0.40555555555555556\n",
      "Deflagration.\n",
      "-0.061342892610909416\n",
      "vw = 0.4666666666666667\n",
      "Deflagration.\n",
      "-0.05850707653770826\n",
      "vw = 0.5277777777777778\n",
      "Deflagration.\n",
      "-0.05338021780946889\n",
      "vw = 0.5888888888888889\n",
      "Hybrid.\n",
      "0.743202815776705\n",
      "vw = 0.62\n",
      "Hybrid.\n",
      "2.6251197922275296\n"
     ]
    }
   ],
   "source": [
    "for i in range(len(vwlist)):\n",
    "    sdifflist[i] = sdiff(vwlist[i])\n",
    "    print(sdifflist[i])"
   ]
  },
  {
   "cell_type": "code",
   "execution_count": 33,
   "metadata": {},
   "outputs": [
    {
     "data": {
      "text/plain": [
       "Text(0, 0.5, '$\\\\Delta (s \\\\gamma v)$')"
      ]
     },
     "execution_count": 33,
     "metadata": {},
     "output_type": "execute_result"
    },
    {
     "data": {
      "image/png": "[encoded data removed]",
      "text/plain": [
       "<Figure size 640x480 with 1 Axes>"
      ]
     },
     "metadata": {},
     "output_type": "display_data"
    }
   ],
   "source": [
    "plt.rc('text', usetex=True)\n",
    "plt.rc('font', family='serif')\n",
    "plt.rc('font', size=16)\n",
    "plt.rc('text.latex', preamble=r'\\usepackage{wasysym}')\n",
    "plt.plot(vwlist, sdifflist)\n",
    "plt.xlabel(r'$v_w$')\n",
    "plt.ylabel(r'$\\Delta (s \\gamma v)$')"
   ]
  },
  {
   "cell_type": "code",
   "execution_count": null,
   "metadata": {},
   "outputs": [],
   "source": []
  }
 ],
 "metadata": {
  "kernelspec": {
   "display_name": "base",
   "language": "python",
   "name": "python3"
  },
  "language_info": {
   "codemirror_mode": {
    "name": "ipython",
    "version": 3
   },
   "file_extension": ".py",
   "mimetype": "text/x-python",
   "name": "python",
   "nbconvert_exporter": "python",
   "pygments_lexer": "ipython3",
   "version": "3.10.14"
  }
 },
 "nbformat": 4,
 "nbformat_minor": 2
}
