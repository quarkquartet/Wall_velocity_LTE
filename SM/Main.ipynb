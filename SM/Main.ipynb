{
 "cells": [
  {
   "cell_type": "markdown",
   "metadata": {},
   "source": [
    "# Bubble wall velocity under LTE"
   ]
  },
  {
   "cell_type": "code",
   "execution_count": 4,
   "metadata": {},
   "outputs": [],
   "source": [
    "import numpy as np\n",
    "from numpy import linalg as la\n",
    "from scipy import integrate\n",
    "from scipy import optimize\n",
    "from scipy import interpolate\n",
    "import scipy as sp\n",
    "from matplotlib import pyplot as plt\n",
    "import plotter as pl\n",
    "from helperFunctions import derivative, alpha_p, cs_sq, dYdtau, dvTdxi, r_func, μ, w\n",
    "\n",
    "Abs = np.abs\n",
    "Log = np.log\n",
    "Log10 = np.log10\n",
    "Pi = np.pi\n",
    "Sqrt = np.sqrt\n",
    "Exp = np.exp\n",
    "Cos = np.cos\n",
    "Sin = np.sin\n",
    "Sech = lambda x: 1/np.cosh(x)\n",
    "Tanh = np.tanh\n",
    "ArcSin = np.arcsin\n",
    "ArcTanh = np.arctanh\n",
    "Arg = np.angle\n",
    "BesselK = sp.special.kv\n",
    "Zeta = sp.special.zeta\n",
    "HeavisideTheta = lambda x: np.heaviside(x, 0)\n",
    "\n",
    "\n",
    "def Plot(fun, xminmax, n=100,xfun=np.linspace, xlog=False, ylog=False):\n",
    "    xlist = xfun(xminmax[0], xminmax[1], n)\n",
    "    ylist = [fun(x) for x in xlist]\n",
    "    plt.plot(xlist, ylist)\n",
    "    if xlog:\n",
    "        plt.xscale('log')\n",
    "    if ylog:\n",
    "        plt.yscale('log')"
   ]
  },
  {
   "cell_type": "markdown",
   "metadata": {},
   "source": [
    "## Prepare"
   ]
  },
  {
   "cell_type": "markdown",
   "metadata": {},
   "source": [
    "Import model"
   ]
  },
  {
   "cell_type": "code",
   "execution_count": 5,
   "metadata": {},
   "outputs": [],
   "source": [
    "import SM_model as m"
   ]
  },
  {
   "cell_type": "code",
   "execution_count": 6,
   "metadata": {},
   "outputs": [
    {
     "name": "stdout",
     "output_type": "stream",
     "text": [
      "Model inialized.\n",
      "g2 = 1\n",
      "λ = 0.007285228\n",
      "μh = 25.236173718618723\n"
     ]
    }
   ],
   "source": [
    "mod = m.SM(1,0.007285228,636.8644639563023)"
   ]
  },
  {
   "cell_type": "code",
   "execution_count": 7,
   "metadata": {},
   "outputs": [
    {
     "name": "stdout",
     "output_type": "stream",
     "text": [
      "Finding Tc...\n",
      "Critical temperature found! Tc = 56.636213599704206\n",
      "v_c/Tc = 2.805112061801922\n",
      "Finding Tn...\n",
      "Tunneling at T = 56.6162135997042\n",
      "S3/T = 1776610.8191670412\n",
      "Tunneling at T = 56.5962135997042\n",
      "S3/T = 451853.4873529946\n",
      "Tunneling at T = 56.576213599704204\n",
      "S3/T = 203892.62078298946\n",
      "Tunneling at T = 56.5562135997042\n",
      "S3/T = 116379.02611931194\n",
      "Tunneling at T = 56.536213599704205\n",
      "S3/T = 75553.78882108373\n",
      "Tunneling at T = 56.5162135997042\n",
      "S3/T = 53207.22595090041\n",
      "Tunneling at T = 56.496213599704205\n",
      "S3/T = 39631.405949758664\n",
      "Tunneling at T = 56.4762135997042\n",
      "S3/T = 30754.56578833269\n",
      "Tunneling at T = 56.456213599704206\n",
      "S3/T = 24623.8127324952\n",
      "Tunneling at T = 56.4362135997042\n",
      "S3/T = 20206.51709158054\n",
      "Tunneling at T = 56.4162135997042\n",
      "S3/T = 16914.527917969783\n",
      "Tunneling at T = 56.396213599704204\n",
      "S3/T = 14392.707449727941\n",
      "Tunneling at T = 56.3762135997042\n",
      "S3/T = 12416.149909401369\n",
      "Tunneling at T = 56.356213599704205\n",
      "S3/T = 10836.68821998515\n",
      "Tunneling at T = 56.3362135997042\n",
      "S3/T = 9553.514743665135\n",
      "Tunneling at T = 56.316213599704206\n",
      "S3/T = 8495.974671656408\n",
      "Tunneling at T = 56.2962135997042\n",
      "S3/T = 7613.4357528789815\n",
      "Tunneling at T = 56.2762135997042\n",
      "S3/T = 6868.760185350596\n",
      "Tunneling at T = 56.2562135997042\n",
      "S3/T = 6234.2212090054145\n",
      "Tunneling at T = 56.2362135997042\n",
      "S3/T = 5688.769951416926\n",
      "Tunneling at T = 56.216213599704204\n",
      "S3/T = 5216.192393142994\n",
      "Tunneling at T = 56.1962135997042\n",
      "S3/T = 4803.823829756442\n",
      "Tunneling at T = 56.176213599704205\n",
      "S3/T = 4441.658383878695\n",
      "Tunneling at T = 56.1562135997042\n",
      "S3/T = 4121.69921348267\n",
      "Tunneling at T = 56.136213599704206\n",
      "S3/T = 3837.4952317045454\n",
      "Tunneling at T = 56.1162135997042\n",
      "S3/T = 3583.791301692671\n",
      "Tunneling at T = 56.0962135997042\n",
      "S3/T = 3356.282475340515\n",
      "Tunneling at T = 56.076213599704204\n",
      "S3/T = 3151.378854704378\n",
      "Tunneling at T = 56.0562135997042\n",
      "S3/T = 2966.118264399469\n",
      "Tunneling at T = 56.036213599704205\n",
      "S3/T = 2798.0009761311\n",
      "Tunneling at T = 56.0162135997042\n",
      "S3/T = 2644.923092700059\n",
      "Tunneling at T = 55.996213599704205\n",
      "S3/T = 2505.089559152341\n",
      "Tunneling at T = 55.9762135997042\n",
      "S3/T = 2376.9687774521262\n",
      "Tunneling at T = 55.956213599704206\n",
      "S3/T = 2259.2605226766614\n",
      "Tunneling at T = 55.9362135997042\n",
      "S3/T = 2150.823830696524\n",
      "Tunneling at T = 55.9162135997042\n",
      "S3/T = 2050.6938334785395\n",
      "Tunneling at T = 55.896213599704204\n",
      "S3/T = 1958.0124604141433\n",
      "Tunneling at T = 55.8762135997042\n",
      "S3/T = 1872.0290796989939\n",
      "Tunneling at T = 55.856213599704205\n",
      "S3/T = 1790.5907928313134\n",
      "Tunneling at T = 55.8362135997042\n",
      "S3/T = 1716.1880894760768\n",
      "Tunneling at T = 55.816213599704206\n",
      "S3/T = 1646.7623559955057\n",
      "Tunneling at T = 55.7962135997042\n",
      "S3/T = 1581.8633982636154\n",
      "Tunneling at T = 55.7762135997042\n",
      "S3/T = 1521.0982159125385\n",
      "Tunneling at T = 55.7562135997042\n",
      "S3/T = 1464.116061616422\n",
      "Tunneling at T = 55.7362135997042\n",
      "S3/T = 1410.6005342052872\n",
      "Tunneling at T = 55.716213599704204\n",
      "S3/T = 1360.2751362646998\n",
      "Tunneling at T = 55.6962135997042\n",
      "S3/T = 1312.8922054615693\n",
      "Tunneling at T = 55.676213599704205\n",
      "S3/T = 1268.2353841012427\n",
      "Tunneling at T = 55.6562135997042\n",
      "S3/T = 1226.1869283567744\n",
      "Tunneling at T = 55.636213599704206\n",
      "S3/T = 1186.4504101491307\n",
      "Tunneling at T = 55.6162135997042\n",
      "S3/T = 1149.3037988559945\n",
      "Tunneling at T = 55.5962135997042\n",
      "S3/T = 1114.4289202891678\n",
      "Tunneling at T = 55.576213599704204\n",
      "S3/T = 1081.0321953608177\n",
      "Tunneling at T = 55.5562135997042\n",
      "S3/T = 1048.5170101186027\n",
      "Tunneling at T = 55.536213599704205\n",
      "S3/T = 1011.3784199050067\n",
      "Tunneling at T = 55.5162135997042\n",
      "S3/T = 983.5879181352352\n",
      "Tunneling at T = 55.496213599704205\n",
      "S3/T = 954.9411273019786\n",
      "Tunneling at T = 55.4762135997042\n",
      "S3/T = 927.6644010903891\n",
      "Tunneling at T = 55.456213599704206\n",
      "S3/T = 901.6520776495418\n",
      "Tunneling at T = 55.4362135997042\n",
      "S3/T = 876.8103315845475\n",
      "Tunneling at T = 55.4162135997042\n",
      "S3/T = 853.0637689769587\n",
      "Tunneling at T = 55.396213599704204\n",
      "S3/T = 831.262163956781\n",
      "Tunneling at T = 55.3762135997042\n",
      "S3/T = 809.5636003659797\n",
      "Tunneling at T = 55.356213599704205\n",
      "S3/T = 788.502414358413\n",
      "Tunneling at T = 55.3362135997042\n",
      "S3/T = 771.3667998041578\n",
      "Tunneling at T = 55.316213599704206\n",
      "S3/T = 752.4818371617973\n",
      "Tunneling at T = 55.2962135997042\n",
      "S3/T = 734.3372617753096\n",
      "Tunneling at T = 55.2762135997042\n",
      "S3/T = 717.8980748565084\n",
      "Tunneling at T = 55.2562135997042\n",
      "S3/T = 700.8808530065332\n",
      "Tunneling at T = 55.2362135997042\n",
      "S3/T = 684.5451339577926\n",
      "Tunneling at T = 55.216213599704204\n",
      "S3/T = 668.8626019008838\n",
      "Tunneling at T = 55.1962135997042\n",
      "S3/T = 653.83522063083\n",
      "Tunneling at T = 55.176213599704205\n",
      "S3/T = 639.3895934894899\n",
      "Tunneling at T = 55.1562135997042\n",
      "S3/T = 625.0197911490859\n",
      "Tunneling at T = 55.136213599704206\n",
      "S3/T = 611.1593959176485\n",
      "Tunneling at T = 55.1162135997042\n",
      "S3/T = 597.7737037818823\n",
      "Tunneling at T = 55.0962135997042\n",
      "S3/T = 584.8285171749037\n",
      "Tunneling at T = 55.076213599704204\n",
      "S3/T = 572.2856765375574\n",
      "Tunneling at T = 55.0562135997042\n",
      "S3/T = 560.0379038321917\n",
      "Tunneling at T = 55.036213599704205\n",
      "S3/T = 548.2095139465557\n",
      "Tunneling at T = 55.0162135997042\n",
      "S3/T = 536.8233434316759\n",
      "Tunneling at T = 54.996213599704205\n",
      "S3/T = 525.7888909669443\n",
      "Tunneling at T = 54.9762135997042\n",
      "S3/T = 515.102017614064\n",
      "Tunneling at T = 54.9562135997042\n",
      "S3/T = 504.75382869954257\n",
      "Tunneling at T = 54.9362135997042\n",
      "S3/T = 494.729106245835\n",
      "Tunneling at T = 54.9162135997042\n",
      "S3/T = 485.0046351001672\n",
      "Tunneling at T = 54.896213599704204\n",
      "S3/T = 475.57224022283094\n",
      "Tunneling at T = 54.8762135997042\n",
      "S3/T = 466.4202421074298\n",
      "Tunneling at T = 54.856213599704205\n",
      "S3/T = 457.52948017911973\n",
      "Tunneling at T = 54.8362135997042\n",
      "S3/T = 448.8919818529399\n",
      "Tunneling at T = 54.816213599704206\n",
      "S3/T = 440.4597079775466\n",
      "Tunneling at T = 54.7962135997042\n",
      "S3/T = 432.29455338128776\n",
      "Tunneling at T = 54.7762135997042\n",
      "S3/T = 424.35248360644704\n",
      "Tunneling at T = 54.7562135997042\n",
      "S3/T = 416.62133559312247\n",
      "Tunneling at T = 54.7362135997042\n",
      "S3/T = 409.08875253790853\n",
      "Tunneling at T = 54.716213599704204\n",
      "S3/T = 401.7444674072978\n",
      "Tunneling at T = 54.6962135997042\n",
      "S3/T = 394.58619848993436\n",
      "Tunneling at T = 54.676213599704205\n",
      "S3/T = 387.60317309703606\n",
      "Tunneling at T = 54.6562135997042\n",
      "S3/T = 380.78534253519155\n",
      "Tunneling at T = 54.636213599704206\n",
      "S3/T = 374.12869274134516\n",
      "Tunneling at T = 54.6162135997042\n",
      "S3/T = 367.64123414313434\n",
      "Tunneling at T = 54.5962135997042\n",
      "S3/T = 361.309286449629\n",
      "Tunneling at T = 54.576213599704204\n",
      "S3/T = 355.1365010374694\n",
      "Tunneling at T = 54.5562135997042\n",
      "S3/T = 349.10635145771687\n",
      "Tunneling at T = 54.536213599704205\n",
      "S3/T = 343.2126590755227\n",
      "Tunneling at T = 54.5162135997042\n",
      "S3/T = 337.86199240277034\n",
      "Tunneling at T = 54.496213599704205\n",
      "S3/T = 332.12949728415623\n",
      "Tunneling at T = 54.4762135997042\n",
      "S3/T = 326.51619805486246\n",
      "Tunneling at T = 54.4562135997042\n",
      "S3/T = 321.0063802624237\n",
      "Tunneling at T = 54.4362135997042\n",
      "S3/T = 315.6104999537336\n",
      "Tunneling at T = 54.4162135997042\n",
      "S3/T = 310.31536597309974\n",
      "Tunneling at T = 54.396213599704204\n",
      "S3/T = 306.53605220157203\n",
      "Tunneling at T = 54.3762135997042\n",
      "S3/T = 301.7666184557612\n",
      "Tunneling at T = 54.356213599704205\n",
      "S3/T = 297.0939151702898\n",
      "Tunneling at T = 54.3362135997042\n",
      "S3/T = 292.51668826592163\n",
      "Tunneling at T = 54.316213599704206\n",
      "S3/T = 288.03188231015315\n",
      "Tunneling at T = 54.2962135997042\n",
      "S3/T = 283.6366766457015\n",
      "Tunneling at T = 54.27621359970421\n",
      "S3/T = 279.3177856572308\n",
      "Tunneling at T = 54.2562135997042\n",
      "S3/T = 275.06821511246795\n",
      "Tunneling at T = 54.2362135997042\n",
      "S3/T = 270.9021802142134\n",
      "Tunneling at T = 54.216213599704204\n",
      "S3/T = 266.8145669731313\n",
      "Tunneling at T = 54.1962135997042\n",
      "S3/T = 262.80545354421605\n",
      "Tunneling at T = 54.176213599704205\n",
      "S3/T = 258.86879821033074\n",
      "Tunneling at T = 54.1562135997042\n",
      "S3/T = 255.00345405435704\n",
      "Tunneling at T = 54.136213599704206\n",
      "S3/T = 251.2017425898369\n",
      "Tunneling at T = 54.1162135997042\n",
      "S3/T = 247.5032496872182\n",
      "Tunneling at T = 54.0962135997042\n",
      "S3/T = 243.89506739233403\n",
      "Tunneling at T = 54.076213599704204\n",
      "S3/T = 240.34482609922327\n",
      "Tunneling at T = 54.0562135997042\n",
      "S3/T = 236.85558706014191\n",
      "Tunneling at T = 54.036213599704205\n",
      "S3/T = 233.41818315998307\n",
      "Tunneling at T = 54.0162135997042\n",
      "S3/T = 230.0379438359613\n",
      "Tunneling at T = 53.996213599704205\n",
      "S3/T = 226.71481226956206\n",
      "Tunneling at T = 53.9762135997042\n",
      "S3/T = 223.51600238898513\n",
      "Tunneling at T = 53.9562135997042\n",
      "S3/T = 220.82528914238148\n",
      "Tunneling at T = 53.9362135997042\n",
      "S3/T = 217.49503024221485\n",
      "Tunneling at T = 53.9162135997042\n",
      "S3/T = 214.2457126043627\n",
      "Tunneling at T = 53.896213599704204\n",
      "S3/T = 211.0638577498047\n",
      "Tunneling at T = 53.8762135997042\n",
      "S3/T = 207.9908768641915\n",
      "Tunneling at T = 53.856213599704205\n",
      "S3/T = 204.95107547781612\n",
      "Tunneling at T = 53.8362135997042\n",
      "S3/T = 201.98256726110492\n",
      "Tunneling at T = 53.816213599704206\n",
      "S3/T = 199.06837130753075\n",
      "Tunneling at T = 53.7962135997042\n",
      "S3/T = 195.8638373368502\n",
      "Tunneling at T = 53.77621359970421\n",
      "S3/T = 192.9645333013674\n",
      "Tunneling at T = 53.7562135997042\n",
      "S3/T = 190.69693368963993\n",
      "Tunneling at T = 53.7362135997042\n",
      "S3/T = 187.9354577967606\n",
      "Tunneling at T = 53.716213599704204\n",
      "S3/T = 185.18450429130772\n",
      "Tunneling at T = 53.6962135997042\n",
      "S3/T = 182.51476952398176\n",
      "Tunneling at T = 53.676213599704205\n",
      "S3/T = 179.61490202411133\n",
      "Tunneling at T = 53.6562135997042\n",
      "S3/T = 177.2608155566982\n",
      "Tunneling at T = 53.636213599704206\n",
      "S3/T = 174.92581495170674\n",
      "Tunneling at T = 53.6162135997042\n",
      "S3/T = 172.60853468886964\n",
      "Tunneling at T = 53.5962135997042\n",
      "S3/T = 170.26946753453183\n",
      "Tunneling at T = 53.576213599704204\n",
      "S3/T = 167.88479048901536\n",
      "Tunneling at T = 53.5562135997042\n",
      "S3/T = 165.48889809674975\n",
      "Tunneling at T = 53.536213599704205\n",
      "S3/T = 163.13740624278782\n",
      "Tunneling at T = 53.5162135997042\n",
      "S3/T = 160.84073365531924\n",
      "Tunneling at T = 53.496213599704205\n",
      "S3/T = 158.57510209770177\n",
      "Tunneling at T = 53.4762135997042\n",
      "S3/T = 156.3447744930145\n",
      "Tunneling at T = 53.4562135997042\n",
      "S3/T = 154.15237215413657\n",
      "Tunneling at T = 53.4362135997042\n",
      "S3/T = 151.99238650879957\n",
      "Tunneling at T = 53.4162135997042\n",
      "S3/T = 149.86408769019633\n",
      "Tunneling at T = 53.396213599704204\n",
      "S3/T = 147.76986519585103\n",
      "Tunneling at T = 53.3762135997042\n",
      "S3/T = 145.7062571674307\n",
      "Tunneling at T = 53.356213599704205\n",
      "S3/T = 143.6706308839544\n",
      "Tunneling at T = 53.3362135997042\n",
      "S3/T = 141.6637805936497\n",
      "Tunneling at T = 53.316213599704206\n",
      "S3/T = 139.68956074746234\n",
      "Tnuc should be within 53.316213599704206 and 53.33621359970421\n",
      "Tn = 53.3193823658802\n",
      "v_n/Tn = 3.57850341191004\n"
     ]
    }
   ],
   "source": [
    "mod.findTc()\n",
    "mod.findTn()"
   ]
  },
  {
   "cell_type": "code",
   "execution_count": 5,
   "metadata": {},
   "outputs": [
    {
     "name": "stdout",
     "output_type": "stream",
     "text": [
      "α = 0.020951317965228568\n",
      "β/H = 5236.3200587725305\n"
     ]
    }
   ],
   "source": [
    "mod.findα()\n",
    "mod.findβH()"
   ]
  },
  {
   "cell_type": "code",
   "execution_count": 8,
   "metadata": {},
   "outputs": [],
   "source": [
    "Vtot=mod.Vtot\n",
    "hv = np.array([0.0])\n",
    "lv = np.array([mod.Tnvev])\n",
    "Tnuc = mod.Tn"
   ]
  },
  {
   "cell_type": "markdown",
   "metadata": {},
   "source": [
    "## Solving the boundary conditions for deflagration"
   ]
  },
  {
   "cell_type": "code",
   "execution_count": 39,
   "metadata": {},
   "outputs": [],
   "source": [
    "def match(vp,vm,Tp,Tm, high_vev, low_vev):\n",
    "    r = r_func(Vtot, Tp, Tm, high_vev, low_vev)\n",
    "    αp = alpha_p(Vtot, Tp, Tm, high_vev, low_vev)\n",
    "    vpvm = 1-(1-3*αp)*r\n",
    "    vpvm = vpvm/(3-3*(1+αp)*r)\n",
    "    ratio = 3 + (1-3*αp)*r\n",
    "    ratio = ratio/(1+3*(1+αp)*r)\n",
    "    return [vp*vm - vpvm, vp/vm - ratio]\n",
    "\n",
    "def find_Tsh(Tm, vw):\n",
    "    guess_sol = optimize.fsolve(lambda x:match(x[0], vw, x[1], Tm,hv, lv),[0.1,Tnuc])\n",
    "    try:\n",
    "        vsol=integrate.solve_ivp(dYdtau, (10,0.01), np.array([μ(vw, guess_sol[0]), guess_sol[1], vw]),t_eval=np.linspace(10,0.01,1000),method='DOP853',args=(Vtot, hv))\n",
    "        xi_max = vsol.y[2].max()\n",
    "        xi_max_index = vsol.y[2].argmax()\n",
    "        v_prof = interpolate.interp1d(vsol.y[2][0:xi_max_index+1],vsol.y[0][0:xi_max_index+1])\n",
    "        T_prof = interpolate.interp1d(vsol.y[2][0:xi_max_index+1],vsol.y[1][0:xi_max_index+1])\n",
    "        try:\n",
    "            xsh=optimize.brentq(lambda x: μ(x, v_prof(x))*x - cs_sq(Vtot, T_prof(x), hv), vw, xi_max)\n",
    "        except:\n",
    "            xsh = xi_max\n",
    "    except:\n",
    "        vTsol = integrate.solve_ivp(dvTdxi, (vw, 1), np.array([μ(vw, guess_sol[0]), guess_sol[1]]), t_eval=np.linspace(vw, 1, 500), method='DOP853', args=(Vtot, hv))\n",
    "        v_prof = interpolate.interp1d(vTsol.t, vTsol.y[0], kind='cubic')\n",
    "        T_prof = interpolate.interp1d(vTsol.t, vTsol.y[1], kind='cubic')\n",
    "        xsh = optimize.brentq(lambda x: μ(x, v_prof(x))*x - cs_sq(Vtot, T_prof(x), hv), vw, 1)\n",
    "    return T_prof(xsh)"
   ]
  },
  {
   "cell_type": "code",
   "execution_count": 8,
   "metadata": {},
   "outputs": [
    {
     "data": {
      "text/plain": [
       "53.3193823658802"
      ]
     },
     "execution_count": 8,
     "metadata": {},
     "output_type": "execute_result"
    }
   ],
   "source": [
    "Tnuc"
   ]
  },
  {
   "cell_type": "code",
   "execution_count": 40,
   "metadata": {},
   "outputs": [
    {
     "data": {
      "text/plain": [
       "array(53.65717061)"
      ]
     },
     "execution_count": 40,
     "metadata": {},
     "output_type": "execute_result"
    }
   ],
   "source": [
    "find_Tsh(53, 0.1)"
   ]
  },
  {
   "cell_type": "code",
   "execution_count": 8,
   "metadata": {},
   "outputs": [],
   "source": [
    "Tmax = Tnuc\n",
    "Tmin = 50\n",
    "vw = 0.1\n",
    "for i in range(30):\n",
    "    Tcal=(Tmax+Tmin)/2\n",
    "    Tsh = find_Tsh(Tcal, vw)\n",
    "    if Tsh < Tnuc:\n",
    "        Tmin = Tcal\n",
    "    else:\n",
    "        Tmax = Tcal\n",
    "Tm = Tcal\n",
    "vp, Tp = optimize.fsolve(lambda x:match(x[0],vw,x[1], Tcal, hv, lv),[0.3, Tnuc], xtol=1e-10)\n",
    "hv_new = mod.findMinimum(hv, Tp)\n",
    "lv_new = mod.findMinimum(lv, Tm)"
   ]
  },
  {
   "cell_type": "code",
   "execution_count": 10,
   "metadata": {},
   "outputs": [
    {
     "data": {
      "text/plain": [
       "array([195.53444997])"
      ]
     },
     "execution_count": 10,
     "metadata": {},
     "output_type": "execute_result"
    }
   ],
   "source": [
    "lv_new"
   ]
  },
  {
   "cell_type": "code",
   "execution_count": 14,
   "metadata": {},
   "outputs": [
    {
     "data": {
      "text/plain": [
       "52.54210004498391"
      ]
     },
     "execution_count": 14,
     "metadata": {},
     "output_type": "execute_result"
    }
   ],
   "source": [
    "Tcal"
   ]
  },
  {
   "cell_type": "code",
   "execution_count": 15,
   "metadata": {},
   "outputs": [],
   "source": [
    "Tm=optimize.newton(lambda T: find_Tsh(T, 0.1)-Tnuc, Tnuc-1)"
   ]
  },
  {
   "cell_type": "code",
   "execution_count": 11,
   "metadata": {},
   "outputs": [
    {
     "data": {
      "text/plain": [
       "True"
      ]
     },
     "execution_count": 11,
     "metadata": {},
     "output_type": "execute_result"
    }
   ],
   "source": [
    "vwlist[0]==0.1"
   ]
  },
  {
   "cell_type": "markdown",
   "metadata": {},
   "source": [
    "## Solve the temperature profile and the moments"
   ]
  },
  {
   "cell_type": "code",
   "execution_count": 16,
   "metadata": {},
   "outputs": [],
   "source": [
    "h0 = lv_new\n",
    "\n",
    "def h_profile(z, Lh):\n",
    "    z = np.asanyarray(z)\n",
    "    hz = 0.5*h0*(1-np.tanh(z/Lh))\n",
    "    return hz\n",
    "c1 = w(Vtot, Tm, lv_new) * vw/(1-vw**2)\n",
    "s1=c1\n",
    "c2=-Vtot(lv_new, Tm)+ w(Vtot, Tm, lv_new) * vw**2 /(1-vw**2)\n",
    "s2=c2"
   ]
  },
  {
   "cell_type": "code",
   "execution_count": 17,
   "metadata": {},
   "outputs": [],
   "source": [
    "def T33(T,z, Lh):\n",
    "    derh = derivative(lambda zvalue: h_profile(zvalue,Lh),z)\n",
    "    field_value = [h_profile(z, Lh)]\n",
    "    return (0.5*derh**2 - Vtot(field_value, T) - 0.5*w(Vtot, T, field_value) + 0.5*(4*s1**2 + w(Vtot, T, field_value)**2)**0.5 - s2)/1e6"
   ]
  },
  {
   "cell_type": "code",
   "execution_count": 18,
   "metadata": {},
   "outputs": [],
   "source": [
    "def moments(Lh):\n",
    "    npoints = 100\n",
    "    z_range = np.linspace(-8*Lh, 5*Lh, npoints)\n",
    "    T_sol = np.zeros((npoints,))\n",
    "    for i in range(npoints):\n",
    "        T33min = optimize.minimize(lambda T: T33(T[0], z_range[i], Lh), Tnuc, method='Nelder-Mead', bounds = [(40, 90)])\n",
    "        if T33min.fun > 0:\n",
    "            T_sol[i]=T33min.x[0]\n",
    "        else:\n",
    "            try:\n",
    "                s = optimize.newton(lambda T: T33(T, z_range[i], Lh), Tnuc)\n",
    "            except:\n",
    "                s = optimize.fsolve(lambda T: T33(T[0], z_range[i], Lh), Tnuc)[0]\n",
    "            T_sol[i] = s\n",
    "\n",
    "    hvalues = h_profile(z_range, Lh)\n",
    "    hprime = np.vectorize(lambda z: -0.5*(h0*Sech(z/Lh)**2)/Lh)\n",
    "    d2zh = np.vectorize(lambda z: (h0*Sech(z/Lh)**2*Tanh(z/Lh))/Lh**2)\n",
    "    Eh = np.array([mod.gradV([hvalues[i]], T_sol[i]) - d2zh(z_range[i])  for i in range(npoints)]).reshape((-1,))\n",
    "    \n",
    "    Ph = np.trapz(- Eh * hprime(z_range), z_range)\n",
    "    Gh = np.trapz( Eh * hprime(z_range) *(2*h_profile(z_range, Lh)/h0 - 1) , z_range)\n",
    "    return np.array([Ph, Gh])/1e6"
   ]
  },
  {
   "cell_type": "code",
   "execution_count": 19,
   "metadata": {},
   "outputs": [
    {
     "data": {
      "text/plain": [
       "array([-1.19288966,  0.38371913])"
      ]
     },
     "execution_count": 19,
     "metadata": {},
     "output_type": "execute_result"
    }
   ],
   "source": [
    "moments(2.0)"
   ]
  },
  {
   "cell_type": "code",
   "execution_count": 20,
   "metadata": {},
   "outputs": [
    {
     "data": {
      "text/plain": [
       "0.11399202408811979"
      ]
     },
     "execution_count": 20,
     "metadata": {},
     "output_type": "execute_result"
    }
   ],
   "source": [
    "optimize.newton(lambda L: moments(L)[-1], 0.1)"
   ]
  },
  {
   "cell_type": "code",
   "execution_count": 42,
   "metadata": {},
   "outputs": [],
   "source": [
    "vwlist = np.linspace(0.1,0.6,6)\n",
    "vwlist[-1]= 0.53\n",
    "Plist = np.zeros((6,))"
   ]
  },
  {
   "cell_type": "code",
   "execution_count": 41,
   "metadata": {},
   "outputs": [],
   "source": [
    "def Ptot(vw):\n",
    "    print(\"vw = \" + str(vw))\n",
    "    Tm = optimize.newton(lambda T: find_Tsh(T, 0.1)-Tnuc, Tnuc-1)\n",
    "    print(\"Tm solved.\")\n",
    "    vp, Tp = optimize.fsolve(lambda x:match(x[0],vw,x[1], Tm, hv, lv),[0.3, Tnuc], xtol=1e-10)\n",
    "    hv_new = mod.findMinimum(hv, Tp)\n",
    "    lv_new = mod.findMinimum(lv, Tm)\n",
    "    h0 = lv_new\n",
    "\n",
    "    def h_profile(z, Lh):\n",
    "        z = np.asanyarray(z)\n",
    "        hz = 0.5*h0*(1-np.tanh(z/Lh))\n",
    "        return hz\n",
    "    c1 = w(Vtot, Tm, lv_new) * vw/(1-vw**2)\n",
    "    s1=c1\n",
    "    c2=-Vtot(lv_new, Tm)+ w(Vtot, Tm, lv_new) * vw**2 /(1-vw**2)\n",
    "    s2=c2\n",
    "\n",
    "    def T33(T,z, Lh):\n",
    "        derh = derivative(lambda zvalue: h_profile(zvalue,Lh),z)\n",
    "        field_value = [h_profile(z, Lh)]\n",
    "        return (0.5*derh**2 - Vtot(field_value, T) - 0.5*w(Vtot, T, field_value) + 0.5*(4*s1**2 + w(Vtot, T, field_value)**2)**0.5 - s2)/1e6\n",
    "\n",
    "    print('T33 prepared.')\n",
    "    \n",
    "    def moments(Lh):\n",
    "        npoints = 100\n",
    "        z_range = np.linspace(-8*Lh, 5*Lh, npoints)\n",
    "        T_sol = np.zeros((npoints,))\n",
    "        for i in range(npoints):\n",
    "            T33min = optimize.minimize(lambda T: T33(T[0], z_range[i], Lh), Tnuc, method='Nelder-Mead', bounds = [(40, 90)])\n",
    "            if T33min.fun > 0:\n",
    "                T_sol[i]=T33min.x[0]\n",
    "            else:\n",
    "                try:\n",
    "                    s = optimize.newton(lambda T: T33(T, z_range[i], Lh), Tnuc)\n",
    "                except:\n",
    "                    s = optimize.fsolve(lambda T: T33(T[0], z_range[i], Lh), Tnuc)[0]\n",
    "                T_sol[i] = s\n",
    "\n",
    "        hvalues = h_profile(z_range, Lh)\n",
    "        hprime = np.vectorize(lambda z: -0.5*(h0*Sech(z/Lh)**2)/Lh)\n",
    "        d2zh = np.vectorize(lambda z: (h0*Sech(z/Lh)**2*Tanh(z/Lh))/Lh**2)\n",
    "        Eh = np.array([mod.gradV([hvalues[i]], T_sol[i]) - d2zh(z_range[i])  for i in range(npoints)]).reshape((-1,))\n",
    "    \n",
    "        Ph = np.trapz(- Eh * hprime(z_range), z_range)\n",
    "        Gh = np.trapz( Eh * hprime(z_range) *(2*h_profile(z_range, Lh)/h0 - 1) , z_range)\n",
    "        return np.array([Ph, Gh])/1e6\n",
    "    print('Solving moments.')\n",
    "    Lsol = optimize.newton(lambda L: moments(L)[-1], 0.1)\n",
    "    print('Moment solved, Lh = ' + str(Lsol))\n",
    "    P = moments(Lsol)[0]\n",
    "    return P"
   ]
  },
  {
   "cell_type": "code",
   "execution_count": 12,
   "metadata": {},
   "outputs": [
    {
     "name": "stdout",
     "output_type": "stream",
     "text": [
      "vw = 0.53\n",
      "Tm solved.\n",
      "T33 prepared.\n",
      "Solving moments.\n",
      "Moment solved, Lh = 0.17716317200838919\n"
     ]
    },
    {
     "data": {
      "text/plain": [
       "0.3169573196945655"
      ]
     },
     "execution_count": 12,
     "metadata": {},
     "output_type": "execute_result"
    }
   ],
   "source": [
    "Ptot(0.53)"
   ]
  },
  {
   "cell_type": "code",
   "execution_count": null,
   "metadata": {},
   "outputs": [],
   "source": [
    "for i in range(6):\n",
    "    vw = vwlist[i]\n",
    "    Plist[i] = Ptot(vw)"
   ]
  },
  {
   "cell_type": "code",
   "execution_count": 17,
   "metadata": {},
   "outputs": [
    {
     "data": {
      "text/plain": [
       "Text(0, 0.5, '$P_{\\\\rm tot}$')"
      ]
     },
     "execution_count": 17,
     "metadata": {},
     "output_type": "execute_result"
    },
    {
     "data": {
      "image/png": "[encoded data removed]",
      "text/plain": [
       "<Figure size 640x480 with 1 Axes>"
      ]
     },
     "metadata": {},
     "output_type": "display_data"
    }
   ],
   "source": [
    "plt.rc('text', usetex=True)\n",
    "plt.rc('font', family='serif')\n",
    "plt.rc('text.latex', preamble=r'\\usepackage{wasysym}')\n",
    "plt.rc('font',size=16)\n",
    "plt.plot(vwlist,Plist)\n",
    "plt.xlabel(r'$v_w$')\n",
    "plt.ylabel(r'$P_{\\rm tot}$')"
   ]
  },
  {
   "cell_type": "markdown",
   "metadata": {},
   "source": [
    "## Solve entropy vanishing instead of P vanishing"
   ]
  },
  {
   "cell_type": "code",
   "execution_count": null,
   "metadata": {},
   "outputs": [],
   "source": [
    "def entropy(V,T, vev):\n",
    "    v = optimize.fmin(V, vev, args=(T,), disp=0)\n",
    "\n",
    "    def VT(T):\n",
    "        return V(v, T)\n",
    "    \n",
    "    return -derivative(VT, T, order=1)"
   ]
  },
  {
   "cell_type": "code",
   "execution_count": 55,
   "metadata": {},
   "outputs": [],
   "source": [
    "def sdiff(vw):\n",
    "    print(\"vw = \" + str(vw))\n",
    "    Tm = optimize.newton(lambda T: find_Tsh(T, 0.1)-Tnuc, Tnuc-1)\n",
    "    print(\"Tm solved.\")\n",
    "    vp, Tp = optimize.fsolve(lambda x:match(x[0],vw,x[1], Tm, hv, lv),[0.3, Tnuc], xtol=1e-10)\n",
    "    hv_new = mod.findMinimum(hv, Tp)\n",
    "    lv_new = mod.findMinimum(lv, Tm)\n",
    "\n",
    "    diff = - Tp/Sqrt(1-vp) + Tm/Sqrt(1-vw)\n",
    "    print(diff)\n",
    "    return diff"
   ]
  },
  {
   "cell_type": "code",
   "execution_count": 52,
   "metadata": {},
   "outputs": [
    {
     "name": "stdout",
     "output_type": "stream",
     "text": [
      "vw = 0.5\n",
      "Tm solved.\n",
      "-4.762198012551394\n"
     ]
    },
    {
     "data": {
      "text/plain": [
       "-4.762198012551394"
      ]
     },
     "execution_count": 52,
     "metadata": {},
     "output_type": "execute_result"
    }
   ],
   "source": [
    "sdiff(0.5)"
   ]
  },
  {
   "cell_type": "code",
   "execution_count": 48,
   "metadata": {},
   "outputs": [],
   "source": [
    "sdifflist = np.zeros((6,))"
   ]
  },
  {
   "cell_type": "code",
   "execution_count": 56,
   "metadata": {},
   "outputs": [
    {
     "name": "stdout",
     "output_type": "stream",
     "text": [
      "vw = 0.1\n",
      "Tm solved.\n",
      "-0.16780950380412207\n",
      "vw = 0.2\n",
      "Tm solved.\n",
      "0.6330390687882712\n",
      "vw = 0.30000000000000004\n",
      "Tm solved.\n",
      "1.5907651070452005\n",
      "vw = 0.4\n",
      "Tm solved.\n",
      "2.8687057715090845\n",
      "vw = 0.5\n",
      "Tm solved.\n",
      "4.762198012551394\n",
      "vw = 0.53\n",
      "Tm solved.\n",
      "5.5247532301036415\n"
     ]
    }
   ],
   "source": [
    "for i in range(6):\n",
    "    sdifflist[i] = sdiff(vwlist[i])"
   ]
  },
  {
   "cell_type": "code",
   "execution_count": 74,
   "metadata": {},
   "outputs": [
    {
     "data": {
      "text/plain": [
       "Text(0, 0.5, '$\\\\Delta (s \\\\gamma v)$')"
      ]
     },
     "execution_count": 74,
     "metadata": {},
     "output_type": "execute_result"
    },
    {
     "data": {
      "image/png": "[encoded data removed]",
      "text/plain": [
       "<Figure size 640x480 with 1 Axes>"
      ]
     },
     "metadata": {},
     "output_type": "display_data"
    }
   ],
   "source": [
    "plt.rc('text', usetex=True)\n",
    "plt.rc('font', family='serif')\n",
    "plt.rc('font', size=16)\n",
    "plt.rc('text.latex', preamble=r'\\usepackage{wasysym}')\n",
    "plt.plot(vwlist, sdifflist)\n",
    "plt.xlabel(r'$v_w$')\n",
    "plt.ylabel(r'$\\Delta (s \\gamma v)$')"
   ]
  },
  {
   "cell_type": "code",
   "execution_count": 65,
   "metadata": {},
   "outputs": [
    {
     "data": {
      "text/plain": [
       "array([190.80359172])"
      ]
     },
     "execution_count": 65,
     "metadata": {},
     "output_type": "execute_result"
    }
   ],
   "source": [
    "lv"
   ]
  },
  {
   "cell_type": "markdown",
   "metadata": {},
   "source": [
    "## Solve from entropy conservation"
   ]
  },
  {
   "cell_type": "code",
   "execution_count": 9,
   "metadata": {},
   "outputs": [],
   "source": [
    "def entropy(V,T, vev):\n",
    "    v = optimize.fmin(V, vev, args=(T,), disp=0)\n",
    "\n",
    "    def VT(T):\n",
    "        return V(v, T)\n",
    "    \n",
    "    return -derivative(VT, T, order=1)\n",
    "\n",
    "def ω(V, T, vev):\n",
    "    return T*entropy(V, T, vev)"
   ]
  },
  {
   "cell_type": "code",
   "execution_count": 75,
   "metadata": {},
   "outputs": [],
   "source": [
    "def match_entropy_T30(vp, vm, Tp, Tm):\n",
    "    T30 = ω(Vtot, Tp, hv) * vp/(1-vp**2)\n",
    "    T30 -= ω(Vtot, Tm, lv) * vm/(1-vm**2)\n",
    "    ds = Tm/Sqrt(1-vm**2) - Tp/Sqrt(1-vp**2)\n",
    "    return np.array([T30, ds])"
   ]
  },
  {
   "cell_type": "code",
   "execution_count": 11,
   "metadata": {},
   "outputs": [
    {
     "data": {
      "text/plain": [
       "53.3193823658802"
      ]
     },
     "execution_count": 11,
     "metadata": {},
     "output_type": "execute_result"
    }
   ],
   "source": [
    "Tnuc"
   ]
  },
  {
   "cell_type": "code",
   "execution_count": 77,
   "metadata": {},
   "outputs": [
    {
     "data": {
      "text/plain": [
       "array([ 0.21834159, 54.21858901])"
      ]
     },
     "execution_count": 77,
     "metadata": {},
     "output_type": "execute_result"
    }
   ],
   "source": [
    "vw=0.3\n",
    "Tm=53\n",
    "optimize.fsolve(lambda sol: match_entropy_T30(sol[0],vw,sol[1],Tm), [vw*0.9,Tnuc])"
   ]
  },
  {
   "cell_type": "code",
   "execution_count": 35,
   "metadata": {},
   "outputs": [],
   "source": [
    "def find_Tsh(Tm, vw):\n",
    "    guess_sol = optimize.fsolve(lambda x:match_entropy_T30(x[0], vw, x[1], Tm),[0.1,Tnuc])\n",
    "    try:\n",
    "        vsol=integrate.solve_ivp(dYdtau, (10,0.01), np.array([μ(vw, guess_sol[0]), guess_sol[1], vw]),t_eval=np.linspace(10,0.01,1000),method='DOP853',args=(Vtot, hv))\n",
    "        xi_max = vsol.y[2].max()\n",
    "        xi_max_index = vsol.y[2].argmax()\n",
    "        v_prof = interpolate.interp1d(vsol.y[2][0:xi_max_index+1],vsol.y[0][0:xi_max_index+1])\n",
    "        T_prof = interpolate.interp1d(vsol.y[2][0:xi_max_index+1],vsol.y[1][0:xi_max_index+1])\n",
    "        try:\n",
    "            xsh=optimize.brentq(lambda x: μ(x, v_prof(x))*x - cs_sq(Vtot, T_prof(x), hv), vw, xi_max)\n",
    "        except:\n",
    "            xsh = xi_max\n",
    "    except:\n",
    "        vTsol = integrate.solve_ivp(dvTdxi, (vw, 1), np.array([μ(vw, guess_sol[0]), guess_sol[1]]), t_eval=np.linspace(vw, 1, 500), method='DOP853', args=(Vtot, hv))\n",
    "        v_prof = interpolate.interp1d(vTsol.t, vTsol.y[0], kind='cubic')\n",
    "        T_prof = interpolate.interp1d(vTsol.t, vTsol.y[1], kind='cubic')\n",
    "        xsh = optimize.brentq(lambda x: μ(x, v_prof(x))*x - cs_sq(Vtot, T_prof(x), hv), vw, 1)\n",
    "    return T_prof(xsh)"
   ]
  },
  {
   "cell_type": "code",
   "execution_count": 38,
   "metadata": {},
   "outputs": [
    {
     "data": {
      "text/plain": [
       "array(52.61598845)"
      ]
     },
     "execution_count": 38,
     "metadata": {},
     "output_type": "execute_result"
    }
   ],
   "source": [
    "find_Tsh(53.1,0.3)"
   ]
  },
  {
   "cell_type": "code",
   "execution_count": null,
   "metadata": {},
   "outputs": [],
   "source": []
  }
 ],
 "metadata": {
  "kernelspec": {
   "display_name": "base",
   "language": "python",
   "name": "python3"
  },
  "language_info": {
   "codemirror_mode": {
    "name": "ipython",
    "version": 3
   },
   "file_extension": ".py",
   "mimetype": "text/x-python",
   "name": "python",
   "nbconvert_exporter": "python",
   "pygments_lexer": "ipython3",
   "version": "3.10.9"
  }
 },
 "nbformat": 4,
 "nbformat_minor": 2
}
