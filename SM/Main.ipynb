{
 "cells": [
  {
   "cell_type": "markdown",
   "metadata": {},
   "source": [
    "# Bubble wall velocity under LTE"
   ]
  },
  {
   "cell_type": "code",
   "execution_count": 1,
   "metadata": {},
   "outputs": [],
   "source": [
    "import numpy as np\n",
    "from numpy import linalg as la\n",
    "from scipy import integrate\n",
    "from scipy import optimize\n",
    "from scipy import interpolate\n",
    "import scipy as sp\n",
    "from matplotlib import pyplot as plt\n",
    "import plotter as pl\n",
    "from helperFunctions import derivative, alpha_p, cs_sq, dYdtau, dvTdxi, r_func, μ, w\n",
    "\n",
    "Abs = np.abs\n",
    "Log = np.log\n",
    "Log10 = np.log10\n",
    "Pi = np.pi\n",
    "Sqrt = np.sqrt\n",
    "Exp = np.exp\n",
    "Cos = np.cos\n",
    "Sin = np.sin\n",
    "Sech = lambda x: 1/np.cosh(x)\n",
    "Tanh = np.tanh\n",
    "ArcSin = np.arcsin\n",
    "ArcTanh = np.arctanh\n",
    "Arg = np.angle\n",
    "BesselK = sp.special.kv\n",
    "Zeta = sp.special.zeta\n",
    "HeavisideTheta = lambda x: np.heaviside(x, 0)\n",
    "\n",
    "\n",
    "def Plot(fun, xminmax, n=100,xfun=np.linspace, xlog=False, ylog=False):\n",
    "    xlist = xfun(xminmax[0], xminmax[1], n)\n",
    "    ylist = [fun(x) for x in xlist]\n",
    "    plt.plot(xlist, ylist)\n",
    "    if xlog:\n",
    "        plt.xscale('log')\n",
    "    if ylog:\n",
    "        plt.yscale('log')"
   ]
  },
  {
   "cell_type": "markdown",
   "metadata": {},
   "source": [
    "## Prepare"
   ]
  },
  {
   "cell_type": "markdown",
   "metadata": {},
   "source": [
    "Import model"
   ]
  },
  {
   "cell_type": "code",
   "execution_count": 2,
   "metadata": {},
   "outputs": [],
   "source": [
    "import SM_model as m"
   ]
  },
  {
   "cell_type": "code",
   "execution_count": 3,
   "metadata": {},
   "outputs": [
    {
     "name": "stdout",
     "output_type": "stream",
     "text": [
      "Model inialized.\n",
      "g2 = 1\n",
      "λ = 0.007285228\n",
      "μh = 25.236173718618723\n"
     ]
    }
   ],
   "source": [
    "mod = m.SM(1,0.007285228,636.8644639563023)"
   ]
  },
  {
   "cell_type": "code",
   "execution_count": 4,
   "metadata": {},
   "outputs": [
    {
     "name": "stdout",
     "output_type": "stream",
     "text": [
      "Finding Tc...\n",
      "Critical temperature found! Tc = 56.636213599704206\n",
      "v_c/Tc = 2.805112061801922\n",
      "Finding Tn...\n",
      "Tunneling at T = 56.6162135997042\n",
      "S3/T = 1776610.821118072\n",
      "Tunneling at T = 56.5962135997042\n",
      "S3/T = 451853.48759337695\n",
      "Tunneling at T = 56.576213599704204\n",
      "S3/T = 203892.6206760976\n",
      "Tunneling at T = 56.5562135997042\n",
      "S3/T = 116379.02610579527\n",
      "Tunneling at T = 56.536213599704205\n",
      "S3/T = 75553.78881274353\n",
      "Tunneling at T = 56.5162135997042\n",
      "S3/T = 53207.225980410876\n",
      "Tunneling at T = 56.496213599704205\n",
      "S3/T = 39631.40596042085\n",
      "Tunneling at T = 56.4762135997042\n",
      "S3/T = 30754.56578884889\n",
      "Tunneling at T = 56.456213599704206\n",
      "S3/T = 24623.812731046\n",
      "Tunneling at T = 56.4362135997042\n",
      "S3/T = 20206.5170962416\n",
      "Tunneling at T = 56.4162135997042\n",
      "S3/T = 16914.527920606317\n",
      "Tunneling at T = 56.396213599704204\n",
      "S3/T = 14392.707450128244\n",
      "Tunneling at T = 56.3762135997042\n",
      "S3/T = 12416.149901957511\n",
      "Tunneling at T = 56.356213599704205\n",
      "S3/T = 10836.688219983376\n",
      "Tunneling at T = 56.3362135997042\n",
      "S3/T = 9553.514735589262\n",
      "Tunneling at T = 56.316213599704206\n",
      "S3/T = 8495.974672375016\n",
      "Tunneling at T = 56.2962135997042\n",
      "S3/T = 7613.435754398341\n",
      "Tunneling at T = 56.2762135997042\n",
      "S3/T = 6868.760183414682\n",
      "Tunneling at T = 56.2562135997042\n",
      "S3/T = 6234.2212074353965\n",
      "Tunneling at T = 56.2362135997042\n",
      "S3/T = 5688.769949140606\n",
      "Tunneling at T = 56.216213599704204\n",
      "S3/T = 5216.192393099145\n",
      "Tunneling at T = 56.1962135997042\n",
      "S3/T = 4803.823829788709\n",
      "Tunneling at T = 56.176213599704205\n",
      "S3/T = 4441.6583822767725\n",
      "Tunneling at T = 56.1562135997042\n",
      "S3/T = 4121.699213872884\n",
      "Tunneling at T = 56.136213599704206\n",
      "S3/T = 3837.495219883473\n",
      "Tunneling at T = 56.1162135997042\n",
      "S3/T = 3583.791294071685\n",
      "Tunneling at T = 56.0962135997042\n",
      "S3/T = 3356.2824743342317\n",
      "Tunneling at T = 56.076213599704204\n",
      "S3/T = 3151.3788507857694\n",
      "Tunneling at T = 56.0562135997042\n",
      "S3/T = 2966.118265093692\n",
      "Tunneling at T = 56.036213599704205\n",
      "S3/T = 2798.000976167012\n",
      "Tunneling at T = 56.0162135997042\n",
      "S3/T = 2644.9230940044445\n",
      "Tunneling at T = 55.996213599704205\n",
      "S3/T = 2505.0895649850554\n",
      "Tunneling at T = 55.9762135997042\n",
      "S3/T = 2376.96876607794\n",
      "Tunneling at T = 55.956213599704206\n",
      "S3/T = 2259.2605162809455\n",
      "Tunneling at T = 55.9362135997042\n",
      "S3/T = 2150.8238304240635\n",
      "Tunneling at T = 55.9162135997042\n",
      "S3/T = 2050.6938337713405\n",
      "Tunneling at T = 55.896213599704204\n",
      "S3/T = 1958.01246060958\n",
      "Tunneling at T = 55.8762135997042\n",
      "S3/T = 1872.0290797989626\n",
      "Tunneling at T = 55.856213599704205\n",
      "S3/T = 1790.590792589671\n",
      "Tunneling at T = 55.8362135997042\n",
      "S3/T = 1716.1880890226644\n",
      "Tunneling at T = 55.816213599704206\n",
      "S3/T = 1646.7623558774737\n",
      "Tunneling at T = 55.7962135997042\n",
      "S3/T = 1581.8633982784409\n",
      "Tunneling at T = 55.7762135997042\n",
      "S3/T = 1521.0982155127735\n",
      "Tunneling at T = 55.7562135997042\n",
      "S3/T = 1464.1160614246626\n",
      "Tunneling at T = 55.7362135997042\n",
      "S3/T = 1410.6005341695122\n",
      "Tunneling at T = 55.716213599704204\n",
      "S3/T = 1360.2751254295213\n",
      "Tunneling at T = 55.6962135997042\n",
      "S3/T = 1312.8922167890303\n",
      "Tunneling at T = 55.676213599704205\n",
      "S3/T = 1268.2353962244106\n",
      "Tunneling at T = 55.6562135997042\n",
      "S3/T = 1226.1869154564604\n",
      "Tunneling at T = 55.636213599704206\n",
      "S3/T = 1186.4504257627507\n",
      "Tunneling at T = 55.6162135997042\n",
      "S3/T = 1149.3037988030558\n",
      "Tunneling at T = 55.5962135997042\n",
      "S3/T = 1114.4289202940506\n",
      "Tunneling at T = 55.576213599704204\n",
      "S3/T = 1081.0321953458542\n",
      "Tunneling at T = 55.5562135997042\n",
      "S3/T = 1048.5170101197643\n",
      "Tunneling at T = 55.536213599704205\n",
      "S3/T = 1011.3784199128194\n",
      "Tunneling at T = 55.5162135997042\n",
      "S3/T = 983.5879181494922\n",
      "Tunneling at T = 55.496213599704205\n",
      "S3/T = 954.9411272987381\n",
      "Tunneling at T = 55.4762135997042\n",
      "S3/T = 927.6644010980043\n",
      "Tunneling at T = 55.456213599704206\n",
      "S3/T = 901.6520776595938\n",
      "Tunneling at T = 55.4362135997042\n",
      "S3/T = 876.8103315741827\n",
      "Tunneling at T = 55.4162135997042\n",
      "S3/T = 853.0637667862695\n",
      "Tunneling at T = 55.396213599704204\n",
      "S3/T = 831.2621639592909\n",
      "Tunneling at T = 55.3762135997042\n",
      "S3/T = 809.5636003277128\n",
      "Tunneling at T = 55.356213599704205\n",
      "S3/T = 788.5024143378934\n",
      "Tunneling at T = 55.3362135997042\n",
      "S3/T = 771.366799796145\n",
      "Tunneling at T = 55.316213599704206\n",
      "S3/T = 752.4818371583236\n",
      "Tunneling at T = 55.2962135997042\n",
      "S3/T = 734.3372617591442\n",
      "Tunneling at T = 55.2762135997042\n",
      "S3/T = 717.8980748785751\n",
      "Tunneling at T = 55.2562135997042\n",
      "S3/T = 700.880853017082\n",
      "Tunneling at T = 55.2362135997042\n",
      "S3/T = 684.545133955583\n",
      "Tunneling at T = 55.216213599704204\n",
      "S3/T = 668.8626018015511\n",
      "Tunneling at T = 55.1962135997042\n",
      "S3/T = 653.8352207612608\n",
      "Tunneling at T = 55.176213599704205\n",
      "S3/T = 639.3895934631444\n",
      "Tunneling at T = 55.1562135997042\n",
      "S3/T = 625.0197911861585\n",
      "Tunneling at T = 55.136213599704206\n",
      "S3/T = 611.1593959415907\n",
      "Tunneling at T = 55.1162135997042\n",
      "S3/T = 597.7737038439923\n",
      "Tunneling at T = 55.0962135997042\n",
      "S3/T = 584.8285171700697\n",
      "Tunneling at T = 55.076213599704204\n",
      "S3/T = 572.2856764913721\n",
      "Tunneling at T = 55.0562135997042\n",
      "S3/T = 560.0379037876478\n",
      "Tunneling at T = 55.036213599704205\n",
      "S3/T = 548.2095139733411\n",
      "Tunneling at T = 55.0162135997042\n",
      "S3/T = 536.8233434937873\n",
      "Tunneling at T = 54.996213599704205\n",
      "S3/T = 525.7888909522474\n",
      "Tunneling at T = 54.9762135997042\n",
      "S3/T = 515.1020175621521\n",
      "Tunneling at T = 54.9562135997042\n",
      "S3/T = 504.75382867267587\n",
      "Tunneling at T = 54.9362135997042\n",
      "S3/T = 494.7291062290164\n",
      "Tunneling at T = 54.9162135997042\n",
      "S3/T = 485.0046350794471\n",
      "Tunneling at T = 54.896213599704204\n",
      "S3/T = 475.57224022879905\n",
      "Tunneling at T = 54.8762135997042\n",
      "S3/T = 466.4202420977059\n",
      "Tunneling at T = 54.856213599704205\n",
      "S3/T = 457.52948015327445\n",
      "Tunneling at T = 54.8362135997042\n",
      "S3/T = 448.89198182909837\n",
      "Tunneling at T = 54.816213599704206\n",
      "S3/T = 440.4597079976109\n",
      "Tunneling at T = 54.7962135997042\n",
      "S3/T = 432.29455338928346\n",
      "Tunneling at T = 54.7762135997042\n",
      "S3/T = 424.3524835848669\n",
      "Tunneling at T = 54.7562135997042\n",
      "S3/T = 416.6213355938514\n",
      "Tunneling at T = 54.7362135997042\n",
      "S3/T = 409.08875157793966\n",
      "Tunneling at T = 54.716213599704204\n",
      "S3/T = 401.744467412911\n",
      "Tunneling at T = 54.6962135997042\n",
      "S3/T = 394.5861985063878\n",
      "Tunneling at T = 54.676213599704205\n",
      "S3/T = 387.60317309684865\n",
      "Tunneling at T = 54.6562135997042\n",
      "S3/T = 380.7853425296111\n",
      "Tunneling at T = 54.636213599704206\n",
      "S3/T = 374.1286913919711\n",
      "Tunneling at T = 54.6162135997042\n",
      "S3/T = 367.6412341516719\n",
      "Tunneling at T = 54.5962135997042\n",
      "S3/T = 361.3092864435669\n",
      "Tunneling at T = 54.576213599704204\n",
      "S3/T = 355.1365010402166\n",
      "Tunneling at T = 54.5562135997042\n",
      "S3/T = 349.10635145579283\n",
      "Tunneling at T = 54.536213599704205\n",
      "S3/T = 343.21265907577794\n",
      "Tunneling at T = 54.5162135997042\n",
      "S3/T = 337.86199236687116\n",
      "Tunneling at T = 54.496213599704205\n",
      "S3/T = 332.1294942724517\n",
      "Tunneling at T = 54.4762135997042\n",
      "S3/T = 326.51619804622504\n",
      "Tunneling at T = 54.4562135997042\n",
      "S3/T = 321.0063769605805\n",
      "Tunneling at T = 54.4362135997042\n",
      "S3/T = 315.6104999336189\n",
      "Tunneling at T = 54.4162135997042\n",
      "S3/T = 310.3153660334526\n",
      "Tunneling at T = 54.396213599704204\n",
      "S3/T = 306.53605220453653\n",
      "Tunneling at T = 54.3762135997042\n",
      "S3/T = 301.7666184882204\n",
      "Tunneling at T = 54.356213599704205\n",
      "S3/T = 297.09391513764353\n",
      "Tunneling at T = 54.3362135997042\n",
      "S3/T = 292.51668827606613\n",
      "Tunneling at T = 54.316213599704206\n",
      "S3/T = 288.0318823160281\n",
      "Tunneling at T = 54.2962135997042\n",
      "S3/T = 283.63667692448024\n",
      "Tunneling at T = 54.27621359970421\n",
      "S3/T = 279.3177856424637\n",
      "Tunneling at T = 54.2562135997042\n",
      "S3/T = 275.068215115897\n",
      "Tunneling at T = 54.2362135997042\n",
      "S3/T = 270.9021801888346\n",
      "Tunneling at T = 54.216213599704204\n",
      "S3/T = 266.81456698362547\n",
      "Tunneling at T = 54.1962135997042\n",
      "S3/T = 262.8054535442806\n",
      "Tunneling at T = 54.176213599704205\n",
      "S3/T = 258.868798164392\n",
      "Tunneling at T = 54.1562135997042\n",
      "S3/T = 255.0034540554032\n",
      "Tunneling at T = 54.136213599704206\n",
      "S3/T = 251.20174255256603\n",
      "Tunneling at T = 54.1162135997042\n",
      "S3/T = 247.50325008538977\n",
      "Tunneling at T = 54.0962135997042\n",
      "S3/T = 243.89506742956848\n",
      "Tunneling at T = 54.076213599704204\n",
      "S3/T = 240.3448263373046\n",
      "Tunneling at T = 54.0562135997042\n",
      "S3/T = 236.8555870900779\n",
      "Tunneling at T = 54.036213599704205\n",
      "S3/T = 233.41818317008557\n",
      "Tunneling at T = 54.0162135997042\n",
      "S3/T = 230.03794383243942\n",
      "Tunneling at T = 53.996213599704205\n",
      "S3/T = 226.7148122738148\n",
      "Tunneling at T = 53.9762135997042\n",
      "S3/T = 223.51600238816755\n",
      "Tunneling at T = 53.9562135997042\n",
      "S3/T = 220.825287041603\n",
      "Tunneling at T = 53.9362135997042\n",
      "S3/T = 217.4950302627361\n",
      "Tunneling at T = 53.9162135997042\n",
      "S3/T = 214.24571099552207\n",
      "Tunneling at T = 53.896213599704204\n",
      "S3/T = 211.06385634027498\n",
      "Tunneling at T = 53.8762135997042\n",
      "S3/T = 207.99087683742266\n",
      "Tunneling at T = 53.856213599704205\n",
      "S3/T = 204.9510747001694\n",
      "Tunneling at T = 53.8362135997042\n",
      "S3/T = 201.9825667423495\n",
      "Tunneling at T = 53.816213599704206\n",
      "S3/T = 199.0683665983498\n",
      "Tunneling at T = 53.7962135997042\n",
      "S3/T = 195.8638373430303\n",
      "Tunneling at T = 53.77621359970421\n",
      "S3/T = 192.9645333087287\n",
      "Tunneling at T = 53.7562135997042\n",
      "S3/T = 190.6969335773292\n",
      "Tunneling at T = 53.7362135997042\n",
      "S3/T = 187.93545736942306\n",
      "Tunneling at T = 53.716213599704204\n",
      "S3/T = 185.18450429297275\n",
      "Tunneling at T = 53.6962135997042\n",
      "S3/T = 182.5147694690406\n",
      "Tunneling at T = 53.676213599704205\n",
      "S3/T = 179.6149019949654\n",
      "Tunneling at T = 53.6562135997042\n",
      "S3/T = 177.26081677561632\n",
      "Tunneling at T = 53.636213599704206\n",
      "S3/T = 174.92581497594958\n",
      "Tunneling at T = 53.6162135997042\n",
      "S3/T = 172.608534621439\n",
      "Tunneling at T = 53.5962135997042\n",
      "S3/T = 170.26946802132383\n",
      "Tunneling at T = 53.576213599704204\n",
      "S3/T = 167.88478967028888\n",
      "Tunneling at T = 53.5562135997042\n",
      "S3/T = 165.4888978772871\n",
      "Tunneling at T = 53.536213599704205\n",
      "S3/T = 163.1374062415684\n",
      "Tunneling at T = 53.5162135997042\n",
      "S3/T = 160.8407336547912\n",
      "Tunneling at T = 53.496213599704205\n",
      "S3/T = 158.57510209893678\n",
      "Tunneling at T = 53.4762135997042\n",
      "S3/T = 156.34477438241635\n",
      "Tunneling at T = 53.4562135997042\n",
      "S3/T = 154.15237206914134\n",
      "Tunneling at T = 53.4362135997042\n",
      "S3/T = 151.992386442868\n",
      "Tunneling at T = 53.4162135997042\n",
      "S3/T = 149.8640877317079\n",
      "Tunneling at T = 53.396213599704204\n",
      "S3/T = 147.76986519781866\n",
      "Tunneling at T = 53.3762135997042\n",
      "S3/T = 145.7062571669772\n",
      "Tunneling at T = 53.356213599704205\n",
      "S3/T = 143.67063088741523\n",
      "Tunneling at T = 53.3362135997042\n",
      "S3/T = 141.6637805927373\n",
      "Tunneling at T = 53.316213599704206\n",
      "S3/T = 139.68956083048775\n",
      "Tnuc should be within 53.316213599704206 and 53.33621359970421\n",
      "Tn = 53.31938236527749\n",
      "v_n/Tn = 3.57850341195049\n"
     ]
    }
   ],
   "source": [
    "mod.findTc()\n",
    "mod.findTn()"
   ]
  },
  {
   "cell_type": "code",
   "execution_count": 5,
   "metadata": {},
   "outputs": [
    {
     "name": "stdout",
     "output_type": "stream",
     "text": [
      "α = 0.02095131796676762\n",
      "β/H = 5236.3201647037\n"
     ]
    }
   ],
   "source": [
    "mod.findα()\n",
    "mod.findβH()"
   ]
  },
  {
   "cell_type": "code",
   "execution_count": 6,
   "metadata": {},
   "outputs": [],
   "source": [
    "Vtot=mod.Vtot\n",
    "hv = np.array([0.0])\n",
    "lv = np.array([mod.Tnvev])\n",
    "Tnuc = mod.Tn"
   ]
  },
  {
   "cell_type": "code",
   "execution_count": 7,
   "metadata": {},
   "outputs": [],
   "source": [
    "from helperFunctions import a"
   ]
  },
  {
   "cell_type": "markdown",
   "metadata": {},
   "source": [
    "## Solving the boundary conditions for deflagration"
   ]
  },
  {
   "cell_type": "code",
   "execution_count": 13,
   "metadata": {},
   "outputs": [],
   "source": [
    "def p(V, T, vev):\n",
    "    v = optimize.fmin(V, vev, args=(T,), disp=0)\n",
    "    return -V(v, T)\n",
    "\n",
    "def e(V, T, vev):\n",
    "    v = optimize.fmin(V, vev, args=(T,), disp=0)\n",
    "    def VT(T):\n",
    "        return V(v, T)\n",
    "    return - T * derivative(VT, T) + VT(T)\n",
    "\n",
    "def ω(V, T, vev):\n",
    "    v = optimize.fmin(V, vev, args=(T,), disp=0)\n",
    "    def VT(T):\n",
    "        return V(v, T)\n",
    "    return - T * derivative(VT, T) "
   ]
  },
  {
   "cell_type": "code",
   "execution_count": null,
   "metadata": {},
   "outputs": [],
   "source": [
    "d"
   ]
  },
  {
   "cell_type": "code",
   "execution_count": null,
   "metadata": {},
   "outputs": [],
   "source": []
  },
  {
   "cell_type": "code",
   "execution_count": 14,
   "metadata": {},
   "outputs": [],
   "source": [
    "def match(vp,vm,Tp,Tm, high_vev, low_vev):\n",
    "    r = r_func(Vtot, Tp, Tm, high_vev, low_vev)\n",
    "    αp = alpha_p(Vtot, Tp, Tm, high_vev, low_vev)\n",
    "    vpvm = 1-(1-3*αp)*r\n",
    "    vpvm = vpvm/(3-3*(1+αp)*r)\n",
    "    ratio = 3 + (1-3*αp)*r\n",
    "    ratio = ratio/(1+3*(1+αp)*r)\n",
    "    return [vp*vm - vpvm, vp/vm - ratio]\n",
    "\n",
    "def match_pe(vp,vm, Tp, Tm, hv, lv):\n",
    "    pp = p(Vtot, Tp, hv)\n",
    "    pm = p(Vtot, Tm, lv)\n",
    "    ep = e(Vtot, Tp, hv)\n",
    "    em = e(Vtot, Tm, lv)\n",
    "    vpvm = (pp - pm)/(ep - em)\n",
    "    ratio = (em + pp)/(ep + pm)\n",
    "    return np.array([vp* vm- vpvm, vp/vm - ratio])\n",
    "\n",
    "def match_T(vp,vm, Tp, Tm, hv, lv):\n",
    "    pp = p(Vtot, Tp, hv)\n",
    "    pm = p(Vtot, Tm, lv)\n",
    "    ωp = ω(Vtot, Tp, hv)\n",
    "    ωm = ω(Vtot, Tm, lv)\n",
    "    γp = 1/Sqrt(1-vp**2)\n",
    "    γm = 1/Sqrt(1-vm**2)\n",
    "    T33p = ωp * vp**2 * γp**2 + pp\n",
    "    T33m = ωm * vm**2 * γm**2 + pm\n",
    "    T30p = ωp * vp * γp**2\n",
    "    T30m = ωm * vm * γm**2\n",
    "    return np.array([T33p - T33m, T30p - T30m])\n",
    "\n",
    "def find_Tsh(Tm, vw, type='def'):\n",
    "    if type=='def':\n",
    "        guess_sol = optimize.fsolve(lambda x:match(x[0], vw, x[1], Tm,hv, lv),[0.1,Tnuc])\n",
    "    elif type=='hyb':\n",
    "        guess_sol = optimize.fsolve(lambda x:match(x[0], cs_sq(Vtot, Tm, lv)**0.5, x[1], Tm,hv, lv),[0.1,Tnuc])\n",
    "\n",
    "    # Integrate outside the wall to the shock-wave front\n",
    "    try:\n",
    "        vsol=integrate.solve_ivp(dYdtau, (10,0.01), np.array([μ(vw, guess_sol[0]), guess_sol[1], vw]),t_eval=np.linspace(10,0.01,1000),method='DOP853',args=(Vtot, hv))\n",
    "        xi_max = vsol.y[2].max()\n",
    "        xi_max_index = vsol.y[2].argmax()\n",
    "        v_prof = interpolate.interp1d(vsol.y[2][0:xi_max_index+1],vsol.y[0][0:xi_max_index+1])\n",
    "        T_prof = interpolate.interp1d(vsol.y[2][0:xi_max_index+1],vsol.y[1][0:xi_max_index+1])\n",
    "        try:\n",
    "            xsh=optimize.brentq(lambda x: μ(x, v_prof(x))*x - cs_sq(Vtot, T_prof(x), hv), vw, xi_max)\n",
    "        except:\n",
    "            xsh = xi_max\n",
    "    except:\n",
    "        vTsol = integrate.solve_ivp(dvTdxi, (vw, 1), np.array([μ(vw, guess_sol[0]), guess_sol[1]]), t_eval=np.linspace(vw, 1, 500), method='DOP853', args=(Vtot, hv))\n",
    "        v_prof = interpolate.interp1d(vTsol.t, vTsol.y[0], kind='cubic')\n",
    "        T_prof = interpolate.interp1d(vTsol.t, vTsol.y[1], kind='cubic')\n",
    "        xsh = optimize.brentq(lambda x: μ(x, v_prof(x))*x - cs_sq(Vtot, T_prof(x), hv), vw, 1)\n",
    "    return T_prof(xsh)"
   ]
  },
  {
   "cell_type": "code",
   "execution_count": 9,
   "metadata": {},
   "outputs": [
    {
     "data": {
      "text/plain": [
       "53.319382365441314"
      ]
     },
     "execution_count": 9,
     "metadata": {},
     "output_type": "execute_result"
    }
   ],
   "source": [
    "Tnuc"
   ]
  },
  {
   "cell_type": "code",
   "execution_count": 8,
   "metadata": {},
   "outputs": [
    {
     "data": {
      "text/plain": [
       "array(53.1500387)"
      ]
     },
     "execution_count": 8,
     "metadata": {},
     "output_type": "execute_result"
    }
   ],
   "source": [
    "find_Tsh(53, 0.1)"
   ]
  },
  {
   "cell_type": "code",
   "execution_count": 15,
   "metadata": {},
   "outputs": [
    {
     "name": "stdout",
     "output_type": "stream",
     "text": [
      "[ 0.45891026 56.43588515]\n",
      "[ 0.45891026 56.43588515]\n",
      "[ 0.45891026 56.43588515]\n"
     ]
    }
   ],
   "source": [
    "Tm = 53\n",
    "vw = 0.55\n",
    "print(optimize.fsolve(lambda x:match(x[0], vw, x[1], Tm,hv, lv),[0.4,Tnuc]))\n",
    "print(optimize.fsolve(lambda x:match_pe(x[0], vw, x[1], Tm,hv, lv),[0.4,Tnuc]))\n",
    "print(optimize.fsolve(lambda x:match_T(x[0], vw, x[1], Tm,hv, lv),[0.4,Tnuc]))"
   ]
  },
  {
   "cell_type": "markdown",
   "metadata": {},
   "source": [
    "## Solve hybrid boundary conditions"
   ]
  },
  {
   "cell_type": "code",
   "execution_count": 35,
   "metadata": {},
   "outputs": [],
   "source": [
    "vw = 0.6"
   ]
  },
  {
   "cell_type": "code",
   "execution_count": 50,
   "metadata": {},
   "outputs": [
    {
     "data": {
      "text/plain": [
       "0.5745822856458147"
      ]
     },
     "execution_count": 50,
     "metadata": {},
     "output_type": "execute_result"
    }
   ],
   "source": [
    "Tm=53\n",
    "cs_sq(Vtot, Tm, lv)**0.5"
   ]
  },
  {
   "cell_type": "code",
   "execution_count": 19,
   "metadata": {},
   "outputs": [],
   "source": [
    "guess_sol = optimize.fsolve(lambda x:match(x[0], cs_sq(Vtot, Tm, lv)**0.5, x[1], Tm,hv, lv),[0.5,Tnuc])"
   ]
  },
  {
   "cell_type": "code",
   "execution_count": 20,
   "metadata": {},
   "outputs": [
    {
     "data": {
      "text/plain": [
       "array([ 0.50566074, 55.89279946])"
      ]
     },
     "execution_count": 20,
     "metadata": {},
     "output_type": "execute_result"
    }
   ],
   "source": [
    "guess_sol"
   ]
  },
  {
   "cell_type": "code",
   "execution_count": 52,
   "metadata": {},
   "outputs": [
    {
     "data": {
      "text/plain": [
       "array(52.15453178)"
      ]
     },
     "execution_count": 52,
     "metadata": {},
     "output_type": "execute_result"
    }
   ],
   "source": [
    "find_Tsh(50, 0.6, 'hyb')"
   ]
  },
  {
   "cell_type": "code",
   "execution_count": 53,
   "metadata": {},
   "outputs": [],
   "source": [
    "Tmax = Tnuc\n",
    "Tmin = 50\n",
    "vw = 0.6\n",
    "for i in range(30):\n",
    "    Tcal=(Tmax+Tmin)/2\n",
    "    Tsh = find_Tsh(Tcal, vw, 'hyb')\n",
    "    if Tsh < Tnuc:\n",
    "        Tmin = Tcal\n",
    "    else:\n",
    "        Tmax = Tcal\n",
    "Tm = Tcal\n",
    "lv_new = mod.findMinimum(lv, Tm)\n",
    "vp, Tp = optimize.fsolve(lambda x:match(x[0],cs_sq(Vtot, Tm, lv_new)**0.5,x[1], Tcal, hv, lv),[0.3, Tnuc], xtol=1e-10)\n",
    "hv_new = mod.findMinimum(hv, Tp)"
   ]
  },
  {
   "cell_type": "code",
   "execution_count": 12,
   "metadata": {},
   "outputs": [
    {
     "data": {
      "text/plain": [
       "50.5251993424907"
      ]
     },
     "execution_count": 12,
     "metadata": {},
     "output_type": "execute_result"
    }
   ],
   "source": [
    "vw=0.6\n",
    "Tm = optimize.newton(lambda T: find_Tsh(T, vw, 'hyb')-Tnuc, Tnuc-1)\n",
    "Tm"
   ]
  },
  {
   "cell_type": "code",
   "execution_count": 13,
   "metadata": {},
   "outputs": [],
   "source": [
    "lv_new = mod.findMinimum(lv, Tm)"
   ]
  },
  {
   "cell_type": "code",
   "execution_count": 14,
   "metadata": {},
   "outputs": [],
   "source": [
    "vm = cs_sq(Vtot, Tm, lv_new)**0.5\n",
    "vp, Tp = optimize.fsolve(lambda x:match(x[0], cs_sq(Vtot, Tm, lv_new)**0.5, x[1], Tm,hv, lv),[0.5,Tnuc])"
   ]
  },
  {
   "cell_type": "code",
   "execution_count": 15,
   "metadata": {},
   "outputs": [
    {
     "data": {
      "text/plain": [
       "[0.44708429326456345, 55.09470905534334]"
      ]
     },
     "execution_count": 15,
     "metadata": {},
     "output_type": "execute_result"
    }
   ],
   "source": [
    "[vp, Tp]"
   ]
  },
  {
   "cell_type": "code",
   "execution_count": 16,
   "metadata": {},
   "outputs": [
    {
     "data": {
      "text/plain": [
       "0.5691450533849601"
      ]
     },
     "execution_count": 16,
     "metadata": {},
     "output_type": "execute_result"
    }
   ],
   "source": [
    "vm"
   ]
  },
  {
   "cell_type": "code",
   "execution_count": 17,
   "metadata": {},
   "outputs": [
    {
     "data": {
      "text/plain": [
       "array([205.6128805])"
      ]
     },
     "execution_count": 17,
     "metadata": {},
     "output_type": "execute_result"
    }
   ],
   "source": [
    "lv_new"
   ]
  },
  {
   "cell_type": "code",
   "execution_count": 18,
   "metadata": {},
   "outputs": [
    {
     "data": {
      "text/plain": [
       "array([190.80359172])"
      ]
     },
     "execution_count": 18,
     "metadata": {},
     "output_type": "execute_result"
    }
   ],
   "source": [
    "lv"
   ]
  },
  {
   "cell_type": "markdown",
   "metadata": {},
   "source": [
    "## Solve detonation boundary conditions"
   ]
  },
  {
   "cell_type": "code",
   "execution_count": 67,
   "metadata": {},
   "outputs": [],
   "source": [
    "vw=0.7\n",
    "gsol=optimize.fsolve(lambda x:match(vw, x[0], Tnuc, x[1], hv, lv),[0.7,Tnuc+0.5])"
   ]
  },
  {
   "cell_type": "code",
   "execution_count": 68,
   "metadata": {},
   "outputs": [
    {
     "data": {
      "text/plain": [
       "array([ 0.68196933, 54.5579471 ])"
      ]
     },
     "execution_count": 68,
     "metadata": {},
     "output_type": "execute_result"
    }
   ],
   "source": [
    "gsol"
   ]
  },
  {
   "cell_type": "code",
   "execution_count": 71,
   "metadata": {},
   "outputs": [
    {
     "data": {
      "text/plain": [
       "0.6434963594670974"
      ]
     },
     "execution_count": 71,
     "metadata": {},
     "output_type": "execute_result"
    }
   ],
   "source": [
    "vJ(alpha_p(Vtot, Tnuc, gsol[1], hv, lv))"
   ]
  },
  {
   "cell_type": "markdown",
   "metadata": {},
   "source": [
    "## Solve the temperature profile and the moments"
   ]
  },
  {
   "cell_type": "code",
   "execution_count": 19,
   "metadata": {},
   "outputs": [],
   "source": [
    "h0 = lv_new\n",
    "\n",
    "def h_profile(z, Lh):\n",
    "    z = np.asanyarray(z)\n",
    "    hz = 0.5*h0*(1-np.tanh(z/Lh))\n",
    "    return hz\n",
    "c1 = w(Vtot, Tm, lv_new) * vm/(1-vm**2)\n",
    "s1=c1\n",
    "c2=-Vtot(lv_new, Tm)+ w(Vtot, Tm, lv_new) * vm**2 /(1-vm**2)\n",
    "s2=c2"
   ]
  },
  {
   "cell_type": "code",
   "execution_count": 20,
   "metadata": {},
   "outputs": [],
   "source": [
    "def T33(T,z, Lh):\n",
    "    derh = derivative(lambda zvalue: h_profile(zvalue,Lh),z)\n",
    "    field_value = [h_profile(z, Lh)]\n",
    "    return (0.5*derh**2 - Vtot(field_value, T) - 0.5*w(Vtot, T, field_value) + 0.5*(4*s1**2 + w(Vtot, T, field_value)**2)**0.5 - s2)/1e6"
   ]
  },
  {
   "cell_type": "code",
   "execution_count": 50,
   "metadata": {},
   "outputs": [
    {
     "name": "stderr",
     "output_type": "stream",
     "text": [
      "/var/folders/mw/3xz76j416k761n077pnr10nc0000gn/T/ipykernel_41009/2484720252.py:14: DeprecationWarning: Conversion of an array with ndim > 0 to a scalar is deprecated, and will error in future. Ensure you extract a single element from your array before performing this operation. (Deprecated NumPy 1.25.)\n",
      "  T_sol[i] = s\n"
     ]
    }
   ],
   "source": [
    "Lh = 0.1\n",
    "npoints = 100\n",
    "z_range = np.linspace(-8*Lh, 5*Lh, npoints)\n",
    "T_sol = np.zeros((npoints,))\n",
    "for i in range(npoints):\n",
    "    T33min = optimize.minimize(lambda T: T33(T[0], z_range[i], Lh), Tnuc, method='Nelder-Mead', bounds = [(40, 90)])\n",
    "    if T33min.fun > 0:\n",
    "        T_sol[i]=T33min.x[0]\n",
    "    else:\n",
    "        try:\n",
    "            s = optimize.newton(lambda T: T33(T, z_range[i], Lh), Tnuc)\n",
    "        except:\n",
    "            s = optimize.fsolve(lambda T: T33(T[0], z_range[i], Lh), Tnuc)[0]\n",
    "        T_sol[i] = s"
   ]
  },
  {
   "cell_type": "code",
   "execution_count": 51,
   "metadata": {},
   "outputs": [
    {
     "data": {
      "text/plain": [
       "[<matplotlib.lines.Line2D at 0x146bb5e10>]"
      ]
     },
     "execution_count": 51,
     "metadata": {},
     "output_type": "execute_result"
    },
    {
     "data": {
      "image/png": "[encoded data removed]",
      "text/plain": [
       "<Figure size 640x480 with 1 Axes>"
      ]
     },
     "metadata": {},
     "output_type": "display_data"
    }
   ],
   "source": [
    "plt.plot(z_range, T_sol)"
   ]
  },
  {
   "cell_type": "code",
   "execution_count": 21,
   "metadata": {},
   "outputs": [],
   "source": [
    "def moments(Lh):\n",
    "    npoints = 100\n",
    "    z_range = np.linspace(-8*Lh, 5*Lh, npoints)\n",
    "    T_sol = np.zeros((npoints,))\n",
    "    for i in range(npoints):\n",
    "        T33min = optimize.minimize(lambda T: T33(T[0], z_range[i], Lh), Tnuc, method='Nelder-Mead', bounds = [(40, 90)])\n",
    "        if T33min.fun > 0:\n",
    "            T_sol[i]=T33min.x[0]\n",
    "        else:\n",
    "            try:\n",
    "                s = optimize.newton(lambda T: T33(T, z_range[i], Lh), Tnuc)\n",
    "            except:\n",
    "                s = optimize.fsolve(lambda T: T33(T[0], z_range[i], Lh), Tnuc)[0]\n",
    "            T_sol[i] = s\n",
    "\n",
    "    hvalues = h_profile(z_range, Lh)\n",
    "    hprime = np.vectorize(lambda z: -0.5*(h0*Sech(z/Lh)**2)/Lh)\n",
    "    d2zh = np.vectorize(lambda z: (h0*Sech(z/Lh)**2*Tanh(z/Lh))/Lh**2)\n",
    "    Eh = np.array([mod.gradV([hvalues[i]], T_sol[i]) - d2zh(z_range[i])  for i in range(npoints)]).reshape((-1,))\n",
    "    \n",
    "    Ph = np.trapz(- Eh * hprime(z_range), z_range)\n",
    "    Gh = np.trapz( Eh * hprime(z_range) *(2*h_profile(z_range, Lh)/h0 - 1) , z_range)\n",
    "    return np.array([Ph, Gh])/1e6"
   ]
  },
  {
   "cell_type": "code",
   "execution_count": 24,
   "metadata": {},
   "outputs": [
    {
     "name": "stderr",
     "output_type": "stream",
     "text": [
      "/var/folders/mw/3xz76j416k761n077pnr10nc0000gn/T/ipykernel_2137/3946513898.py:14: DeprecationWarning: Conversion of an array with ndim > 0 to a scalar is deprecated, and will error in future. Ensure you extract a single element from your array before performing this operation. (Deprecated NumPy 1.25.)\n",
      "  T_sol[i] = s\n"
     ]
    },
    {
     "data": {
      "text/plain": [
       "array([-0.93644095, -0.03956902])"
      ]
     },
     "execution_count": 24,
     "metadata": {},
     "output_type": "execute_result"
    }
   ],
   "source": [
    "moments(0.12)"
   ]
  },
  {
   "cell_type": "code",
   "execution_count": 41,
   "metadata": {},
   "outputs": [],
   "source": [
    "vwlist = [0.4,0.5,0.55]\n",
    "Tsol_list = []\n",
    "Ehlist = []\n",
    "integrand_list = []"
   ]
  },
  {
   "cell_type": "code",
   "execution_count": 42,
   "metadata": {},
   "outputs": [
    {
     "name": "stdout",
     "output_type": "stream",
     "text": [
      "vw = 0.4\n"
     ]
    },
    {
     "name": "stderr",
     "output_type": "stream",
     "text": [
      "/var/folders/mw/3xz76j416k761n077pnr10nc0000gn/T/ipykernel_2137/2177689517.py:35: DeprecationWarning: Conversion of an array with ndim > 0 to a scalar is deprecated, and will error in future. Ensure you extract a single element from your array before performing this operation. (Deprecated NumPy 1.25.)\n",
      "  T_sol[i] = s\n"
     ]
    },
    {
     "name": "stdout",
     "output_type": "stream",
     "text": [
      "vw = 0.5\n",
      "vw = 0.55\n"
     ]
    }
   ],
   "source": [
    "for vw in vwlist:\n",
    "    print(\"vw = \" + str(vw))\n",
    "    Tm = optimize.newton(lambda T: find_Tsh(T, vw)-Tnuc, Tnuc-1)\n",
    "    lv_new = mod.findMinimum(lv, Tm)\n",
    "    vm = vw\n",
    "    h0 = lv_new\n",
    "\n",
    "    def h_profile(z, Lh):\n",
    "        z = np.asanyarray(z)\n",
    "        hz = 0.5*h0*(1-np.tanh(z/Lh))\n",
    "        return hz\n",
    "    c1 = w(Vtot, Tm, lv_new) * vm/(1-vm**2)\n",
    "    s1=c1\n",
    "    c2=-Vtot(lv_new, Tm)+ w(Vtot, Tm, lv_new) * vm**2 /(1-vm**2)\n",
    "    s2=c2\n",
    "\n",
    "    def T33(T,z, Lh):\n",
    "        derh = derivative(lambda zvalue: h_profile(zvalue,Lh),z)\n",
    "        field_value = [h_profile(z, Lh)]\n",
    "        return (0.5*derh**2 - Vtot(field_value, T) - 0.5*w(Vtot, T, field_value) + 0.5*(4*s1**2 + w(Vtot, T, field_value)**2)**0.5 - s2)/1e6\n",
    "    \n",
    "    Lh = 0.1\n",
    "    npoints = 100\n",
    "    z_range = np.linspace(-8*Lh, 5*Lh, npoints)\n",
    "    T_sol = np.zeros((npoints,))\n",
    "    for i in range(npoints):\n",
    "        T33min = optimize.minimize(lambda T: T33(T[0], z_range[i], Lh), Tnuc, method='Nelder-Mead', bounds = [(40, 90)])\n",
    "        if T33min.fun > 0:\n",
    "            T_sol[i]=T33min.x[0]\n",
    "        else:\n",
    "            try:\n",
    "                s = optimize.newton(lambda T: T33(T, z_range[i], Lh), Tnuc)\n",
    "            except:\n",
    "                s = optimize.fsolve(lambda T: T33(T[0], z_range[i], Lh), Tnuc)[0]\n",
    "            T_sol[i] = s\n",
    "\n",
    "    Tsol_list.append(T_sol)\n",
    "\n",
    "    hvalues = h_profile(z_range, Lh)\n",
    "    hprime = np.vectorize(lambda z: -0.5*(h0*Sech(z/Lh)**2)/Lh)\n",
    "    d2zh = np.vectorize(lambda z: (h0*Sech(z/Lh)**2*Tanh(z/Lh))/Lh**2)\n",
    "    Eh = np.array([mod.gradV([hvalues[i]], T_sol[i]) - d2zh(z_range[i])  for i in range(npoints)]).reshape((-1,))\n",
    "    integrand= - Eh * hprime(z_range)\n",
    "    Ehlist.append(Eh)\n",
    "    integrand_list.append(integrand)\n",
    "    \n",
    "    "
   ]
  },
  {
   "cell_type": "code",
   "execution_count": 43,
   "metadata": {},
   "outputs": [
    {
     "data": {
      "text/plain": [
       "<matplotlib.legend.Legend at 0x12bc0a5f0>"
      ]
     },
     "execution_count": 43,
     "metadata": {},
     "output_type": "execute_result"
    },
    {
     "data": {
      "image/png": "[encoded data removed]",
      "text/plain": [
       "<Figure size 640x480 with 1 Axes>"
      ]
     },
     "metadata": {},
     "output_type": "display_data"
    }
   ],
   "source": [
    "for i in range(3):\n",
    "    plt.plot(z_range, Tsol_list[i], label=f'vw = {vwlist[i]}')\n",
    "\n",
    "plt.legend()"
   ]
  },
  {
   "cell_type": "code",
   "execution_count": 39,
   "metadata": {},
   "outputs": [
    {
     "data": {
      "text/plain": [
       "<matplotlib.legend.Legend at 0x12b51d6c0>"
      ]
     },
     "execution_count": 39,
     "metadata": {},
     "output_type": "execute_result"
    },
    {
     "data": {
      "image/png": "[encoded data removed]",
      "text/plain": [
       "<Figure size 640x480 with 1 Axes>"
      ]
     },
     "metadata": {},
     "output_type": "display_data"
    }
   ],
   "source": [
    "for i in range(3):\n",
    "    plt.plot(z_range, Ehlist[i], label=f'vw = {vwlist[i]}')\n",
    "\n",
    "plt.legend()"
   ]
  },
  {
   "cell_type": "code",
   "execution_count": 40,
   "metadata": {},
   "outputs": [
    {
     "data": {
      "text/plain": [
       "<matplotlib.legend.Legend at 0x12b51d3f0>"
      ]
     },
     "execution_count": 40,
     "metadata": {},
     "output_type": "execute_result"
    },
    {
     "data": {
      "image/png": "[encoded data removed]",
      "text/plain": [
       "<Figure size 640x480 with 1 Axes>"
      ]
     },
     "metadata": {},
     "output_type": "display_data"
    }
   ],
   "source": [
    "for i in range(3):\n",
    "    plt.plot(z_range, integrand_list[i], label=f'vw = {vwlist[i]}')\n",
    "\n",
    "plt.legend()"
   ]
  },
  {
   "cell_type": "code",
   "execution_count": 28,
   "metadata": {},
   "outputs": [],
   "source": [
    "vwlist = np.linspace(0.1,0.55,10)\n",
    "Plist = np.zeros((10,))"
   ]
  },
  {
   "cell_type": "code",
   "execution_count": 34,
   "metadata": {},
   "outputs": [],
   "source": [
    "vwlist = [round(vw,2) for vw in vwlist]"
   ]
  },
  {
   "cell_type": "code",
   "execution_count": 29,
   "metadata": {},
   "outputs": [],
   "source": [
    "def Ptot(vw):\n",
    "    print(\"vw = \" + str(vw))\n",
    "    # Test solution type. Start from deflagration to test.\n",
    "    Tm = optimize.newton(lambda T: find_Tsh(T, vw)-Tnuc, Tnuc-1)\n",
    "    lv_new = mod.findMinimum(lv, Tm)\n",
    "    if cs_sq(Vtot, Tm, lv_new)**0.5 > vw:\n",
    "        print(\"Deflagration.\")\n",
    "        vp, Tp = optimize.fsolve(lambda x:match(x[0],vw,x[1], Tm, hv, lv),[0.3, Tnuc], xtol=1e-10)\n",
    "        vm = vw\n",
    "    else:\n",
    "        print(\"Hybrid.\")\n",
    "        Tm = optimize.newton(lambda T: find_Tsh(T, vw, 'hyb')-Tnuc, Tnuc-1)\n",
    "        lv_new = mod.findMinimum(lv, Tm)\n",
    "        vm = cs_sq(Vtot, Tm,lv_new)**0.5\n",
    "        vp, Tp = optimize.fsolve(lambda x:match(x[0],vm,x[1], Tm, hv, lv),[0.3, Tnuc], xtol=1e-10)\n",
    "\n",
    "\n",
    "    hv_new = mod.findMinimum(hv, Tp)\n",
    "    h0 = lv_new\n",
    "\n",
    "    def h_profile(z, Lh):\n",
    "        z = np.asanyarray(z)\n",
    "        hz = 0.5*h0*(1-np.tanh(z/Lh))\n",
    "        return hz\n",
    "    c1 = w(Vtot, Tm, lv_new) * vm/(1-vm**2)\n",
    "    s1=c1\n",
    "    c2=-Vtot(lv_new, Tm)+ w(Vtot, Tm, lv_new) * vm**2 /(1-vm**2)\n",
    "    s2=c2\n",
    "\n",
    "    def T33(T,z, Lh):\n",
    "        derh = derivative(lambda zvalue: h_profile(zvalue,Lh),z)\n",
    "        field_value = [h_profile(z, Lh)]\n",
    "        return (0.5*derh**2 - Vtot(field_value, T) - 0.5*w(Vtot, T, field_value) + 0.5*(4*s1**2 + w(Vtot, T, field_value)**2)**0.5 - s2)/1e6\n",
    "\n",
    "    print('T33 prepared.')\n",
    "    \n",
    "    def moments(Lh):\n",
    "        npoints = 100\n",
    "        z_range = np.linspace(-8*Lh, 5*Lh, npoints)\n",
    "        T_sol = np.zeros((npoints,))\n",
    "        for i in range(npoints):\n",
    "            T33min = optimize.minimize(lambda T: T33(T[0], z_range[i], Lh), Tnuc, method='Nelder-Mead', bounds = [(40, 90)])\n",
    "            if T33min.fun > 0:\n",
    "                T_sol[i]=T33min.x[0]\n",
    "            else:\n",
    "                try:\n",
    "                    s = optimize.newton(lambda T: T33(T, z_range[i], Lh), Tnuc)\n",
    "                except:\n",
    "                    s = optimize.fsolve(lambda T: T33(T[0], z_range[i], Lh), Tnuc)[0]\n",
    "                T_sol[i] = s\n",
    "\n",
    "        hvalues = h_profile(z_range, Lh)\n",
    "        hprime = np.vectorize(lambda z: -0.5*(h0*Sech(z/Lh)**2)/Lh)\n",
    "        d2zh = np.vectorize(lambda z: (h0*Sech(z/Lh)**2*Tanh(z/Lh))/Lh**2)\n",
    "        Eh = np.array([mod.gradV([hvalues[i]], T_sol[i]) - d2zh(z_range[i])  for i in range(npoints)]).reshape((-1,))\n",
    "    \n",
    "        Ph = np.trapz(- Eh * hprime(z_range), z_range)\n",
    "        Gh = np.trapz( Eh * hprime(z_range) *(2*h_profile(z_range, Lh)/h0 - 1) , z_range)\n",
    "        return np.array([Ph, Gh])/1e6\n",
    "    print('Solving moments.')\n",
    "    Lsol = optimize.newton(lambda L: moments(L)[-1], 0.1)\n",
    "    print('Moment solved, Lh = ' + str(Lsol))\n",
    "    P = moments(Lsol)[0]\n",
    "    return P"
   ]
  },
  {
   "cell_type": "code",
   "execution_count": 27,
   "metadata": {},
   "outputs": [
    {
     "name": "stdout",
     "output_type": "stream",
     "text": [
      "vw = 0.5\n",
      "Deflagration.\n",
      "T33 prepared.\n",
      "Solving moments.\n"
     ]
    },
    {
     "name": "stderr",
     "output_type": "stream",
     "text": [
      "/var/folders/mw/3xz76j416k761n077pnr10nc0000gn/T/ipykernel_2137/1820964711.py:50: DeprecationWarning: Conversion of an array with ndim > 0 to a scalar is deprecated, and will error in future. Ensure you extract a single element from your array before performing this operation. (Deprecated NumPy 1.25.)\n",
      "  T_sol[i] = s\n"
     ]
    },
    {
     "name": "stdout",
     "output_type": "stream",
     "text": [
      "Moment solved, Lh = 0.11978826030726093\n"
     ]
    },
    {
     "data": {
      "text/plain": [
       "-0.7254129755448149"
      ]
     },
     "execution_count": 27,
     "metadata": {},
     "output_type": "execute_result"
    }
   ],
   "source": [
    "Ptot(0.5)"
   ]
  },
  {
   "cell_type": "code",
   "execution_count": 35,
   "metadata": {},
   "outputs": [
    {
     "name": "stdout",
     "output_type": "stream",
     "text": [
      "vw = 0.1\n",
      "Deflagration.\n",
      "T33 prepared.\n",
      "Solving moments.\n"
     ]
    },
    {
     "name": "stderr",
     "output_type": "stream",
     "text": [
      "/var/folders/mw/3xz76j416k761n077pnr10nc0000gn/T/ipykernel_2137/1820964711.py:50: DeprecationWarning: Conversion of an array with ndim > 0 to a scalar is deprecated, and will error in future. Ensure you extract a single element from your array before performing this operation. (Deprecated NumPy 1.25.)\n",
      "  T_sol[i] = s\n"
     ]
    },
    {
     "name": "stdout",
     "output_type": "stream",
     "text": [
      "Moment solved, Lh = 0.11817690878284817\n",
      "-1.1397706082998478\n",
      "vw = 0.15\n",
      "Deflagration.\n",
      "T33 prepared.\n",
      "Solving moments.\n",
      "Moment solved, Lh = 0.11824736478990037\n",
      "-1.122824157452193\n",
      "vw = 0.2\n",
      "Deflagration.\n",
      "T33 prepared.\n",
      "Solving moments.\n",
      "Moment solved, Lh = 0.11832164318904198\n",
      "-1.1004738227952622\n",
      "vw = 0.25\n",
      "Deflagration.\n",
      "T33 prepared.\n",
      "Solving moments.\n",
      "Moment solved, Lh = 0.11839461429772818\n",
      "-1.0720945250555207\n",
      "vw = 0.3\n",
      "Deflagration.\n",
      "T33 prepared.\n",
      "Solving moments.\n",
      "Moment solved, Lh = 0.11846790592054215\n",
      "-1.0358648885436303\n",
      "vw = 0.35\n",
      "Deflagration.\n",
      "T33 prepared.\n",
      "Solving moments.\n",
      "Moment solved, Lh = 0.11855776350780627\n",
      "-0.9880067478649847\n",
      "vw = 0.4\n",
      "Deflagration.\n",
      "T33 prepared.\n",
      "Solving moments.\n",
      "Moment solved, Lh = 0.1187258339679181\n",
      "-0.9208745866989657\n",
      "vw = 0.45\n",
      "Deflagration.\n",
      "T33 prepared.\n",
      "Solving moments.\n",
      "Moment solved, Lh = 0.11917099074635952\n",
      "-0.8204077932736993\n",
      "vw = 0.5\n",
      "Deflagration.\n",
      "T33 prepared.\n",
      "Solving moments.\n",
      "Moment solved, Lh = 0.11978826030726093\n",
      "-0.7254129755448149\n",
      "vw = 0.55\n",
      "Deflagration.\n",
      "T33 prepared.\n",
      "Solving moments.\n",
      "Moment solved, Lh = 0.12239848445147333\n",
      "-0.7866353780578713\n"
     ]
    }
   ],
   "source": [
    "for i in range(len(vwlist)):\n",
    "    vw = vwlist[i]\n",
    "    Plist[i] = Ptot(vw)\n",
    "    print(Plist[i])"
   ]
  },
  {
   "cell_type": "code",
   "execution_count": 36,
   "metadata": {},
   "outputs": [
    {
     "data": {
      "text/plain": [
       "[<matplotlib.lines.Line2D at 0x12b54fd60>]"
      ]
     },
     "execution_count": 36,
     "metadata": {},
     "output_type": "execute_result"
    },
    {
     "data": {
      "image/png": "[encoded data removed]",
      "text/plain": [
       "<Figure size 640x480 with 1 Axes>"
      ]
     },
     "metadata": {},
     "output_type": "display_data"
    }
   ],
   "source": [
    "plt.plot(vwlist, Plist)"
   ]
  },
  {
   "cell_type": "markdown",
   "metadata": {},
   "source": [
    "## Solve entropy vanishing instead of P vanishing"
   ]
  },
  {
   "cell_type": "code",
   "execution_count": 44,
   "metadata": {},
   "outputs": [],
   "source": [
    "def entropy(V,T, vev):\n",
    "    v = optimize.fmin(V, vev, args=(T,), disp=0)\n",
    "\n",
    "    def VT(T):\n",
    "        return V(v, T)\n",
    "    \n",
    "    return -derivative(VT, T, order=1)"
   ]
  },
  {
   "cell_type": "code",
   "execution_count": 45,
   "metadata": {},
   "outputs": [],
   "source": [
    "def sdiff(vw):\n",
    "    print(\"vw = \" + str(vw))\n",
    "    # Test solution type. Start from deflagration to test.\n",
    "    Tm = optimize.newton(lambda T: find_Tsh(T, vw)-Tnuc, Tnuc-1)\n",
    "    lv_new = mod.findMinimum(lv, Tm)\n",
    "    if cs_sq(Vtot, Tm, lv_new)**0.5 > vw:\n",
    "        print(\"Deflagration.\")\n",
    "        vp, Tp = optimize.fsolve(lambda x:match(x[0],vw,x[1], Tm, hv, lv),[0.3, Tnuc], xtol=1e-10)\n",
    "        vm = vw\n",
    "    else:\n",
    "        print(\"Hybrid.\")\n",
    "        Tm = optimize.newton(lambda T: find_Tsh(T, vw, 'hyb')-Tnuc, Tnuc-1)\n",
    "        lv_new = mod.findMinimum(lv, Tm)\n",
    "        vp, Tp = optimize.fsolve(lambda x:match(x[0],cs_sq(Vtot, Tm,lv_new)**0.5,x[1], Tm, hv, lv),[0.3, Tnuc], xtol=1e-10)\n",
    "        vm = cs_sq(Vtot, Tm,lv_new)**0.5\n",
    "\n",
    "    lv_new = mod.findMinimum(lv, Tm)\n",
    "\n",
    "    diff = - Tp/Sqrt(1-vp**2) + Tm/Sqrt(1-vm**2)\n",
    "    # diff = (- entropy(Vtot, Tp, hv) * vp/Sqrt(1-vp**2) + entropy(Vtot, Tm, lv_new) * vw/Sqrt(1-vw**2))/1e6\n",
    "    return diff"
   ]
  },
  {
   "cell_type": "code",
   "execution_count": 47,
   "metadata": {},
   "outputs": [
    {
     "name": "stdout",
     "output_type": "stream",
     "text": [
      "vw = 0.5\n",
      "Deflagration.\n"
     ]
    },
    {
     "data": {
      "text/plain": [
       "-0.108407399705996"
      ]
     },
     "execution_count": 47,
     "metadata": {},
     "output_type": "execute_result"
    }
   ],
   "source": [
    "sdiff(0.5)"
   ]
  },
  {
   "cell_type": "code",
   "execution_count": 49,
   "metadata": {},
   "outputs": [],
   "source": [
    "vwlist = np.linspace(0.1, 0.55, 10)\n",
    "vwlist = [round(vw,2) for vw in vwlist]\n",
    "sdifflist = np.zeros((10,))"
   ]
  },
  {
   "cell_type": "code",
   "execution_count": 50,
   "metadata": {},
   "outputs": [
    {
     "name": "stdout",
     "output_type": "stream",
     "text": [
      "vw = 0.1\n",
      "Deflagration.\n",
      "-0.16471355709617796\n",
      "vw = 0.15\n",
      "Deflagration.\n",
      "-0.16271830271620757\n",
      "vw = 0.2\n",
      "Deflagration.\n",
      "-0.16014503228882404\n",
      "vw = 0.25\n",
      "Deflagration.\n",
      "-0.15686929736173738\n",
      "vw = 0.3\n",
      "Deflagration.\n",
      "-0.15254963187091164\n",
      "vw = 0.35\n",
      "Deflagration.\n",
      "-0.14648807837463096\n",
      "vw = 0.4\n",
      "Deflagration.\n",
      "-0.1372949648843118\n",
      "vw = 0.45\n",
      "Deflagration.\n",
      "-0.12248295971903644\n",
      "vw = 0.5\n",
      "Deflagration.\n",
      "-0.108407399705996\n",
      "vw = 0.55\n",
      "Deflagration.\n",
      "-0.1197152879091874\n"
     ]
    }
   ],
   "source": [
    "for i in range(len(vwlist)):\n",
    "    sdifflist[i] = sdiff(vwlist[i])\n",
    "    print(sdifflist[i])"
   ]
  },
  {
   "cell_type": "code",
   "execution_count": 51,
   "metadata": {},
   "outputs": [
    {
     "data": {
      "text/plain": [
       "Text(0, 0.5, '$\\\\Delta (s \\\\gamma v)$')"
      ]
     },
     "execution_count": 51,
     "metadata": {},
     "output_type": "execute_result"
    },
    {
     "data": {
      "image/png": "[encoded data removed]",
      "text/plain": [
       "<Figure size 640x480 with 1 Axes>"
      ]
     },
     "metadata": {},
     "output_type": "display_data"
    }
   ],
   "source": [
    "plt.rc('text', usetex=True)\n",
    "plt.rc('font', family='serif')\n",
    "plt.rc('font', size=16)\n",
    "plt.rc('text.latex', preamble=r'\\usepackage{wasysym}')\n",
    "plt.plot(vwlist, sdifflist)\n",
    "plt.xlabel(r'$v_w$')\n",
    "plt.ylabel(r'$\\Delta (s \\gamma v)$')"
   ]
  },
  {
   "cell_type": "code",
   "execution_count": null,
   "metadata": {},
   "outputs": [],
   "source": []
  }
 ],
 "metadata": {
  "kernelspec": {
   "display_name": "base",
   "language": "python",
   "name": "python3"
  },
  "language_info": {
   "codemirror_mode": {
    "name": "ipython",
    "version": 3
   },
   "file_extension": ".py",
   "mimetype": "text/x-python",
   "name": "python",
   "nbconvert_exporter": "python",
   "pygments_lexer": "ipython3",
   "version": "3.10.14"
  }
 },
 "nbformat": 4,
 "nbformat_minor": 2
}
