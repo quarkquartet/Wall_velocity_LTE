{
 "cells": [
  {
   "cell_type": "markdown",
   "metadata": {},
   "source": [
    "# Wall velocity LTE"
   ]
  },
  {
   "cell_type": "code",
   "execution_count": 1,
   "metadata": {},
   "outputs": [],
   "source": [
    "import numpy as np\n",
    "from numpy import linalg as la\n",
    "from scipy import integrate\n",
    "from scipy import optimize\n",
    "from scipy import interpolate\n",
    "import scipy as sp\n",
    "from matplotlib import pyplot as plt\n",
    "import plotter as pl\n",
    "from helperFunctions import derivative, alpha_p, cs_sq, dYdtau, dvTdxi, r_func, μ, w\n",
    "\n",
    "Abs = np.abs\n",
    "Log = np.log\n",
    "Log10 = np.log10\n",
    "Pi = np.pi\n",
    "Sqrt = np.sqrt\n",
    "Exp = np.exp\n",
    "Cos = np.cos\n",
    "Sin = np.sin\n",
    "Sech = lambda x: 1/np.cosh(x)\n",
    "Tanh = np.tanh\n",
    "ArcSin = np.arcsin\n",
    "ArcTanh = np.arctanh\n",
    "Arg = np.angle\n",
    "BesselK = sp.special.kv\n",
    "Zeta = sp.special.zeta\n",
    "HeavisideTheta = lambda x: np.heaviside(x, 0)\n",
    "\n",
    "\n",
    "def Plot(fun, xminmax, n=100,xfun=np.linspace, xlog=False, ylog=False):\n",
    "    xlist = xfun(xminmax[0], xminmax[1], n)\n",
    "    ylist = [fun(x) for x in xlist]\n",
    "    plt.plot(xlist, ylist)\n",
    "    if xlog:\n",
    "        plt.xscale('log')\n",
    "    if ylog:\n",
    "        plt.yscale('log')"
   ]
  },
  {
   "cell_type": "markdown",
   "metadata": {},
   "source": [
    "## Prepare"
   ]
  },
  {
   "cell_type": "code",
   "execution_count": 2,
   "metadata": {},
   "outputs": [],
   "source": [
    "import SM_model as m"
   ]
  },
  {
   "cell_type": "code",
   "execution_count": 3,
   "metadata": {},
   "outputs": [
    {
     "name": "stdout",
     "output_type": "stream",
     "text": [
      "Model inialized.\n",
      "g2 = 1\n",
      "λ = 0.007285228\n",
      "μh = 25.236173718618723\n"
     ]
    }
   ],
   "source": [
    "mod = m.SM(1,0.007285228,636.8644639563023)"
   ]
  },
  {
   "cell_type": "code",
   "execution_count": 4,
   "metadata": {},
   "outputs": [
    {
     "name": "stdout",
     "output_type": "stream",
     "text": [
      "Finding Tc...\n",
      "Critical temperature found! Tc = 56.636213599704206\n",
      "v_c/Tc = 2.805112061801922\n",
      "Finding Tn...\n",
      "Tunneling at T = 56.6162135997042\n",
      "S3/T = 1776610.821118072\n",
      "Tunneling at T = 56.5962135997042\n",
      "S3/T = 451853.48759337695\n",
      "Tunneling at T = 56.576213599704204\n",
      "S3/T = 203892.6206760976\n",
      "Tunneling at T = 56.5562135997042\n",
      "S3/T = 116379.02610579527\n",
      "Tunneling at T = 56.536213599704205\n",
      "S3/T = 75553.78881274353\n",
      "Tunneling at T = 56.5162135997042\n",
      "S3/T = 53207.225980410876\n",
      "Tunneling at T = 56.496213599704205\n",
      "S3/T = 39631.40596042085\n",
      "Tunneling at T = 56.4762135997042\n",
      "S3/T = 30754.56578884889\n",
      "Tunneling at T = 56.456213599704206\n",
      "S3/T = 24623.812731046\n",
      "Tunneling at T = 56.4362135997042\n",
      "S3/T = 20206.5170962416\n",
      "Tunneling at T = 56.4162135997042\n",
      "S3/T = 16914.527920606317\n",
      "Tunneling at T = 56.396213599704204\n",
      "S3/T = 14392.707450128244\n",
      "Tunneling at T = 56.3762135997042\n",
      "S3/T = 12416.149901957511\n",
      "Tunneling at T = 56.356213599704205\n",
      "S3/T = 10836.688219983376\n",
      "Tunneling at T = 56.3362135997042\n",
      "S3/T = 9553.514735589262\n",
      "Tunneling at T = 56.316213599704206\n",
      "S3/T = 8495.974672375016\n",
      "Tunneling at T = 56.2962135997042\n",
      "S3/T = 7613.435754398341\n",
      "Tunneling at T = 56.2762135997042\n",
      "S3/T = 6868.760183414682\n",
      "Tunneling at T = 56.2562135997042\n",
      "S3/T = 6234.2212074353965\n",
      "Tunneling at T = 56.2362135997042\n",
      "S3/T = 5688.769949140606\n",
      "Tunneling at T = 56.216213599704204\n",
      "S3/T = 5216.192393099145\n",
      "Tunneling at T = 56.1962135997042\n",
      "S3/T = 4803.823829788709\n",
      "Tunneling at T = 56.176213599704205\n",
      "S3/T = 4441.6583822767725\n",
      "Tunneling at T = 56.1562135997042\n",
      "S3/T = 4121.699213872884\n",
      "Tunneling at T = 56.136213599704206\n",
      "S3/T = 3837.495219883473\n",
      "Tunneling at T = 56.1162135997042\n",
      "S3/T = 3583.791294071685\n",
      "Tunneling at T = 56.0962135997042\n",
      "S3/T = 3356.2824743342317\n",
      "Tunneling at T = 56.076213599704204\n",
      "S3/T = 3151.3788507857694\n",
      "Tunneling at T = 56.0562135997042\n",
      "S3/T = 2966.118265093692\n",
      "Tunneling at T = 56.036213599704205\n",
      "S3/T = 2798.000976167012\n",
      "Tunneling at T = 56.0162135997042\n",
      "S3/T = 2644.9230940044445\n",
      "Tunneling at T = 55.996213599704205\n",
      "S3/T = 2505.0895649850554\n",
      "Tunneling at T = 55.9762135997042\n",
      "S3/T = 2376.96876607794\n",
      "Tunneling at T = 55.956213599704206\n",
      "S3/T = 2259.2605162809455\n",
      "Tunneling at T = 55.9362135997042\n",
      "S3/T = 2150.8238304240635\n",
      "Tunneling at T = 55.9162135997042\n",
      "S3/T = 2050.6938337713405\n",
      "Tunneling at T = 55.896213599704204\n",
      "S3/T = 1958.01246060958\n",
      "Tunneling at T = 55.8762135997042\n",
      "S3/T = 1872.0290797989626\n",
      "Tunneling at T = 55.856213599704205\n",
      "S3/T = 1790.590792589671\n",
      "Tunneling at T = 55.8362135997042\n",
      "S3/T = 1716.1880890226644\n",
      "Tunneling at T = 55.816213599704206\n",
      "S3/T = 1646.7623558774737\n",
      "Tunneling at T = 55.7962135997042\n",
      "S3/T = 1581.8633982784409\n",
      "Tunneling at T = 55.7762135997042\n",
      "S3/T = 1521.0982155127735\n",
      "Tunneling at T = 55.7562135997042\n",
      "S3/T = 1464.1160614246626\n",
      "Tunneling at T = 55.7362135997042\n",
      "S3/T = 1410.6005341695122\n",
      "Tunneling at T = 55.716213599704204\n",
      "S3/T = 1360.2751254295213\n",
      "Tunneling at T = 55.6962135997042\n",
      "S3/T = 1312.8922167890303\n",
      "Tunneling at T = 55.676213599704205\n",
      "S3/T = 1268.2353962244106\n",
      "Tunneling at T = 55.6562135997042\n",
      "S3/T = 1226.1869154564604\n",
      "Tunneling at T = 55.636213599704206\n",
      "S3/T = 1186.4504257627507\n",
      "Tunneling at T = 55.6162135997042\n",
      "S3/T = 1149.3037988030558\n",
      "Tunneling at T = 55.5962135997042\n",
      "S3/T = 1114.4289202940506\n",
      "Tunneling at T = 55.576213599704204\n",
      "S3/T = 1081.0321953458542\n",
      "Tunneling at T = 55.5562135997042\n",
      "S3/T = 1048.5170101197643\n",
      "Tunneling at T = 55.536213599704205\n",
      "S3/T = 1011.3784199128194\n",
      "Tunneling at T = 55.5162135997042\n",
      "S3/T = 983.5879181494922\n",
      "Tunneling at T = 55.496213599704205\n",
      "S3/T = 954.9411272987381\n",
      "Tunneling at T = 55.4762135997042\n",
      "S3/T = 927.6644010980043\n",
      "Tunneling at T = 55.456213599704206\n",
      "S3/T = 901.6520776595938\n",
      "Tunneling at T = 55.4362135997042\n",
      "S3/T = 876.8103315741827\n",
      "Tunneling at T = 55.4162135997042\n",
      "S3/T = 853.0637667862695\n",
      "Tunneling at T = 55.396213599704204\n",
      "S3/T = 831.2621639592909\n",
      "Tunneling at T = 55.3762135997042\n",
      "S3/T = 809.5636003277128\n",
      "Tunneling at T = 55.356213599704205\n",
      "S3/T = 788.5024143378934\n",
      "Tunneling at T = 55.3362135997042\n",
      "S3/T = 771.366799796145\n",
      "Tunneling at T = 55.316213599704206\n",
      "S3/T = 752.4818371583236\n",
      "Tunneling at T = 55.2962135997042\n",
      "S3/T = 734.3372617591442\n",
      "Tunneling at T = 55.2762135997042\n",
      "S3/T = 717.8980748785751\n",
      "Tunneling at T = 55.2562135997042\n",
      "S3/T = 700.880853017082\n",
      "Tunneling at T = 55.2362135997042\n",
      "S3/T = 684.545133955583\n",
      "Tunneling at T = 55.216213599704204\n",
      "S3/T = 668.8626018015511\n",
      "Tunneling at T = 55.1962135997042\n",
      "S3/T = 653.8352207612608\n",
      "Tunneling at T = 55.176213599704205\n",
      "S3/T = 639.3895934631444\n",
      "Tunneling at T = 55.1562135997042\n",
      "S3/T = 625.0197911861585\n",
      "Tunneling at T = 55.136213599704206\n",
      "S3/T = 611.1593959415907\n",
      "Tunneling at T = 55.1162135997042\n",
      "S3/T = 597.7737038439923\n",
      "Tunneling at T = 55.0962135997042\n",
      "S3/T = 584.8285171700697\n",
      "Tunneling at T = 55.076213599704204\n",
      "S3/T = 572.2856764913721\n",
      "Tunneling at T = 55.0562135997042\n",
      "S3/T = 560.0379037876478\n",
      "Tunneling at T = 55.036213599704205\n",
      "S3/T = 548.2095139733411\n",
      "Tunneling at T = 55.0162135997042\n",
      "S3/T = 536.8233434937873\n",
      "Tunneling at T = 54.996213599704205\n",
      "S3/T = 525.7888909522474\n",
      "Tunneling at T = 54.9762135997042\n",
      "S3/T = 515.1020175621521\n",
      "Tunneling at T = 54.9562135997042\n",
      "S3/T = 504.75382867267587\n",
      "Tunneling at T = 54.9362135997042\n",
      "S3/T = 494.7291062290164\n",
      "Tunneling at T = 54.9162135997042\n",
      "S3/T = 485.0046350794471\n",
      "Tunneling at T = 54.896213599704204\n",
      "S3/T = 475.57224022879905\n",
      "Tunneling at T = 54.8762135997042\n",
      "S3/T = 466.4202420977059\n",
      "Tunneling at T = 54.856213599704205\n",
      "S3/T = 457.52948015327445\n",
      "Tunneling at T = 54.8362135997042\n",
      "S3/T = 448.89198182909837\n",
      "Tunneling at T = 54.816213599704206\n",
      "S3/T = 440.4597079976109\n",
      "Tunneling at T = 54.7962135997042\n",
      "S3/T = 432.29455338928346\n",
      "Tunneling at T = 54.7762135997042\n",
      "S3/T = 424.3524835848669\n",
      "Tunneling at T = 54.7562135997042\n",
      "S3/T = 416.6213355938514\n",
      "Tunneling at T = 54.7362135997042\n",
      "S3/T = 409.08875157793966\n",
      "Tunneling at T = 54.716213599704204\n",
      "S3/T = 401.744467412911\n",
      "Tunneling at T = 54.6962135997042\n",
      "S3/T = 394.5861985063878\n",
      "Tunneling at T = 54.676213599704205\n",
      "S3/T = 387.60317309684865\n",
      "Tunneling at T = 54.6562135997042\n",
      "S3/T = 380.7853425296111\n",
      "Tunneling at T = 54.636213599704206\n",
      "S3/T = 374.1286913919711\n",
      "Tunneling at T = 54.6162135997042\n",
      "S3/T = 367.6412341516719\n",
      "Tunneling at T = 54.5962135997042\n",
      "S3/T = 361.3092864435669\n",
      "Tunneling at T = 54.576213599704204\n",
      "S3/T = 355.1365010402166\n",
      "Tunneling at T = 54.5562135997042\n",
      "S3/T = 349.10635145579283\n",
      "Tunneling at T = 54.536213599704205\n",
      "S3/T = 343.21265907577794\n",
      "Tunneling at T = 54.5162135997042\n",
      "S3/T = 337.86199236687116\n",
      "Tunneling at T = 54.496213599704205\n",
      "S3/T = 332.1294942724517\n",
      "Tunneling at T = 54.4762135997042\n",
      "S3/T = 326.51619804622504\n",
      "Tunneling at T = 54.4562135997042\n",
      "S3/T = 321.0063769605805\n",
      "Tunneling at T = 54.4362135997042\n",
      "S3/T = 315.6104999336189\n",
      "Tunneling at T = 54.4162135997042\n",
      "S3/T = 310.3153660334526\n",
      "Tunneling at T = 54.396213599704204\n",
      "S3/T = 306.53605220453653\n",
      "Tunneling at T = 54.3762135997042\n",
      "S3/T = 301.7666184882204\n",
      "Tunneling at T = 54.356213599704205\n",
      "S3/T = 297.09391513764353\n",
      "Tunneling at T = 54.3362135997042\n",
      "S3/T = 292.51668827606613\n",
      "Tunneling at T = 54.316213599704206\n",
      "S3/T = 288.0318823160281\n",
      "Tunneling at T = 54.2962135997042\n",
      "S3/T = 283.63667692448024\n",
      "Tunneling at T = 54.27621359970421\n",
      "S3/T = 279.3177856424637\n",
      "Tunneling at T = 54.2562135997042\n",
      "S3/T = 275.068215115897\n",
      "Tunneling at T = 54.2362135997042\n",
      "S3/T = 270.9021801888346\n",
      "Tunneling at T = 54.216213599704204\n",
      "S3/T = 266.81456698362547\n",
      "Tunneling at T = 54.1962135997042\n",
      "S3/T = 262.8054535442806\n",
      "Tunneling at T = 54.176213599704205\n",
      "S3/T = 258.868798164392\n",
      "Tunneling at T = 54.1562135997042\n",
      "S3/T = 255.0034540554032\n",
      "Tunneling at T = 54.136213599704206\n",
      "S3/T = 251.20174255256603\n",
      "Tunneling at T = 54.1162135997042\n",
      "S3/T = 247.50325008538977\n",
      "Tunneling at T = 54.0962135997042\n",
      "S3/T = 243.89506742956848\n",
      "Tunneling at T = 54.076213599704204\n",
      "S3/T = 240.3448263373046\n",
      "Tunneling at T = 54.0562135997042\n",
      "S3/T = 236.8555870900779\n",
      "Tunneling at T = 54.036213599704205\n",
      "S3/T = 233.41818317008557\n",
      "Tunneling at T = 54.0162135997042\n",
      "S3/T = 230.03794383243942\n",
      "Tunneling at T = 53.996213599704205\n",
      "S3/T = 226.7148122738148\n",
      "Tunneling at T = 53.9762135997042\n",
      "S3/T = 223.51600238816755\n",
      "Tunneling at T = 53.9562135997042\n",
      "S3/T = 220.825287041603\n",
      "Tunneling at T = 53.9362135997042\n",
      "S3/T = 217.4950302627361\n",
      "Tunneling at T = 53.9162135997042\n",
      "S3/T = 214.24571099552207\n",
      "Tunneling at T = 53.896213599704204\n",
      "S3/T = 211.06385634027498\n",
      "Tunneling at T = 53.8762135997042\n",
      "S3/T = 207.99087683742266\n",
      "Tunneling at T = 53.856213599704205\n",
      "S3/T = 204.9510747001694\n",
      "Tunneling at T = 53.8362135997042\n",
      "S3/T = 201.9825667423495\n",
      "Tunneling at T = 53.816213599704206\n",
      "S3/T = 199.0683665983498\n",
      "Tunneling at T = 53.7962135997042\n",
      "S3/T = 195.8638373430303\n",
      "Tunneling at T = 53.77621359970421\n",
      "S3/T = 192.9645333087287\n",
      "Tunneling at T = 53.7562135997042\n",
      "S3/T = 190.6969335773292\n",
      "Tunneling at T = 53.7362135997042\n",
      "S3/T = 187.93545736942306\n",
      "Tunneling at T = 53.716213599704204\n",
      "S3/T = 185.18450429297275\n",
      "Tunneling at T = 53.6962135997042\n",
      "S3/T = 182.5147694690406\n",
      "Tunneling at T = 53.676213599704205\n",
      "S3/T = 179.6149019949654\n",
      "Tunneling at T = 53.6562135997042\n",
      "S3/T = 177.26081677561632\n",
      "Tunneling at T = 53.636213599704206\n",
      "S3/T = 174.92581497594958\n",
      "Tunneling at T = 53.6162135997042\n",
      "S3/T = 172.608534621439\n",
      "Tunneling at T = 53.5962135997042\n",
      "S3/T = 170.26946802132383\n",
      "Tunneling at T = 53.576213599704204\n",
      "S3/T = 167.88478967028888\n",
      "Tunneling at T = 53.5562135997042\n",
      "S3/T = 165.4888978772871\n",
      "Tunneling at T = 53.536213599704205\n",
      "S3/T = 163.1374062415684\n",
      "Tunneling at T = 53.5162135997042\n",
      "S3/T = 160.8407336547912\n",
      "Tunneling at T = 53.496213599704205\n",
      "S3/T = 158.57510209893678\n",
      "Tunneling at T = 53.4762135997042\n",
      "S3/T = 156.34477438241635\n",
      "Tunneling at T = 53.4562135997042\n",
      "S3/T = 154.15237206914134\n",
      "Tunneling at T = 53.4362135997042\n",
      "S3/T = 151.992386442868\n",
      "Tunneling at T = 53.4162135997042\n",
      "S3/T = 149.8640877317079\n",
      "Tunneling at T = 53.396213599704204\n",
      "S3/T = 147.76986519781866\n",
      "Tunneling at T = 53.3762135997042\n",
      "S3/T = 145.7062571669772\n",
      "Tunneling at T = 53.356213599704205\n",
      "S3/T = 143.67063088741523\n",
      "Tunneling at T = 53.3362135997042\n",
      "S3/T = 141.6637805927373\n",
      "Tunneling at T = 53.316213599704206\n",
      "S3/T = 139.68956083048775\n",
      "Tnuc should be within 53.316213599704206 and 53.33621359970421\n",
      "Tn = 53.31938236527749\n",
      "v_n/Tn = 3.57850341195049\n"
     ]
    }
   ],
   "source": [
    "mod.findTc()\n",
    "mod.findTn()"
   ]
  },
  {
   "cell_type": "code",
   "execution_count": 5,
   "metadata": {},
   "outputs": [],
   "source": [
    "Vtot=mod.Vtot\n",
    "hv = np.array([0.0])\n",
    "lv = np.array([mod.Tnvev])\n",
    "Tnuc = mod.Tn"
   ]
  },
  {
   "cell_type": "code",
   "execution_count": 154,
   "metadata": {},
   "outputs": [
    {
     "data": {
      "text/plain": [
       "-5706.668915903859"
      ]
     },
     "execution_count": 154,
     "metadata": {},
     "output_type": "execute_result"
    }
   ],
   "source": [
    "Vtot(hv, 0)"
   ]
  },
  {
   "cell_type": "code",
   "execution_count": 157,
   "metadata": {},
   "outputs": [
    {
     "name": "stdout",
     "output_type": "stream",
     "text": [
      "Optimization terminated successfully.\n",
      "         Current function value: -9466427.988958\n",
      "         Iterations: 21\n",
      "         Function evaluations: 42\n"
     ]
    },
    {
     "data": {
      "text/plain": [
       "array([246.22000216])"
      ]
     },
     "execution_count": 157,
     "metadata": {},
     "output_type": "execute_result"
    }
   ],
   "source": [
    "optimize.fmin(Vtot, lv, args=(0,))"
   ]
  },
  {
   "cell_type": "code",
   "execution_count": 158,
   "metadata": {},
   "outputs": [
    {
     "data": {
      "text/plain": [
       "9460721.320042096"
      ]
     },
     "execution_count": 158,
     "metadata": {},
     "output_type": "execute_result"
    }
   ],
   "source": [
    "-5706.668915903859 - (-9466427.988958)"
   ]
  },
  {
   "cell_type": "markdown",
   "metadata": {},
   "source": [
    "## Quantities"
   ]
  },
  {
   "cell_type": "code",
   "execution_count": 6,
   "metadata": {},
   "outputs": [],
   "source": [
    "def derivative(f, x, eps=1e-5, order=1):\n",
    "    \"\"\"Calculate the derivative of a function.\n",
    "    Using Ridders algorithm.\n",
    "    Calculate up to order x**4.\n",
    "    Only compute 1st or 2nd order derivative.\"\"\"\n",
    "    assert (\n",
    "        order == 1 or order == 2\n",
    "    ), \"Calculate derivative up to an order, must be 1 or 2.\"\n",
    "    δx = x * eps\n",
    "    if order == 1:\n",
    "        return (f(x - 2 * δx) - 8 * f(x - δx) + 8 * f(x + δx) - f(x + 2 * δx)) / (\n",
    "            12 * δx\n",
    "        )\n",
    "    if order == 2:\n",
    "        return (f(x - 2 * δx) - f(x - δx) - f(x + δx) + f(x + 2 * δx)) / (3 * δx**2)"
   ]
  },
  {
   "cell_type": "code",
   "execution_count": 7,
   "metadata": {},
   "outputs": [],
   "source": [
    "def w(V, vev, T):\n",
    "    v = optimize.fmin(V, vev, args=(T,), disp=0)\n",
    "    p = lambda T: - Vtot(v, T)\n",
    "    return T * derivative(p, T)"
   ]
  },
  {
   "cell_type": "code",
   "execution_count": 8,
   "metadata": {},
   "outputs": [],
   "source": [
    "def a(V, vev, T):\n",
    "    return 0.75 * w(V, vev, T)/T**4"
   ]
  },
  {
   "cell_type": "code",
   "execution_count": 148,
   "metadata": {},
   "outputs": [
    {
     "data": {
      "text/plain": [
       "35.09342833881541"
      ]
     },
     "execution_count": 148,
     "metadata": {},
     "output_type": "execute_result"
    }
   ],
   "source": [
    "a(Vtot, hv, Tnuc)"
   ]
  },
  {
   "cell_type": "code",
   "execution_count": 149,
   "metadata": {},
   "outputs": [
    {
     "data": {
      "text/plain": [
       "35.11934232720964"
      ]
     },
     "execution_count": 149,
     "metadata": {},
     "output_type": "execute_result"
    }
   ],
   "source": [
    "Pi**2 * 106.75/30"
   ]
  },
  {
   "cell_type": "code",
   "execution_count": 150,
   "metadata": {},
   "outputs": [
    {
     "data": {
      "text/plain": [
       "27.38815221302297"
      ]
     },
     "execution_count": 150,
     "metadata": {},
     "output_type": "execute_result"
    }
   ],
   "source": [
    "Pi**2 * 83.25/30"
   ]
  },
  {
   "cell_type": "code",
   "execution_count": 152,
   "metadata": {},
   "outputs": [
    {
     "data": {
      "text/plain": [
       "33.285112005900665"
      ]
     },
     "execution_count": 152,
     "metadata": {},
     "output_type": "execute_result"
    }
   ],
   "source": [
    "a(Vtot, lv, 53)"
   ]
  },
  {
   "cell_type": "code",
   "execution_count": null,
   "metadata": {},
   "outputs": [],
   "source": []
  },
  {
   "cell_type": "code",
   "execution_count": 9,
   "metadata": {},
   "outputs": [],
   "source": [
    "def e(V, vev, T):\n",
    "    v = optimize.fmin(V, vev, args=(T,), disp=0)\n",
    "    p = lambda T: - Vtot(v, T)\n",
    "    return w(V, vev, T) - p(T)"
   ]
  },
  {
   "cell_type": "code",
   "execution_count": 13,
   "metadata": {},
   "outputs": [],
   "source": [
    "def σ(V, vev, T):\n",
    "    v = optimize.fmin(V, vev, args=(T,), disp=0)\n",
    "    p = lambda T: - Vtot(v, T)\n",
    "    return derivative(p, T)"
   ]
  },
  {
   "cell_type": "code",
   "execution_count": 14,
   "metadata": {},
   "outputs": [],
   "source": [
    "def ε(V, vev, T):\n",
    "    v = optimize.fmin(V, vev, args=(T,), disp=0)\n",
    "    p = lambda T: - Vtot(v, T)\n",
    "    return 0.25 * (e(V, vev, T) - 3 * p(T))"
   ]
  },
  {
   "cell_type": "code",
   "execution_count": 15,
   "metadata": {},
   "outputs": [],
   "source": [
    "def alpha_p(V, hv, lv, Tp, Tm):\n",
    "    εp = ε(V, hv, Tp)\n",
    "    εm = ε(V, lv, Tm)\n",
    "    return (εp-εm)/(a(V, hv, Tp) * Tp**4)"
   ]
  },
  {
   "cell_type": "code",
   "execution_count": 16,
   "metadata": {},
   "outputs": [],
   "source": [
    "def r(V, hv, lv, Tp, Tm):\n",
    "    ap = a(V, hv, Tp)\n",
    "    am = a(V, lv, Tm)\n",
    "    return ap * Tp**4/(am * Tm**4)"
   ]
  },
  {
   "cell_type": "code",
   "execution_count": 37,
   "metadata": {},
   "outputs": [],
   "source": [
    "def cs_sq(Vtot, vev, T):\n",
    "    v = optimize.fmin(Vtot, vev, args=(T,), disp=0)\n",
    "    V = lambda T: Vtot(v, T)\n",
    "    y = derivative(V, T)\n",
    "    y = y/T\n",
    "    y = y/derivative(V, T, order=2)\n",
    "    return y"
   ]
  },
  {
   "cell_type": "markdown",
   "metadata": {},
   "source": [
    "## Solving the boundary condition"
   ]
  },
  {
   "cell_type": "code",
   "execution_count": 17,
   "metadata": {},
   "outputs": [],
   "source": [
    "def match(vp, vm, Tp, Tm, hv, lv, V):\n",
    "    vpvm = 1 - (1 -3 * alpha_p(V, hv, lv, Tp, Tm)) * r(V, hv, lv, Tp, Tm)\n",
    "    vpvm = vpvm/(3 - 3*(1 + alpha_p(V, hv, lv, Tp, Tm)) * r(V, hv, lv, Tp, Tm))\n",
    "\n",
    "    ratio = 3 + (1 - 3 *alpha_p(V, hv, lv, Tp, Tm) ) * r(V, hv, lv, Tp, Tm)\n",
    "    ratio = ratio/(1 + 3 * (1 + alpha_p(V, hv, lv, Tp, Tm)) * r(V, hv, lv, Tp, Tm))\n",
    "\n",
    "    return np.array([vp*vm - vpvm, vp/vm - ratio])"
   ]
  },
  {
   "cell_type": "code",
   "execution_count": 19,
   "metadata": {},
   "outputs": [],
   "source": [
    "vw = 0.9\n",
    "vm, Tm = optimize.fsolve(lambda x: match(vw, x[0], Tnuc, x[1], hv, lv, Vtot), [0.7, Tnuc+1])"
   ]
  },
  {
   "cell_type": "code",
   "execution_count": 21,
   "metadata": {},
   "outputs": [],
   "source": [
    "alp = alpha_p(Vtot, hv, lv, Tnuc, Tm)"
   ]
  },
  {
   "cell_type": "code",
   "execution_count": 26,
   "metadata": {},
   "outputs": [
    {
     "data": {
      "text/plain": [
       "0.8999999997433227"
      ]
     },
     "execution_count": 26,
     "metadata": {},
     "output_type": "execute_result"
    }
   ],
   "source": [
    "(0.5* vm + 1/(6*vm) + np.sqrt((0.5* vm + 1/(6*vm))**2 + alp**2 + 2*alp/3 - 1/3))/(1+alp)"
   ]
  },
  {
   "cell_type": "code",
   "execution_count": 159,
   "metadata": {},
   "outputs": [],
   "source": [
    "vw = 0.5\n",
    "Tm = 53.0\n",
    "vp, Tp = optimize.fsolve(lambda x: match(x[0], vw, x[1], Tm, hv, lv, Vtot), [0.2, Tnuc+1])"
   ]
  },
  {
   "cell_type": "code",
   "execution_count": 160,
   "metadata": {},
   "outputs": [
    {
     "data": {
      "text/plain": [
       "0.4356517817504069"
      ]
     },
     "execution_count": 160,
     "metadata": {},
     "output_type": "execute_result"
    }
   ],
   "source": [
    "vp"
   ]
  },
  {
   "cell_type": "code",
   "execution_count": 161,
   "metadata": {},
   "outputs": [
    {
     "data": {
      "text/plain": [
       "55.19349796094481"
      ]
     },
     "execution_count": 161,
     "metadata": {},
     "output_type": "execute_result"
    }
   ],
   "source": [
    "Tp"
   ]
  },
  {
   "cell_type": "code",
   "execution_count": 126,
   "metadata": {},
   "outputs": [],
   "source": [
    "def μ(xi, v):\n",
    "    return (xi - v)/(1 -xi * v)"
   ]
  },
  {
   "cell_type": "code",
   "execution_count": 127,
   "metadata": {},
   "outputs": [],
   "source": [
    "def dYdtau(tau, y, *args):\n",
    "    v = y[0]\n",
    "    T = y[1]\n",
    "    xi = y[2]\n",
    "\n",
    "    V = args[0]\n",
    "    vev = args[1]\n",
    "\n",
    "    dvdtau = 2 * v * cs_sq(Vtot, vev, T) * (1 - v**2) * (1- xi * v)\n",
    "    dxidtau = xi * ((xi - v)**2 - cs_sq(Vtot, vev, T) * (1-xi*v)**2)\n",
    "    dTdtau = T * μ(xi, v) * dvdtau /(1-v**2)\n",
    "\n",
    "    return np.array([dvdtau, dTdtau, dxidtau])"
   ]
  },
  {
   "cell_type": "code",
   "execution_count": 162,
   "metadata": {},
   "outputs": [],
   "source": [
    "ini = np.array([μ(vw, vp), Tp, vw])"
   ]
  },
  {
   "cell_type": "code",
   "execution_count": 163,
   "metadata": {},
   "outputs": [
    {
     "data": {
      "text/plain": [
       "array([ 0.08226841, 55.19349796,  0.5       ])"
      ]
     },
     "execution_count": 163,
     "metadata": {},
     "output_type": "execute_result"
    }
   ],
   "source": [
    "ini"
   ]
  },
  {
   "cell_type": "code",
   "execution_count": 164,
   "metadata": {},
   "outputs": [],
   "source": [
    "sol=integrate.solve_ivp(dYdtau, (10,0.01), ini ,t_eval=np.linspace(10,0.01,10000),method='DOP853', args=(Vtot, hv))"
   ]
  },
  {
   "cell_type": "code",
   "execution_count": 165,
   "metadata": {},
   "outputs": [
    {
     "data": {
      "text/plain": [
       "[<matplotlib.lines.Line2D at 0x130e319c0>]"
      ]
     },
     "execution_count": 165,
     "metadata": {},
     "output_type": "execute_result"
    },
    {
     "data": {
      "image/png": "[encoded data removed]",
      "text/plain": [
       "<Figure size 640x480 with 1 Axes>"
      ]
     },
     "metadata": {},
     "output_type": "display_data"
    }
   ],
   "source": [
    "plt.plot(sol.y[2], sol.y[0])"
   ]
  },
  {
   "cell_type": "code",
   "execution_count": 166,
   "metadata": {},
   "outputs": [],
   "source": [
    "xi_max = sol.y[2].max()\n",
    "xi_max_index = sol.y[2].argmax()"
   ]
  },
  {
   "cell_type": "code",
   "execution_count": 135,
   "metadata": {},
   "outputs": [
    {
     "data": {
      "text/plain": [
       "9999"
      ]
     },
     "execution_count": 135,
     "metadata": {},
     "output_type": "execute_result"
    }
   ],
   "source": [
    "xi_max_index"
   ]
  },
  {
   "cell_type": "code",
   "execution_count": 167,
   "metadata": {},
   "outputs": [],
   "source": [
    "v_prof = interpolate.interp1d(sol.y[2][0:xi_max_index+1], sol.y[0][0:xi_max_index+1],kind='linear')\n",
    "T_prof = interpolate.interp1d(sol.y[2][0:xi_max_index+1], sol.y[1][0:xi_max_index+1],kind='linear')"
   ]
  },
  {
   "cell_type": "code",
   "execution_count": 136,
   "metadata": {},
   "outputs": [
    {
     "data": {
      "text/plain": [
       "array(53.15038946)"
      ]
     },
     "execution_count": 136,
     "metadata": {},
     "output_type": "execute_result"
    }
   ],
   "source": [
    "T_prof(xi_max)"
   ]
  },
  {
   "cell_type": "code",
   "execution_count": 171,
   "metadata": {},
   "outputs": [],
   "source": [
    "ind = np.argmax(sol.y[2][0:xi_max_index+1] > 0.59)"
   ]
  },
  {
   "cell_type": "code",
   "execution_count": 108,
   "metadata": {},
   "outputs": [
    {
     "data": {
      "text/plain": [
       "1098"
      ]
     },
     "execution_count": 108,
     "metadata": {},
     "output_type": "execute_result"
    }
   ],
   "source": [
    "ind"
   ]
  },
  {
   "cell_type": "code",
   "execution_count": 169,
   "metadata": {},
   "outputs": [
    {
     "data": {
      "text/plain": [
       "[<matplotlib.lines.Line2D at 0x13113eb90>]"
      ]
     },
     "execution_count": 169,
     "metadata": {},
     "output_type": "execute_result"
    },
    {
     "data": {
      "image/png": "[encoded data removed]",
      "text/plain": [
       "<Figure size 640x480 with 1 Axes>"
      ]
     },
     "metadata": {},
     "output_type": "display_data"
    }
   ],
   "source": [
    "plt.plot(sol.y[2][0:xi_max_index+1], sol.y[1][0:xi_max_index+1])"
   ]
  },
  {
   "cell_type": "code",
   "execution_count": 102,
   "metadata": {},
   "outputs": [
    {
     "data": {
      "text/plain": [
       "0.594424370349433"
      ]
     },
     "execution_count": 102,
     "metadata": {},
     "output_type": "execute_result"
    }
   ],
   "source": [
    "optimize.brentq(lambda xi: μ(xi, v_prof(xi)) * xi - cs_sq(Vtot, hv, T_prof(xi)), sol.y[2][0], xi_max)"
   ]
  },
  {
   "cell_type": "code",
   "execution_count": 137,
   "metadata": {},
   "outputs": [
    {
     "data": {
      "image/png": "[encoded data removed]",
      "text/plain": [
       "<Figure size 640x480 with 1 Axes>"
      ]
     },
     "metadata": {},
     "output_type": "display_data"
    }
   ],
   "source": [
    "Plot(lambda xi: μ(xi, v_prof(xi)) * xi - cs_sq(Vtot, hv, T_prof(xi)), (sol.y[2][0], xi_max))"
   ]
  },
  {
   "cell_type": "code",
   "execution_count": 113,
   "metadata": {},
   "outputs": [],
   "source": [
    "def find_Tsh(Tm, vw):\n",
    "    vp, Tp = optimize.fsolve(lambda x: match(x[0], vw, x[1], Tm, hv, lv, Vtot), [0.2, Tnuc+1])\n",
    "    ini = np.array([μ(vw, vp), Tp, vw])\n",
    "    sol=integrate.solve_ivp(dYdtau, (10,0.01), ini ,t_eval=np.linspace(10,0.01,10000),method='DOP853', args=(Vtot, hv))\n",
    "    xi_max = sol.y[2].max()\n",
    "    xi_max_index = sol.y[2].argmax()\n",
    "    v_prof = interpolate.interp1d(sol.y[2][0:xi_max_index+1], sol.y[0][0:xi_max_index+1],kind='linear')\n",
    "    T_prof = interpolate.interp1d(sol.y[2][0:xi_max_index+1], sol.y[1][0:xi_max_index+1],kind='linear')\n",
    "\n",
    "    xsh = optimize.brentq(lambda xi: μ(xi, v_prof(xi)) * xi - cs_sq(Vtot, hv, T_prof(xi)), sol.y[2][0], xi_max)\n",
    "    return T_prof(xsh)"
   ]
  },
  {
   "cell_type": "code",
   "execution_count": 138,
   "metadata": {},
   "outputs": [
    {
     "data": {
      "text/plain": [
       "array(53.1655056)"
      ]
     },
     "execution_count": 138,
     "metadata": {},
     "output_type": "execute_result"
    }
   ],
   "source": [
    "find_Tsh(53, 0.5)"
   ]
  },
  {
   "cell_type": "code",
   "execution_count": 114,
   "metadata": {},
   "outputs": [
    {
     "data": {
      "text/plain": [
       "array(54.36188419)"
      ]
     },
     "execution_count": 114,
     "metadata": {},
     "output_type": "execute_result"
    }
   ],
   "source": [
    "find_Tsh(53, 0.55)"
   ]
  },
  {
   "cell_type": "code",
   "execution_count": 144,
   "metadata": {},
   "outputs": [],
   "source": [
    "Tmlist = np.linspace(50,53, 10)\n",
    "Tshlist = np.ones((10,))\n",
    "for i in range(10):\n",
    "    Tm = Tmlist[i]\n",
    "    Tshlist[i] = find_Tsh(Tm, 0.5)\n"
   ]
  },
  {
   "cell_type": "code",
   "execution_count": 145,
   "metadata": {},
   "outputs": [
    {
     "data": {
      "text/plain": [
       "[<matplotlib.lines.Line2D at 0x1321accd0>]"
      ]
     },
     "execution_count": 145,
     "metadata": {},
     "output_type": "execute_result"
    },
    {
     "data": {
      "image/png": "[encoded data removed]",
      "text/plain": [
       "<Figure size 640x480 with 1 Axes>"
      ]
     },
     "metadata": {},
     "output_type": "display_data"
    }
   ],
   "source": [
    "plt.plot(Tmlist, Tshlist)"
   ]
  },
  {
   "cell_type": "code",
   "execution_count": 118,
   "metadata": {},
   "outputs": [
    {
     "data": {
      "text/plain": [
       "51.82238765059631"
      ]
     },
     "execution_count": 118,
     "metadata": {},
     "output_type": "execute_result"
    }
   ],
   "source": [
    "optimize.newton(lambda Tm: find_Tsh(Tm, 0.55)-Tnuc, 52)"
   ]
  },
  {
   "cell_type": "code",
   "execution_count": 142,
   "metadata": {},
   "outputs": [],
   "source": [
    "vwlist = np.linspace(0.45, 0.55, 3)\n",
    "slist = np.ones((3,))"
   ]
  },
  {
   "cell_type": "code",
   "execution_count": 147,
   "metadata": {},
   "outputs": [
    {
     "name": "stdout",
     "output_type": "stream",
     "text": [
      "vw = 0.45\n",
      "-0.12213745111245089\n",
      "vw = 0.5\n",
      "-0.10927464465925851\n",
      "vw = 0.55\n",
      "-0.13117461319065882\n"
     ]
    }
   ],
   "source": [
    "for i in range(3):\n",
    "    vw = vwlist[i]\n",
    "    print('vw = ' + str(vw))\n",
    "    try:\n",
    "        Tm = optimize.newton(lambda Tm: find_Tsh(Tm, vw)-Tnuc, 52)\n",
    "    except:\n",
    "        Tm = optimize.brentq(lambda Tm: find_Tsh(Tm, vw)-Tnuc, 50,55)\n",
    "\n",
    "    vp, Tp = optimize.fsolve(lambda x: match(x[0], vw, x[1], Tm, hv, lv, Vtot), [0.2, Tnuc+1])\n",
    "\n",
    "    vm = vw\n",
    "\n",
    "    lv_new = optimize.fmin(Vtot, lv, args=(Tm,), disp=0)\n",
    "    diff = - Tp/Sqrt(1-vp**2) + Tm/Sqrt(1-vm**2)\n",
    "    print(diff)\n",
    "    slist[i] = diff"
   ]
  },
  {
   "cell_type": "code",
   "execution_count": null,
   "metadata": {},
   "outputs": [],
   "source": []
  }
 ],
 "metadata": {
  "kernelspec": {
   "display_name": "base",
   "language": "python",
   "name": "python3"
  },
  "language_info": {
   "codemirror_mode": {
    "name": "ipython",
    "version": 3
   },
   "file_extension": ".py",
   "mimetype": "text/x-python",
   "name": "python",
   "nbconvert_exporter": "python",
   "pygments_lexer": "ipython3",
   "version": "3.10.14"
  }
 },
 "nbformat": 4,
 "nbformat_minor": 2
}
