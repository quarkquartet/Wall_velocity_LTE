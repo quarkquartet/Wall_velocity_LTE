{
 "cells": [
  {
   "cell_type": "markdown",
   "metadata": {},
   "source": [
    "# Solution of wall velocity under LTE"
   ]
  },
  {
   "cell_type": "markdown",
   "metadata": {},
   "source": [
    "## Prepare"
   ]
  },
  {
   "cell_type": "code",
   "execution_count": null,
   "metadata": {},
   "outputs": [],
   "source": [
    "import numpy as np\n",
    "from numpy import linalg as la\n",
    "from scipy import integrate\n",
    "from scipy import optimize\n",
    "from scipy import interpolate\n",
    "import scipy as sp\n",
    "from matplotlib import pyplot as plt\n",
    "import plotter as pl\n",
    "from helperFunctions import derivative, alpha_p, cs_sq, dYdtau, dvTdxi, r_func, μ, w, vJ\n",
    "\n",
    "Abs = np.abs\n",
    "Log = np.log\n",
    "Log10 = np.log10\n",
    "Pi = np.pi\n",
    "Sqrt = np.sqrt\n",
    "Exp = np.exp\n",
    "Cos = np.cos\n",
    "Sin = np.sin\n",
    "Sech = lambda x: 1/np.cosh(x)\n",
    "Tanh = np.tanh\n",
    "ArcSin = np.arcsin\n",
    "ArcTanh = np.arctanh\n",
    "Arg = np.angle\n",
    "BesselK = sp.special.kv\n",
    "Zeta = sp.special.zeta\n",
    "HeavisideTheta = lambda x: np.heaviside(x, 0)\n",
    "\n",
    "\n",
    "def Plot(fun, xminmax, n=100,xfun=np.linspace, xlog=False, ylog=False):\n",
    "    xlist = xfun(xminmax[0], xminmax[1], n)\n",
    "    ylist = [fun(x) for x in xlist]\n",
    "    plt.plot(xlist, ylist)\n",
    "    if xlog:\n",
    "        plt.xscale('log')\n",
    "    if ylog:\n",
    "        plt.yscale('log')"
   ]
  },
  {
   "cell_type": "code",
   "execution_count": null,
   "metadata": {},
   "outputs": [],
   "source": [
    "import SM_model as m"
   ]
  },
  {
   "cell_type": "code",
   "execution_count": null,
   "metadata": {},
   "outputs": [],
   "source": [
    "mod = m.SM(1,0.007285228,636.8644639563023)"
   ]
  },
  {
   "cell_type": "code",
   "execution_count": null,
   "metadata": {},
   "outputs": [],
   "source": [
    "mod.findTc()\n",
    "mod.findTn()"
   ]
  },
  {
   "cell_type": "code",
   "execution_count": null,
   "metadata": {},
   "outputs": [],
   "source": [
    "Vtot=mod.Vtot\n",
    "hv = np.array([0.0])\n",
    "lv = np.array([mod.Tnvev])\n",
    "Tnuc = mod.Tn"
   ]
  },
  {
   "cell_type": "markdown",
   "metadata": {},
   "source": [
    "## Solve the boundary conditions"
   ]
  },
  {
   "cell_type": "markdown",
   "metadata": {},
   "source": [
    "This sections solves boundary conditions, i.e. $v_\\pm$ and $T_\\pm$."
   ]
  },
  {
   "cell_type": "markdown",
   "metadata": {},
   "source": [
    "These 4 quantities are the input of the sections to compute the moments (Cline) and entropy difference (Ai)"
   ]
  },
  {
   "cell_type": "code",
   "execution_count": null,
   "metadata": {},
   "outputs": [],
   "source": [
    "def match(vp,vm,Tp,Tm, high_vev, low_vev):\n",
    "    r = r_func(Vtot, Tp, Tm, high_vev, low_vev)\n",
    "    αp = alpha_p(Vtot, Tp, Tm, high_vev, low_vev)\n",
    "    vpvm = 1-(1-3*αp)*r\n",
    "    vpvm = vpvm/(3-3*(1+αp)*r)\n",
    "    ratio = 3 + (1-3*αp)*r\n",
    "    ratio = ratio/(1+3*(1+αp)*r)\n",
    "    return [vp*vm - vpvm, vp/vm - ratio]"
   ]
  },
  {
   "cell_type": "markdown",
   "metadata": {},
   "source": [
    "### detonation"
   ]
  },
  {
   "cell_type": "markdown",
   "metadata": {},
   "source": [
    "We have $v_+ = v_w$ and $T_+ = T_n$.\n",
    "To solve the other 2 quantities, use the following code."
   ]
  },
  {
   "cell_type": "code",
   "execution_count": null,
   "metadata": {},
   "outputs": [],
   "source": [
    "vw=0.7\n",
    "vm, Tm=optimize.fsolve(lambda x:match(vw, x[0], Tnuc, x[1], hv, lv),[vw*0.9,Tnuc+2])\n",
    "vp = vw\n",
    "Tp = Tnuc\n",
    "lv_new = optimize.fmin(Vtot, lv, args=(Tm,),disp=0) # Should update the vev location inside the wall since T- is not Tn."
   ]
  },
  {
   "cell_type": "markdown",
   "metadata": {},
   "source": [
    "Note: the initial guess for the $T_-$ is important. Don't make it too low otherwise the solution goes to the other unphysical branch."
   ]
  },
  {
   "cell_type": "markdown",
   "metadata": {},
   "source": [
    "After running this, we have $v_\\pm$, $T_\\pm$."
   ]
  },
  {
   "cell_type": "markdown",
   "metadata": {},
   "source": [
    "To find the value of $v_J$, should solve for the boundary where $v_w = v_J$."
   ]
  },
  {
   "cell_type": "code",
   "execution_count": null,
   "metadata": {},
   "outputs": [],
   "source": [
    "def test_vJ(vw):\n",
    "    gsol=optimize.fsolve(lambda x:match(vw, x[0], Tnuc, x[1], hv, lv),[vw*0.9,Tnuc+2])\n",
    "    return vJ(alpha_p(Vtot, Tnuc, gsol[1], hv, lv))"
   ]
  },
  {
   "cell_type": "code",
   "execution_count": null,
   "metadata": {},
   "outputs": [],
   "source": [
    "vwmax = 1.0\n",
    "eps = 0.01\n",
    "for i in range(1000):\n",
    "    vw = vwmax - i * eps\n",
    "    if test_vJ(vw) > vw:\n",
    "        vwmin = vw\n",
    "        break\n",
    "vJvalue = optimize.brentq(lambda vw:test_vJ(vw) - vw, vwmin, vwmin+eps)\n",
    "print(vJvalue)"
   ]
  },
  {
   "cell_type": "markdown",
   "metadata": {},
   "source": [
    "Note: should be very careful here. eps cannot be too large. Otherwise it drops deeply into the hybrid solution and raises numerical issue."
   ]
  },
  {
   "cell_type": "markdown",
   "metadata": {},
   "source": [
    "### Deflagration"
   ]
  },
  {
   "cell_type": "markdown",
   "metadata": {},
   "source": [
    "This section solves deflagration."
   ]
  },
  {
   "cell_type": "markdown",
   "metadata": {},
   "source": [
    "First we connect a randomly-guessed $T^-$ to $T_{\\rm sh}^+$."
   ]
  },
  {
   "cell_type": "code",
   "execution_count": null,
   "metadata": {},
   "outputs": [],
   "source": [
    "def find_Tsh(Tm, vw):\n",
    "    # This function gives the T_sh^+ for a given T-.\n",
    "    guess_sol = optimize.fsolve(lambda x:match(x[0], vw, x[1], Tm,hv, lv),[vw*0.8,Tnuc]) # Solve\n",
    "    \n",
    "    # Integrate outside the wall to the shock-wave front\n",
    "    try:\n",
    "        vsol=integrate.solve_ivp(dYdtau, (10,0.01), np.array([μ(vw, guess_sol[0]), guess_sol[1], vw]),t_eval=np.linspace(10,0.01,1000),method='DOP853',args=(Vtot, hv))\n",
    "        xi_max = vsol.y[2].max()\n",
    "        xi_max_index = vsol.y[2].argmax()\n",
    "        v_prof = interpolate.interp1d(vsol.y[2][0:xi_max_index+1],vsol.y[0][0:xi_max_index+1])\n",
    "        T_prof = interpolate.interp1d(vsol.y[2][0:xi_max_index+1],vsol.y[1][0:xi_max_index+1])\n",
    "        try:\n",
    "            xsh=optimize.brentq(lambda x: μ(x, v_prof(x))*x - cs_sq(Vtot, T_prof(x), hv), vw, xi_max)\n",
    "        except:\n",
    "            xsh = xi_max\n",
    "    except:\n",
    "        vTsol = integrate.solve_ivp(dvTdxi, (vw, 1), np.array([μ(vw, guess_sol[0]), guess_sol[1]]), t_eval=np.linspace(vw, 1, 500), method='DOP853', args=(Vtot, hv))\n",
    "        v_prof = interpolate.interp1d(vTsol.t, vTsol.y[0], kind='cubic')\n",
    "        T_prof = interpolate.interp1d(vTsol.t, vTsol.y[1], kind='cubic')\n",
    "        xsh = optimize.brentq(lambda x: μ(x, v_prof(x))*x - cs_sq(Vtot, T_prof(x), hv), vw, 1)\n",
    "\n",
    "\n",
    "    def sh_match_2(Tshp):\n",
    "        # Matches the boundary condition at the shock wave front\n",
    "        ap = alpha_p(Vtot, Tshp, T_prof(xsh), hv, hv)\n",
    "        r = r_func(Vtot, Tshp, T_prof(xsh), hv, hv)\n",
    "        vp = xsh\n",
    "        vm = μ(xsh, v_prof(xsh))\n",
    "        ratio = 3 + (1-3*ap)*r\n",
    "        ratio = ratio/(1+3*(1+ap)*r)\n",
    "        return vp/vm - ratio\n",
    "    Tshp = optimize.newton(sh_match_2, T_prof(xsh))\n",
    "    return Tshp"
   ]
  },
  {
   "cell_type": "markdown",
   "metadata": {},
   "source": [
    "To find the $T^-$, we do the following"
   ]
  },
  {
   "cell_type": "code",
   "execution_count": null,
   "metadata": {},
   "outputs": [],
   "source": [
    "vw = 0.5\n",
    "Tm = optimize.newton(lambda T: find_Tsh(T, vw) - Tnuc, Tnuc)\n",
    "lv_new = optimize.fmin(Vtot, lv, args=(Tm,),disp=0)\n",
    "vm = vw\n",
    "vp, Tp = optimize.fsolve(lambda x:match(x[0], vm, x[1], Tm,hv, lv_new),[vw*0.9,Tnuc])"
   ]
  },
  {
   "cell_type": "markdown",
   "metadata": {},
   "source": [
    "Note: points that are likely causing numerical issue:\n",
    "- Initial guess for the $T_+$ when solving vp,Tp\n",
    "- Initial guess of Tm when solving find_Tsh\n",
    "  - Sometimes if newton fails, we may need to use optimize.brentq instead.\n",
    "- Initial guess of vp is not important, but make sure it's smaller than the input vm."
   ]
  },
  {
   "cell_type": "markdown",
   "metadata": {},
   "source": [
    "### Hybrid"
   ]
  },
  {
   "cell_type": "markdown",
   "metadata": {},
   "source": [
    "This condition is to solve the hybrid."
   ]
  },
  {
   "cell_type": "markdown",
   "metadata": {},
   "source": [
    "The criteria to see whether it's hybrid or deflagration:\n",
    "\n",
    "$v_w > c_s^-$? If so, hybrid. If not, deflagration."
   ]
  },
  {
   "cell_type": "markdown",
   "metadata": {},
   "source": [
    "One example code to do this (may not work if $v_w$ is deeply inside the hybrid region, e.g. if $v_w$ = 0.65, it stuck at the deflagration trial)"
   ]
  },
  {
   "cell_type": "code",
   "execution_count": null,
   "metadata": {},
   "outputs": [],
   "source": [
    "# Define a 'type' before this running. It can be a function argument or so.\n",
    "if type=='def':\n",
    "    guess_sol = optimize.fsolve(lambda x:match(x[0], vw, x[1], Tm,hv, lv),[vw*0.8,Tnuc])\n",
    "elif type=='hyb':\n",
    "    guess_sol = optimize.fsolve(lambda x:match(x[0], cs_sq(Vtot, Tm, lv)**0.5, x[1], Tm,hv, lv),[0.5,Tnuc])"
   ]
  },
  {
   "cell_type": "markdown",
   "metadata": {},
   "source": [
    "Then everything is the same as deflagration."
   ]
  },
  {
   "cell_type": "code",
   "execution_count": null,
   "metadata": {},
   "outputs": [],
   "source": [
    "def find_Tsh(Tm, vw):\n",
    "    # This function gives the T_sh^+ for a given T-.\n",
    "    guess_sol = optimize.fsolve(lambda x:match(x[0], cs_sq(Vtot, Tm, lv)**0.5, x[1], Tm,hv, lv),[0.5,Tnuc+2]) # Solve\n",
    "    \n",
    "    # Integrate outside the wall to the shock-wave front\n",
    "    try:\n",
    "        vsol=integrate.solve_ivp(dYdtau, (10,0.01), np.array([μ(vw, guess_sol[0]), guess_sol[1], vw]),t_eval=np.linspace(10,0.01,1000),method='DOP853',args=(Vtot, hv))\n",
    "        xi_max = vsol.y[2].max()\n",
    "        xi_max_index = vsol.y[2].argmax()\n",
    "        v_prof = interpolate.interp1d(vsol.y[2][0:xi_max_index+1],vsol.y[0][0:xi_max_index+1])\n",
    "        T_prof = interpolate.interp1d(vsol.y[2][0:xi_max_index+1],vsol.y[1][0:xi_max_index+1])\n",
    "        try:\n",
    "            xsh=optimize.brentq(lambda x: μ(x, v_prof(x))*x - cs_sq(Vtot, T_prof(x), hv), vw, xi_max)\n",
    "        except:\n",
    "            xsh = xi_max\n",
    "    except:\n",
    "        vTsol = integrate.solve_ivp(dvTdxi, (vw, 1), np.array([μ(vw, guess_sol[0]), guess_sol[1]]), t_eval=np.linspace(vw, 1, 500), method='DOP853', args=(Vtot, hv))\n",
    "        v_prof = interpolate.interp1d(vTsol.t, vTsol.y[0], kind='cubic')\n",
    "        T_prof = interpolate.interp1d(vTsol.t, vTsol.y[1], kind='cubic')\n",
    "        xsh = optimize.brentq(lambda x: μ(x, v_prof(x))*x - cs_sq(Vtot, T_prof(x), hv), vw, 1)\n",
    "\n",
    "\n",
    "    def sh_match_2(Tshp):\n",
    "        # Matches the boundary condition at the shock wave front\n",
    "        ap = alpha_p(Vtot, Tshp, T_prof(xsh), hv, hv)\n",
    "        r = r_func(Vtot, Tshp, T_prof(xsh), hv, hv)\n",
    "        vp = xsh\n",
    "        vm = μ(xsh, v_prof(xsh))\n",
    "        ratio = 3 + (1-3*ap)*r\n",
    "        ratio = ratio/(1+3*(1+ap)*r)\n",
    "        return vp/vm - ratio\n",
    "    Tshp = optimize.newton(sh_match_2, T_prof(xsh))\n",
    "    return Tshp"
   ]
  },
  {
   "cell_type": "markdown",
   "metadata": {},
   "source": [
    "Then solve the correct $T^-$."
   ]
  },
  {
   "cell_type": "code",
   "execution_count": null,
   "metadata": {},
   "outputs": [],
   "source": [
    "vw = 0.65\n",
    "Tm = optimize.newton(lambda T: find_Tsh(T, vw) - Tnuc, Tnuc)\n",
    "lv_new = optimize.fmin(Vtot, lv, args=(Tm,),disp=0)\n",
    "vm = cs_sq(Vtot, Tm, lv)**0.5\n",
    "vp, Tp = optimize.fsolve(lambda x:match(x[0], vm, x[1], Tm,hv, lv_new),[0.5,Tm + 2])"
   ]
  },
  {
   "cell_type": "markdown",
   "metadata": {},
   "source": [
    "Note:\n",
    "- Initial guess of temperature is very important when solving vp, Tp. Make sure the initial guess is high since Tp is very high. Otherwise it drops to the other branch.\n",
    "- Make sure that $v_- = c_s^-$. In hybrid, $v_w$ only appears as $\\xi_w = v_w$ to show the location of the wall, or boost between the wall frame and the cosmic frame."
   ]
  },
  {
   "cell_type": "markdown",
   "metadata": {},
   "source": [
    "## Solve the entropy difference"
   ]
  },
  {
   "cell_type": "code",
   "execution_count": null,
   "metadata": {},
   "outputs": [],
   "source": [
    "def sdiff(vp, Tp, vm, Tm):\n",
    "    return - Tp/Sqrt(1-vp**2) + Tm/Sqrt(1-vm**2)"
   ]
  },
  {
   "cell_type": "markdown",
   "metadata": {},
   "source": [
    "## Solve the moments"
   ]
  },
  {
   "cell_type": "markdown",
   "metadata": {},
   "source": [
    "Below is the scalar field profile along the wall.\n",
    "The constants are from Cline's Eq 18-20.\n",
    "Note: since this solution is along the wall where the field value is given by the profile instead of local minimum, the $w$, which is the only thermal quantity that evolves with $V_{\\rm eff}$, is computed at the current field value instead of a minimum. This can be seen in the `helperFunctions.py`."
   ]
  },
  {
   "cell_type": "code",
   "execution_count": null,
   "metadata": {},
   "outputs": [],
   "source": [
    "h0 = lv_new\n",
    "\n",
    "def h_profile(z, Lh):\n",
    "    z = np.asanyarray(z)\n",
    "    hz = 0.5*h0*(1-np.tanh(z/Lh))\n",
    "    return hz\n",
    "c1 = w(Vtot, Tm, lv_new) * vm/(1-vm**2)\n",
    "s1=c1\n",
    "c2=-Vtot(lv_new, Tm)+ w(Vtot, Tm, lv_new) * vm**2 /(1-vm**2)\n",
    "s2=c2"
   ]
  },
  {
   "cell_type": "markdown",
   "metadata": {},
   "source": [
    "Then solve the temperature for $T_{33}$ conservation. Define $T_{33}$ at first from Cline's eq 20."
   ]
  },
  {
   "cell_type": "code",
   "execution_count": null,
   "metadata": {},
   "outputs": [],
   "source": [
    "def T33(T,z, Lh):\n",
    "    derh = derivative(lambda zvalue: h_profile(zvalue,Lh),z)\n",
    "    field_value = [h_profile(z, Lh)]\n",
    "    return (0.5*derh**2 - Vtot(field_value, T) - 0.5*w(Vtot, T, field_value) + 0.5*(4*s1**2 + w(Vtot, T, field_value)**2)**0.5 - s2)/1e6"
   ]
  },
  {
   "cell_type": "markdown",
   "metadata": {},
   "source": [
    "Then solve it, and then compute the moments as a function of a given $L_h$."
   ]
  },
  {
   "cell_type": "code",
   "execution_count": null,
   "metadata": {},
   "outputs": [],
   "source": [
    "def moments(Lh):\n",
    "    npoints = 100\n",
    "    z_range = np.linspace(-8*Lh, 5*Lh, npoints)\n",
    "    T_sol = np.zeros((npoints,))\n",
    "    for i in range(npoints):\n",
    "        T33min = optimize.minimize(lambda T: T33(T[0], z_range[i], Lh), Tp, method='Nelder-Mead', bounds = [(40, 90)])\n",
    "        if T33min.fun > 0:\n",
    "            T_sol[i]=T33min.x[0]\n",
    "        else:\n",
    "            try:\n",
    "                s = optimize.newton(lambda T: T33(T, z_range[i], Lh), Tp)\n",
    "            except:\n",
    "                s = optimize.fsolve(lambda T: T33(T[0], z_range[i], Lh), Tp)[0]\n",
    "            T_sol[i] = s\n",
    "\n",
    "    hvalues = h_profile(z_range, Lh)\n",
    "    hprime = np.vectorize(lambda z: -0.5*(h0*Sech(z/Lh)**2)/Lh)\n",
    "    d2zh = np.vectorize(lambda z: (h0*Sech(z/Lh)**2*Tanh(z/Lh))/Lh**2)\n",
    "    Eh = np.array([mod.gradV([hvalues[i]], T_sol[i]) - d2zh(z_range[i])  for i in range(npoints)]).reshape((-1,))\n",
    "    \n",
    "    Ph = np.trapz(- Eh * hprime(z_range), z_range)\n",
    "    Gh = np.trapz( Eh * hprime(z_range) *(2*h_profile(z_range, Lh)/h0 - 1) , z_range)\n",
    "    return np.array([Ph, Gh])/1e6"
   ]
  },
  {
   "cell_type": "markdown",
   "metadata": {},
   "source": [
    "Explain:\n",
    "- Per Cline, sometimes there is no solution for Eq 20, i.e. T33 = 0. In this case we choose the temperature that minimizes $T33$. This is why I do the minimization for T33 at first before solving it: make sure the solution exists at first.\n",
    "- The constants can be defined either on the '-' side or on the '+' side. Here I choose the '-' side.\n",
    "- The initial guess for the temperature when solving it is very important. Here, since I choose the '-' side to be fixed while solving up to the '+' side, I use $T^+$ as the guess point. If this is wrong, you will see that the temperature profile goes to another direction.\n",
    "- When integrating over $E_h$ to get $P_h$, the $\\partial^2 h$ gives 0. Thus I ignore this term. But this is not ignorable in $G_h$. You can explicitly check this."
   ]
  },
  {
   "cell_type": "markdown",
   "metadata": {},
   "source": [
    "The next step should be solving for the proper $L_h$."
   ]
  },
  {
   "cell_type": "code",
   "execution_count": null,
   "metadata": {},
   "outputs": [],
   "source": [
    "Lh = optimize.newton(lambda L: moments(L)[-1], 0.2)"
   ]
  },
  {
   "cell_type": "markdown",
   "metadata": {},
   "source": [
    "I do not feel the initial guess is very important. But if you find this is important for some other benchmark points, then we should improve this step."
   ]
  },
  {
   "cell_type": "markdown",
   "metadata": {},
   "source": [
    "Finally, plug in this Lh."
   ]
  },
  {
   "cell_type": "code",
   "execution_count": null,
   "metadata": {},
   "outputs": [],
   "source": [
    "P_tot = moments(Lh)[0]"
   ]
  }
 ],
 "metadata": {
  "language_info": {
   "name": "python"
  }
 },
 "nbformat": 4,
 "nbformat_minor": 2
}
